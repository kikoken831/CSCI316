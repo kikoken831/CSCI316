{
 "cells": [
  {
   "cell_type": "code",
   "execution_count": 1,
   "metadata": {},
   "outputs": [],
   "source": [
    "import numpy as np\n",
    "import pandas as pd\n",
    "eps = np.finfo(float).eps\n",
    "from numpy import log2 as log\n",
    "import sys"
   ]
  },
  {
   "cell_type": "code",
   "execution_count": 2,
   "metadata": {},
   "outputs": [
    {
     "name": "stdout",
     "output_type": "stream",
     "text": [
      "           age  income student creditRating buysComputer\n",
      "0        youth    high      no         fair           no\n",
      "1        youth    high      no    excellent           no\n",
      "2   middleAged    high      no         fair          yes\n",
      "3       senior  medium      no         fair          yes\n",
      "4       senior     low     yes         fair          yes\n",
      "5       senior     low     yes    excellent           no\n",
      "6   middleAged     low     yes    excellent          yes\n",
      "7        youth  medium      no         fair           no\n",
      "8        youth     low     yes         fair          yes\n",
      "9       senior  medium     yes         fair          yes\n",
      "10       youth  medium     yes    excellent          yes\n",
      "11  middleAged  medium      no    excellent          yes\n",
      "12  middleAged    high     yes         fair          yes\n",
      "13      senior  medium      no    excellent           no\n"
     ]
    }
   ],
   "source": [
    "# prepare dataset\n",
    "age = 'youth,youth,middleAged,senior,senior,senior,middleAged,youth,youth,senior,youth,middleAged,middleAged,senior'.split(',')\n",
    "income = 'high,high,high,medium,low,low,low,medium,low,medium,medium,medium,high,medium'.split(',')\n",
    "student = 'no,no,no,no,yes,yes,yes,no,yes,yes,yes,no,yes,no'.split(',')\n",
    "creditRating = 'fair,excellent,fair,fair,fair,excellent,excellent,fair,fair,fair,excellent,excellent,fair,excellent'.split(',')\n",
    "buysComputer = 'no,no,yes,yes,yes,no,yes,no,yes,yes,yes,yes,yes,no'.split(',')\n",
    "\n",
    "dataset = {'age':age,'income':income,'student':student,'creditRating':creditRating,'buysComputer':buysComputer}\n",
    "df = pd.DataFrame(dataset,columns=['age','income','student','creditRating','buysComputer'])\n",
    "print(df)\n",
    "attName = ['age', 'income', 'student', 'creditRating']\n",
    "className = 'buysComputer'"
   ]
  },
  {
   "cell_type": "code",
   "execution_count": 3,
   "metadata": {},
   "outputs": [],
   "source": [
    "# Calculate Entropy of dataset\n",
    "def findEntropy(df):\n",
    "    #print('Calculating entropy..........')\n",
    "    #print(f'df (findEntropy): \\n{df}')\n",
    "    Class = df.keys()[-1]   #To make the code generic, changing target variable class name\n",
    "    entropy = 0\n",
    "    values = df[Class].unique()\n",
    "\n",
    "    for value in values:\n",
    "        fraction = df[Class].value_counts()[value] / len(df[Class])\n",
    "        entropy += -fraction * np.log2(fraction)\n",
    "    return entropy"
   ]
  },
  {
   "cell_type": "code",
   "execution_count": 4,
   "metadata": {},
   "outputs": [],
   "source": [
    "# Calculate Entropy by attribute\n",
    "def findEntropyAttribute(df,attribute):\n",
    "    #print('Calculating entropy by attribute..........')  \n",
    "    #print(f'df (findEntropy): \\n{df}')\n",
    "    #print('attribute (findEntropyAttribute): ', attribute) \n",
    "    Class = df.keys()[-1]   #To make the code generic, changing target variable class name\n",
    "\n",
    "    target_variables = df[Class].unique() #This gives all 'Yes' and 'No'\n",
    "    variables = df[attribute].unique()    #This gives different features in that attribute (like 'Hot','Cold' in Temperature)\n",
    "\n",
    "    entropy2 = 0\n",
    "    for variable in variables:\n",
    "        entropy = 0\n",
    "        for target_variable in target_variables:\n",
    "            num = len(df[attribute][df[attribute] == variable][df[Class] == target_variable])\n",
    "            den = len(df[attribute][df[attribute] == variable])\n",
    "            fraction = num / (den+eps)\n",
    "            entropy += -fraction * log(fraction+eps)\n",
    "        fraction2 = den / len(df)\n",
    "        entropy2 += -fraction2 * entropy\n",
    "\n",
    "    return abs(entropy2)"
   ]
  },
  {
   "cell_type": "code",
   "execution_count": 5,
   "metadata": {},
   "outputs": [],
   "source": [
    "# Calculate information gain and return the best splitting node (feature)\n",
    "def infoGain(df):\n",
    "    #print('Calculate information gain ..........')\n",
    "    #print(f'df (findEntropy): \\n{df}')\n",
    "    IG = []\n",
    "    for key in df.keys()[:-1]:\n",
    "        IG.append(findEntropy(df) - findEntropyAttribute(df,key))\n",
    "\n",
    "    return df.keys()[:-1][np.argmax(IG)]"
   ]
  },
  {
   "cell_type": "code",
   "execution_count": 6,
   "metadata": {},
   "outputs": [],
   "source": [
    "def giniImpurity2(valueCounts):\n",
    "    #print('Calculating gini impurity ..........')\n",
    "    #print(f'df (findEntropy): \\\\n{df}')\n",
    "    #print('valueCounts.keys(): ', valueCounts.keys())\n",
    "    n = valueCounts.sum()\n",
    "    p_sum = 0\n",
    "    for key in valueCounts.keys():\n",
    "        p_sum = p_sum  +  (valueCounts[key] / n ) * (valueCounts[key] / n )\n",
    "        gini = 1 - p_sum\n",
    "\n",
    "    return gini"
   ]
  },
  {
   "cell_type": "code",
   "execution_count": 7,
   "metadata": {},
   "outputs": [],
   "source": [
    "# Calculating  gini impurity for the attiributes\n",
    "def giniSplitAtt2(df, attName):\n",
    "    #print('Calculating gini impurity by attribute..........')\n",
    "    #print(f'df (giniSplitAtt2): \\\\n{df}')\n",
    "    #print('attName (giniSplitAtt2): ', attName)\n",
    "    attValues = df[attName].value_counts()\n",
    "    gini_A = 0\n",
    "    for key in attValues.keys():\n",
    "        dfKey = df[className][df[attName] == key].value_counts()\n",
    "        numOfKey = attValues[key]\n",
    "        n = df.shape[0]\n",
    "        gini_A = gini_A + (( numOfKey / n) * giniImpurity2(dfKey))\n",
    "\n",
    "    return gini_A"
   ]
  },
  {
   "cell_type": "code",
   "execution_count": 8,
   "metadata": {},
   "outputs": [],
   "source": [
    "def giniIndex2(df, attributeNames):\n",
    "    #print('Calculate gini index2 ..........')\n",
    "    #print(f'df (findEntropy): \\\\n{df}')\n",
    "    #print('attributeNames (giniIndex2): ', attributeNames)\n",
    "    giniAttribute = {}\n",
    "    minValue = sys.maxsize\n",
    "    for key in attributeNames:\n",
    "        #print('=====================================> key (giniIndex2): ', key)\n",
    "        giniAttribute[key] = giniSplitAtt2(df, key)\n",
    "        if giniAttribute[key] < minValue:\n",
    "            minValue = giniAttribute[key]\n",
    "            selectedAttribute = key\n",
    "        #print(f'Gini for {key} is {giniAttribute[key]:.3f}')\n",
    "    minValue = min(giniAttribute.values())\n",
    "    #selectedAttribute = min(giniAttribute.keys())\n",
    "    #print('^^^^^^^^^^^^^^^^ minValue (giniIndex2): ', minValue)\n",
    "    #print('^^^^^^^^^^^^^^^^ giniIndex2 methods is returning (giniIndex2):', selectedAttribute)\n",
    "    return selectedAttribute"
   ]
  },
  {
   "cell_type": "code",
   "execution_count": 9,
   "metadata": {},
   "outputs": [],
   "source": [
    "def getSubtable(df, node, value):\n",
    "  return df[df[node] == value].reset_index(drop=True)"
   ]
  },
  {
   "cell_type": "code",
   "execution_count": 10,
   "metadata": {},
   "outputs": [
    {
     "name": "stdout",
     "output_type": "stream",
     "text": [
      "0.9402859586706311\n"
     ]
    }
   ],
   "source": [
    "print(findEntropy(df))"
   ]
  },
  {
   "cell_type": "code",
   "execution_count": 11,
   "metadata": {},
   "outputs": [
    {
     "name": "stdout",
     "output_type": "stream",
     "text": [
      "0.6935361388961914\n"
     ]
    }
   ],
   "source": [
    "print(findEntropyAttribute(df,'age'))"
   ]
  },
  {
   "cell_type": "code",
   "execution_count": 12,
   "metadata": {},
   "outputs": [
    {
     "name": "stdout",
     "output_type": "stream",
     "text": [
      "0.9110633930116756\n"
     ]
    }
   ],
   "source": [
    "print(findEntropyAttribute(df,'income'))"
   ]
  },
  {
   "cell_type": "code",
   "execution_count": 13,
   "metadata": {},
   "outputs": [
    {
     "name": "stdout",
     "output_type": "stream",
     "text": [
      "0.7884504573082889\n"
     ]
    }
   ],
   "source": [
    "print(findEntropyAttribute(df,'student'))"
   ]
  },
  {
   "cell_type": "code",
   "execution_count": 14,
   "metadata": {},
   "outputs": [
    {
     "name": "stdout",
     "output_type": "stream",
     "text": [
      "0.892158928262361\n"
     ]
    }
   ],
   "source": [
    "print(findEntropyAttribute(df,'creditRating'))"
   ]
  },
  {
   "cell_type": "code",
   "execution_count": 15,
   "metadata": {},
   "outputs": [
    {
     "name": "stdout",
     "output_type": "stream",
     "text": [
      "3.2034265038149176e-16\n"
     ]
    }
   ],
   "source": [
    "print(findEntropyAttribute(df,'buysComputer'))"
   ]
  },
  {
   "cell_type": "code",
   "execution_count": 16,
   "metadata": {},
   "outputs": [
    {
     "name": "stdout",
     "output_type": "stream",
     "text": [
      "age\n"
     ]
    }
   ],
   "source": [
    "print(infoGain(df))"
   ]
  },
  {
   "cell_type": "code",
   "execution_count": null,
   "metadata": {},
   "outputs": [],
   "source": [
    "def buildTree(df,model,tree=None): \n",
    "    # print('@@@@@@@@@@@@@@@@@ Building a classification tree................................')\n",
    "    # print(f'DataFrame: \\n{df}')\n",
    "    # print('tree (buildTree): ', tree)\n",
    "    Class = df.keys()[-1]   #To make the code generic, changing target variable class name\n",
    "    # print('Class (buildTree): ', Class)\n",
    "    #Here we build our decision tree\n",
    "\n",
    "    #Get attribute with maximum information gain\n",
    "    #print('model (buildTree): infoGain')\n",
    "\n",
    "    if model == 'infoGain':\n",
    "        #print('Calling infoGain(df)')\n",
    "        node = infoGain(df)\n",
    "    else:\n",
    "        #print('Calling giniIndex2')\n",
    "        node = giniIndex2(df, attName)\n",
    "       \n",
    "    # print('node (buildTree): ', node)\n",
    "\n",
    "    #Get distinct value of that attribute e.g Salary is node and Low,Med and High are values\n",
    "    attValueBT = np.unique(df[node])\n",
    "    # print('attValue (buildTree): ', attValueBT)\n",
    "    #Create an empty dictionary to create tree    \n",
    "    if tree is None:                    \n",
    "        tree = {}\n",
    "        tree[node] = {}\n",
    "    \n",
    "    #We make loop to construct a tree by calling this function recursively. \n",
    "    #In this we check if the subset is pure and stops if it is pure. \n",
    "\n",
    "    for value in attValueBT:\n",
    "        # print('value (buildTree): ', value)\n",
    "        subtable = getSubtable(df,node,value)\n",
    "\n",
    "        clValue,counts = np.unique(subtable[className],return_counts=True)\n",
    "\n",
    "        if len(counts) == 1: # Checking purity of subset\n",
    "            # print('##########################################********** Recursive call 1 **********')\n",
    "            # print('node (buildTree): ', node)\n",
    "            # print('value (buildTree): ', tree)\n",
    "            tree[node][value] = clValue[0]                                                    \n",
    "        else:\n",
    "            # print('##########################################********** Recursive call 2 **********')\n",
    "            # print('node (buildTree): ', node)\n",
    "            # print('value (buildTree): ', tree)\n",
    "            # print(f'subtable (buildTree): \\n{subtable}')\n",
    "            tree[node][value] = buildTree(subtable, model) # Calling the function recursively \n",
    "    # print('############################################ tree to return (buildTree) ----->: ', tree)           \n",
    "    return tree"
   ]
  },
  {
   "cell_type": "code",
   "execution_count": null,
   "metadata": {
    "scrolled": false
   },
   "outputs": [],
   "source": [
    "import pprint\n",
    "className = 'buysComputer'\n",
    "#className = 'creditRating'\n",
    "print('Target Class: ', className)\n",
    "model = 'gini'\n",
    "#model = 'infoGain'\n",
    "t=buildTree(df, model)\n",
    "pprint.pprint(t)"
   ]
  },
  {
   "cell_type": "code",
   "execution_count": null,
   "metadata": {},
   "outputs": [],
   "source": [
    "# Calculating  gini impurity for the attiributes\n",
    "def gini_split_a(attribute_name):\n",
    "    attribute_values = df[attribute_name].value_counts()\n",
    "    gini_A = 0 \n",
    "    # print('class_name: ', className)\n",
    "    # print('attribute_values: ', attribute_values)\n",
    "    for key in attribute_values.keys():\n",
    "        df_k = df[className][df[attribute_name] == key].value_counts()\n",
    "        n_k = attribute_values[key]\n",
    "        n = df.shape[0]\n",
    "        gini_A = gini_A + (( n_k / n) * giniImpurity2(df_k))\n",
    "    return gini_A\n",
    "\n",
    "attribute_names =  ['age', 'income', 'student', 'creditRating']\n",
    "gini_attiribute ={}\n",
    "for key in attribute_names:\n",
    "    gini_attiribute[key] = gini_split_a(key)\n",
    "    print(f'Gini for {key} is {gini_attiribute[key]:.3f}')"
   ]
  },
  {
   "cell_type": "code",
   "execution_count": null,
   "metadata": {},
   "outputs": [],
   "source": [
    "# Compute Gini gain values to find the best split\n",
    "# An attribute has maximum Gini gain is selected for splitting.\n",
    "\n",
    "min_value = min(gini_attiribute.values())\n",
    "print('The minimum value of Gini Impurity : {0:.3} '.format(min_value))\n",
    "print('The maximum value of Gini Gain     : {0:.3} '.format(1-min_value))\n",
    "\n",
    "selected_attribute = min(gini_attiribute.keys())\n",
    "print('The selected attiribute is: ', selected_attribute)"
   ]
  },
  {
   "cell_type": "code",
   "execution_count": null,
   "metadata": {},
   "outputs": [],
   "source": []
  },
  {
   "cell_type": "code",
   "execution_count": null,
   "metadata": {},
   "outputs": [],
   "source": []
  }
 ],
 "metadata": {
  "kernelspec": {
   "display_name": "Python 3 (ipykernel)",
   "language": "python",
   "name": "python3"
  },
  "language_info": {
   "codemirror_mode": {
    "name": "ipython",
    "version": 3
   },
   "file_extension": ".py",
   "mimetype": "text/x-python",
   "name": "python",
   "nbconvert_exporter": "python",
   "pygments_lexer": "ipython3",
   "version": "3.9.5"
  }
 },
 "nbformat": 4,
 "nbformat_minor": 4
}
