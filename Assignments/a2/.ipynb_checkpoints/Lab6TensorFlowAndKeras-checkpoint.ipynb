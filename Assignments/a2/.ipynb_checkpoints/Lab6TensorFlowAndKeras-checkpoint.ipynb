{
 "cells": [
  {
   "cell_type": "markdown",
   "metadata": {},
   "source": [
    "## Code Run Through in Lecture Notes 7"
   ]
  },
  {
   "cell_type": "markdown",
   "metadata": {},
   "source": [
    "### Example\n",
    "\n",
    "• TensorFlow is a Python-friendly open source library for numerical computation well-suited for large-scale ML and deep learning. <br>\n",
    "• Some key features: <br>\n",
    "– In TensorFlow, you first define in Python a graph of computations to perform.\n",
    "– TensorFlow breaks the graph into chunks and run them in parallel across multiple CPU or GPU.\n",
    "\n",
    "Working with TensorFlow involves two main phases:\n",
    "1. Build a graph\n",
    "2. Execute it\n",
    "\n",
    "<img src='Graph.png' width=500>"
   ]
  },
  {
   "cell_type": "code",
   "execution_count": 7,
   "metadata": {},
   "outputs": [
    {
     "name": "stdout",
     "output_type": "stream",
     "text": [
      "Requirement already satisfied: tensorflow==2.7.0 in /Library/Frameworks/Python.framework/Versions/3.9/lib/python3.9/site-packages (2.7.0)\n",
      "Requirement already satisfied: keras-preprocessing>=1.1.1 in /Library/Frameworks/Python.framework/Versions/3.9/lib/python3.9/site-packages (from tensorflow==2.7.0) (1.1.2)\n",
      "Requirement already satisfied: google-pasta>=0.1.1 in /Library/Frameworks/Python.framework/Versions/3.9/lib/python3.9/site-packages (from tensorflow==2.7.0) (0.2.0)\n",
      "Requirement already satisfied: typing-extensions>=3.6.6 in /Library/Frameworks/Python.framework/Versions/3.9/lib/python3.9/site-packages (from tensorflow==2.7.0) (4.0.1)\n",
      "Requirement already satisfied: wheel<1.0,>=0.32.0 in /Library/Frameworks/Python.framework/Versions/3.9/lib/python3.9/site-packages (from tensorflow==2.7.0) (0.37.1)\n",
      "Requirement already satisfied: tensorflow-estimator<2.8,~=2.7.0rc0 in /Library/Frameworks/Python.framework/Versions/3.9/lib/python3.9/site-packages (from tensorflow==2.7.0) (2.7.0)\n",
      "Requirement already satisfied: astunparse>=1.6.0 in /Library/Frameworks/Python.framework/Versions/3.9/lib/python3.9/site-packages (from tensorflow==2.7.0) (1.6.3)\n",
      "Requirement already satisfied: six>=1.12.0 in /Library/Frameworks/Python.framework/Versions/3.9/lib/python3.9/site-packages (from tensorflow==2.7.0) (1.16.0)\n",
      "Requirement already satisfied: wrapt>=1.11.0 in /Library/Frameworks/Python.framework/Versions/3.9/lib/python3.9/site-packages (from tensorflow==2.7.0) (1.13.3)\n",
      "Requirement already satisfied: protobuf>=3.9.2 in /Library/Frameworks/Python.framework/Versions/3.9/lib/python3.9/site-packages (from tensorflow==2.7.0) (3.19.3)\n",
      "Requirement already satisfied: h5py>=2.9.0 in /Library/Frameworks/Python.framework/Versions/3.9/lib/python3.9/site-packages (from tensorflow==2.7.0) (3.6.0)\n",
      "Requirement already satisfied: grpcio<2.0,>=1.24.3 in /Library/Frameworks/Python.framework/Versions/3.9/lib/python3.9/site-packages (from tensorflow==2.7.0) (1.43.0)\n",
      "Requirement already satisfied: gast<0.5.0,>=0.2.1 in /Library/Frameworks/Python.framework/Versions/3.9/lib/python3.9/site-packages (from tensorflow==2.7.0) (0.4.0)\n",
      "Requirement already satisfied: opt-einsum>=2.3.2 in /Library/Frameworks/Python.framework/Versions/3.9/lib/python3.9/site-packages (from tensorflow==2.7.0) (3.3.0)\n",
      "Requirement already satisfied: absl-py>=0.4.0 in /Library/Frameworks/Python.framework/Versions/3.9/lib/python3.9/site-packages (from tensorflow==2.7.0) (1.0.0)\n",
      "Requirement already satisfied: tensorboard~=2.6 in /Library/Frameworks/Python.framework/Versions/3.9/lib/python3.9/site-packages (from tensorflow==2.7.0) (2.7.0)\n",
      "Requirement already satisfied: termcolor>=1.1.0 in /Library/Frameworks/Python.framework/Versions/3.9/lib/python3.9/site-packages (from tensorflow==2.7.0) (1.1.0)\n",
      "Requirement already satisfied: flatbuffers<3.0,>=1.12 in /Library/Frameworks/Python.framework/Versions/3.9/lib/python3.9/site-packages (from tensorflow==2.7.0) (2.0)\n",
      "Requirement already satisfied: numpy>=1.14.5 in /Library/Frameworks/Python.framework/Versions/3.9/lib/python3.9/site-packages (from tensorflow==2.7.0) (1.22.1)\n",
      "Requirement already satisfied: libclang>=9.0.1 in /Library/Frameworks/Python.framework/Versions/3.9/lib/python3.9/site-packages (from tensorflow==2.7.0) (12.0.0)\n",
      "Requirement already satisfied: keras<2.8,>=2.7.0rc0 in /Library/Frameworks/Python.framework/Versions/3.9/lib/python3.9/site-packages (from tensorflow==2.7.0) (2.7.0)\n",
      "Requirement already satisfied: tensorflow-io-gcs-filesystem>=0.21.0 in /Library/Frameworks/Python.framework/Versions/3.9/lib/python3.9/site-packages (from tensorflow==2.7.0) (0.23.1)\n",
      "Requirement already satisfied: google-auth-oauthlib<0.5,>=0.4.1 in /Library/Frameworks/Python.framework/Versions/3.9/lib/python3.9/site-packages (from tensorboard~=2.6->tensorflow==2.7.0) (0.4.6)\n",
      "Requirement already satisfied: requests<3,>=2.21.0 in /Library/Frameworks/Python.framework/Versions/3.9/lib/python3.9/site-packages (from tensorboard~=2.6->tensorflow==2.7.0) (2.27.1)\n",
      "Requirement already satisfied: google-auth<3,>=1.6.3 in /Library/Frameworks/Python.framework/Versions/3.9/lib/python3.9/site-packages (from tensorboard~=2.6->tensorflow==2.7.0) (2.3.3)\n",
      "Requirement already satisfied: setuptools>=41.0.0 in /Library/Frameworks/Python.framework/Versions/3.9/lib/python3.9/site-packages (from tensorboard~=2.6->tensorflow==2.7.0) (56.0.0)\n",
      "Requirement already satisfied: tensorboard-plugin-wit>=1.6.0 in /Library/Frameworks/Python.framework/Versions/3.9/lib/python3.9/site-packages (from tensorboard~=2.6->tensorflow==2.7.0) (1.8.1)\n",
      "Requirement already satisfied: werkzeug>=0.11.15 in /Library/Frameworks/Python.framework/Versions/3.9/lib/python3.9/site-packages (from tensorboard~=2.6->tensorflow==2.7.0) (2.0.2)\n",
      "Requirement already satisfied: tensorboard-data-server<0.7.0,>=0.6.0 in /Library/Frameworks/Python.framework/Versions/3.9/lib/python3.9/site-packages (from tensorboard~=2.6->tensorflow==2.7.0) (0.6.1)\n",
      "Requirement already satisfied: markdown>=2.6.8 in /Library/Frameworks/Python.framework/Versions/3.9/lib/python3.9/site-packages (from tensorboard~=2.6->tensorflow==2.7.0) (3.3.6)\n",
      "Requirement already satisfied: rsa<5,>=3.1.4 in /Library/Frameworks/Python.framework/Versions/3.9/lib/python3.9/site-packages (from google-auth<3,>=1.6.3->tensorboard~=2.6->tensorflow==2.7.0) (4.8)\n",
      "Requirement already satisfied: pyasn1-modules>=0.2.1 in /Library/Frameworks/Python.framework/Versions/3.9/lib/python3.9/site-packages (from google-auth<3,>=1.6.3->tensorboard~=2.6->tensorflow==2.7.0) (0.2.8)\n",
      "Requirement already satisfied: cachetools<5.0,>=2.0.0 in /Library/Frameworks/Python.framework/Versions/3.9/lib/python3.9/site-packages (from google-auth<3,>=1.6.3->tensorboard~=2.6->tensorflow==2.7.0) (4.2.4)\n",
      "Requirement already satisfied: requests-oauthlib>=0.7.0 in /Library/Frameworks/Python.framework/Versions/3.9/lib/python3.9/site-packages (from google-auth-oauthlib<0.5,>=0.4.1->tensorboard~=2.6->tensorflow==2.7.0) (1.3.0)\n",
      "Requirement already satisfied: importlib-metadata>=4.4 in /Library/Frameworks/Python.framework/Versions/3.9/lib/python3.9/site-packages (from markdown>=2.6.8->tensorboard~=2.6->tensorflow==2.7.0) (4.10.1)\n",
      "Requirement already satisfied: certifi>=2017.4.17 in /Library/Frameworks/Python.framework/Versions/3.9/lib/python3.9/site-packages (from requests<3,>=2.21.0->tensorboard~=2.6->tensorflow==2.7.0) (2021.10.8)\n",
      "Requirement already satisfied: idna<4,>=2.5 in /Library/Frameworks/Python.framework/Versions/3.9/lib/python3.9/site-packages (from requests<3,>=2.21.0->tensorboard~=2.6->tensorflow==2.7.0) (3.3)\n",
      "Requirement already satisfied: charset-normalizer~=2.0.0 in /Library/Frameworks/Python.framework/Versions/3.9/lib/python3.9/site-packages (from requests<3,>=2.21.0->tensorboard~=2.6->tensorflow==2.7.0) (2.0.10)\n",
      "Requirement already satisfied: urllib3<1.27,>=1.21.1 in /Library/Frameworks/Python.framework/Versions/3.9/lib/python3.9/site-packages (from requests<3,>=2.21.0->tensorboard~=2.6->tensorflow==2.7.0) (1.26.8)\n",
      "Requirement already satisfied: zipp>=0.5 in /Library/Frameworks/Python.framework/Versions/3.9/lib/python3.9/site-packages (from importlib-metadata>=4.4->markdown>=2.6.8->tensorboard~=2.6->tensorflow==2.7.0) (3.7.0)\n",
      "Requirement already satisfied: pyasn1<0.5.0,>=0.4.6 in /Library/Frameworks/Python.framework/Versions/3.9/lib/python3.9/site-packages (from pyasn1-modules>=0.2.1->google-auth<3,>=1.6.3->tensorboard~=2.6->tensorflow==2.7.0) (0.4.8)\n",
      "Requirement already satisfied: oauthlib>=3.0.0 in /Library/Frameworks/Python.framework/Versions/3.9/lib/python3.9/site-packages (from requests-oauthlib>=0.7.0->google-auth-oauthlib<0.5,>=0.4.1->tensorboard~=2.6->tensorflow==2.7.0) (3.1.1)\n",
      "\u001b[33mWARNING: You are using pip version 21.3.1; however, version 22.0.3 is available.\n",
      "You should consider upgrading via the '/Library/Frameworks/Python.framework/Versions/3.9/bin/python3 -m pip install --upgrade pip' command.\u001b[0m\n",
      "Requirement already satisfied: keras==2.7.0 in /Library/Frameworks/Python.framework/Versions/3.9/lib/python3.9/site-packages (2.7.0)\n",
      "\u001b[33mWARNING: You are using pip version 21.3.1; however, version 22.0.3 is available.\n",
      "You should consider upgrading via the '/Library/Frameworks/Python.framework/Versions/3.9/bin/python3 -m pip install --upgrade pip' command.\u001b[0m\n"
     ]
    }
   ],
   "source": [
    "# if tensorflow and keras have been installed and the consitency constraint are compatible, then no need to execute this note.\n",
    "!pip3 install tensorflow==2.7.0 --user\n",
    "!pip3 install keras==2.7.0 --user"
   ]
  },
  {
   "cell_type": "code",
   "execution_count": 8,
   "metadata": {
    "ExecuteTime": {
     "end_time": "2020-08-12T11:14:44.511772Z",
     "start_time": "2020-08-12T11:14:40.900189Z"
    }
   },
   "outputs": [
    {
     "ename": "ModuleNotFoundError",
     "evalue": "No module named 'tensorflow'",
     "output_type": "error",
     "traceback": [
      "\u001b[0;31m---------------------------------------------------------------------------\u001b[0m",
      "\u001b[0;31mModuleNotFoundError\u001b[0m                       Traceback (most recent call last)",
      "Input \u001b[0;32mIn [8]\u001b[0m, in \u001b[0;36m<module>\u001b[0;34m\u001b[0m\n\u001b[1;32m      1\u001b[0m \u001b[38;5;66;03m# Tf v1\u001b[39;00m\n\u001b[0;32m----> 2\u001b[0m \u001b[38;5;28;01mimport\u001b[39;00m \u001b[38;5;21;01mtensorflow\u001b[39;00m \u001b[38;5;28;01mas\u001b[39;00m \u001b[38;5;21;01mtf\u001b[39;00m\n\u001b[1;32m      4\u001b[0m \u001b[38;5;28;01mimport\u001b[39;00m \u001b[38;5;21;01mtensorflow\u001b[39;00m\u001b[38;5;21;01m.\u001b[39;00m\u001b[38;5;21;01mcompat\u001b[39;00m\u001b[38;5;21;01m.\u001b[39;00m\u001b[38;5;21;01mv1\u001b[39;00m \u001b[38;5;28;01mas\u001b[39;00m \u001b[38;5;21;01mtf\u001b[39;00m\n\u001b[1;32m      5\u001b[0m tf\u001b[38;5;241m.\u001b[39mdisable_v2_behavior()\n",
      "\u001b[0;31mModuleNotFoundError\u001b[0m: No module named 'tensorflow'"
     ]
    }
   ],
   "source": [
    "# Tf v1\n",
    "import tensorflow as tf\n",
    "\n",
    "import tensorflow.compat.v1 as tf\n",
    "tf.disable_v2_behavior()\n",
    "print(tf.__version__)"
   ]
  },
  {
   "cell_type": "code",
   "execution_count": 1,
   "metadata": {
    "ExecuteTime": {
     "end_time": "2020-08-12T11:14:45.188017Z",
     "start_time": "2020-08-12T11:14:45.181605Z"
    }
   },
   "outputs": [
    {
     "ename": "NameError",
     "evalue": "name 'tf' is not defined",
     "output_type": "error",
     "traceback": [
      "\u001b[0;31m---------------------------------------------------------------------------\u001b[0m",
      "\u001b[0;31mNameError\u001b[0m                                 Traceback (most recent call last)",
      "Input \u001b[0;32mIn [1]\u001b[0m, in \u001b[0;36m<module>\u001b[0;34m\u001b[0m\n\u001b[0;32m----> 1\u001b[0m a \u001b[38;5;241m=\u001b[39m \u001b[43mtf\u001b[49m\u001b[38;5;241m.\u001b[39mconstant(\u001b[38;5;241m5\u001b[39m)\n\u001b[1;32m      2\u001b[0m b \u001b[38;5;241m=\u001b[39m tf\u001b[38;5;241m.\u001b[39mconstant(\u001b[38;5;241m3\u001b[39m)\n\u001b[1;32m      3\u001b[0m c \u001b[38;5;241m=\u001b[39m tf\u001b[38;5;241m.\u001b[39mmultiply(a, b)\n",
      "\u001b[0;31mNameError\u001b[0m: name 'tf' is not defined"
     ]
    }
   ],
   "source": [
    "a = tf.constant(5)\n",
    "b = tf.constant(3)\n",
    "c = tf.multiply(a, b)\n",
    "d = tf.add(a, b)\n",
    "e = tf.add(c, d)"
   ]
  },
  {
   "cell_type": "markdown",
   "metadata": {},
   "source": [
    "The tensorflow core r2.0 have enabled eager execution by default so doesn't need to write tf.compat.v1.Session() and use .run() function <br>\n",
    "If we want to use tf.compat.v1.Session() then we need to do this <br>\n",
    "tf.compat.v1.disable_eager_execution() in the starting of algorithm. Now we can use tf.compat.v1.Session() and .run() function."
   ]
  },
  {
   "cell_type": "code",
   "execution_count": null,
   "metadata": {
    "ExecuteTime": {
     "end_time": "2020-08-12T11:14:46.738389Z",
     "start_time": "2020-08-12T11:14:46.709995Z"
    }
   },
   "outputs": [],
   "source": [
    "# tf.disable_eager_execution()\n",
    "with tf.Session() as sess:\n",
    "    print(sess.run(e))"
   ]
  },
  {
   "cell_type": "markdown",
   "metadata": {},
   "source": [
    "### Tensor Objects\n",
    "\n",
    "• Tensor Objects<br>\n",
    "<ol>\n",
    "    <li>The central unit of data in TensorFlow is the tensor.</li>\n",
    "    <li>An n-dimensional array of primitive values.</li>\n",
    "</ol>\n",
    "• The main object to manipulate and pass around is the tf.Tensor<br>\n",
    "• TensorFlow programs work by building a graph of tf.Tensor objects, and running parts of this graph.<br>\n",
    "• Each Tensor object is specified by:<br>\n",
    "<ol>\n",
    "    <li>Rank</li>\n",
    "    <li>Shape</li>\n",
    "    <li>Datatype</li>\n",
    "</ol>\n",
    "\n",
    "• Rank: the number of dimensions.<br>\n",
    "– Rank 0: scalar (number), e.g., 19<br>\n",
    "– Rank 1: vector, e.g., [0, 1]<br>\n",
    "– Rank 2: matrix, e.g., [[1, 2], [3, 2], [1, 4]]<br>\n",
    "– Rank n: n-dimensional Tensor (array)<br>\n",
    "• The tf.rank method determines the rank of a tf.Tensor object."
   ]
  },
  {
   "cell_type": "code",
   "execution_count": null,
   "metadata": {
    "ExecuteTime": {
     "end_time": "2020-08-11T15:20:02.455420Z",
     "start_time": "2020-08-11T15:20:02.451377Z"
    }
   },
   "outputs": [],
   "source": [
    "c = tf.constant([[4], [9], [16], [25]])\n",
    "r = tf.rank(c) # rank 2"
   ]
  },
  {
   "cell_type": "code",
   "execution_count": null,
   "metadata": {
    "ExecuteTime": {
     "end_time": "2020-08-11T15:20:08.909098Z",
     "start_time": "2020-08-11T15:20:08.906088Z"
    }
   },
   "outputs": [],
   "source": [
    "r"
   ]
  },
  {
   "cell_type": "code",
   "execution_count": null,
   "metadata": {
    "ExecuteTime": {
     "end_time": "2020-08-11T15:19:39.525595Z",
     "start_time": "2020-08-11T15:19:39.521745Z"
    }
   },
   "outputs": [],
   "source": [
    "c = tf.constant([[[1, 2, 3], [4, 5, 6]],\n",
    "[[1, 1, 1], [2, 2, 2]]])\n",
    "s = c.get_shape() # (2, 2, 3)"
   ]
  },
  {
   "cell_type": "code",
   "execution_count": null,
   "metadata": {
    "ExecuteTime": {
     "end_time": "2020-08-11T15:19:43.798079Z",
     "start_time": "2020-08-11T15:19:43.794810Z"
    }
   },
   "outputs": [],
   "source": [
    "s"
   ]
  },
  {
   "cell_type": "code",
   "execution_count": null,
   "metadata": {
    "ExecuteTime": {
     "end_time": "2020-08-12T05:14:20.333840Z",
     "start_time": "2020-08-12T05:14:20.267149Z"
    }
   },
   "outputs": [],
   "source": [
    "c = tf.constant(4.0, dtype=tf.float64)\n",
    "x = tf.constant([1, 2, 3], dtype=tf.float32)\n",
    "y = tf.cast(x, tf.int64)"
   ]
  },
  {
   "cell_type": "code",
   "execution_count": null,
   "metadata": {
    "ExecuteTime": {
     "end_time": "2020-08-12T11:18:06.372976Z",
     "start_time": "2020-08-12T11:18:06.369722Z"
    }
   },
   "outputs": [],
   "source": [
    "# This name is an intrinsic string name, not to be confused with the name of the variable\n",
    "c = tf.constant(4.0, dtype=tf.float64, name=\"input\")"
   ]
  },
  {
   "cell_type": "markdown",
   "metadata": {},
   "source": [
    "### Main Types of Tensor Objects\n",
    "- Constant\n",
    "- Variables\n",
    "- Placeholder (tf.placeholder is deprecated in TensorFlow 2)\n",
    "    "
   ]
  },
  {
   "cell_type": "markdown",
   "metadata": {},
   "source": [
    "#### Constant"
   ]
  },
  {
   "cell_type": "code",
   "execution_count": null,
   "metadata": {},
   "outputs": [],
   "source": [
    "# Constants\n",
    "# Syntax:  tf.constant(<value>, dtype=None, shape=None, name=\"Const\", verify_shape=False)\n",
    "# <value> can be given as a Python list or a NumPy array\n",
    "\n",
    "a = tf.constant([[0, 1], [2, 3]], name=\"b\")\n",
    "b = tf.constant([[4], [9], [16], [25]], name=\"c\")"
   ]
  },
  {
   "cell_type": "markdown",
   "metadata": {},
   "source": [
    "#### Variables"
   ]
  },
  {
   "cell_type": "code",
   "execution_count": null,
   "metadata": {
    "ExecuteTime": {
     "end_time": "2020-08-12T05:18:27.540241Z",
     "start_time": "2020-08-12T05:18:27.424382Z"
    }
   },
   "outputs": [],
   "source": [
    "# Variables\n",
    "# A variable represents a Tensor whose value can be changed by running operations on it\n",
    "# tf.Variable is a class with several operations\n",
    "# Create variables with tf.get_variable\n",
    "# tf.get_variable returns an existing variable with the given parameters if it is available\n",
    "\n",
    "\n",
    "# tf.Variable(<initial-value>, name=<optional-name>)\n",
    "# w = tf.Variable([[0, 1], [2, 3]], name=\"matrix\")\n",
    "\n",
    "# tf.get_variable(name, shape=None, dtype=tf.float32,\n",
    "#                 initializer=None, regularizer=None,\n",
    "#                 trainable=True, collections=None)\n",
    "# w = tf.get_variable(\"matrix\",initializer=tf.constant([[0, 1], [2, 3]]))"
   ]
  },
  {
   "cell_type": "code",
   "execution_count": null,
   "metadata": {},
   "outputs": [],
   "source": [
    "# Variables should be initialized before being used\n",
    "\n",
    "# 1) Initialize all variables at once\n",
    "# with tf.Session() as sess:\n",
    "# sess.run(tf.global_variables_initializer())\n",
    "# 2) Initialize only a subset of variables\n",
    "# with tf.Session() as sess:\n",
    "# sess.run(tf.variables_initializer([a, b]))\n",
    "# 3) Initialize a single variable\n",
    "# w = tf.Variable(tf.zeros([784,10]))\n",
    "# with tf.Session() as sess:\n",
    "# sess.run(w.initializer)"
   ]
  },
  {
   "cell_type": "code",
   "execution_count": null,
   "metadata": {
    "ExecuteTime": {
     "end_time": "2020-08-12T05:30:50.591895Z",
     "start_time": "2020-08-12T05:30:50.508386Z"
    }
   },
   "outputs": [],
   "source": [
    "w = tf.get_variable(\"scalar\", initializer=tf.constant(2))\n",
    "w.assign(100)\n",
    "with tf.Session() as sess:\n",
    "    sess.run(w.initializer)\n",
    "    print(sess.run(w)) # 2"
   ]
  },
  {
   "cell_type": "code",
   "execution_count": null,
   "metadata": {
    "ExecuteTime": {
     "end_time": "2020-08-12T05:31:34.388680Z",
     "start_time": "2020-08-12T05:31:34.365214Z"
    }
   },
   "outputs": [],
   "source": [
    "w = tf.get_variable(\"scalar2\", initializer=tf.constant(2))\n",
    "assign_op = w.assign(100)\n",
    "with tf.Session() as sess:\n",
    "    sess.run(w.initializer)\n",
    "    sess.run(assign_op)\n",
    "    print(sess.run(w)) # 100"
   ]
  },
  {
   "cell_type": "code",
   "execution_count": null,
   "metadata": {
    "ExecuteTime": {
     "end_time": "2020-08-12T05:31:55.174892Z",
     "start_time": "2020-08-12T05:31:55.155813Z"
    }
   },
   "outputs": [],
   "source": [
    "w = tf.get_variable(\"scalar3\", initializer=tf.constant(2))\n",
    "w_times_two = w.assign(2 * w)\n",
    "with tf.Session() as sess:\n",
    "    sess.run(w.initializer)\n",
    "    print(sess.run(w_times_two))\n",
    "    print(sess.run(w_times_two))\n",
    "    print(sess.run(w_times_two))"
   ]
  },
  {
   "cell_type": "code",
   "execution_count": null,
   "metadata": {
    "ExecuteTime": {
     "end_time": "2020-08-12T05:32:21.500655Z",
     "start_time": "2020-08-12T05:32:21.479446Z"
    }
   },
   "outputs": [],
   "source": [
    "w = tf.get_variable(\"scalar4\", initializer=tf.constant(2))\n",
    "with tf.Session() as sess:\n",
    "    sess.run(w.initializer) \n",
    "    print(sess.run(w.assign_add(10)))    # increment by 10\n",
    "    print(sess.run(w.assign_sub(5)))     # decrement by 5"
   ]
  },
  {
   "cell_type": "markdown",
   "metadata": {},
   "source": [
    "#### Placeholder\n",
    "\n",
    "Placeholders are built-in structures for feeding input values<br>\n",
    "Empty variables that will be filled with data later on"
   ]
  },
  {
   "cell_type": "code",
   "execution_count": null,
   "metadata": {
    "ExecuteTime": {
     "end_time": "2020-08-12T05:35:13.543663Z",
     "start_time": "2020-08-12T05:35:13.480621Z"
    }
   },
   "outputs": [],
   "source": [
    "# shape=None means that a tensor of any shape will be accepted\n",
    "# – E.g., shape=[None, 10]: a matrix with 10 columns and any number of rows\n",
    "#tf.placeholder(dtype, shape=None, name=None)\n",
    "tf.placeholder(tf.float32, shape=None, name=None)\n",
    "x = tf.placeholder(tf.float32, shape=[None, 10])"
   ]
  },
  {
   "cell_type": "code",
   "execution_count": null,
   "metadata": {
    "ExecuteTime": {
     "end_time": "2020-08-12T05:35:49.422019Z",
     "start_time": "2020-08-12T05:35:49.357839Z"
    }
   },
   "outputs": [],
   "source": [
    "# The following five statements are intentionally created to cause error. This is to show that a placeholder needs to be\n",
    "# fed with data. For example, the place holder 'a' is declared, but is not fed with data, then the statement c = a + b\n",
    "# will have error because the operation cannot be completed due to the fact that 'a' has no content.\n",
    "# in order to feed the placeholder 'a' with content, we can use the feed_dict() function as shown in the next note.\n",
    "#\n",
    "#a = tf.placeholder(tf.float32, shape=[3])\n",
    "#b = tf.constant([5, 5, 5], tf.float32)\n",
    "#c = a + b\n",
    "#with tf.Session() as sess:\n",
    "#    print(sess.run(c))\n",
    "    \n",
    "a = tf.placeholder(tf.float32, shape=[3])\n",
    "a = tf.constant([3, 4, 5], tf.float32)  # We can feed the placeholder with data here\n",
    "b = tf.constant([5, 5, 5], tf.float32)\n",
    "c = a + b\n",
    "with tf.Session() as sess:\n",
    "    print(sess.run(c))"
   ]
  },
  {
   "cell_type": "code",
   "execution_count": null,
   "metadata": {
    "ExecuteTime": {
     "end_time": "2020-08-12T05:36:16.424108Z",
     "start_time": "2020-08-12T05:36:16.411934Z"
    }
   },
   "outputs": [],
   "source": [
    "# Before running the computation, supplement the values to placeholders using a dictionary\n",
    "\n",
    "a = tf.placeholder(tf.float32, shape=[3])\n",
    "b = tf.constant([5, 5, 5], tf.float32)\n",
    "c = a + b\n",
    "with tf.Session() as sess:\n",
    "    print(sess.run(c, feed_dict={a: [1, 2, 3]}))\n"
   ]
  },
  {
   "cell_type": "markdown",
   "metadata": {},
   "source": [
    "### Computation Graph\n",
    "\n",
    "- A computation graph is a series of TensorFlow operations arranged into a graph\n",
    "- tf refers to a graph object (the command “import tensorflow as tf” creates a default empty graph)\n",
    "- The graph is composed of two types of objects:\n",
    "- Operations: the nodes of the graph that that consume and produce tensors.\n",
    "- Tensors: the edges in the graph that represent the flowing values throughthe graph (hence the name “TensorFlow”)"
   ]
  },
  {
   "cell_type": "code",
   "execution_count": null,
   "metadata": {},
   "outputs": [],
   "source": [
    "# To get a new empty default graph\n",
    "\n",
    "tf.reset_default_graph()"
   ]
  },
  {
   "cell_type": "markdown",
   "metadata": {},
   "source": [
    "### Tensorflow Operations"
   ]
  },
  {
   "cell_type": "code",
   "execution_count": null,
   "metadata": {
    "ExecuteTime": {
     "end_time": "2020-08-12T05:39:30.036592Z",
     "start_time": "2020-08-12T05:39:30.026771Z"
    }
   },
   "outputs": [],
   "source": [
    "a = tf.constant([[1, 2, 3], [4, 5, 6]])\n",
    "print(a.get_shape())\n",
    "# Out: (2, 3)\n",
    "b = tf.constant([1, 0, 1])\n",
    "print(b.get_shape())\n",
    "b = tf.expand_dims(b, 1)\n",
    "c = tf.matmul(a, b)"
   ]
  },
  {
   "cell_type": "code",
   "execution_count": null,
   "metadata": {
    "ExecuteTime": {
     "end_time": "2020-08-12T05:39:32.994636Z",
     "start_time": "2020-08-12T05:39:32.989734Z"
    }
   },
   "outputs": [],
   "source": [
    "b"
   ]
  },
  {
   "cell_type": "code",
   "execution_count": null,
   "metadata": {
    "ExecuteTime": {
     "end_time": "2020-08-12T05:40:18.034877Z",
     "start_time": "2020-08-12T05:40:18.031733Z"
    }
   },
   "outputs": [],
   "source": [
    "c"
   ]
  },
  {
   "cell_type": "markdown",
   "metadata": {},
   "source": [
    "### Manage Multiple Graphs\n",
    "- Besides the default graph, can also create additional graphs, by calling tf.Graph()\n",
    "- tf.get_default_graph() tells which graph is currently set as the default graph"
   ]
  },
  {
   "cell_type": "code",
   "execution_count": null,
   "metadata": {
    "ExecuteTime": {
     "end_time": "2020-08-12T05:42:03.120419Z",
     "start_time": "2020-08-12T05:42:03.115270Z"
    }
   },
   "outputs": [],
   "source": [
    "import tensorflow.compat.v1 as tf\n",
    "g = tf.Graph()\n",
    "a = tf.constant(5)\n",
    "print(a.graph is g) # Out: False\n",
    "print(a.graph is tf.get_default_graph()) # Out: True"
   ]
  },
  {
   "cell_type": "code",
   "execution_count": null,
   "metadata": {
    "ExecuteTime": {
     "end_time": "2020-08-12T05:42:57.361273Z",
     "start_time": "2020-08-12T05:42:57.344340Z"
    }
   },
   "outputs": [],
   "source": [
    "# Use as_default() to associate your constructed nodes the a right graph\n",
    "\n",
    "g_1 = tf.Graph()\n",
    "with g_1.as_default():\n",
    "    # Operations created in this scope will be added to `g_1`.\n",
    "    # c = tf.constant([0, 1], \"Node in g_1\")\n",
    "    c = tf.constant([0, 1])"
   ]
  },
  {
   "cell_type": "markdown",
   "metadata": {},
   "source": [
    "### Fetches"
   ]
  },
  {
   "cell_type": "code",
   "execution_count": null,
   "metadata": {
    "ExecuteTime": {
     "end_time": "2020-08-12T05:44:36.220287Z",
     "start_time": "2020-08-12T05:44:36.207013Z"
    }
   },
   "outputs": [],
   "source": [
    "# Building the Graph\n",
    "a = tf.constant(5); \n",
    "b = tf.constant(3)\n",
    "c = tf.multiply(a, b); \n",
    "d = tf.add(a, b)\n",
    "e = tf.add(c, d)\n",
    "# Executing the Graph\n",
    "with tf.Session() as sess:\n",
    "    fetchs = [a,b,c,d,e]\n",
    "    print(sess.run(fetchs))\n",
    "    # Output: [5, 3, 15, 8, 23]"
   ]
  },
  {
   "cell_type": "markdown",
   "metadata": {},
   "source": [
    "### Run a Graph vs. Evaluate Tensors\n"
   ]
  },
  {
   "cell_type": "code",
   "execution_count": null,
   "metadata": {
    "ExecuteTime": {
     "end_time": "2020-08-12T05:48:51.999081Z",
     "start_time": "2020-08-12T05:48:51.987016Z"
    }
   },
   "outputs": [],
   "source": [
    "# Two ways to run/evaluate a part of graph: Session.run() and Tensor.eval()\n",
    "\n",
    "# The most important difference is that you can use Session.run() to \n",
    "# fetch the values of many tensors in the same step\n",
    "\n",
    "t = tf.constant(42.0)\n",
    "u = tf.constant(37.0)\n",
    "tu = tf.multiply(t, u)\n",
    "ut = tf.multiply(u, t)\n",
    "with tf.Session() as sess:\n",
    "    print(tu.eval()) # runs one step\n",
    "    print(ut.eval()) # runs one step\n",
    "    print(sess.run([tu, ut]))\n",
    "    # evaluates both tensors in a single step\n"
   ]
  },
  {
   "cell_type": "markdown",
   "metadata": {},
   "source": [
    "### Save Models"
   ]
  },
  {
   "cell_type": "code",
   "execution_count": null,
   "metadata": {
    "ExecuteTime": {
     "end_time": "2020-08-12T05:47:36.828451Z",
     "start_time": "2020-08-12T05:47:36.774310Z"
    }
   },
   "outputs": [],
   "source": [
    "v1 = tf.get_variable(\"v1\", shape=[3],\n",
    "initializer = tf.zeros_initializer)\n",
    "inc_v1 = v1.assign(v1+1)\n",
    "# Add an op to initialize the variables.\n",
    "init_op = tf.global_variables_initializer()\n",
    "# Add ops to save and restore all the variables.\n",
    "saver = tf.train.Saver()\n",
    "# Later, launch the model, initialize the variables,\n",
    "# do some work, and save the variables to disk.\n",
    "with tf.Session() as sess:\n",
    "    sess.run(init_op)\n",
    "    # Do some work with the model.\n",
    "    inc_v1.op.run()\n",
    "    # Save the variables to disk.\n",
    "    save_path = saver.save(sess, \"saved_models/model.ckpt\")\n",
    "    print(\"Model saved in path: %s\" % save_path)"
   ]
  },
  {
   "cell_type": "markdown",
   "metadata": {},
   "source": [
    "### Restore Models"
   ]
  },
  {
   "cell_type": "code",
   "execution_count": null,
   "metadata": {
    "ExecuteTime": {
     "end_time": "2020-08-12T05:48:03.650787Z",
     "start_time": "2020-08-12T05:48:03.627385Z"
    }
   },
   "outputs": [],
   "source": [
    "tf.reset_default_graph()\n",
    "# Create a variable.\n",
    "# The name \"v1\" must be the same in the saved model.\n",
    "new_v1 = tf.get_variable(\"v1\", shape=[3])\n",
    "# Add ops to save and restore all the variables.\n",
    "saver = tf.train.Saver()\n",
    "# Later, launch the model, use the saver to restore variables\n",
    "# from disk, and do some work with the model.\n",
    "with tf.Session() as sess:\n",
    "    # Restore variables from disk.\n",
    "    saver.restore(sess, \"saved_models/model.ckpt\")\n",
    "    print(\"Model restored.\")\n",
    "    # Check the values of the variables\n",
    "    print(\"v1 : %s\" % new_v1.eval())"
   ]
  },
  {
   "cell_type": "markdown",
   "metadata": {},
   "source": [
    "### TensorBoard"
   ]
  },
  {
   "cell_type": "code",
   "execution_count": null,
   "metadata": {
    "ExecuteTime": {
     "end_time": "2020-08-12T11:40:46.637677Z",
     "start_time": "2020-08-12T11:40:46.625813Z"
    }
   },
   "outputs": [],
   "source": [
    "# To visualize your model in TensorBoard, write the graph definition\n",
    "# and some training stats to a log directory that TensorBoard will read from\n",
    "\n",
    "tf.reset_default_graph()\n",
    "# Building the Graph\n",
    "a = tf.constant(5); \n",
    "b = tf.constant(3)\n",
    "c = tf.multiply(a, b); \n",
    "d = tf.add(a, b)\n",
    "e = tf.add(c, d)\n",
    "writer = tf.summary.FileWriter('./graphs',tf.get_default_graph())\n",
    "# Executing the Graph\n",
    "with tf.Session() as sess:\n",
    "    print(sess.run(e))"
   ]
  },
  {
   "cell_type": "code",
   "execution_count": null,
   "metadata": {
    "ExecuteTime": {
     "end_time": "2020-08-12T11:51:26.481090Z",
     "start_time": "2020-08-12T11:41:08.364126Z"
    }
   },
   "outputs": [],
   "source": [
    "# To avoid the many warning messages, we can install tensorflow with GPU option.\n",
    "!tensorboard --logdir=\"./graphs\" --port 6006"
   ]
  },
  {
   "cell_type": "markdown",
   "metadata": {},
   "source": [
    "## Tensorflow and Keras Model for Perceptron\n",
    "\n"
   ]
  },
  {
   "cell_type": "markdown",
   "metadata": {},
   "source": [
    "### ANN Explanation\n",
    "<img src='NN2.png'>\n",
    "<img src='Neuron.png'>\n",
    "<br>\n",
    "Activation functions are one of the key elements of the neural network. Without them, our neural network would become a combination of linear functions, so it would be just a linear function itself. Our model would have limited expansiveness, no greater than logistic regression. The non-linearity element allows for greater flexibility and creation of complex functions during the learning process. The activation function also has a significant impact on the speed of learning, which is one of the main criteria for their selection. Currently, the most popular one for hidden layers is probably ReLU. \n",
    "\n",
    "<br> Gradient Vanishing (Sigmoid / Tanh)\n",
    "<img src=\"Activation.png\">\n",
    "<img src='Forward.png'>\n",
    "<img src='Backward.png'>\n",
    "<img src='Correct.png'>\n",
    "<img src='NN.gif'>\n",
    "\n",
    "https://medium.com/@purnasaigudikandula/a-beginner-intro-to-neural-networks-543267bda3c8"
   ]
  },
  {
   "cell_type": "markdown",
   "metadata": {},
   "source": [
    "### ANN Implementation from Scratch"
   ]
  },
  {
   "cell_type": "markdown",
   "metadata": {},
   "source": [
    "http://neuralnetworksanddeeplearning.com/chap1.html"
   ]
  },
  {
   "cell_type": "markdown",
   "metadata": {},
   "source": [
    "### Read the abalone dataset\n"
   ]
  },
  {
   "cell_type": "code",
   "execution_count": 1,
   "metadata": {},
   "outputs": [
    {
     "data": {
      "text/html": [
       "<div>\n",
       "<style scoped>\n",
       "    .dataframe tbody tr th:only-of-type {\n",
       "        vertical-align: middle;\n",
       "    }\n",
       "\n",
       "    .dataframe tbody tr th {\n",
       "        vertical-align: top;\n",
       "    }\n",
       "\n",
       "    .dataframe thead th {\n",
       "        text-align: right;\n",
       "    }\n",
       "</style>\n",
       "<table border=\"1\" class=\"dataframe\">\n",
       "  <thead>\n",
       "    <tr style=\"text-align: right;\">\n",
       "      <th></th>\n",
       "      <th>Length</th>\n",
       "      <th>Diameter</th>\n",
       "      <th>Height</th>\n",
       "      <th>Whole_weight</th>\n",
       "      <th>Shucked_weight</th>\n",
       "      <th>Viscera_weight</th>\n",
       "      <th>Shell_weight</th>\n",
       "      <th>Rings</th>\n",
       "      <th>Sex_F</th>\n",
       "      <th>Sex_I</th>\n",
       "      <th>Sex_M</th>\n",
       "    </tr>\n",
       "  </thead>\n",
       "  <tbody>\n",
       "    <tr>\n",
       "      <th>0</th>\n",
       "      <td>0.455</td>\n",
       "      <td>0.365</td>\n",
       "      <td>0.095</td>\n",
       "      <td>0.5140</td>\n",
       "      <td>0.2245</td>\n",
       "      <td>0.1010</td>\n",
       "      <td>0.150</td>\n",
       "      <td>15</td>\n",
       "      <td>0</td>\n",
       "      <td>0</td>\n",
       "      <td>1</td>\n",
       "    </tr>\n",
       "    <tr>\n",
       "      <th>1</th>\n",
       "      <td>0.350</td>\n",
       "      <td>0.265</td>\n",
       "      <td>0.090</td>\n",
       "      <td>0.2255</td>\n",
       "      <td>0.0995</td>\n",
       "      <td>0.0485</td>\n",
       "      <td>0.070</td>\n",
       "      <td>7</td>\n",
       "      <td>0</td>\n",
       "      <td>0</td>\n",
       "      <td>1</td>\n",
       "    </tr>\n",
       "    <tr>\n",
       "      <th>2</th>\n",
       "      <td>0.530</td>\n",
       "      <td>0.420</td>\n",
       "      <td>0.135</td>\n",
       "      <td>0.6770</td>\n",
       "      <td>0.2565</td>\n",
       "      <td>0.1415</td>\n",
       "      <td>0.210</td>\n",
       "      <td>9</td>\n",
       "      <td>1</td>\n",
       "      <td>0</td>\n",
       "      <td>0</td>\n",
       "    </tr>\n",
       "    <tr>\n",
       "      <th>3</th>\n",
       "      <td>0.440</td>\n",
       "      <td>0.365</td>\n",
       "      <td>0.125</td>\n",
       "      <td>0.5160</td>\n",
       "      <td>0.2155</td>\n",
       "      <td>0.1140</td>\n",
       "      <td>0.155</td>\n",
       "      <td>10</td>\n",
       "      <td>0</td>\n",
       "      <td>0</td>\n",
       "      <td>1</td>\n",
       "    </tr>\n",
       "    <tr>\n",
       "      <th>4</th>\n",
       "      <td>0.330</td>\n",
       "      <td>0.255</td>\n",
       "      <td>0.080</td>\n",
       "      <td>0.2050</td>\n",
       "      <td>0.0895</td>\n",
       "      <td>0.0395</td>\n",
       "      <td>0.055</td>\n",
       "      <td>7</td>\n",
       "      <td>0</td>\n",
       "      <td>1</td>\n",
       "      <td>0</td>\n",
       "    </tr>\n",
       "  </tbody>\n",
       "</table>\n",
       "</div>"
      ],
      "text/plain": [
       "   Length  Diameter  Height  Whole_weight  Shucked_weight  Viscera_weight  \\\n",
       "0   0.455     0.365   0.095        0.5140          0.2245          0.1010   \n",
       "1   0.350     0.265   0.090        0.2255          0.0995          0.0485   \n",
       "2   0.530     0.420   0.135        0.6770          0.2565          0.1415   \n",
       "3   0.440     0.365   0.125        0.5160          0.2155          0.1140   \n",
       "4   0.330     0.255   0.080        0.2050          0.0895          0.0395   \n",
       "\n",
       "   Shell_weight  Rings  Sex_F  Sex_I  Sex_M  \n",
       "0         0.150     15      0      0      1  \n",
       "1         0.070      7      0      0      1  \n",
       "2         0.210      9      1      0      0  \n",
       "3         0.155     10      0      0      1  \n",
       "4         0.055      7      0      1      0  "
      ]
     },
     "execution_count": 1,
     "metadata": {},
     "output_type": "execute_result"
    }
   ],
   "source": [
    "import pandas as pd\n",
    "import numpy as np\n",
    "import matplotlib.pyplot as plt\n",
    "\n",
    "data=pd.read_csv(\"abalone.data\",header=None)\n",
    "data.columns = ['Sex','Length','Diameter','Height','Whole_weight',\n",
    "               'Shucked_weight', 'Viscera_weight', 'Shell_weight', 'Rings']\n",
    "data = pd.get_dummies(data)\n",
    "data.head()"
   ]
  },
  {
   "cell_type": "markdown",
   "metadata": {},
   "source": [
    "### Tensorflow Implementation"
   ]
  },
  {
   "cell_type": "code",
   "execution_count": 2,
   "metadata": {
    "ExecuteTime": {
     "end_time": "2020-08-12T12:46:50.154232Z",
     "start_time": "2020-08-12T12:46:50.130479Z"
    }
   },
   "outputs": [
    {
     "name": "stdout",
     "output_type": "stream",
     "text": [
      "4177 4177\n",
      "(2798, 1) (1379, 1)\n",
      "(2798, 10) (1379, 10)\n"
     ]
    }
   ],
   "source": [
    "df=pd.read_csv(\"abalone.data\", header=None)\n",
    "# df = shuffle(df)# shuffle dataset\n",
    "df.columns = ['Sex','Length','Diameter','Height','Whole_weight',\n",
    "               'Shucked_weight', 'Viscera_weight', 'Shell_weight', 'Rings']\n",
    "\n",
    "df = pd.get_dummies(df)\n",
    "y = df['Rings']\n",
    "df=df.drop('Rings',axis=1)\n",
    "df=np.array(df)\n",
    "print(len(df),len(y))\n",
    "#labels and features \n",
    "y_train,y_test=np.reshape(np.array(y[0:2798]),(2798,1)),np.reshape(np.array(y[2798:]),(4177-2798,1))#train and test label \n",
    "print(y_train.shape,y_test.shape)\n",
    "x_train,x_test=np.array(df[0:2798]),np.array(df[2798:])#train and test features\n",
    "print(x_train.shape,x_test.shape)"
   ]
  },
  {
   "cell_type": "code",
   "execution_count": 3,
   "metadata": {
    "ExecuteTime": {
     "end_time": "2020-08-12T12:46:58.904207Z",
     "start_time": "2020-08-12T12:46:55.625947Z"
    }
   },
   "outputs": [
    {
     "name": "stdout",
     "output_type": "stream",
     "text": [
      "WARNING:tensorflow:From /Users/liukaiping/miniforge3/envs/py39/lib/python3.9/site-packages/tensorflow/python/compat/v2_compat.py:111: disable_resource_variables (from tensorflow.python.ops.variable_scope) is deprecated and will be removed in a future version.\n",
      "Instructions for updating:\n",
      "non-resource variables are not supported in the long term\n",
      "epoch no 0 215.59097\n",
      "epoch no 100 7.4007773\n"
     ]
    },
    {
     "name": "stderr",
     "output_type": "stream",
     "text": [
      "2022-02-20 23:24:37.687697: W tensorflow/core/platform/profile_utils/cpu_utils.cc:128] Failed to get CPU frequency: 0 Hz\n"
     ]
    },
    {
     "name": "stdout",
     "output_type": "stream",
     "text": [
      "epoch no 200 6.5569644\n",
      "epoch no 300 5.5721\n",
      "epoch no 400 5.3285456\n",
      "epoch no 500 5.178551\n",
      "epoch no 600 5.0637994\n",
      "epoch no 700 4.990778\n",
      "epoch no 800 4.9357247\n",
      "epoch no 900 4.8779\n",
      "epoch no 1000 4.827985\n",
      "epoch no 1100 4.7724147\n",
      "epoch no 1200 4.7473416\n",
      "epoch no 1300 4.721264\n",
      "epoch no 1400 4.704877\n",
      "epoch no 1500 4.692424\n",
      "epoch no 1600 4.6830945\n",
      "epoch no 1700 4.6749067\n",
      "epoch no 1800 4.667874\n",
      "epoch no 1900 4.661049\n"
     ]
    }
   ],
   "source": [
    "import tensorflow.compat.v1 as tf\n",
    "tf.disable_v2_behavior()\n",
    "tf.reset_default_graph()\n",
    "\n",
    "\n",
    "X = tf.placeholder(\"float\", [None, 10])\n",
    "Y = tf.placeholder(\"float\", [None, 1])\n",
    "\n",
    "weights = {\n",
    "    'h1': tf.Variable(tf.random_normal([10, 10])),\n",
    "    'h2': tf.Variable(tf.random_normal([10, 10])),\n",
    "    'out': tf.Variable(tf.random_normal([10, 1]))# 1 ouput label\n",
    "}\n",
    "biases = {\n",
    "    'b1': tf.Variable(tf.random_normal([10])),\n",
    "    'b2': tf.Variable(tf.random_normal([10])),\n",
    "    'out': tf.Variable(tf.random_normal([1]))\n",
    "}\n",
    "\n",
    "\n",
    "def neural_net(x):\n",
    "    #hidden layer 1\n",
    "    layer_1 = tf.add(tf.matmul(x, weights['h1']), biases['b1'])\n",
    "    layer_1 = tf.nn.relu(layer_1)#activation\n",
    "    #hideen layer 2\n",
    "    layer_2 = tf.add(tf.matmul(layer_1, weights['h2']), biases['b2'])\n",
    "    layer_2 = tf.nn.relu(layer_2)#activation\n",
    "    # output layer\n",
    "    out_layer = tf.matmul(layer_2, weights['out']) + biases['out']\n",
    "    return (out_layer)\n",
    "\n",
    "Y_hat=neural_net(X)\n",
    "loss_op=tf.losses.mean_squared_error(Y,Y_hat)#loss function\n",
    "optimizer = tf.train.AdamOptimizer(learning_rate=0.01) #define optimizer \n",
    "                                                        # play around with learning rate\n",
    "                                                        # we can also use GD / SGD, etc.\n",
    "\n",
    "train_op = optimizer.minimize(loss_op)#minimize losss\n",
    "init = tf.global_variables_initializer()\n",
    "epoch=2000\n",
    "\n",
    "with tf.Session() as sess:\n",
    "    sess.run(init)\n",
    "    for i in range(0,epoch):\n",
    "        sess.run(train_op,feed_dict={X:x_train,Y:y_train})\n",
    "        loss=sess.run(loss_op,feed_dict={X:x_train,Y:y_train})\n",
    "        if(i%100==0):\n",
    "            print(\"epoch no \"+str(i),(loss))\n",
    "        pred = sess.run(Y_hat, feed_dict={X:x_test})\n",
    " \n",
    "\n",
    "writer_model = tf.summary.FileWriter('./nn_graphs',tf.get_default_graph())"
   ]
  },
  {
   "cell_type": "code",
   "execution_count": 4,
   "metadata": {
    "ExecuteTime": {
     "end_time": "2020-08-12T08:59:48.922954Z",
     "start_time": "2020-08-12T08:59:48.721161Z"
    }
   },
   "outputs": [
    {
     "data": {
      "image/png": "[encoded data removed]",
      "text/plain": [
       "<Figure size 432x288 with 1 Axes>"
      ]
     },
     "metadata": {
      "needs_background": "light"
     },
     "output_type": "display_data"
    }
   ],
   "source": [
    "plt.plot((pred), color='red', label='Prediction')\n",
    "plt.plot(y_test, color='blue', label='Orignal')\n",
    "plt.legend(loc='upper left')\n",
    "plt.show()"
   ]
  },
  {
   "cell_type": "code",
   "execution_count": 5,
   "metadata": {
    "ExecuteTime": {
     "end_time": "2020-08-12T12:48:44.425421Z",
     "start_time": "2020-08-12T12:47:10.934848Z"
    }
   },
   "outputs": [],
   "source": [
    "# To avoid the many warning messages, we can install tensorflow with GPU option.\n",
    "#!tensorboard --logdir=\"./nn_graphs\" --port 6006"
   ]
  },
  {
   "cell_type": "markdown",
   "metadata": {},
   "source": [
    "### Keras Implementation"
   ]
  },
  {
   "cell_type": "code",
   "execution_count": 6,
   "metadata": {
    "ExecuteTime": {
     "end_time": "2020-08-12T12:49:21.379317Z",
     "start_time": "2020-08-12T12:49:21.375472Z"
    }
   },
   "outputs": [
    {
     "data": {
      "text/html": [
       "<div>\n",
       "<style scoped>\n",
       "    .dataframe tbody tr th:only-of-type {\n",
       "        vertical-align: middle;\n",
       "    }\n",
       "\n",
       "    .dataframe tbody tr th {\n",
       "        vertical-align: top;\n",
       "    }\n",
       "\n",
       "    .dataframe thead th {\n",
       "        text-align: right;\n",
       "    }\n",
       "</style>\n",
       "<table border=\"1\" class=\"dataframe\">\n",
       "  <thead>\n",
       "    <tr style=\"text-align: right;\">\n",
       "      <th></th>\n",
       "      <th>Length</th>\n",
       "      <th>Diameter</th>\n",
       "      <th>Height</th>\n",
       "      <th>Whole_weight</th>\n",
       "      <th>Shucked_weight</th>\n",
       "      <th>Viscera_weight</th>\n",
       "      <th>Shell_weight</th>\n",
       "      <th>Sex_F</th>\n",
       "      <th>Sex_I</th>\n",
       "      <th>Sex_M</th>\n",
       "    </tr>\n",
       "  </thead>\n",
       "  <tbody>\n",
       "    <tr>\n",
       "      <th>0</th>\n",
       "      <td>0.455</td>\n",
       "      <td>0.365</td>\n",
       "      <td>0.095</td>\n",
       "      <td>0.5140</td>\n",
       "      <td>0.2245</td>\n",
       "      <td>0.1010</td>\n",
       "      <td>0.150</td>\n",
       "      <td>0</td>\n",
       "      <td>0</td>\n",
       "      <td>1</td>\n",
       "    </tr>\n",
       "    <tr>\n",
       "      <th>1</th>\n",
       "      <td>0.350</td>\n",
       "      <td>0.265</td>\n",
       "      <td>0.090</td>\n",
       "      <td>0.2255</td>\n",
       "      <td>0.0995</td>\n",
       "      <td>0.0485</td>\n",
       "      <td>0.070</td>\n",
       "      <td>0</td>\n",
       "      <td>0</td>\n",
       "      <td>1</td>\n",
       "    </tr>\n",
       "    <tr>\n",
       "      <th>2</th>\n",
       "      <td>0.530</td>\n",
       "      <td>0.420</td>\n",
       "      <td>0.135</td>\n",
       "      <td>0.6770</td>\n",
       "      <td>0.2565</td>\n",
       "      <td>0.1415</td>\n",
       "      <td>0.210</td>\n",
       "      <td>1</td>\n",
       "      <td>0</td>\n",
       "      <td>0</td>\n",
       "    </tr>\n",
       "    <tr>\n",
       "      <th>3</th>\n",
       "      <td>0.440</td>\n",
       "      <td>0.365</td>\n",
       "      <td>0.125</td>\n",
       "      <td>0.5160</td>\n",
       "      <td>0.2155</td>\n",
       "      <td>0.1140</td>\n",
       "      <td>0.155</td>\n",
       "      <td>0</td>\n",
       "      <td>0</td>\n",
       "      <td>1</td>\n",
       "    </tr>\n",
       "    <tr>\n",
       "      <th>4</th>\n",
       "      <td>0.330</td>\n",
       "      <td>0.255</td>\n",
       "      <td>0.080</td>\n",
       "      <td>0.2050</td>\n",
       "      <td>0.0895</td>\n",
       "      <td>0.0395</td>\n",
       "      <td>0.055</td>\n",
       "      <td>0</td>\n",
       "      <td>1</td>\n",
       "      <td>0</td>\n",
       "    </tr>\n",
       "  </tbody>\n",
       "</table>\n",
       "</div>"
      ],
      "text/plain": [
       "   Length  Diameter  Height  Whole_weight  Shucked_weight  Viscera_weight  \\\n",
       "0   0.455     0.365   0.095        0.5140          0.2245          0.1010   \n",
       "1   0.350     0.265   0.090        0.2255          0.0995          0.0485   \n",
       "2   0.530     0.420   0.135        0.6770          0.2565          0.1415   \n",
       "3   0.440     0.365   0.125        0.5160          0.2155          0.1140   \n",
       "4   0.330     0.255   0.080        0.2050          0.0895          0.0395   \n",
       "\n",
       "   Shell_weight  Sex_F  Sex_I  Sex_M  \n",
       "0         0.150      0      0      1  \n",
       "1         0.070      0      0      1  \n",
       "2         0.210      1      0      0  \n",
       "3         0.155      0      0      1  \n",
       "4         0.055      0      1      0  "
      ]
     },
     "execution_count": 6,
     "metadata": {},
     "output_type": "execute_result"
    }
   ],
   "source": [
    "import pandas as pd\n",
    "import numpy as np\n",
    "import matplotlib.pyplot as plt\n",
    "\n",
    "data=pd.read_csv(\"abalone.data\",header=None)\n",
    "data.columns = ['Sex','Length','Diameter','Height','Whole_weight',\n",
    "               'Shucked_weight', 'Viscera_weight', 'Shell_weight', 'Rings']\n",
    "data = pd.get_dummies(data)\n",
    "labels = data['Rings']\n",
    "data = data.drop(['Rings'], axis=1)\n",
    "data.head()"
   ]
  },
  {
   "cell_type": "code",
   "execution_count": 7,
   "metadata": {
    "ExecuteTime": {
     "end_time": "2020-08-12T12:49:22.034406Z",
     "start_time": "2020-08-12T12:49:22.026808Z"
    }
   },
   "outputs": [
    {
     "name": "stdout",
     "output_type": "stream",
     "text": [
      "2830     9\n",
      "925      7\n",
      "3845    11\n",
      "547      7\n",
      "2259    13\n",
      "3588    12\n",
      "1450     7\n",
      "2827     8\n",
      "2233    17\n",
      "611      4\n",
      "Name: Rings, dtype: int64\n"
     ]
    }
   ],
   "source": [
    "import keras\n",
    "from sklearn.model_selection import train_test_split\n",
    "X_train, X_test, y_train, y_test = train_test_split(data, labels, test_size=0.3, random_state=42)\n",
    "print(y_train[0:10])  # Display first 10 entries"
   ]
  },
  {
   "cell_type": "code",
   "execution_count": 8,
   "metadata": {
    "ExecuteTime": {
     "end_time": "2020-08-12T12:49:22.573476Z",
     "start_time": "2020-08-12T12:49:22.569283Z"
    }
   },
   "outputs": [
    {
     "data": {
      "text/plain": [
       "(2923, 10)"
      ]
     },
     "execution_count": 8,
     "metadata": {},
     "output_type": "execute_result"
    }
   ],
   "source": [
    "X_train.shape"
   ]
  },
  {
   "cell_type": "code",
   "execution_count": 9,
   "metadata": {
    "ExecuteTime": {
     "end_time": "2020-08-12T12:49:23.637362Z",
     "start_time": "2020-08-12T12:49:23.613476Z"
    }
   },
   "outputs": [
    {
     "name": "stdout",
     "output_type": "stream",
     "text": [
      "        Length  Diameter    Height  Whole_weight  Shucked_weight  \\\n",
      "2830 -0.009544  0.206767 -0.120703      0.014576        0.311001   \n",
      "\n",
      "      Viscera_weight  Shell_weight     Sex_F     Sex_I     Sex_M  \n",
      "2830       -0.020979     -0.425335  1.463652 -0.679222 -0.759766  \n"
     ]
    }
   ],
   "source": [
    "mean = X_train.mean(axis=0)\n",
    "std = X_train.std(axis=0)\n",
    "X_train = (X_train - mean) / std\n",
    "X_test = (X_test - mean) / std\n",
    "\n",
    "print(X_train[0:1])  # First training sample, normalized"
   ]
  },
  {
   "cell_type": "code",
   "execution_count": 10,
   "metadata": {
    "ExecuteTime": {
     "end_time": "2020-08-12T12:54:33.573751Z",
     "start_time": "2020-08-12T12:54:33.433801Z"
    }
   },
   "outputs": [
    {
     "name": "stdout",
     "output_type": "stream",
     "text": [
      "Model: \"sequential\"\n",
      "_________________________________________________________________\n",
      " Layer (type)                Output Shape              Param #   \n",
      "=================================================================\n",
      " dense (Dense)               (None, 64)                704       \n",
      "                                                                 \n",
      " dense_1 (Dense)             (None, 32)                2080      \n",
      "                                                                 \n",
      " dense_2 (Dense)             (None, 32)                1056      \n",
      "                                                                 \n",
      " dense_3 (Dense)             (None, 32)                1056      \n",
      "                                                                 \n",
      " dense_4 (Dense)             (None, 1)                 33        \n",
      "                                                                 \n",
      "=================================================================\n",
      "Total params: 4,929\n",
      "Trainable params: 4,929\n",
      "Non-trainable params: 0\n",
      "_________________________________________________________________\n"
     ]
    }
   ],
   "source": [
    "import keras\n",
    "import tensorflow.compat.v1 as tf\n",
    "tf.disable_v2_behavior()\n",
    "\n",
    "def build_model():\n",
    "  model = keras.Sequential([\n",
    "    keras.layers.Dense(64, activation=tf.nn.relu,input_shape=(X_train.shape[1],)),\n",
    "    keras.layers.Dense(32, activation=tf.nn.relu),\n",
    "    keras.layers.Dense(32, activation=tf.nn.relu),\n",
    "    keras.layers.Dense(32, activation=tf.nn.relu),\n",
    "    keras.layers.Dense(1)\n",
    "  ])\n",
    "\n",
    "  optimizer = tf.train.RMSPropOptimizer(0.001)\n",
    "\n",
    "  model.compile(loss='mse',optimizer=optimizer,metrics=['mae'])\n",
    "  return model\n",
    "\n",
    "model = build_model()\n",
    "model.summary()"
   ]
  },
  {
   "cell_type": "code",
   "execution_count": 11,
   "metadata": {
    "ExecuteTime": {
     "end_time": "2020-08-12T12:55:23.228290Z",
     "start_time": "2020-08-12T12:54:47.807897Z"
    },
    "scrolled": true
   },
   "outputs": [
    {
     "name": "stdout",
     "output_type": "stream",
     "text": [
      "WARNING:tensorflow:From /Users/liukaiping/miniforge3/envs/py39/lib/python3.9/site-packages/tensorflow/python/training/rmsprop.py:192: calling Ones.__init__ (from tensorflow.python.ops.init_ops) with dtype is deprecated and will be removed in a future version.\n",
      "Instructions for updating:\n",
      "Call initializer instance with the dtype argument instead of passing it to the constructor\n",
      "Train on 2338 samples, validate on 585 samples\n",
      "Epoch 1/500\n",
      "2338/2338 - 0s - loss: 47.5865 - mean_absolute_error: 5.5442 - val_loss: 10.1656 - val_mean_absolute_error: 2.3893 - 75ms/epoch - 32us/sample\n",
      "Epoch 2/500\n",
      "2338/2338 - 0s - loss: 8.8844 - mean_absolute_error: 1.9388 - val_loss: 5.7990 - val_mean_absolute_error: 1.9759 - 29ms/epoch - 13us/sample\n",
      "Epoch 3/500\n",
      "2338/2338 - 0s - loss: 7.1143 - mean_absolute_error: 1.7154 - val_loss: 4.4394 - val_mean_absolute_error: 1.6225 - 30ms/epoch - 13us/sample\n",
      "Epoch 4/500\n",
      "2338/2338 - 0s - loss: 6.3311 - mean_absolute_error: 1.6466 - val_loss: 4.9991 - val_mean_absolute_error: 1.8061 - 31ms/epoch - 13us/sample\n",
      "Epoch 5/500\n",
      "2338/2338 - 0s - loss: 5.9933 - mean_absolute_error: 1.6315 - val_loss: 4.0765 - val_mean_absolute_error: 1.4155 - 29ms/epoch - 12us/sample\n",
      "Epoch 6/500\n",
      "2338/2338 - 0s - loss: 5.7217 - mean_absolute_error: 1.6126 - val_loss: 4.2049 - val_mean_absolute_error: 1.4456 - 30ms/epoch - 13us/sample\n",
      "Epoch 7/500\n",
      "2338/2338 - 0s - loss: 5.3968 - mean_absolute_error: 1.6157 - val_loss: 4.6681 - val_mean_absolute_error: 1.5315 - 28ms/epoch - 12us/sample\n"
     ]
    },
    {
     "name": "stderr",
     "output_type": "stream",
     "text": [
      "/Users/liukaiping/miniforge3/envs/py39/lib/python3.9/site-packages/keras/engine/training_v1.py:2057: UserWarning: `Model.state_updates` will be removed in a future version. This property should not be used in TensorFlow 2.0, as `updates` are applied automatically.\n",
      "  updates = self.state_updates\n"
     ]
    },
    {
     "name": "stdout",
     "output_type": "stream",
     "text": [
      "Epoch 8/500\n",
      "2338/2338 - 0s - loss: 5.3342 - mean_absolute_error: 1.6025 - val_loss: 4.8153 - val_mean_absolute_error: 1.5550 - 29ms/epoch - 12us/sample\n",
      "Epoch 9/500\n",
      "2338/2338 - 0s - loss: 5.0902 - mean_absolute_error: 1.5882 - val_loss: 4.8831 - val_mean_absolute_error: 1.7553 - 28ms/epoch - 12us/sample\n",
      "Epoch 10/500\n",
      "2338/2338 - 0s - loss: 5.0239 - mean_absolute_error: 1.5935 - val_loss: 4.6892 - val_mean_absolute_error: 1.6956 - 28ms/epoch - 12us/sample\n",
      "Epoch 11/500\n",
      "2338/2338 - 0s - loss: 4.9478 - mean_absolute_error: 1.5779 - val_loss: 5.1044 - val_mean_absolute_error: 1.6122 - 28ms/epoch - 12us/sample\n",
      "Epoch 12/500\n",
      "2338/2338 - 0s - loss: 4.9158 - mean_absolute_error: 1.5623 - val_loss: 4.4777 - val_mean_absolute_error: 1.4927 - 27ms/epoch - 12us/sample\n",
      "Epoch 13/500\n",
      "2338/2338 - 0s - loss: 4.7982 - mean_absolute_error: 1.5592 - val_loss: 4.6697 - val_mean_absolute_error: 1.6680 - 27ms/epoch - 11us/sample\n",
      "Epoch 14/500\n",
      "2338/2338 - 0s - loss: 4.8060 - mean_absolute_error: 1.5735 - val_loss: 4.3045 - val_mean_absolute_error: 1.6209 - 28ms/epoch - 12us/sample\n",
      "Epoch 15/500\n",
      "2338/2338 - 0s - loss: 4.7357 - mean_absolute_error: 1.5619 - val_loss: 4.1343 - val_mean_absolute_error: 1.4164 - 28ms/epoch - 12us/sample\n",
      "Epoch 16/500\n",
      "2338/2338 - 0s - loss: 4.6801 - mean_absolute_error: 1.5483 - val_loss: 6.9555 - val_mean_absolute_error: 2.2405 - 27ms/epoch - 12us/sample\n",
      "Epoch 17/500\n",
      "2338/2338 - 0s - loss: 4.7350 - mean_absolute_error: 1.5623 - val_loss: 4.1752 - val_mean_absolute_error: 1.4118 - 27ms/epoch - 12us/sample\n",
      "Epoch 18/500\n",
      "2338/2338 - 0s - loss: 4.6623 - mean_absolute_error: 1.5395 - val_loss: 4.5522 - val_mean_absolute_error: 1.5104 - 28ms/epoch - 12us/sample\n",
      "Epoch 19/500\n",
      "2338/2338 - 0s - loss: 4.6041 - mean_absolute_error: 1.5324 - val_loss: 3.9132 - val_mean_absolute_error: 1.4602 - 26ms/epoch - 11us/sample\n",
      "Epoch 20/500\n",
      "2338/2338 - 0s - loss: 4.5672 - mean_absolute_error: 1.5352 - val_loss: 4.1986 - val_mean_absolute_error: 1.5725 - 27ms/epoch - 12us/sample\n",
      "Epoch 21/500\n",
      "2338/2338 - 0s - loss: 4.5582 - mean_absolute_error: 1.5249 - val_loss: 3.9287 - val_mean_absolute_error: 1.4151 - 28ms/epoch - 12us/sample\n",
      "Epoch 22/500\n",
      "2338/2338 - 0s - loss: 4.5649 - mean_absolute_error: 1.5169 - val_loss: 4.2781 - val_mean_absolute_error: 1.5730 - 28ms/epoch - 12us/sample\n",
      "Epoch 23/500\n",
      "2338/2338 - 0s - loss: 4.5642 - mean_absolute_error: 1.5251 - val_loss: 4.5779 - val_mean_absolute_error: 1.4731 - 28ms/epoch - 12us/sample\n",
      "Epoch 24/500\n",
      "2338/2338 - 0s - loss: 4.5585 - mean_absolute_error: 1.5221 - val_loss: 4.2424 - val_mean_absolute_error: 1.5303 - 28ms/epoch - 12us/sample\n",
      "Epoch 25/500\n",
      "2338/2338 - 0s - loss: 4.5456 - mean_absolute_error: 1.5169 - val_loss: 4.3427 - val_mean_absolute_error: 1.4710 - 28ms/epoch - 12us/sample\n",
      "Epoch 26/500\n",
      "2338/2338 - 0s - loss: 4.5082 - mean_absolute_error: 1.5042 - val_loss: 5.7413 - val_mean_absolute_error: 1.9625 - 27ms/epoch - 12us/sample\n",
      "Epoch 27/500\n",
      "2338/2338 - 0s - loss: 4.5801 - mean_absolute_error: 1.5274 - val_loss: 5.0132 - val_mean_absolute_error: 1.5589 - 27ms/epoch - 12us/sample\n",
      "Epoch 28/500\n",
      "2338/2338 - 0s - loss: 4.5106 - mean_absolute_error: 1.5036 - val_loss: 4.4926 - val_mean_absolute_error: 1.6678 - 26ms/epoch - 11us/sample\n",
      "Epoch 29/500\n",
      "2338/2338 - 0s - loss: 4.4793 - mean_absolute_error: 1.5044 - val_loss: 4.0139 - val_mean_absolute_error: 1.4779 - 26ms/epoch - 11us/sample\n",
      "Epoch 30/500\n",
      "2338/2338 - 0s - loss: 4.4951 - mean_absolute_error: 1.5078 - val_loss: 4.2029 - val_mean_absolute_error: 1.4227 - 27ms/epoch - 12us/sample\n",
      "Epoch 31/500\n",
      "2338/2338 - 0s - loss: 4.5386 - mean_absolute_error: 1.5151 - val_loss: 4.8382 - val_mean_absolute_error: 1.7114 - 28ms/epoch - 12us/sample\n",
      "Epoch 32/500\n",
      "2338/2338 - 0s - loss: 4.4653 - mean_absolute_error: 1.5059 - val_loss: 5.6741 - val_mean_absolute_error: 1.8874 - 27ms/epoch - 12us/sample\n",
      "Epoch 33/500\n",
      "2338/2338 - 0s - loss: 4.4485 - mean_absolute_error: 1.4915 - val_loss: 4.0670 - val_mean_absolute_error: 1.3825 - 27ms/epoch - 12us/sample\n",
      "Epoch 34/500\n",
      "2338/2338 - 0s - loss: 4.4523 - mean_absolute_error: 1.4985 - val_loss: 4.0057 - val_mean_absolute_error: 1.4374 - 28ms/epoch - 12us/sample\n",
      "Epoch 35/500\n",
      "2338/2338 - 0s - loss: 4.5078 - mean_absolute_error: 1.5136 - val_loss: 3.8260 - val_mean_absolute_error: 1.4186 - 27ms/epoch - 12us/sample\n",
      "Epoch 36/500\n",
      "2338/2338 - 0s - loss: 4.4293 - mean_absolute_error: 1.4956 - val_loss: 3.7286 - val_mean_absolute_error: 1.3495 - 27ms/epoch - 12us/sample\n",
      "Epoch 37/500\n",
      "2338/2338 - 0s - loss: 4.4130 - mean_absolute_error: 1.4845 - val_loss: 5.4052 - val_mean_absolute_error: 1.8559 - 28ms/epoch - 12us/sample\n",
      "Epoch 38/500\n",
      "2338/2338 - 0s - loss: 4.4385 - mean_absolute_error: 1.5035 - val_loss: 3.9060 - val_mean_absolute_error: 1.3949 - 27ms/epoch - 12us/sample\n",
      "Epoch 39/500\n",
      "2338/2338 - 0s - loss: 4.3414 - mean_absolute_error: 1.4864 - val_loss: 4.0805 - val_mean_absolute_error: 1.5154 - 27ms/epoch - 11us/sample\n",
      "Epoch 40/500\n",
      "2338/2338 - 0s - loss: 4.3997 - mean_absolute_error: 1.4832 - val_loss: 4.4723 - val_mean_absolute_error: 1.6262 - 28ms/epoch - 12us/sample\n",
      "Epoch 41/500\n",
      "2338/2338 - 0s - loss: 4.4137 - mean_absolute_error: 1.4889 - val_loss: 4.0634 - val_mean_absolute_error: 1.4453 - 27ms/epoch - 12us/sample\n",
      "Epoch 42/500\n",
      "2338/2338 - 0s - loss: 4.3843 - mean_absolute_error: 1.4906 - val_loss: 3.9630 - val_mean_absolute_error: 1.3802 - 28ms/epoch - 12us/sample\n",
      "Epoch 43/500\n",
      "2338/2338 - 0s - loss: 4.3838 - mean_absolute_error: 1.4946 - val_loss: 5.7702 - val_mean_absolute_error: 1.8536 - 27ms/epoch - 12us/sample\n",
      "Epoch 44/500\n",
      "2338/2338 - 0s - loss: 4.3360 - mean_absolute_error: 1.4816 - val_loss: 3.8763 - val_mean_absolute_error: 1.4087 - 27ms/epoch - 12us/sample\n",
      "Epoch 45/500\n",
      "2338/2338 - 0s - loss: 4.3030 - mean_absolute_error: 1.4883 - val_loss: 3.8008 - val_mean_absolute_error: 1.4278 - 28ms/epoch - 12us/sample\n",
      "Epoch 46/500\n",
      "2338/2338 - 0s - loss: 4.3901 - mean_absolute_error: 1.4823 - val_loss: 4.2665 - val_mean_absolute_error: 1.5722 - 27ms/epoch - 12us/sample\n",
      "Epoch 47/500\n",
      "2338/2338 - 0s - loss: 4.3252 - mean_absolute_error: 1.4784 - val_loss: 4.7029 - val_mean_absolute_error: 1.6838 - 27ms/epoch - 11us/sample\n",
      "Epoch 48/500\n",
      "2338/2338 - 0s - loss: 4.3224 - mean_absolute_error: 1.4892 - val_loss: 4.0317 - val_mean_absolute_error: 1.5308 - 28ms/epoch - 12us/sample\n",
      "Epoch 49/500\n",
      "2338/2338 - 0s - loss: 4.3015 - mean_absolute_error: 1.4657 - val_loss: 4.1993 - val_mean_absolute_error: 1.5728 - 27ms/epoch - 11us/sample\n",
      "Epoch 50/500\n",
      "2338/2338 - 0s - loss: 4.3542 - mean_absolute_error: 1.4803 - val_loss: 3.7961 - val_mean_absolute_error: 1.4199 - 28ms/epoch - 12us/sample\n",
      "Epoch 51/500\n",
      "2338/2338 - 0s - loss: 4.2411 - mean_absolute_error: 1.4671 - val_loss: 4.5293 - val_mean_absolute_error: 1.4961 - 28ms/epoch - 12us/sample\n",
      "Epoch 52/500\n",
      "2338/2338 - 0s - loss: 4.3345 - mean_absolute_error: 1.4694 - val_loss: 5.7544 - val_mean_absolute_error: 1.8965 - 27ms/epoch - 11us/sample\n",
      "Epoch 53/500\n",
      "2338/2338 - 0s - loss: 4.2974 - mean_absolute_error: 1.4735 - val_loss: 4.4918 - val_mean_absolute_error: 1.5346 - 28ms/epoch - 12us/sample\n",
      "Epoch 54/500\n",
      "2338/2338 - 0s - loss: 4.3047 - mean_absolute_error: 1.4794 - val_loss: 6.0009 - val_mean_absolute_error: 1.9195 - 28ms/epoch - 12us/sample\n",
      "Epoch 55/500\n",
      "2338/2338 - 0s - loss: 4.2566 - mean_absolute_error: 1.4615 - val_loss: 4.5602 - val_mean_absolute_error: 1.5028 - 28ms/epoch - 12us/sample\n",
      "Epoch 56/500\n",
      "2338/2338 - 0s - loss: 4.2186 - mean_absolute_error: 1.4592 - val_loss: 4.7630 - val_mean_absolute_error: 1.6621 - 27ms/epoch - 11us/sample\n",
      "Epoch 57/500\n",
      "2338/2338 - 0s - loss: 4.2635 - mean_absolute_error: 1.4752 - val_loss: 3.7827 - val_mean_absolute_error: 1.4070 - 28ms/epoch - 12us/sample\n",
      "Epoch 58/500\n",
      "2338/2338 - 0s - loss: 4.1643 - mean_absolute_error: 1.4649 - val_loss: 4.0384 - val_mean_absolute_error: 1.5156 - 28ms/epoch - 12us/sample\n",
      "Epoch 59/500\n",
      "2338/2338 - 0s - loss: 4.2218 - mean_absolute_error: 1.4630 - val_loss: 4.1452 - val_mean_absolute_error: 1.4354 - 27ms/epoch - 12us/sample\n",
      "Epoch 60/500\n",
      "2338/2338 - 0s - loss: 4.2550 - mean_absolute_error: 1.4707 - val_loss: 3.8320 - val_mean_absolute_error: 1.3775 - 27ms/epoch - 12us/sample\n",
      "Epoch 61/500\n",
      "2338/2338 - 0s - loss: 4.2068 - mean_absolute_error: 1.4606 - val_loss: 4.0046 - val_mean_absolute_error: 1.4569 - 28ms/epoch - 12us/sample\n"
     ]
    },
    {
     "name": "stdout",
     "output_type": "stream",
     "text": [
      "Epoch 62/500\n",
      "2338/2338 - 0s - loss: 4.2442 - mean_absolute_error: 1.4639 - val_loss: 3.8064 - val_mean_absolute_error: 1.3750 - 28ms/epoch - 12us/sample\n",
      "Epoch 63/500\n",
      "2338/2338 - 0s - loss: 4.1922 - mean_absolute_error: 1.4629 - val_loss: 4.1635 - val_mean_absolute_error: 1.5715 - 27ms/epoch - 12us/sample\n",
      "Epoch 64/500\n",
      "2338/2338 - 0s - loss: 4.2039 - mean_absolute_error: 1.4670 - val_loss: 3.8131 - val_mean_absolute_error: 1.3876 - 28ms/epoch - 12us/sample\n",
      "Epoch 65/500\n",
      "2338/2338 - 0s - loss: 4.2242 - mean_absolute_error: 1.4585 - val_loss: 4.1241 - val_mean_absolute_error: 1.4427 - 27ms/epoch - 12us/sample\n",
      "Epoch 66/500\n",
      "2338/2338 - 0s - loss: 4.1577 - mean_absolute_error: 1.4555 - val_loss: 3.7732 - val_mean_absolute_error: 1.3954 - 27ms/epoch - 12us/sample\n",
      "Epoch 67/500\n",
      "2338/2338 - 0s - loss: 4.1993 - mean_absolute_error: 1.4629 - val_loss: 4.0103 - val_mean_absolute_error: 1.4015 - 28ms/epoch - 12us/sample\n",
      "Epoch 68/500\n",
      "2338/2338 - 0s - loss: 4.1721 - mean_absolute_error: 1.4487 - val_loss: 5.5839 - val_mean_absolute_error: 1.8910 - 26ms/epoch - 11us/sample\n",
      "Epoch 69/500\n",
      "2338/2338 - 0s - loss: 4.2203 - mean_absolute_error: 1.4670 - val_loss: 3.9493 - val_mean_absolute_error: 1.4812 - 27ms/epoch - 12us/sample\n",
      "Epoch 70/500\n",
      "2338/2338 - 0s - loss: 4.1451 - mean_absolute_error: 1.4474 - val_loss: 3.6646 - val_mean_absolute_error: 1.4062 - 27ms/epoch - 12us/sample\n",
      "Epoch 71/500\n",
      "2338/2338 - 0s - loss: 4.1981 - mean_absolute_error: 1.4612 - val_loss: 5.3800 - val_mean_absolute_error: 1.7656 - 26ms/epoch - 11us/sample\n",
      "Epoch 72/500\n",
      "2338/2338 - 0s - loss: 4.1514 - mean_absolute_error: 1.4559 - val_loss: 4.1412 - val_mean_absolute_error: 1.4126 - 28ms/epoch - 12us/sample\n",
      "Epoch 73/500\n",
      "2338/2338 - 0s - loss: 4.1714 - mean_absolute_error: 1.4510 - val_loss: 3.9865 - val_mean_absolute_error: 1.4764 - 27ms/epoch - 11us/sample\n",
      "Epoch 74/500\n",
      "2338/2338 - 0s - loss: 4.1782 - mean_absolute_error: 1.4580 - val_loss: 3.8816 - val_mean_absolute_error: 1.3961 - 27ms/epoch - 12us/sample\n",
      "Epoch 75/500\n",
      "2338/2338 - 0s - loss: 4.1525 - mean_absolute_error: 1.4449 - val_loss: 3.8735 - val_mean_absolute_error: 1.3669 - 27ms/epoch - 11us/sample\n",
      "Epoch 76/500\n",
      "2338/2338 - 0s - loss: 4.1297 - mean_absolute_error: 1.4490 - val_loss: 4.3610 - val_mean_absolute_error: 1.4451 - 27ms/epoch - 12us/sample\n",
      "Epoch 77/500\n",
      "2338/2338 - 0s - loss: 4.1271 - mean_absolute_error: 1.4398 - val_loss: 3.8542 - val_mean_absolute_error: 1.3831 - 26ms/epoch - 11us/sample\n",
      "Epoch 78/500\n",
      "2338/2338 - 0s - loss: 4.1305 - mean_absolute_error: 1.4470 - val_loss: 4.0416 - val_mean_absolute_error: 1.4337 - 27ms/epoch - 12us/sample\n",
      "Epoch 79/500\n",
      "2338/2338 - 0s - loss: 4.0729 - mean_absolute_error: 1.4391 - val_loss: 3.9577 - val_mean_absolute_error: 1.4321 - 27ms/epoch - 12us/sample\n",
      "Epoch 80/500\n",
      "2338/2338 - 0s - loss: 4.0491 - mean_absolute_error: 1.4231 - val_loss: 4.1620 - val_mean_absolute_error: 1.4404 - 26ms/epoch - 11us/sample\n",
      "Epoch 81/500\n",
      "2338/2338 - 0s - loss: 4.1039 - mean_absolute_error: 1.4557 - val_loss: 4.1693 - val_mean_absolute_error: 1.5090 - 26ms/epoch - 11us/sample\n",
      "Epoch 82/500\n",
      "2338/2338 - 0s - loss: 4.1423 - mean_absolute_error: 1.4504 - val_loss: 3.8274 - val_mean_absolute_error: 1.3913 - 27ms/epoch - 12us/sample\n",
      "Epoch 83/500\n",
      "2338/2338 - 0s - loss: 4.1048 - mean_absolute_error: 1.4437 - val_loss: 3.8465 - val_mean_absolute_error: 1.4714 - 26ms/epoch - 11us/sample\n",
      "Epoch 84/500\n",
      "2338/2338 - 0s - loss: 4.0047 - mean_absolute_error: 1.4384 - val_loss: 4.3297 - val_mean_absolute_error: 1.4566 - 26ms/epoch - 11us/sample\n",
      "Epoch 85/500\n",
      "2338/2338 - 0s - loss: 4.0732 - mean_absolute_error: 1.4375 - val_loss: 3.7479 - val_mean_absolute_error: 1.3605 - 27ms/epoch - 11us/sample\n",
      "Epoch 86/500\n",
      "2338/2338 - 0s - loss: 4.0892 - mean_absolute_error: 1.4509 - val_loss: 3.9720 - val_mean_absolute_error: 1.5110 - 27ms/epoch - 12us/sample\n",
      "Epoch 87/500\n",
      "2338/2338 - 0s - loss: 4.0627 - mean_absolute_error: 1.4325 - val_loss: 3.8176 - val_mean_absolute_error: 1.4739 - 27ms/epoch - 12us/sample\n",
      "Epoch 88/500\n",
      "2338/2338 - 0s - loss: 4.0835 - mean_absolute_error: 1.4393 - val_loss: 4.1221 - val_mean_absolute_error: 1.4095 - 27ms/epoch - 12us/sample\n",
      "Epoch 89/500\n",
      "2338/2338 - 0s - loss: 4.0492 - mean_absolute_error: 1.4281 - val_loss: 3.8649 - val_mean_absolute_error: 1.4276 - 27ms/epoch - 12us/sample\n",
      "Epoch 90/500\n",
      "2338/2338 - 0s - loss: 4.0331 - mean_absolute_error: 1.4293 - val_loss: 4.5131 - val_mean_absolute_error: 1.4785 - 26ms/epoch - 11us/sample\n",
      "Epoch 91/500\n",
      "2338/2338 - 0s - loss: 4.0157 - mean_absolute_error: 1.4182 - val_loss: 4.3687 - val_mean_absolute_error: 1.5782 - 26ms/epoch - 11us/sample\n",
      "Epoch 92/500\n",
      "2338/2338 - 0s - loss: 4.0322 - mean_absolute_error: 1.4431 - val_loss: 3.6434 - val_mean_absolute_error: 1.3431 - 26ms/epoch - 11us/sample\n",
      "Epoch 93/500\n",
      "2338/2338 - 0s - loss: 4.0506 - mean_absolute_error: 1.4428 - val_loss: 4.8504 - val_mean_absolute_error: 1.5614 - 28ms/epoch - 12us/sample\n",
      "Epoch 94/500\n",
      "2338/2338 - 0s - loss: 4.0312 - mean_absolute_error: 1.4276 - val_loss: 4.1057 - val_mean_absolute_error: 1.4015 - 27ms/epoch - 11us/sample\n",
      "Epoch 95/500\n",
      "2338/2338 - 0s - loss: 3.9499 - mean_absolute_error: 1.4171 - val_loss: 3.7570 - val_mean_absolute_error: 1.4600 - 27ms/epoch - 12us/sample\n",
      "Epoch 96/500\n",
      "2338/2338 - 0s - loss: 4.0058 - mean_absolute_error: 1.4337 - val_loss: 3.8198 - val_mean_absolute_error: 1.3705 - 28ms/epoch - 12us/sample\n",
      "Epoch 97/500\n",
      "2338/2338 - 0s - loss: 4.0045 - mean_absolute_error: 1.4172 - val_loss: 3.9502 - val_mean_absolute_error: 1.4523 - 28ms/epoch - 12us/sample\n",
      "Epoch 98/500\n",
      "2338/2338 - 0s - loss: 3.9876 - mean_absolute_error: 1.4168 - val_loss: 3.6914 - val_mean_absolute_error: 1.3630 - 26ms/epoch - 11us/sample\n",
      "Epoch 99/500\n",
      "2338/2338 - 0s - loss: 3.9744 - mean_absolute_error: 1.4278 - val_loss: 4.0082 - val_mean_absolute_error: 1.5230 - 27ms/epoch - 11us/sample\n",
      "Epoch 100/500\n",
      "2338/2338 - 0s - loss: 3.9924 - mean_absolute_error: 1.4230 - val_loss: 4.4965 - val_mean_absolute_error: 1.5591 - 28ms/epoch - 12us/sample\n",
      "Epoch 101/500\n",
      "2338/2338 - 0s - loss: 4.0265 - mean_absolute_error: 1.4264 - val_loss: 4.2273 - val_mean_absolute_error: 1.5259 - 32ms/epoch - 14us/sample\n",
      "Epoch 102/500\n",
      "2338/2338 - 0s - loss: 3.9167 - mean_absolute_error: 1.4149 - val_loss: 4.9991 - val_mean_absolute_error: 1.5590 - 27ms/epoch - 12us/sample\n",
      "Epoch 103/500\n",
      "2338/2338 - 0s - loss: 3.9853 - mean_absolute_error: 1.4199 - val_loss: 4.2641 - val_mean_absolute_error: 1.5235 - 26ms/epoch - 11us/sample\n",
      "Epoch 104/500\n",
      "2338/2338 - 0s - loss: 3.9702 - mean_absolute_error: 1.4204 - val_loss: 3.8037 - val_mean_absolute_error: 1.4036 - 26ms/epoch - 11us/sample\n",
      "Epoch 105/500\n",
      "2338/2338 - 0s - loss: 3.8751 - mean_absolute_error: 1.4180 - val_loss: 4.0519 - val_mean_absolute_error: 1.5087 - 28ms/epoch - 12us/sample\n",
      "Epoch 106/500\n",
      "2338/2338 - 0s - loss: 3.9084 - mean_absolute_error: 1.4128 - val_loss: 3.7207 - val_mean_absolute_error: 1.3969 - 27ms/epoch - 12us/sample\n",
      "Epoch 107/500\n",
      "2338/2338 - 0s - loss: 3.9115 - mean_absolute_error: 1.4086 - val_loss: 4.5090 - val_mean_absolute_error: 1.5846 - 27ms/epoch - 12us/sample\n",
      "Epoch 108/500\n",
      "2338/2338 - 0s - loss: 3.9154 - mean_absolute_error: 1.4124 - val_loss: 5.5858 - val_mean_absolute_error: 1.8076 - 27ms/epoch - 11us/sample\n",
      "Epoch 109/500\n",
      "2338/2338 - 0s - loss: 3.9440 - mean_absolute_error: 1.4164 - val_loss: 4.1292 - val_mean_absolute_error: 1.5448 - 27ms/epoch - 12us/sample\n",
      "Epoch 110/500\n",
      "2338/2338 - 0s - loss: 3.8712 - mean_absolute_error: 1.4144 - val_loss: 3.6047 - val_mean_absolute_error: 1.3877 - 28ms/epoch - 12us/sample\n",
      "Epoch 111/500\n",
      "2338/2338 - 0s - loss: 3.8787 - mean_absolute_error: 1.4169 - val_loss: 4.4609 - val_mean_absolute_error: 1.4765 - 26ms/epoch - 11us/sample\n",
      "Epoch 112/500\n",
      "2338/2338 - 0s - loss: 3.8978 - mean_absolute_error: 1.4054 - val_loss: 3.7399 - val_mean_absolute_error: 1.4322 - 27ms/epoch - 11us/sample\n",
      "Epoch 113/500\n",
      "2338/2338 - 0s - loss: 3.8309 - mean_absolute_error: 1.3981 - val_loss: 5.0893 - val_mean_absolute_error: 1.5990 - 27ms/epoch - 12us/sample\n",
      "Epoch 114/500\n",
      "2338/2338 - 0s - loss: 3.9459 - mean_absolute_error: 1.4191 - val_loss: 4.1177 - val_mean_absolute_error: 1.4463 - 26ms/epoch - 11us/sample\n",
      "Epoch 115/500\n",
      "2338/2338 - 0s - loss: 3.8673 - mean_absolute_error: 1.4003 - val_loss: 3.6535 - val_mean_absolute_error: 1.3649 - 27ms/epoch - 12us/sample\n"
     ]
    },
    {
     "name": "stdout",
     "output_type": "stream",
     "text": [
      "Epoch 116/500\n",
      "2338/2338 - 0s - loss: 3.8360 - mean_absolute_error: 1.3907 - val_loss: 4.1888 - val_mean_absolute_error: 1.4429 - 27ms/epoch - 11us/sample\n",
      "Epoch 117/500\n",
      "2338/2338 - 0s - loss: 3.8627 - mean_absolute_error: 1.3957 - val_loss: 3.7282 - val_mean_absolute_error: 1.3880 - 27ms/epoch - 12us/sample\n",
      "Epoch 118/500\n",
      "2338/2338 - 0s - loss: 3.7959 - mean_absolute_error: 1.3923 - val_loss: 4.1488 - val_mean_absolute_error: 1.4402 - 27ms/epoch - 12us/sample\n",
      "Epoch 119/500\n",
      "2338/2338 - 0s - loss: 3.8496 - mean_absolute_error: 1.4051 - val_loss: 3.9647 - val_mean_absolute_error: 1.4013 - 26ms/epoch - 11us/sample\n",
      "Epoch 120/500\n",
      "2338/2338 - 0s - loss: 3.8228 - mean_absolute_error: 1.4003 - val_loss: 4.0198 - val_mean_absolute_error: 1.3953 - 26ms/epoch - 11us/sample\n",
      "Epoch 121/500\n",
      "2338/2338 - 0s - loss: 3.7680 - mean_absolute_error: 1.3900 - val_loss: 3.9741 - val_mean_absolute_error: 1.4425 - 26ms/epoch - 11us/sample\n",
      "Epoch 122/500\n",
      "2338/2338 - 0s - loss: 3.8193 - mean_absolute_error: 1.4001 - val_loss: 4.7157 - val_mean_absolute_error: 1.6274 - 26ms/epoch - 11us/sample\n",
      "Epoch 123/500\n",
      "2338/2338 - 0s - loss: 3.7686 - mean_absolute_error: 1.3837 - val_loss: 4.6743 - val_mean_absolute_error: 1.7294 - 27ms/epoch - 11us/sample\n",
      "Epoch 124/500\n",
      "2338/2338 - 0s - loss: 3.7955 - mean_absolute_error: 1.4125 - val_loss: 4.2883 - val_mean_absolute_error: 1.4624 - 27ms/epoch - 12us/sample\n",
      "Epoch 125/500\n",
      "2338/2338 - 0s - loss: 3.8009 - mean_absolute_error: 1.3952 - val_loss: 3.8140 - val_mean_absolute_error: 1.3906 - 27ms/epoch - 12us/sample\n",
      "Epoch 126/500\n",
      "2338/2338 - 0s - loss: 3.7213 - mean_absolute_error: 1.3766 - val_loss: 4.0204 - val_mean_absolute_error: 1.4548 - 26ms/epoch - 11us/sample\n",
      "Epoch 127/500\n",
      "2338/2338 - 0s - loss: 3.7954 - mean_absolute_error: 1.3865 - val_loss: 3.8443 - val_mean_absolute_error: 1.3975 - 27ms/epoch - 11us/sample\n",
      "Epoch 128/500\n",
      "2338/2338 - 0s - loss: 3.6993 - mean_absolute_error: 1.3752 - val_loss: 4.8686 - val_mean_absolute_error: 1.5870 - 26ms/epoch - 11us/sample\n",
      "Epoch 129/500\n",
      "2338/2338 - 0s - loss: 3.7588 - mean_absolute_error: 1.3937 - val_loss: 4.0057 - val_mean_absolute_error: 1.4403 - 27ms/epoch - 11us/sample\n",
      "Epoch 130/500\n",
      "2338/2338 - 0s - loss: 3.7589 - mean_absolute_error: 1.3868 - val_loss: 4.3493 - val_mean_absolute_error: 1.4672 - 27ms/epoch - 11us/sample\n",
      "Epoch 131/500\n",
      "2338/2338 - 0s - loss: 3.7353 - mean_absolute_error: 1.3802 - val_loss: 4.1450 - val_mean_absolute_error: 1.4675 - 27ms/epoch - 11us/sample\n",
      "Epoch 132/500\n",
      "2338/2338 - 0s - loss: 3.7538 - mean_absolute_error: 1.3875 - val_loss: 3.9818 - val_mean_absolute_error: 1.4337 - 26ms/epoch - 11us/sample\n",
      "Epoch 133/500\n",
      "2338/2338 - 0s - loss: 3.7234 - mean_absolute_error: 1.3782 - val_loss: 4.7303 - val_mean_absolute_error: 1.5211 - 26ms/epoch - 11us/sample\n",
      "Epoch 134/500\n",
      "2338/2338 - 0s - loss: 3.7111 - mean_absolute_error: 1.3801 - val_loss: 4.3526 - val_mean_absolute_error: 1.5877 - 27ms/epoch - 12us/sample\n",
      "Epoch 135/500\n",
      "2338/2338 - 0s - loss: 3.6692 - mean_absolute_error: 1.3706 - val_loss: 4.7003 - val_mean_absolute_error: 1.6358 - 26ms/epoch - 11us/sample\n",
      "Epoch 136/500\n",
      "2338/2338 - 0s - loss: 3.7445 - mean_absolute_error: 1.3890 - val_loss: 4.1134 - val_mean_absolute_error: 1.4322 - 27ms/epoch - 11us/sample\n",
      "Epoch 137/500\n",
      "2338/2338 - 0s - loss: 3.7000 - mean_absolute_error: 1.3703 - val_loss: 3.9381 - val_mean_absolute_error: 1.4547 - 27ms/epoch - 11us/sample\n",
      "Epoch 138/500\n",
      "2338/2338 - 0s - loss: 3.6870 - mean_absolute_error: 1.3641 - val_loss: 3.8959 - val_mean_absolute_error: 1.4458 - 28ms/epoch - 12us/sample\n",
      "Epoch 139/500\n",
      "2338/2338 - 0s - loss: 3.6548 - mean_absolute_error: 1.3700 - val_loss: 4.0104 - val_mean_absolute_error: 1.4336 - 27ms/epoch - 12us/sample\n",
      "Epoch 140/500\n",
      "2338/2338 - 0s - loss: 3.6824 - mean_absolute_error: 1.3728 - val_loss: 4.4667 - val_mean_absolute_error: 1.4794 - 26ms/epoch - 11us/sample\n",
      "Epoch 141/500\n",
      "2338/2338 - 0s - loss: 3.6726 - mean_absolute_error: 1.3737 - val_loss: 3.8735 - val_mean_absolute_error: 1.4786 - 28ms/epoch - 12us/sample\n",
      "Epoch 142/500\n",
      "2338/2338 - 0s - loss: 3.6931 - mean_absolute_error: 1.3790 - val_loss: 5.6665 - val_mean_absolute_error: 1.7584 - 29ms/epoch - 13us/sample\n",
      "Epoch 143/500\n",
      "2338/2338 - 0s - loss: 3.6602 - mean_absolute_error: 1.3753 - val_loss: 4.1683 - val_mean_absolute_error: 1.4469 - 29ms/epoch - 12us/sample\n",
      "Epoch 144/500\n",
      "2338/2338 - 0s - loss: 3.6539 - mean_absolute_error: 1.3675 - val_loss: 3.9741 - val_mean_absolute_error: 1.4091 - 28ms/epoch - 12us/sample\n",
      "Epoch 145/500\n",
      "2338/2338 - 0s - loss: 3.6303 - mean_absolute_error: 1.3604 - val_loss: 4.0420 - val_mean_absolute_error: 1.3972 - 27ms/epoch - 11us/sample\n",
      "Epoch 146/500\n",
      "2338/2338 - 0s - loss: 3.6338 - mean_absolute_error: 1.3673 - val_loss: 4.6475 - val_mean_absolute_error: 1.6554 - 29ms/epoch - 12us/sample\n",
      "Epoch 147/500\n",
      "2338/2338 - 0s - loss: 3.5704 - mean_absolute_error: 1.3466 - val_loss: 5.4429 - val_mean_absolute_error: 1.7650 - 28ms/epoch - 12us/sample\n",
      "Epoch 148/500\n",
      "2338/2338 - 0s - loss: 3.6782 - mean_absolute_error: 1.3822 - val_loss: 4.1479 - val_mean_absolute_error: 1.4469 - 26ms/epoch - 11us/sample\n",
      "Epoch 149/500\n",
      "2338/2338 - 0s - loss: 3.5427 - mean_absolute_error: 1.3463 - val_loss: 4.4757 - val_mean_absolute_error: 1.5564 - 27ms/epoch - 12us/sample\n",
      "Epoch 150/500\n",
      "2338/2338 - 0s - loss: 3.5599 - mean_absolute_error: 1.3540 - val_loss: 3.8470 - val_mean_absolute_error: 1.4393 - 26ms/epoch - 11us/sample\n",
      "Epoch 151/500\n",
      "2338/2338 - 0s - loss: 3.5547 - mean_absolute_error: 1.3535 - val_loss: 4.2753 - val_mean_absolute_error: 1.4609 - 26ms/epoch - 11us/sample\n",
      "Epoch 152/500\n",
      "2338/2338 - 0s - loss: 3.5677 - mean_absolute_error: 1.3481 - val_loss: 3.9587 - val_mean_absolute_error: 1.3897 - 27ms/epoch - 12us/sample\n",
      "Epoch 153/500\n",
      "2338/2338 - 0s - loss: 3.5515 - mean_absolute_error: 1.3406 - val_loss: 4.0413 - val_mean_absolute_error: 1.4920 - 28ms/epoch - 12us/sample\n",
      "Epoch 154/500\n",
      "2338/2338 - 0s - loss: 3.4709 - mean_absolute_error: 1.3368 - val_loss: 4.3466 - val_mean_absolute_error: 1.5254 - 27ms/epoch - 12us/sample\n",
      "Epoch 155/500\n",
      "2338/2338 - 0s - loss: 3.4953 - mean_absolute_error: 1.3390 - val_loss: 4.5921 - val_mean_absolute_error: 1.5249 - 27ms/epoch - 12us/sample\n",
      "Epoch 156/500\n",
      "2338/2338 - 0s - loss: 3.5367 - mean_absolute_error: 1.3384 - val_loss: 4.1143 - val_mean_absolute_error: 1.4465 - 27ms/epoch - 12us/sample\n",
      "Epoch 157/500\n",
      "2338/2338 - 0s - loss: 3.4837 - mean_absolute_error: 1.3315 - val_loss: 3.8520 - val_mean_absolute_error: 1.4379 - 28ms/epoch - 12us/sample\n",
      "Epoch 158/500\n",
      "2338/2338 - 0s - loss: 3.4729 - mean_absolute_error: 1.3464 - val_loss: 4.5697 - val_mean_absolute_error: 1.6337 - 27ms/epoch - 11us/sample\n",
      "Epoch 159/500\n",
      "2338/2338 - 0s - loss: 3.4639 - mean_absolute_error: 1.3512 - val_loss: 3.7225 - val_mean_absolute_error: 1.3872 - 27ms/epoch - 11us/sample\n",
      "Epoch 160/500\n",
      "2338/2338 - 0s - loss: 3.4972 - mean_absolute_error: 1.3492 - val_loss: 6.1231 - val_mean_absolute_error: 1.8366 - 28ms/epoch - 12us/sample\n",
      "Epoch 161/500\n",
      "2338/2338 - 0s - loss: 3.4742 - mean_absolute_error: 1.3433 - val_loss: 3.9927 - val_mean_absolute_error: 1.4266 - 29ms/epoch - 12us/sample\n",
      "Epoch 162/500\n",
      "2338/2338 - 0s - loss: 3.4683 - mean_absolute_error: 1.3256 - val_loss: 4.3202 - val_mean_absolute_error: 1.4418 - 27ms/epoch - 12us/sample\n",
      "Epoch 163/500\n",
      "2338/2338 - 0s - loss: 3.4542 - mean_absolute_error: 1.3307 - val_loss: 4.2296 - val_mean_absolute_error: 1.4982 - 27ms/epoch - 11us/sample\n",
      "Epoch 164/500\n",
      "2338/2338 - 0s - loss: 3.4343 - mean_absolute_error: 1.3234 - val_loss: 4.2564 - val_mean_absolute_error: 1.4398 - 27ms/epoch - 11us/sample\n",
      "Epoch 165/500\n",
      "2338/2338 - 0s - loss: 3.5009 - mean_absolute_error: 1.3291 - val_loss: 3.9825 - val_mean_absolute_error: 1.4056 - 27ms/epoch - 12us/sample\n",
      "Epoch 166/500\n",
      "2338/2338 - 0s - loss: 3.4019 - mean_absolute_error: 1.3146 - val_loss: 4.6564 - val_mean_absolute_error: 1.5729 - 27ms/epoch - 12us/sample\n",
      "Epoch 167/500\n",
      "2338/2338 - 0s - loss: 3.4225 - mean_absolute_error: 1.3188 - val_loss: 4.3272 - val_mean_absolute_error: 1.4997 - 28ms/epoch - 12us/sample\n",
      "Epoch 168/500\n",
      "2338/2338 - 0s - loss: 3.4492 - mean_absolute_error: 1.3295 - val_loss: 4.3150 - val_mean_absolute_error: 1.4640 - 28ms/epoch - 12us/sample\n",
      "Epoch 169/500\n",
      "2338/2338 - 0s - loss: 3.4126 - mean_absolute_error: 1.3314 - val_loss: 4.2003 - val_mean_absolute_error: 1.4475 - 27ms/epoch - 12us/sample\n"
     ]
    },
    {
     "name": "stdout",
     "output_type": "stream",
     "text": [
      "Epoch 170/500\n",
      "2338/2338 - 0s - loss: 3.3068 - mean_absolute_error: 1.3126 - val_loss: 4.4647 - val_mean_absolute_error: 1.5086 - 26ms/epoch - 11us/sample\n",
      "Epoch 171/500\n",
      "2338/2338 - 0s - loss: 3.3498 - mean_absolute_error: 1.3134 - val_loss: 3.7973 - val_mean_absolute_error: 1.3902 - 28ms/epoch - 12us/sample\n",
      "Epoch 172/500\n",
      "2338/2338 - 0s - loss: 3.3432 - mean_absolute_error: 1.3200 - val_loss: 5.5748 - val_mean_absolute_error: 1.7437 - 28ms/epoch - 12us/sample\n",
      "Epoch 173/500\n",
      "2338/2338 - 0s - loss: 3.3534 - mean_absolute_error: 1.3268 - val_loss: 4.2673 - val_mean_absolute_error: 1.5334 - 26ms/epoch - 11us/sample\n",
      "Epoch 174/500\n",
      "2338/2338 - 0s - loss: 3.3527 - mean_absolute_error: 1.3132 - val_loss: 4.4295 - val_mean_absolute_error: 1.5369 - 27ms/epoch - 12us/sample\n",
      "Epoch 175/500\n",
      "2338/2338 - 0s - loss: 3.3965 - mean_absolute_error: 1.3275 - val_loss: 6.4619 - val_mean_absolute_error: 1.8494 - 26ms/epoch - 11us/sample\n",
      "Epoch 176/500\n",
      "2338/2338 - 0s - loss: 3.3098 - mean_absolute_error: 1.3193 - val_loss: 4.3856 - val_mean_absolute_error: 1.4754 - 27ms/epoch - 11us/sample\n",
      "Epoch 177/500\n",
      "2338/2338 - 0s - loss: 3.3486 - mean_absolute_error: 1.3126 - val_loss: 4.6498 - val_mean_absolute_error: 1.5240 - 29ms/epoch - 12us/sample\n",
      "Epoch 178/500\n",
      "2338/2338 - 0s - loss: 3.3015 - mean_absolute_error: 1.3077 - val_loss: 3.9776 - val_mean_absolute_error: 1.4071 - 28ms/epoch - 12us/sample\n",
      "Epoch 179/500\n",
      "2338/2338 - 0s - loss: 3.3027 - mean_absolute_error: 1.3069 - val_loss: 3.9914 - val_mean_absolute_error: 1.4615 - 26ms/epoch - 11us/sample\n",
      "Epoch 180/500\n",
      "2338/2338 - 0s - loss: 3.2156 - mean_absolute_error: 1.2991 - val_loss: 4.8913 - val_mean_absolute_error: 1.5854 - 27ms/epoch - 12us/sample\n",
      "Epoch 181/500\n",
      "2338/2338 - 0s - loss: 3.3145 - mean_absolute_error: 1.3083 - val_loss: 4.0127 - val_mean_absolute_error: 1.4204 - 27ms/epoch - 12us/sample\n",
      "Epoch 182/500\n",
      "2338/2338 - 0s - loss: 3.2436 - mean_absolute_error: 1.2956 - val_loss: 4.4190 - val_mean_absolute_error: 1.4585 - 27ms/epoch - 11us/sample\n",
      "Epoch 183/500\n",
      "2338/2338 - 0s - loss: 3.2225 - mean_absolute_error: 1.2943 - val_loss: 4.0469 - val_mean_absolute_error: 1.4485 - 27ms/epoch - 12us/sample\n",
      "Epoch 184/500\n",
      "2338/2338 - 0s - loss: 3.2721 - mean_absolute_error: 1.2964 - val_loss: 4.3934 - val_mean_absolute_error: 1.5126 - 29ms/epoch - 12us/sample\n",
      "Epoch 185/500\n",
      "2338/2338 - 0s - loss: 3.2216 - mean_absolute_error: 1.2866 - val_loss: 4.0323 - val_mean_absolute_error: 1.4388 - 27ms/epoch - 11us/sample\n",
      "Epoch 186/500\n",
      "2338/2338 - 0s - loss: 3.1925 - mean_absolute_error: 1.2762 - val_loss: 5.4536 - val_mean_absolute_error: 1.7283 - 27ms/epoch - 12us/sample\n",
      "Epoch 187/500\n",
      "2338/2338 - 0s - loss: 3.1722 - mean_absolute_error: 1.2914 - val_loss: 4.9981 - val_mean_absolute_error: 1.6735 - 27ms/epoch - 12us/sample\n",
      "Epoch 188/500\n",
      "2338/2338 - 0s - loss: 3.2589 - mean_absolute_error: 1.3047 - val_loss: 4.2559 - val_mean_absolute_error: 1.4635 - 27ms/epoch - 12us/sample\n",
      "Epoch 189/500\n",
      "2338/2338 - 0s - loss: 3.2023 - mean_absolute_error: 1.2717 - val_loss: 4.4433 - val_mean_absolute_error: 1.5090 - 27ms/epoch - 11us/sample\n",
      "Epoch 190/500\n",
      "2338/2338 - 0s - loss: 3.1976 - mean_absolute_error: 1.2860 - val_loss: 5.9742 - val_mean_absolute_error: 1.9256 - 26ms/epoch - 11us/sample\n",
      "Epoch 191/500\n",
      "2338/2338 - 0s - loss: 3.2548 - mean_absolute_error: 1.2979 - val_loss: 5.2702 - val_mean_absolute_error: 1.6915 - 26ms/epoch - 11us/sample\n",
      "Epoch 192/500\n",
      "2338/2338 - 0s - loss: 3.1659 - mean_absolute_error: 1.2862 - val_loss: 4.5301 - val_mean_absolute_error: 1.4823 - 26ms/epoch - 11us/sample\n",
      "Epoch 193/500\n",
      "2338/2338 - 0s - loss: 3.1560 - mean_absolute_error: 1.2816 - val_loss: 4.5797 - val_mean_absolute_error: 1.5288 - 27ms/epoch - 12us/sample\n",
      "Epoch 194/500\n",
      "2338/2338 - 0s - loss: 3.1660 - mean_absolute_error: 1.2785 - val_loss: 4.5362 - val_mean_absolute_error: 1.5232 - 27ms/epoch - 12us/sample\n",
      "Epoch 195/500\n",
      "2338/2338 - 0s - loss: 3.1677 - mean_absolute_error: 1.2803 - val_loss: 4.1822 - val_mean_absolute_error: 1.4518 - 28ms/epoch - 12us/sample\n",
      "Epoch 196/500\n",
      "2338/2338 - 0s - loss: 3.1119 - mean_absolute_error: 1.2735 - val_loss: 4.1176 - val_mean_absolute_error: 1.4142 - 28ms/epoch - 12us/sample\n",
      "Epoch 197/500\n",
      "2338/2338 - 0s - loss: 3.0859 - mean_absolute_error: 1.2594 - val_loss: 4.2110 - val_mean_absolute_error: 1.4868 - 27ms/epoch - 12us/sample\n",
      "Epoch 198/500\n",
      "2338/2338 - 0s - loss: 3.0970 - mean_absolute_error: 1.2657 - val_loss: 4.8785 - val_mean_absolute_error: 1.6051 - 27ms/epoch - 11us/sample\n",
      "Epoch 199/500\n",
      "2338/2338 - 0s - loss: 3.1422 - mean_absolute_error: 1.2753 - val_loss: 4.3722 - val_mean_absolute_error: 1.4921 - 28ms/epoch - 12us/sample\n",
      "Epoch 200/500\n",
      "2338/2338 - 0s - loss: 3.0247 - mean_absolute_error: 1.2596 - val_loss: 4.3669 - val_mean_absolute_error: 1.4571 - 26ms/epoch - 11us/sample\n",
      "Epoch 201/500\n",
      "2338/2338 - 0s - loss: 3.0713 - mean_absolute_error: 1.2688 - val_loss: 4.6207 - val_mean_absolute_error: 1.5029 - 27ms/epoch - 12us/sample\n",
      "Epoch 202/500\n",
      "2338/2338 - 0s - loss: 3.0755 - mean_absolute_error: 1.2534 - val_loss: 4.1890 - val_mean_absolute_error: 1.4698 - 29ms/epoch - 12us/sample\n",
      "Epoch 203/500\n",
      "2338/2338 - 0s - loss: 3.0517 - mean_absolute_error: 1.2548 - val_loss: 4.5769 - val_mean_absolute_error: 1.5664 - 26ms/epoch - 11us/sample\n",
      "Epoch 204/500\n",
      "2338/2338 - 0s - loss: 3.0592 - mean_absolute_error: 1.2557 - val_loss: 5.0027 - val_mean_absolute_error: 1.6110 - 27ms/epoch - 11us/sample\n",
      "Epoch 205/500\n",
      "2338/2338 - 0s - loss: 3.0129 - mean_absolute_error: 1.2557 - val_loss: 5.5541 - val_mean_absolute_error: 1.6668 - 27ms/epoch - 12us/sample\n",
      "Epoch 206/500\n",
      "2338/2338 - 0s - loss: 2.9975 - mean_absolute_error: 1.2495 - val_loss: 4.6431 - val_mean_absolute_error: 1.5109 - 27ms/epoch - 12us/sample\n",
      "Epoch 207/500\n",
      "2338/2338 - 0s - loss: 3.0063 - mean_absolute_error: 1.2553 - val_loss: 4.4081 - val_mean_absolute_error: 1.4965 - 27ms/epoch - 12us/sample\n",
      "Epoch 208/500\n",
      "2338/2338 - 0s - loss: 3.0150 - mean_absolute_error: 1.2622 - val_loss: 5.4270 - val_mean_absolute_error: 1.6780 - 27ms/epoch - 12us/sample\n",
      "Epoch 209/500\n",
      "2338/2338 - 0s - loss: 2.9957 - mean_absolute_error: 1.2579 - val_loss: 4.4833 - val_mean_absolute_error: 1.4884 - 27ms/epoch - 11us/sample\n",
      "Epoch 210/500\n",
      "2338/2338 - 0s - loss: 3.0317 - mean_absolute_error: 1.2489 - val_loss: 4.7544 - val_mean_absolute_error: 1.5135 - 27ms/epoch - 12us/sample\n",
      "Epoch 211/500\n",
      "2338/2338 - 0s - loss: 3.0470 - mean_absolute_error: 1.2505 - val_loss: 5.3950 - val_mean_absolute_error: 1.7781 - 27ms/epoch - 11us/sample\n",
      "Epoch 212/500\n",
      "2338/2338 - 0s - loss: 2.9134 - mean_absolute_error: 1.2297 - val_loss: 4.3793 - val_mean_absolute_error: 1.5771 - 28ms/epoch - 12us/sample\n",
      "Epoch 213/500\n",
      "2338/2338 - 0s - loss: 2.9952 - mean_absolute_error: 1.2501 - val_loss: 4.7203 - val_mean_absolute_error: 1.5103 - 29ms/epoch - 12us/sample\n",
      "Epoch 214/500\n",
      "2338/2338 - 0s - loss: 2.9720 - mean_absolute_error: 1.2494 - val_loss: 4.3048 - val_mean_absolute_error: 1.4601 - 29ms/epoch - 13us/sample\n",
      "Epoch 215/500\n",
      "2338/2338 - 0s - loss: 2.9240 - mean_absolute_error: 1.2419 - val_loss: 5.9239 - val_mean_absolute_error: 1.7040 - 27ms/epoch - 12us/sample\n",
      "Epoch 216/500\n",
      "2338/2338 - 0s - loss: 2.9687 - mean_absolute_error: 1.2417 - val_loss: 4.2063 - val_mean_absolute_error: 1.4650 - 28ms/epoch - 12us/sample\n",
      "Epoch 217/500\n",
      "2338/2338 - 0s - loss: 2.9334 - mean_absolute_error: 1.2300 - val_loss: 4.8067 - val_mean_absolute_error: 1.5322 - 27ms/epoch - 12us/sample\n",
      "Epoch 218/500\n",
      "2338/2338 - 0s - loss: 2.9687 - mean_absolute_error: 1.2448 - val_loss: 4.6904 - val_mean_absolute_error: 1.5446 - 27ms/epoch - 12us/sample\n",
      "Epoch 219/500\n",
      "2338/2338 - 0s - loss: 2.9695 - mean_absolute_error: 1.2466 - val_loss: 4.7649 - val_mean_absolute_error: 1.5130 - 27ms/epoch - 12us/sample\n",
      "Epoch 220/500\n",
      "2338/2338 - 0s - loss: 2.9482 - mean_absolute_error: 1.2507 - val_loss: 4.4456 - val_mean_absolute_error: 1.4811 - 28ms/epoch - 12us/sample\n",
      "Epoch 221/500\n",
      "2338/2338 - 0s - loss: 2.9130 - mean_absolute_error: 1.2340 - val_loss: 4.6933 - val_mean_absolute_error: 1.5262 - 28ms/epoch - 12us/sample\n",
      "Epoch 222/500\n",
      "2338/2338 - 0s - loss: 2.8974 - mean_absolute_error: 1.2443 - val_loss: 6.1328 - val_mean_absolute_error: 1.7340 - 27ms/epoch - 12us/sample\n",
      "Epoch 223/500\n",
      "2338/2338 - 0s - loss: 2.9357 - mean_absolute_error: 1.2407 - val_loss: 4.6585 - val_mean_absolute_error: 1.5233 - 27ms/epoch - 12us/sample\n"
     ]
    },
    {
     "name": "stdout",
     "output_type": "stream",
     "text": [
      "Epoch 224/500\n",
      "2338/2338 - 0s - loss: 2.8903 - mean_absolute_error: 1.2286 - val_loss: 4.4300 - val_mean_absolute_error: 1.5569 - 26ms/epoch - 11us/sample\n",
      "Epoch 225/500\n",
      "2338/2338 - 0s - loss: 2.8488 - mean_absolute_error: 1.2303 - val_loss: 4.4749 - val_mean_absolute_error: 1.5289 - 27ms/epoch - 12us/sample\n",
      "Epoch 226/500\n",
      "2338/2338 - 0s - loss: 2.8804 - mean_absolute_error: 1.2383 - val_loss: 5.0155 - val_mean_absolute_error: 1.5830 - 29ms/epoch - 12us/sample\n",
      "Epoch 227/500\n",
      "2338/2338 - 0s - loss: 2.8629 - mean_absolute_error: 1.2272 - val_loss: 5.1086 - val_mean_absolute_error: 1.5902 - 28ms/epoch - 12us/sample\n",
      "Epoch 228/500\n",
      "2338/2338 - 0s - loss: 2.8630 - mean_absolute_error: 1.2274 - val_loss: 5.1598 - val_mean_absolute_error: 1.6304 - 27ms/epoch - 11us/sample\n",
      "Epoch 229/500\n",
      "2338/2338 - 0s - loss: 2.9102 - mean_absolute_error: 1.2336 - val_loss: 4.7179 - val_mean_absolute_error: 1.5221 - 27ms/epoch - 11us/sample\n",
      "Epoch 230/500\n",
      "2338/2338 - 0s - loss: 2.8078 - mean_absolute_error: 1.2202 - val_loss: 4.5511 - val_mean_absolute_error: 1.4926 - 26ms/epoch - 11us/sample\n",
      "Epoch 231/500\n",
      "2338/2338 - 0s - loss: 2.8827 - mean_absolute_error: 1.2298 - val_loss: 4.7128 - val_mean_absolute_error: 1.5154 - 27ms/epoch - 12us/sample\n",
      "Epoch 232/500\n",
      "2338/2338 - 0s - loss: 2.6847 - mean_absolute_error: 1.2026 - val_loss: 4.8749 - val_mean_absolute_error: 1.5460 - 28ms/epoch - 12us/sample\n",
      "Epoch 233/500\n",
      "2338/2338 - 0s - loss: 2.7676 - mean_absolute_error: 1.2134 - val_loss: 5.2920 - val_mean_absolute_error: 1.5792 - 26ms/epoch - 11us/sample\n",
      "Epoch 234/500\n",
      "2338/2338 - 0s - loss: 2.8118 - mean_absolute_error: 1.2143 - val_loss: 5.0694 - val_mean_absolute_error: 1.5871 - 26ms/epoch - 11us/sample\n",
      "Epoch 235/500\n",
      "2338/2338 - 0s - loss: 2.8141 - mean_absolute_error: 1.2216 - val_loss: 4.8325 - val_mean_absolute_error: 1.5283 - 30ms/epoch - 13us/sample\n",
      "Epoch 236/500\n",
      "2338/2338 - 0s - loss: 2.7422 - mean_absolute_error: 1.2067 - val_loss: 5.2460 - val_mean_absolute_error: 1.6612 - 27ms/epoch - 12us/sample\n",
      "Epoch 237/500\n",
      "2338/2338 - 0s - loss: 2.8052 - mean_absolute_error: 1.2113 - val_loss: 4.7248 - val_mean_absolute_error: 1.5470 - 27ms/epoch - 12us/sample\n",
      "Epoch 238/500\n",
      "2338/2338 - 0s - loss: 2.7673 - mean_absolute_error: 1.2006 - val_loss: 4.5944 - val_mean_absolute_error: 1.5106 - 26ms/epoch - 11us/sample\n",
      "Epoch 239/500\n",
      "2338/2338 - 0s - loss: 2.7553 - mean_absolute_error: 1.2056 - val_loss: 4.8118 - val_mean_absolute_error: 1.5210 - 27ms/epoch - 12us/sample\n",
      "Epoch 240/500\n",
      "2338/2338 - 0s - loss: 2.7009 - mean_absolute_error: 1.1985 - val_loss: 4.8025 - val_mean_absolute_error: 1.5302 - 27ms/epoch - 11us/sample\n",
      "Epoch 241/500\n",
      "2338/2338 - 0s - loss: 2.7464 - mean_absolute_error: 1.2016 - val_loss: 4.8700 - val_mean_absolute_error: 1.5360 - 27ms/epoch - 11us/sample\n",
      "Epoch 242/500\n",
      "2338/2338 - 0s - loss: 2.7253 - mean_absolute_error: 1.1969 - val_loss: 4.7877 - val_mean_absolute_error: 1.5225 - 26ms/epoch - 11us/sample\n",
      "Epoch 243/500\n",
      "2338/2338 - 0s - loss: 2.7057 - mean_absolute_error: 1.1938 - val_loss: 5.2207 - val_mean_absolute_error: 1.5862 - 27ms/epoch - 11us/sample\n",
      "Epoch 244/500\n",
      "2338/2338 - 0s - loss: 2.7693 - mean_absolute_error: 1.2030 - val_loss: 4.6040 - val_mean_absolute_error: 1.6050 - 27ms/epoch - 12us/sample\n",
      "Epoch 245/500\n",
      "2338/2338 - 0s - loss: 2.7331 - mean_absolute_error: 1.2033 - val_loss: 4.5545 - val_mean_absolute_error: 1.5412 - 27ms/epoch - 12us/sample\n",
      "Epoch 246/500\n",
      "2338/2338 - 0s - loss: 2.7828 - mean_absolute_error: 1.2102 - val_loss: 5.6672 - val_mean_absolute_error: 1.6994 - 28ms/epoch - 12us/sample\n",
      "Epoch 247/500\n",
      "2338/2338 - 0s - loss: 2.7371 - mean_absolute_error: 1.2050 - val_loss: 6.1174 - val_mean_absolute_error: 1.7077 - 29ms/epoch - 12us/sample\n",
      "Epoch 248/500\n",
      "2338/2338 - 0s - loss: 2.6990 - mean_absolute_error: 1.1953 - val_loss: 5.5304 - val_mean_absolute_error: 1.6277 - 28ms/epoch - 12us/sample\n",
      "Epoch 249/500\n",
      "2338/2338 - 0s - loss: 2.7308 - mean_absolute_error: 1.2067 - val_loss: 4.5587 - val_mean_absolute_error: 1.5625 - 28ms/epoch - 12us/sample\n",
      "Epoch 250/500\n",
      "2338/2338 - 0s - loss: 2.6826 - mean_absolute_error: 1.1917 - val_loss: 4.9054 - val_mean_absolute_error: 1.5840 - 28ms/epoch - 12us/sample\n",
      "Epoch 251/500\n",
      "2338/2338 - 0s - loss: 2.6462 - mean_absolute_error: 1.1794 - val_loss: 6.5814 - val_mean_absolute_error: 1.7715 - 29ms/epoch - 12us/sample\n",
      "Epoch 252/500\n",
      "2338/2338 - 0s - loss: 2.7369 - mean_absolute_error: 1.2046 - val_loss: 5.8511 - val_mean_absolute_error: 1.7541 - 26ms/epoch - 11us/sample\n",
      "Epoch 253/500\n",
      "2338/2338 - 0s - loss: 2.6947 - mean_absolute_error: 1.1994 - val_loss: 4.7419 - val_mean_absolute_error: 1.5176 - 27ms/epoch - 11us/sample\n",
      "Epoch 254/500\n",
      "2338/2338 - 0s - loss: 2.6610 - mean_absolute_error: 1.1876 - val_loss: 5.7948 - val_mean_absolute_error: 1.7837 - 28ms/epoch - 12us/sample\n",
      "Epoch 255/500\n",
      "2338/2338 - 0s - loss: 2.6601 - mean_absolute_error: 1.1911 - val_loss: 4.4421 - val_mean_absolute_error: 1.4927 - 27ms/epoch - 12us/sample\n",
      "Epoch 256/500\n",
      "2338/2338 - 0s - loss: 2.6729 - mean_absolute_error: 1.1901 - val_loss: 4.7748 - val_mean_absolute_error: 1.5174 - 28ms/epoch - 12us/sample\n",
      "Epoch 257/500\n",
      "2338/2338 - 0s - loss: 2.6561 - mean_absolute_error: 1.1798 - val_loss: 5.7079 - val_mean_absolute_error: 1.7018 - 28ms/epoch - 12us/sample\n",
      "Epoch 258/500\n",
      "2338/2338 - 0s - loss: 2.7144 - mean_absolute_error: 1.2023 - val_loss: 4.8963 - val_mean_absolute_error: 1.5383 - 27ms/epoch - 12us/sample\n",
      "Epoch 259/500\n",
      "2338/2338 - 0s - loss: 2.6033 - mean_absolute_error: 1.1834 - val_loss: 5.1999 - val_mean_absolute_error: 1.6556 - 28ms/epoch - 12us/sample\n",
      "Epoch 260/500\n",
      "2338/2338 - 0s - loss: 2.6678 - mean_absolute_error: 1.1801 - val_loss: 4.4100 - val_mean_absolute_error: 1.4916 - 27ms/epoch - 12us/sample\n",
      "Epoch 261/500\n",
      "2338/2338 - 0s - loss: 2.6336 - mean_absolute_error: 1.1808 - val_loss: 4.9086 - val_mean_absolute_error: 1.5504 - 27ms/epoch - 11us/sample\n",
      "Epoch 262/500\n",
      "2338/2338 - 0s - loss: 2.6103 - mean_absolute_error: 1.1820 - val_loss: 4.6045 - val_mean_absolute_error: 1.4870 - 28ms/epoch - 12us/sample\n",
      "Epoch 263/500\n",
      "2338/2338 - 0s - loss: 2.6148 - mean_absolute_error: 1.1837 - val_loss: 4.8382 - val_mean_absolute_error: 1.5540 - 27ms/epoch - 12us/sample\n",
      "Epoch 264/500\n",
      "2338/2338 - 0s - loss: 2.5808 - mean_absolute_error: 1.1722 - val_loss: 4.6700 - val_mean_absolute_error: 1.5336 - 29ms/epoch - 12us/sample\n",
      "Epoch 265/500\n",
      "2338/2338 - 0s - loss: 2.6013 - mean_absolute_error: 1.1773 - val_loss: 4.7096 - val_mean_absolute_error: 1.5231 - 27ms/epoch - 12us/sample\n",
      "Epoch 266/500\n",
      "2338/2338 - 0s - loss: 2.5114 - mean_absolute_error: 1.1559 - val_loss: 4.7764 - val_mean_absolute_error: 1.5113 - 27ms/epoch - 12us/sample\n",
      "Epoch 267/500\n",
      "2338/2338 - 0s - loss: 2.6335 - mean_absolute_error: 1.1815 - val_loss: 5.2424 - val_mean_absolute_error: 1.5981 - 27ms/epoch - 12us/sample\n",
      "Epoch 268/500\n",
      "2338/2338 - 0s - loss: 2.5414 - mean_absolute_error: 1.1601 - val_loss: 4.8750 - val_mean_absolute_error: 1.5440 - 27ms/epoch - 12us/sample\n",
      "Epoch 269/500\n",
      "2338/2338 - 0s - loss: 2.5739 - mean_absolute_error: 1.1596 - val_loss: 4.6743 - val_mean_absolute_error: 1.5316 - 27ms/epoch - 12us/sample\n",
      "Epoch 270/500\n",
      "2338/2338 - 0s - loss: 2.5667 - mean_absolute_error: 1.1685 - val_loss: 4.5726 - val_mean_absolute_error: 1.4981 - 28ms/epoch - 12us/sample\n",
      "Epoch 271/500\n",
      "2338/2338 - 0s - loss: 2.5601 - mean_absolute_error: 1.1653 - val_loss: 5.0535 - val_mean_absolute_error: 1.5938 - 27ms/epoch - 11us/sample\n",
      "Epoch 272/500\n",
      "2338/2338 - 0s - loss: 2.5773 - mean_absolute_error: 1.1699 - val_loss: 5.2714 - val_mean_absolute_error: 1.6062 - 27ms/epoch - 12us/sample\n",
      "Epoch 273/500\n",
      "2338/2338 - 0s - loss: 2.5544 - mean_absolute_error: 1.1702 - val_loss: 4.7337 - val_mean_absolute_error: 1.5365 - 27ms/epoch - 12us/sample\n",
      "Epoch 274/500\n",
      "2338/2338 - 0s - loss: 2.5647 - mean_absolute_error: 1.1727 - val_loss: 4.7740 - val_mean_absolute_error: 1.5388 - 27ms/epoch - 12us/sample\n",
      "Epoch 275/500\n",
      "2338/2338 - 0s - loss: 2.5493 - mean_absolute_error: 1.1642 - val_loss: 6.2409 - val_mean_absolute_error: 1.7224 - 26ms/epoch - 11us/sample\n",
      "Epoch 276/500\n",
      "2338/2338 - 0s - loss: 2.5734 - mean_absolute_error: 1.1676 - val_loss: 4.7781 - val_mean_absolute_error: 1.5358 - 27ms/epoch - 11us/sample\n",
      "Epoch 277/500\n",
      "2338/2338 - 0s - loss: 2.5068 - mean_absolute_error: 1.1536 - val_loss: 4.7959 - val_mean_absolute_error: 1.5368 - 27ms/epoch - 12us/sample\n"
     ]
    },
    {
     "name": "stdout",
     "output_type": "stream",
     "text": [
      "Epoch 278/500\n",
      "2338/2338 - 0s - loss: 2.5432 - mean_absolute_error: 1.1572 - val_loss: 5.0401 - val_mean_absolute_error: 1.6048 - 28ms/epoch - 12us/sample\n",
      "Epoch 279/500\n",
      "2338/2338 - 0s - loss: 2.5460 - mean_absolute_error: 1.1654 - val_loss: 4.2663 - val_mean_absolute_error: 1.4826 - 28ms/epoch - 12us/sample\n",
      "Epoch 280/500\n",
      "2338/2338 - 0s - loss: 2.5112 - mean_absolute_error: 1.1473 - val_loss: 4.5271 - val_mean_absolute_error: 1.5326 - 27ms/epoch - 12us/sample\n",
      "Epoch 281/500\n",
      "2338/2338 - 0s - loss: 2.5196 - mean_absolute_error: 1.1622 - val_loss: 5.9501 - val_mean_absolute_error: 1.6604 - 27ms/epoch - 12us/sample\n",
      "Epoch 282/500\n",
      "2338/2338 - 0s - loss: 2.4474 - mean_absolute_error: 1.1480 - val_loss: 5.4554 - val_mean_absolute_error: 1.6312 - 26ms/epoch - 11us/sample\n",
      "Epoch 283/500\n",
      "2338/2338 - 0s - loss: 2.5540 - mean_absolute_error: 1.1680 - val_loss: 5.0181 - val_mean_absolute_error: 1.6311 - 26ms/epoch - 11us/sample\n",
      "Epoch 284/500\n",
      "2338/2338 - 0s - loss: 2.4699 - mean_absolute_error: 1.1522 - val_loss: 4.8243 - val_mean_absolute_error: 1.5641 - 27ms/epoch - 12us/sample\n",
      "Epoch 285/500\n",
      "2338/2338 - 0s - loss: 2.4487 - mean_absolute_error: 1.1454 - val_loss: 4.8618 - val_mean_absolute_error: 1.5504 - 26ms/epoch - 11us/sample\n",
      "Epoch 286/500\n",
      "2338/2338 - 0s - loss: 2.4993 - mean_absolute_error: 1.1514 - val_loss: 5.7560 - val_mean_absolute_error: 1.7073 - 26ms/epoch - 11us/sample\n",
      "Epoch 287/500\n",
      "2338/2338 - 0s - loss: 2.4807 - mean_absolute_error: 1.1521 - val_loss: 4.6929 - val_mean_absolute_error: 1.5599 - 27ms/epoch - 11us/sample\n",
      "Epoch 288/500\n",
      "2338/2338 - 0s - loss: 2.4599 - mean_absolute_error: 1.1491 - val_loss: 4.9650 - val_mean_absolute_error: 1.6160 - 26ms/epoch - 11us/sample\n",
      "Epoch 289/500\n",
      "2338/2338 - 0s - loss: 2.4712 - mean_absolute_error: 1.1512 - val_loss: 4.7669 - val_mean_absolute_error: 1.5626 - 26ms/epoch - 11us/sample\n",
      "Epoch 290/500\n",
      "2338/2338 - 0s - loss: 2.4501 - mean_absolute_error: 1.1437 - val_loss: 5.3845 - val_mean_absolute_error: 1.6261 - 27ms/epoch - 12us/sample\n",
      "Epoch 291/500\n",
      "2338/2338 - 0s - loss: 2.4467 - mean_absolute_error: 1.1411 - val_loss: 5.0107 - val_mean_absolute_error: 1.5791 - 28ms/epoch - 12us/sample\n",
      "Epoch 292/500\n",
      "2338/2338 - 0s - loss: 2.4612 - mean_absolute_error: 1.1442 - val_loss: 5.2880 - val_mean_absolute_error: 1.6164 - 29ms/epoch - 12us/sample\n",
      "Epoch 293/500\n",
      "2338/2338 - 0s - loss: 2.4372 - mean_absolute_error: 1.1385 - val_loss: 4.7853 - val_mean_absolute_error: 1.5891 - 31ms/epoch - 13us/sample\n",
      "Epoch 294/500\n",
      "2338/2338 - 0s - loss: 2.3978 - mean_absolute_error: 1.1434 - val_loss: 6.8237 - val_mean_absolute_error: 1.8901 - 30ms/epoch - 13us/sample\n",
      "Epoch 295/500\n",
      "2338/2338 - 0s - loss: 2.4704 - mean_absolute_error: 1.1575 - val_loss: 4.6848 - val_mean_absolute_error: 1.5273 - 29ms/epoch - 12us/sample\n",
      "Epoch 296/500\n",
      "2338/2338 - 0s - loss: 2.3972 - mean_absolute_error: 1.1387 - val_loss: 5.5305 - val_mean_absolute_error: 1.6149 - 28ms/epoch - 12us/sample\n",
      "Epoch 297/500\n",
      "2338/2338 - 0s - loss: 2.3712 - mean_absolute_error: 1.1386 - val_loss: 4.7127 - val_mean_absolute_error: 1.5290 - 29ms/epoch - 13us/sample\n",
      "Epoch 298/500\n",
      "2338/2338 - 0s - loss: 2.3877 - mean_absolute_error: 1.1326 - val_loss: 5.5874 - val_mean_absolute_error: 1.6460 - 29ms/epoch - 12us/sample\n",
      "Epoch 299/500\n",
      "2338/2338 - 0s - loss: 2.4291 - mean_absolute_error: 1.1299 - val_loss: 5.2143 - val_mean_absolute_error: 1.5955 - 28ms/epoch - 12us/sample\n",
      "Epoch 300/500\n",
      "2338/2338 - 0s - loss: 2.3837 - mean_absolute_error: 1.1311 - val_loss: 4.7070 - val_mean_absolute_error: 1.5266 - 28ms/epoch - 12us/sample\n",
      "Epoch 301/500\n",
      "2338/2338 - 0s - loss: 2.3658 - mean_absolute_error: 1.1254 - val_loss: 5.2272 - val_mean_absolute_error: 1.6101 - 28ms/epoch - 12us/sample\n",
      "Epoch 302/500\n",
      "2338/2338 - 0s - loss: 2.4201 - mean_absolute_error: 1.1449 - val_loss: 5.1279 - val_mean_absolute_error: 1.5725 - 29ms/epoch - 12us/sample\n",
      "Epoch 303/500\n",
      "2338/2338 - 0s - loss: 2.3679 - mean_absolute_error: 1.1295 - val_loss: 4.7080 - val_mean_absolute_error: 1.5320 - 28ms/epoch - 12us/sample\n",
      "Epoch 304/500\n",
      "2338/2338 - 0s - loss: 2.3365 - mean_absolute_error: 1.1142 - val_loss: 5.6169 - val_mean_absolute_error: 1.8113 - 28ms/epoch - 12us/sample\n",
      "Epoch 305/500\n",
      "2338/2338 - 0s - loss: 2.2984 - mean_absolute_error: 1.1219 - val_loss: 5.4466 - val_mean_absolute_error: 1.6346 - 28ms/epoch - 12us/sample\n",
      "Epoch 306/500\n",
      "2338/2338 - 0s - loss: 2.3925 - mean_absolute_error: 1.1354 - val_loss: 5.0803 - val_mean_absolute_error: 1.5951 - 27ms/epoch - 12us/sample\n",
      "Epoch 307/500\n",
      "2338/2338 - 0s - loss: 2.2669 - mean_absolute_error: 1.1115 - val_loss: 5.5591 - val_mean_absolute_error: 1.6814 - 27ms/epoch - 12us/sample\n",
      "Epoch 308/500\n",
      "2338/2338 - 0s - loss: 2.3858 - mean_absolute_error: 1.1295 - val_loss: 5.3319 - val_mean_absolute_error: 1.6178 - 27ms/epoch - 12us/sample\n",
      "Epoch 309/500\n",
      "2338/2338 - 0s - loss: 2.3557 - mean_absolute_error: 1.1208 - val_loss: 5.2762 - val_mean_absolute_error: 1.6844 - 27ms/epoch - 12us/sample\n",
      "Epoch 310/500\n",
      "2338/2338 - 0s - loss: 2.3352 - mean_absolute_error: 1.1279 - val_loss: 5.1901 - val_mean_absolute_error: 1.6046 - 27ms/epoch - 12us/sample\n",
      "Epoch 311/500\n",
      "2338/2338 - 0s - loss: 2.2981 - mean_absolute_error: 1.1157 - val_loss: 5.5678 - val_mean_absolute_error: 1.6526 - 28ms/epoch - 12us/sample\n",
      "Epoch 312/500\n",
      "2338/2338 - 0s - loss: 2.3521 - mean_absolute_error: 1.1136 - val_loss: 4.9616 - val_mean_absolute_error: 1.5813 - 29ms/epoch - 12us/sample\n",
      "Epoch 313/500\n",
      "2338/2338 - 0s - loss: 2.3295 - mean_absolute_error: 1.1224 - val_loss: 5.1737 - val_mean_absolute_error: 1.5975 - 27ms/epoch - 12us/sample\n",
      "Epoch 314/500\n",
      "2338/2338 - 0s - loss: 2.2750 - mean_absolute_error: 1.1062 - val_loss: 5.6939 - val_mean_absolute_error: 1.6852 - 27ms/epoch - 11us/sample\n",
      "Epoch 315/500\n",
      "2338/2338 - 0s - loss: 2.3670 - mean_absolute_error: 1.1194 - val_loss: 4.9896 - val_mean_absolute_error: 1.5862 - 27ms/epoch - 11us/sample\n",
      "Epoch 316/500\n",
      "2338/2338 - 0s - loss: 2.3065 - mean_absolute_error: 1.1234 - val_loss: 4.5428 - val_mean_absolute_error: 1.4885 - 27ms/epoch - 11us/sample\n",
      "Epoch 317/500\n",
      "2338/2338 - 0s - loss: 2.2082 - mean_absolute_error: 1.0978 - val_loss: 6.4342 - val_mean_absolute_error: 1.8195 - 27ms/epoch - 12us/sample\n",
      "Epoch 318/500\n",
      "2338/2338 - 0s - loss: 2.3138 - mean_absolute_error: 1.1216 - val_loss: 4.9104 - val_mean_absolute_error: 1.5723 - 27ms/epoch - 11us/sample\n",
      "Epoch 319/500\n",
      "2338/2338 - 0s - loss: 2.2612 - mean_absolute_error: 1.1210 - val_loss: 5.2176 - val_mean_absolute_error: 1.6018 - 27ms/epoch - 11us/sample\n",
      "Epoch 320/500\n",
      "2338/2338 - 0s - loss: 2.2831 - mean_absolute_error: 1.1132 - val_loss: 5.2857 - val_mean_absolute_error: 1.6048 - 27ms/epoch - 12us/sample\n",
      "Epoch 321/500\n",
      "2338/2338 - 0s - loss: 2.3067 - mean_absolute_error: 1.1134 - val_loss: 5.7704 - val_mean_absolute_error: 1.7450 - 27ms/epoch - 12us/sample\n",
      "Epoch 322/500\n",
      "2338/2338 - 0s - loss: 2.2589 - mean_absolute_error: 1.1081 - val_loss: 5.6091 - val_mean_absolute_error: 1.6678 - 27ms/epoch - 11us/sample\n",
      "Epoch 323/500\n",
      "2338/2338 - 0s - loss: 2.2313 - mean_absolute_error: 1.1120 - val_loss: 5.2638 - val_mean_absolute_error: 1.5832 - 27ms/epoch - 11us/sample\n",
      "Epoch 324/500\n",
      "2338/2338 - 0s - loss: 2.2230 - mean_absolute_error: 1.0954 - val_loss: 4.9457 - val_mean_absolute_error: 1.5502 - 27ms/epoch - 12us/sample\n",
      "Epoch 325/500\n",
      "2338/2338 - 0s - loss: 2.2604 - mean_absolute_error: 1.1072 - val_loss: 5.0697 - val_mean_absolute_error: 1.5905 - 27ms/epoch - 12us/sample\n",
      "Epoch 326/500\n",
      "2338/2338 - 0s - loss: 2.2051 - mean_absolute_error: 1.0847 - val_loss: 4.8866 - val_mean_absolute_error: 1.5648 - 26ms/epoch - 11us/sample\n",
      "Epoch 327/500\n",
      "2338/2338 - 0s - loss: 2.1971 - mean_absolute_error: 1.0928 - val_loss: 5.0280 - val_mean_absolute_error: 1.5662 - 28ms/epoch - 12us/sample\n",
      "Epoch 328/500\n",
      "2338/2338 - 0s - loss: 2.2752 - mean_absolute_error: 1.1010 - val_loss: 4.9381 - val_mean_absolute_error: 1.5716 - 26ms/epoch - 11us/sample\n",
      "Epoch 329/500\n",
      "2338/2338 - 0s - loss: 2.1670 - mean_absolute_error: 1.0878 - val_loss: 5.6516 - val_mean_absolute_error: 1.6660 - 27ms/epoch - 12us/sample\n",
      "Epoch 330/500\n",
      "2338/2338 - 0s - loss: 2.2592 - mean_absolute_error: 1.1041 - val_loss: 5.0424 - val_mean_absolute_error: 1.6615 - 27ms/epoch - 12us/sample\n",
      "Epoch 331/500\n",
      "2338/2338 - 0s - loss: 2.2238 - mean_absolute_error: 1.0992 - val_loss: 5.7376 - val_mean_absolute_error: 1.6854 - 26ms/epoch - 11us/sample\n"
     ]
    },
    {
     "name": "stdout",
     "output_type": "stream",
     "text": [
      "Epoch 332/500\n",
      "2338/2338 - 0s - loss: 2.2713 - mean_absolute_error: 1.1031 - val_loss: 6.0170 - val_mean_absolute_error: 1.6751 - 27ms/epoch - 11us/sample\n",
      "Epoch 333/500\n",
      "2338/2338 - 0s - loss: 2.1613 - mean_absolute_error: 1.0884 - val_loss: 5.7922 - val_mean_absolute_error: 1.6411 - 29ms/epoch - 12us/sample\n",
      "Epoch 334/500\n",
      "2338/2338 - 0s - loss: 2.2189 - mean_absolute_error: 1.1063 - val_loss: 6.3809 - val_mean_absolute_error: 1.7686 - 27ms/epoch - 12us/sample\n",
      "Epoch 335/500\n",
      "2338/2338 - 0s - loss: 2.1424 - mean_absolute_error: 1.0876 - val_loss: 5.0332 - val_mean_absolute_error: 1.5534 - 29ms/epoch - 12us/sample\n",
      "Epoch 336/500\n",
      "2338/2338 - 0s - loss: 2.1913 - mean_absolute_error: 1.0888 - val_loss: 5.5666 - val_mean_absolute_error: 1.6157 - 29ms/epoch - 12us/sample\n",
      "Epoch 337/500\n",
      "2338/2338 - 0s - loss: 2.1831 - mean_absolute_error: 1.0919 - val_loss: 5.0094 - val_mean_absolute_error: 1.5862 - 28ms/epoch - 12us/sample\n",
      "Epoch 338/500\n",
      "2338/2338 - 0s - loss: 2.1766 - mean_absolute_error: 1.0841 - val_loss: 4.8811 - val_mean_absolute_error: 1.5524 - 27ms/epoch - 12us/sample\n",
      "Epoch 339/500\n",
      "2338/2338 - 0s - loss: 2.1423 - mean_absolute_error: 1.0920 - val_loss: 5.4494 - val_mean_absolute_error: 1.6099 - 26ms/epoch - 11us/sample\n",
      "Epoch 340/500\n",
      "2338/2338 - 0s - loss: 2.1452 - mean_absolute_error: 1.0890 - val_loss: 5.5546 - val_mean_absolute_error: 1.6734 - 26ms/epoch - 11us/sample\n",
      "Epoch 341/500\n",
      "2338/2338 - 0s - loss: 2.2179 - mean_absolute_error: 1.0999 - val_loss: 5.5528 - val_mean_absolute_error: 1.6293 - 27ms/epoch - 11us/sample\n",
      "Epoch 342/500\n",
      "2338/2338 - 0s - loss: 2.1579 - mean_absolute_error: 1.0806 - val_loss: 5.0323 - val_mean_absolute_error: 1.5661 - 26ms/epoch - 11us/sample\n",
      "Epoch 343/500\n",
      "2338/2338 - 0s - loss: 2.1909 - mean_absolute_error: 1.0858 - val_loss: 5.5649 - val_mean_absolute_error: 1.6878 - 26ms/epoch - 11us/sample\n",
      "Epoch 344/500\n",
      "2338/2338 - 0s - loss: 2.1799 - mean_absolute_error: 1.0997 - val_loss: 5.7750 - val_mean_absolute_error: 1.6375 - 28ms/epoch - 12us/sample\n",
      "Epoch 345/500\n",
      "2338/2338 - 0s - loss: 2.1504 - mean_absolute_error: 1.0871 - val_loss: 5.4920 - val_mean_absolute_error: 1.6172 - 27ms/epoch - 11us/sample\n",
      "Epoch 346/500\n",
      "2338/2338 - 0s - loss: 2.1401 - mean_absolute_error: 1.0794 - val_loss: 5.1683 - val_mean_absolute_error: 1.5868 - 27ms/epoch - 11us/sample\n",
      "Epoch 347/500\n",
      "2338/2338 - 0s - loss: 2.1420 - mean_absolute_error: 1.0813 - val_loss: 4.7700 - val_mean_absolute_error: 1.5630 - 27ms/epoch - 12us/sample\n",
      "Epoch 348/500\n",
      "2338/2338 - 0s - loss: 2.1267 - mean_absolute_error: 1.0794 - val_loss: 5.5265 - val_mean_absolute_error: 1.6517 - 28ms/epoch - 12us/sample\n",
      "Epoch 349/500\n",
      "2338/2338 - 0s - loss: 2.1512 - mean_absolute_error: 1.0847 - val_loss: 5.0555 - val_mean_absolute_error: 1.5752 - 28ms/epoch - 12us/sample\n",
      "Epoch 350/500\n",
      "2338/2338 - 0s - loss: 2.0830 - mean_absolute_error: 1.0735 - val_loss: 5.7711 - val_mean_absolute_error: 1.6628 - 28ms/epoch - 12us/sample\n",
      "Epoch 351/500\n",
      "2338/2338 - 0s - loss: 2.1146 - mean_absolute_error: 1.0766 - val_loss: 5.5451 - val_mean_absolute_error: 1.6891 - 27ms/epoch - 12us/sample\n",
      "Epoch 352/500\n",
      "2338/2338 - 0s - loss: 2.0930 - mean_absolute_error: 1.0768 - val_loss: 5.7896 - val_mean_absolute_error: 1.6864 - 27ms/epoch - 12us/sample\n",
      "Epoch 353/500\n",
      "2338/2338 - 0s - loss: 2.1577 - mean_absolute_error: 1.0822 - val_loss: 5.8816 - val_mean_absolute_error: 1.6629 - 28ms/epoch - 12us/sample\n",
      "Epoch 354/500\n",
      "2338/2338 - 0s - loss: 2.0844 - mean_absolute_error: 1.0777 - val_loss: 5.0703 - val_mean_absolute_error: 1.5998 - 28ms/epoch - 12us/sample\n",
      "Epoch 355/500\n",
      "2338/2338 - 0s - loss: 2.1235 - mean_absolute_error: 1.0827 - val_loss: 4.8889 - val_mean_absolute_error: 1.5535 - 28ms/epoch - 12us/sample\n",
      "Epoch 356/500\n",
      "2338/2338 - 0s - loss: 2.0936 - mean_absolute_error: 1.0683 - val_loss: 5.7453 - val_mean_absolute_error: 1.6570 - 28ms/epoch - 12us/sample\n",
      "Epoch 357/500\n",
      "2338/2338 - 0s - loss: 2.0857 - mean_absolute_error: 1.0614 - val_loss: 5.7531 - val_mean_absolute_error: 1.6767 - 28ms/epoch - 12us/sample\n",
      "Epoch 358/500\n",
      "2338/2338 - 0s - loss: 2.0546 - mean_absolute_error: 1.0632 - val_loss: 5.7032 - val_mean_absolute_error: 1.6918 - 28ms/epoch - 12us/sample\n",
      "Epoch 359/500\n",
      "2338/2338 - 0s - loss: 2.1380 - mean_absolute_error: 1.0742 - val_loss: 5.0308 - val_mean_absolute_error: 1.5822 - 27ms/epoch - 11us/sample\n",
      "Epoch 360/500\n",
      "2338/2338 - 0s - loss: 2.0423 - mean_absolute_error: 1.0633 - val_loss: 6.7018 - val_mean_absolute_error: 1.7863 - 27ms/epoch - 12us/sample\n",
      "Epoch 361/500\n",
      "2338/2338 - 0s - loss: 2.0812 - mean_absolute_error: 1.0637 - val_loss: 5.6932 - val_mean_absolute_error: 1.7666 - 27ms/epoch - 11us/sample\n",
      "Epoch 362/500\n",
      "2338/2338 - 0s - loss: 2.0405 - mean_absolute_error: 1.0583 - val_loss: 4.9974 - val_mean_absolute_error: 1.5614 - 27ms/epoch - 11us/sample\n",
      "Epoch 363/500\n",
      "2338/2338 - 0s - loss: 2.0895 - mean_absolute_error: 1.0659 - val_loss: 5.2238 - val_mean_absolute_error: 1.5939 - 27ms/epoch - 11us/sample\n",
      "Epoch 364/500\n",
      "2338/2338 - 0s - loss: 2.0473 - mean_absolute_error: 1.0762 - val_loss: 4.7837 - val_mean_absolute_error: 1.5390 - 27ms/epoch - 12us/sample\n",
      "Epoch 365/500\n",
      "2338/2338 - 0s - loss: 2.0469 - mean_absolute_error: 1.0709 - val_loss: 5.1094 - val_mean_absolute_error: 1.6039 - 27ms/epoch - 11us/sample\n",
      "Epoch 366/500\n",
      "2338/2338 - 0s - loss: 2.0267 - mean_absolute_error: 1.0654 - val_loss: 5.0154 - val_mean_absolute_error: 1.5757 - 27ms/epoch - 11us/sample\n",
      "Epoch 367/500\n",
      "2338/2338 - 0s - loss: 2.0373 - mean_absolute_error: 1.0698 - val_loss: 5.6223 - val_mean_absolute_error: 1.7131 - 27ms/epoch - 11us/sample\n",
      "Epoch 368/500\n",
      "2338/2338 - 0s - loss: 2.0077 - mean_absolute_error: 1.0529 - val_loss: 6.4135 - val_mean_absolute_error: 1.8241 - 27ms/epoch - 12us/sample\n",
      "Epoch 369/500\n",
      "2338/2338 - 0s - loss: 2.0590 - mean_absolute_error: 1.0668 - val_loss: 6.1822 - val_mean_absolute_error: 1.6929 - 27ms/epoch - 12us/sample\n",
      "Epoch 370/500\n",
      "2338/2338 - 0s - loss: 2.0164 - mean_absolute_error: 1.0471 - val_loss: 5.2623 - val_mean_absolute_error: 1.6589 - 27ms/epoch - 12us/sample\n",
      "Epoch 371/500\n",
      "2338/2338 - 0s - loss: 2.0231 - mean_absolute_error: 1.0508 - val_loss: 5.5821 - val_mean_absolute_error: 1.6242 - 26ms/epoch - 11us/sample\n",
      "Epoch 372/500\n",
      "2338/2338 - 0s - loss: 2.0826 - mean_absolute_error: 1.0747 - val_loss: 4.4965 - val_mean_absolute_error: 1.5377 - 28ms/epoch - 12us/sample\n",
      "Epoch 373/500\n",
      "2338/2338 - 0s - loss: 2.0028 - mean_absolute_error: 1.0420 - val_loss: 4.7537 - val_mean_absolute_error: 1.5785 - 28ms/epoch - 12us/sample\n",
      "Epoch 374/500\n",
      "2338/2338 - 0s - loss: 2.0256 - mean_absolute_error: 1.0478 - val_loss: 5.2785 - val_mean_absolute_error: 1.5700 - 27ms/epoch - 12us/sample\n",
      "Epoch 375/500\n",
      "2338/2338 - 0s - loss: 2.0343 - mean_absolute_error: 1.0606 - val_loss: 5.8529 - val_mean_absolute_error: 1.6665 - 27ms/epoch - 12us/sample\n",
      "Epoch 376/500\n",
      "2338/2338 - 0s - loss: 2.0372 - mean_absolute_error: 1.0549 - val_loss: 5.1961 - val_mean_absolute_error: 1.6686 - 28ms/epoch - 12us/sample\n",
      "Epoch 377/500\n",
      "2338/2338 - 0s - loss: 1.9343 - mean_absolute_error: 1.0372 - val_loss: 5.6881 - val_mean_absolute_error: 1.6703 - 27ms/epoch - 11us/sample\n",
      "Epoch 378/500\n",
      "2338/2338 - 0s - loss: 2.0079 - mean_absolute_error: 1.0441 - val_loss: 7.2991 - val_mean_absolute_error: 1.9171 - 27ms/epoch - 11us/sample\n",
      "Epoch 379/500\n",
      "2338/2338 - 0s - loss: 1.9204 - mean_absolute_error: 1.0380 - val_loss: 5.3173 - val_mean_absolute_error: 1.6239 - 27ms/epoch - 12us/sample\n",
      "Epoch 380/500\n",
      "2338/2338 - 0s - loss: 2.0118 - mean_absolute_error: 1.0522 - val_loss: 5.8055 - val_mean_absolute_error: 1.6503 - 27ms/epoch - 12us/sample\n",
      "Epoch 381/500\n",
      "2338/2338 - 0s - loss: 1.9578 - mean_absolute_error: 1.0344 - val_loss: 5.1071 - val_mean_absolute_error: 1.5783 - 29ms/epoch - 13us/sample\n",
      "Epoch 382/500\n",
      "2338/2338 - 0s - loss: 1.9142 - mean_absolute_error: 1.0216 - val_loss: 5.1058 - val_mean_absolute_error: 1.5639 - 28ms/epoch - 12us/sample\n",
      "Epoch 383/500\n",
      "2338/2338 - 0s - loss: 2.0113 - mean_absolute_error: 1.0420 - val_loss: 5.4948 - val_mean_absolute_error: 1.6721 - 27ms/epoch - 12us/sample\n",
      "Epoch 384/500\n",
      "2338/2338 - 0s - loss: 1.9919 - mean_absolute_error: 1.0515 - val_loss: 5.7945 - val_mean_absolute_error: 1.6948 - 27ms/epoch - 12us/sample\n",
      "Epoch 385/500\n",
      "2338/2338 - 0s - loss: 1.9663 - mean_absolute_error: 1.0382 - val_loss: 4.9240 - val_mean_absolute_error: 1.6040 - 27ms/epoch - 11us/sample\n"
     ]
    },
    {
     "name": "stdout",
     "output_type": "stream",
     "text": [
      "Epoch 386/500\n",
      "2338/2338 - 0s - loss: 1.9370 - mean_absolute_error: 1.0313 - val_loss: 5.4749 - val_mean_absolute_error: 1.6273 - 27ms/epoch - 12us/sample\n",
      "Epoch 387/500\n",
      "2338/2338 - 0s - loss: 1.9622 - mean_absolute_error: 1.0458 - val_loss: 5.1937 - val_mean_absolute_error: 1.5939 - 27ms/epoch - 12us/sample\n",
      "Epoch 388/500\n",
      "2338/2338 - 0s - loss: 1.9812 - mean_absolute_error: 1.0345 - val_loss: 5.0843 - val_mean_absolute_error: 1.5592 - 26ms/epoch - 11us/sample\n",
      "Epoch 389/500\n",
      "2338/2338 - 0s - loss: 1.9576 - mean_absolute_error: 1.0500 - val_loss: 5.5540 - val_mean_absolute_error: 1.6571 - 26ms/epoch - 11us/sample\n",
      "Epoch 390/500\n",
      "2338/2338 - 0s - loss: 1.9465 - mean_absolute_error: 1.0355 - val_loss: 5.2110 - val_mean_absolute_error: 1.5842 - 26ms/epoch - 11us/sample\n",
      "Epoch 391/500\n",
      "2338/2338 - 0s - loss: 1.9644 - mean_absolute_error: 1.0374 - val_loss: 7.0916 - val_mean_absolute_error: 1.8303 - 26ms/epoch - 11us/sample\n",
      "Epoch 392/500\n",
      "2338/2338 - 0s - loss: 1.9310 - mean_absolute_error: 1.0353 - val_loss: 6.7617 - val_mean_absolute_error: 1.8127 - 27ms/epoch - 12us/sample\n",
      "Epoch 393/500\n",
      "2338/2338 - 0s - loss: 1.9001 - mean_absolute_error: 1.0317 - val_loss: 7.4940 - val_mean_absolute_error: 1.9704 - 28ms/epoch - 12us/sample\n",
      "Epoch 394/500\n",
      "2338/2338 - 0s - loss: 1.9866 - mean_absolute_error: 1.0457 - val_loss: 5.0607 - val_mean_absolute_error: 1.5650 - 28ms/epoch - 12us/sample\n",
      "Epoch 395/500\n",
      "2338/2338 - 0s - loss: 1.9222 - mean_absolute_error: 1.0194 - val_loss: 5.8110 - val_mean_absolute_error: 1.6608 - 28ms/epoch - 12us/sample\n",
      "Epoch 396/500\n",
      "2338/2338 - 0s - loss: 1.9144 - mean_absolute_error: 1.0232 - val_loss: 7.6273 - val_mean_absolute_error: 1.8777 - 27ms/epoch - 12us/sample\n",
      "Epoch 397/500\n",
      "2338/2338 - 0s - loss: 1.8935 - mean_absolute_error: 1.0232 - val_loss: 5.6821 - val_mean_absolute_error: 1.6903 - 27ms/epoch - 12us/sample\n",
      "Epoch 398/500\n",
      "2338/2338 - 0s - loss: 1.9600 - mean_absolute_error: 1.0335 - val_loss: 5.4424 - val_mean_absolute_error: 1.6439 - 28ms/epoch - 12us/sample\n",
      "Epoch 399/500\n",
      "2338/2338 - 0s - loss: 1.8889 - mean_absolute_error: 1.0225 - val_loss: 5.8340 - val_mean_absolute_error: 1.6529 - 27ms/epoch - 12us/sample\n",
      "Epoch 400/500\n",
      "2338/2338 - 0s - loss: 1.8843 - mean_absolute_error: 1.0253 - val_loss: 6.0774 - val_mean_absolute_error: 1.6970 - 26ms/epoch - 11us/sample\n",
      "Epoch 401/500\n",
      "2338/2338 - 0s - loss: 1.8734 - mean_absolute_error: 1.0260 - val_loss: 5.1342 - val_mean_absolute_error: 1.6547 - 27ms/epoch - 12us/sample\n",
      "Epoch 402/500\n",
      "2338/2338 - 0s - loss: 1.9265 - mean_absolute_error: 1.0341 - val_loss: 5.5694 - val_mean_absolute_error: 1.6307 - 27ms/epoch - 11us/sample\n",
      "Epoch 403/500\n",
      "2338/2338 - 0s - loss: 1.8656 - mean_absolute_error: 1.0167 - val_loss: 6.4905 - val_mean_absolute_error: 1.7871 - 27ms/epoch - 12us/sample\n",
      "Epoch 404/500\n",
      "2338/2338 - 0s - loss: 1.9006 - mean_absolute_error: 1.0307 - val_loss: 5.3940 - val_mean_absolute_error: 1.5977 - 27ms/epoch - 12us/sample\n",
      "Epoch 405/500\n",
      "2338/2338 - 0s - loss: 1.8855 - mean_absolute_error: 1.0344 - val_loss: 5.1347 - val_mean_absolute_error: 1.6040 - 27ms/epoch - 12us/sample\n",
      "Epoch 406/500\n",
      "2338/2338 - 0s - loss: 1.8925 - mean_absolute_error: 1.0355 - val_loss: 6.0178 - val_mean_absolute_error: 1.6718 - 27ms/epoch - 12us/sample\n",
      "Epoch 407/500\n",
      "2338/2338 - 0s - loss: 1.8645 - mean_absolute_error: 1.0091 - val_loss: 5.2987 - val_mean_absolute_error: 1.6301 - 28ms/epoch - 12us/sample\n",
      "Epoch 408/500\n",
      "2338/2338 - 0s - loss: 1.8661 - mean_absolute_error: 1.0216 - val_loss: 5.5103 - val_mean_absolute_error: 1.6798 - 26ms/epoch - 11us/sample\n",
      "Epoch 409/500\n",
      "2338/2338 - 0s - loss: 1.9229 - mean_absolute_error: 1.0353 - val_loss: 5.4566 - val_mean_absolute_error: 1.6657 - 28ms/epoch - 12us/sample\n",
      "Epoch 410/500\n",
      "2338/2338 - 0s - loss: 1.8770 - mean_absolute_error: 1.0270 - val_loss: 5.9485 - val_mean_absolute_error: 1.6461 - 27ms/epoch - 12us/sample\n",
      "Epoch 411/500\n",
      "2338/2338 - 0s - loss: 1.8647 - mean_absolute_error: 1.0197 - val_loss: 5.0761 - val_mean_absolute_error: 1.5796 - 27ms/epoch - 11us/sample\n",
      "Epoch 412/500\n",
      "2338/2338 - 0s - loss: 1.8271 - mean_absolute_error: 1.0107 - val_loss: 6.1042 - val_mean_absolute_error: 1.7043 - 27ms/epoch - 12us/sample\n",
      "Epoch 413/500\n",
      "2338/2338 - 0s - loss: 1.8726 - mean_absolute_error: 1.0185 - val_loss: 5.5355 - val_mean_absolute_error: 1.6389 - 27ms/epoch - 12us/sample\n",
      "Epoch 414/500\n",
      "2338/2338 - 0s - loss: 1.8311 - mean_absolute_error: 1.0073 - val_loss: 5.2382 - val_mean_absolute_error: 1.6904 - 27ms/epoch - 11us/sample\n",
      "Epoch 415/500\n",
      "2338/2338 - 0s - loss: 1.8676 - mean_absolute_error: 1.0169 - val_loss: 5.6070 - val_mean_absolute_error: 1.7292 - 28ms/epoch - 12us/sample\n",
      "Epoch 416/500\n",
      "2338/2338 - 0s - loss: 1.8198 - mean_absolute_error: 1.0043 - val_loss: 5.5229 - val_mean_absolute_error: 1.6241 - 28ms/epoch - 12us/sample\n",
      "Epoch 417/500\n",
      "2338/2338 - 0s - loss: 1.8610 - mean_absolute_error: 1.0087 - val_loss: 5.0297 - val_mean_absolute_error: 1.6294 - 27ms/epoch - 12us/sample\n",
      "Epoch 418/500\n",
      "2338/2338 - 0s - loss: 1.8107 - mean_absolute_error: 0.9969 - val_loss: 5.2848 - val_mean_absolute_error: 1.6567 - 27ms/epoch - 12us/sample\n",
      "Epoch 419/500\n",
      "2338/2338 - 0s - loss: 1.8734 - mean_absolute_error: 1.0219 - val_loss: 5.0878 - val_mean_absolute_error: 1.5989 - 27ms/epoch - 12us/sample\n",
      "Epoch 420/500\n",
      "2338/2338 - 0s - loss: 1.8328 - mean_absolute_error: 1.0110 - val_loss: 5.2099 - val_mean_absolute_error: 1.6099 - 27ms/epoch - 11us/sample\n",
      "Epoch 421/500\n",
      "2338/2338 - 0s - loss: 1.7998 - mean_absolute_error: 0.9913 - val_loss: 5.1577 - val_mean_absolute_error: 1.6325 - 27ms/epoch - 12us/sample\n",
      "Epoch 422/500\n",
      "2338/2338 - 0s - loss: 1.8778 - mean_absolute_error: 1.0238 - val_loss: 5.9608 - val_mean_absolute_error: 1.7703 - 27ms/epoch - 11us/sample\n",
      "Epoch 423/500\n",
      "2338/2338 - 0s - loss: 1.8169 - mean_absolute_error: 1.0108 - val_loss: 6.8363 - val_mean_absolute_error: 1.8624 - 26ms/epoch - 11us/sample\n",
      "Epoch 424/500\n",
      "2338/2338 - 0s - loss: 1.7975 - mean_absolute_error: 0.9956 - val_loss: 5.9550 - val_mean_absolute_error: 1.7239 - 27ms/epoch - 12us/sample\n",
      "Epoch 425/500\n",
      "2338/2338 - 0s - loss: 1.8226 - mean_absolute_error: 1.0014 - val_loss: 5.0305 - val_mean_absolute_error: 1.6016 - 27ms/epoch - 12us/sample\n",
      "Epoch 426/500\n",
      "2338/2338 - 0s - loss: 1.7935 - mean_absolute_error: 0.9901 - val_loss: 5.1355 - val_mean_absolute_error: 1.6139 - 27ms/epoch - 11us/sample\n",
      "Epoch 427/500\n",
      "2338/2338 - 0s - loss: 1.8363 - mean_absolute_error: 1.0071 - val_loss: 5.9984 - val_mean_absolute_error: 1.7170 - 27ms/epoch - 12us/sample\n",
      "Epoch 428/500\n",
      "2338/2338 - 0s - loss: 1.7728 - mean_absolute_error: 0.9917 - val_loss: 5.9737 - val_mean_absolute_error: 1.7014 - 27ms/epoch - 12us/sample\n",
      "Epoch 429/500\n",
      "2338/2338 - 0s - loss: 1.7815 - mean_absolute_error: 0.9876 - val_loss: 6.2012 - val_mean_absolute_error: 1.7796 - 27ms/epoch - 11us/sample\n",
      "Epoch 430/500\n",
      "2338/2338 - 0s - loss: 1.7616 - mean_absolute_error: 0.9909 - val_loss: 5.9215 - val_mean_absolute_error: 1.6958 - 27ms/epoch - 11us/sample\n",
      "Epoch 431/500\n",
      "2338/2338 - 0s - loss: 1.7884 - mean_absolute_error: 1.0059 - val_loss: 5.1546 - val_mean_absolute_error: 1.5879 - 27ms/epoch - 11us/sample\n",
      "Epoch 432/500\n",
      "2338/2338 - 0s - loss: 1.7449 - mean_absolute_error: 0.9845 - val_loss: 5.2771 - val_mean_absolute_error: 1.6036 - 27ms/epoch - 12us/sample\n",
      "Epoch 433/500\n",
      "2338/2338 - 0s - loss: 1.8007 - mean_absolute_error: 0.9996 - val_loss: 5.4270 - val_mean_absolute_error: 1.6409 - 27ms/epoch - 12us/sample\n",
      "Epoch 434/500\n",
      "2338/2338 - 0s - loss: 1.7589 - mean_absolute_error: 0.9889 - val_loss: 5.6236 - val_mean_absolute_error: 1.6581 - 27ms/epoch - 12us/sample\n",
      "Epoch 435/500\n",
      "2338/2338 - 0s - loss: 1.7843 - mean_absolute_error: 1.0026 - val_loss: 5.5954 - val_mean_absolute_error: 1.7219 - 27ms/epoch - 11us/sample\n",
      "Epoch 436/500\n",
      "2338/2338 - 0s - loss: 1.7718 - mean_absolute_error: 1.0011 - val_loss: 5.5242 - val_mean_absolute_error: 1.6550 - 27ms/epoch - 12us/sample\n",
      "Epoch 437/500\n",
      "2338/2338 - 0s - loss: 1.7735 - mean_absolute_error: 0.9911 - val_loss: 5.1945 - val_mean_absolute_error: 1.5910 - 27ms/epoch - 12us/sample\n",
      "Epoch 438/500\n",
      "2338/2338 - 0s - loss: 1.7378 - mean_absolute_error: 0.9889 - val_loss: 5.6816 - val_mean_absolute_error: 1.6811 - 27ms/epoch - 12us/sample\n",
      "Epoch 439/500\n",
      "2338/2338 - 0s - loss: 1.7615 - mean_absolute_error: 0.9913 - val_loss: 6.4347 - val_mean_absolute_error: 1.7482 - 27ms/epoch - 11us/sample\n"
     ]
    },
    {
     "name": "stdout",
     "output_type": "stream",
     "text": [
      "Epoch 440/500\n",
      "2338/2338 - 0s - loss: 1.7386 - mean_absolute_error: 0.9855 - val_loss: 5.8319 - val_mean_absolute_error: 1.6578 - 27ms/epoch - 12us/sample\n",
      "Epoch 441/500\n",
      "2338/2338 - 0s - loss: 1.7611 - mean_absolute_error: 1.0012 - val_loss: 5.6299 - val_mean_absolute_error: 1.6487 - 27ms/epoch - 12us/sample\n",
      "Epoch 442/500\n",
      "2338/2338 - 0s - loss: 1.6900 - mean_absolute_error: 0.9786 - val_loss: 7.1003 - val_mean_absolute_error: 1.8131 - 27ms/epoch - 12us/sample\n",
      "Epoch 443/500\n",
      "2338/2338 - 0s - loss: 1.7616 - mean_absolute_error: 0.9829 - val_loss: 5.6297 - val_mean_absolute_error: 1.6410 - 27ms/epoch - 12us/sample\n",
      "Epoch 444/500\n",
      "2338/2338 - 0s - loss: 1.7787 - mean_absolute_error: 0.9955 - val_loss: 6.1085 - val_mean_absolute_error: 1.7379 - 27ms/epoch - 12us/sample\n",
      "Epoch 445/500\n",
      "2338/2338 - 0s - loss: 1.8042 - mean_absolute_error: 0.9853 - val_loss: 5.1221 - val_mean_absolute_error: 1.6341 - 27ms/epoch - 12us/sample\n",
      "Epoch 446/500\n",
      "2338/2338 - 0s - loss: 1.7074 - mean_absolute_error: 0.9706 - val_loss: 5.9979 - val_mean_absolute_error: 1.6663 - 27ms/epoch - 12us/sample\n",
      "Epoch 447/500\n",
      "2338/2338 - 0s - loss: 1.7332 - mean_absolute_error: 0.9744 - val_loss: 5.3872 - val_mean_absolute_error: 1.6346 - 26ms/epoch - 11us/sample\n",
      "Epoch 448/500\n",
      "2338/2338 - 0s - loss: 1.7252 - mean_absolute_error: 0.9822 - val_loss: 6.4712 - val_mean_absolute_error: 1.8183 - 27ms/epoch - 11us/sample\n",
      "Epoch 449/500\n",
      "2338/2338 - 0s - loss: 1.7555 - mean_absolute_error: 0.9918 - val_loss: 5.5145 - val_mean_absolute_error: 1.6610 - 27ms/epoch - 12us/sample\n",
      "Epoch 450/500\n",
      "2338/2338 - 0s - loss: 1.7916 - mean_absolute_error: 0.9911 - val_loss: 6.1180 - val_mean_absolute_error: 1.7346 - 27ms/epoch - 11us/sample\n",
      "Epoch 451/500\n",
      "2338/2338 - 0s - loss: 1.6905 - mean_absolute_error: 0.9664 - val_loss: 6.9386 - val_mean_absolute_error: 1.8426 - 27ms/epoch - 12us/sample\n",
      "Epoch 452/500\n",
      "2338/2338 - 0s - loss: 1.6739 - mean_absolute_error: 0.9720 - val_loss: 6.5259 - val_mean_absolute_error: 1.7372 - 27ms/epoch - 11us/sample\n",
      "Epoch 453/500\n",
      "2338/2338 - 0s - loss: 1.6667 - mean_absolute_error: 0.9696 - val_loss: 5.2584 - val_mean_absolute_error: 1.6229 - 27ms/epoch - 11us/sample\n",
      "Epoch 454/500\n",
      "2338/2338 - 0s - loss: 1.7140 - mean_absolute_error: 0.9723 - val_loss: 6.0817 - val_mean_absolute_error: 1.6796 - 27ms/epoch - 11us/sample\n",
      "Epoch 455/500\n",
      "2338/2338 - 0s - loss: 1.6662 - mean_absolute_error: 0.9671 - val_loss: 5.4287 - val_mean_absolute_error: 1.6602 - 26ms/epoch - 11us/sample\n",
      "Epoch 456/500\n",
      "2338/2338 - 0s - loss: 1.7469 - mean_absolute_error: 0.9901 - val_loss: 6.1459 - val_mean_absolute_error: 1.7110 - 27ms/epoch - 12us/sample\n",
      "Epoch 457/500\n",
      "2338/2338 - 0s - loss: 1.6718 - mean_absolute_error: 0.9708 - val_loss: 6.0162 - val_mean_absolute_error: 1.6720 - 28ms/epoch - 12us/sample\n",
      "Epoch 458/500\n",
      "2338/2338 - 0s - loss: 1.6761 - mean_absolute_error: 0.9669 - val_loss: 5.8191 - val_mean_absolute_error: 1.6762 - 27ms/epoch - 11us/sample\n",
      "Epoch 459/500\n",
      "2338/2338 - 0s - loss: 1.6862 - mean_absolute_error: 0.9727 - val_loss: 5.8706 - val_mean_absolute_error: 1.7058 - 27ms/epoch - 12us/sample\n",
      "Epoch 460/500\n",
      "2338/2338 - 0s - loss: 1.6785 - mean_absolute_error: 0.9700 - val_loss: 6.2310 - val_mean_absolute_error: 1.7452 - 27ms/epoch - 11us/sample\n",
      "Epoch 461/500\n",
      "2338/2338 - 0s - loss: 1.6786 - mean_absolute_error: 0.9697 - val_loss: 5.5598 - val_mean_absolute_error: 1.6821 - 27ms/epoch - 12us/sample\n",
      "Epoch 462/500\n",
      "2338/2338 - 0s - loss: 1.6758 - mean_absolute_error: 0.9671 - val_loss: 5.9966 - val_mean_absolute_error: 1.7437 - 27ms/epoch - 12us/sample\n",
      "Epoch 463/500\n",
      "2338/2338 - 0s - loss: 1.6733 - mean_absolute_error: 0.9617 - val_loss: 5.3312 - val_mean_absolute_error: 1.6157 - 27ms/epoch - 11us/sample\n",
      "Epoch 464/500\n",
      "2338/2338 - 0s - loss: 1.6698 - mean_absolute_error: 0.9638 - val_loss: 6.6521 - val_mean_absolute_error: 1.7586 - 26ms/epoch - 11us/sample\n",
      "Epoch 465/500\n",
      "2338/2338 - 0s - loss: 1.6709 - mean_absolute_error: 0.9735 - val_loss: 5.0413 - val_mean_absolute_error: 1.5810 - 27ms/epoch - 12us/sample\n",
      "Epoch 466/500\n",
      "2338/2338 - 0s - loss: 1.6392 - mean_absolute_error: 0.9674 - val_loss: 6.2259 - val_mean_absolute_error: 1.7521 - 27ms/epoch - 11us/sample\n",
      "Epoch 467/500\n",
      "2338/2338 - 0s - loss: 1.6692 - mean_absolute_error: 0.9742 - val_loss: 5.2858 - val_mean_absolute_error: 1.5855 - 26ms/epoch - 11us/sample\n",
      "Epoch 468/500\n",
      "2338/2338 - 0s - loss: 1.6630 - mean_absolute_error: 0.9524 - val_loss: 5.8998 - val_mean_absolute_error: 1.6794 - 26ms/epoch - 11us/sample\n",
      "Epoch 469/500\n",
      "2338/2338 - 0s - loss: 1.6647 - mean_absolute_error: 0.9703 - val_loss: 6.0157 - val_mean_absolute_error: 1.7312 - 27ms/epoch - 12us/sample\n",
      "Epoch 470/500\n",
      "2338/2338 - 0s - loss: 1.6154 - mean_absolute_error: 0.9481 - val_loss: 5.7483 - val_mean_absolute_error: 1.6482 - 26ms/epoch - 11us/sample\n",
      "Epoch 471/500\n",
      "2338/2338 - 0s - loss: 1.6762 - mean_absolute_error: 0.9609 - val_loss: 5.9110 - val_mean_absolute_error: 1.7100 - 26ms/epoch - 11us/sample\n",
      "Epoch 472/500\n",
      "2338/2338 - 0s - loss: 1.6781 - mean_absolute_error: 0.9712 - val_loss: 7.2297 - val_mean_absolute_error: 1.8857 - 27ms/epoch - 12us/sample\n",
      "Epoch 473/500\n",
      "2338/2338 - 0s - loss: 1.6267 - mean_absolute_error: 0.9565 - val_loss: 5.9748 - val_mean_absolute_error: 1.6711 - 27ms/epoch - 12us/sample\n",
      "Epoch 474/500\n",
      "2338/2338 - 0s - loss: 1.6382 - mean_absolute_error: 0.9598 - val_loss: 5.7686 - val_mean_absolute_error: 1.6448 - 27ms/epoch - 12us/sample\n",
      "Epoch 475/500\n",
      "2338/2338 - 0s - loss: 1.6230 - mean_absolute_error: 0.9548 - val_loss: 5.8652 - val_mean_absolute_error: 1.6933 - 27ms/epoch - 12us/sample\n",
      "Epoch 476/500\n",
      "2338/2338 - 0s - loss: 1.6128 - mean_absolute_error: 0.9503 - val_loss: 6.7998 - val_mean_absolute_error: 1.8454 - 27ms/epoch - 12us/sample\n",
      "Epoch 477/500\n",
      "2338/2338 - 0s - loss: 1.6467 - mean_absolute_error: 0.9627 - val_loss: 7.5860 - val_mean_absolute_error: 1.9684 - 26ms/epoch - 11us/sample\n",
      "Epoch 478/500\n",
      "2338/2338 - 0s - loss: 1.6056 - mean_absolute_error: 0.9537 - val_loss: 5.9197 - val_mean_absolute_error: 1.6886 - 26ms/epoch - 11us/sample\n",
      "Epoch 479/500\n",
      "2338/2338 - 0s - loss: 1.6637 - mean_absolute_error: 0.9559 - val_loss: 5.8590 - val_mean_absolute_error: 1.7297 - 27ms/epoch - 12us/sample\n",
      "Epoch 480/500\n",
      "2338/2338 - 0s - loss: 1.6268 - mean_absolute_error: 0.9446 - val_loss: 5.6137 - val_mean_absolute_error: 1.6423 - 27ms/epoch - 11us/sample\n",
      "Epoch 481/500\n",
      "2338/2338 - 0s - loss: 1.6209 - mean_absolute_error: 0.9508 - val_loss: 5.7972 - val_mean_absolute_error: 1.6676 - 27ms/epoch - 11us/sample\n",
      "Epoch 482/500\n",
      "2338/2338 - 0s - loss: 1.6080 - mean_absolute_error: 0.9581 - val_loss: 5.2035 - val_mean_absolute_error: 1.6393 - 27ms/epoch - 12us/sample\n",
      "Epoch 483/500\n",
      "2338/2338 - 0s - loss: 1.6136 - mean_absolute_error: 0.9494 - val_loss: 5.7976 - val_mean_absolute_error: 1.6937 - 27ms/epoch - 12us/sample\n",
      "Epoch 484/500\n",
      "2338/2338 - 0s - loss: 1.6294 - mean_absolute_error: 0.9508 - val_loss: 5.4765 - val_mean_absolute_error: 1.6394 - 27ms/epoch - 12us/sample\n",
      "Epoch 485/500\n",
      "2338/2338 - 0s - loss: 1.5604 - mean_absolute_error: 0.9429 - val_loss: 5.5752 - val_mean_absolute_error: 1.6380 - 28ms/epoch - 12us/sample\n",
      "Epoch 486/500\n",
      "2338/2338 - 0s - loss: 1.5787 - mean_absolute_error: 0.9365 - val_loss: 6.1075 - val_mean_absolute_error: 1.7762 - 28ms/epoch - 12us/sample\n",
      "Epoch 487/500\n",
      "2338/2338 - 0s - loss: 1.6247 - mean_absolute_error: 0.9513 - val_loss: 5.1377 - val_mean_absolute_error: 1.6085 - 28ms/epoch - 12us/sample\n",
      "Epoch 488/500\n",
      "2338/2338 - 0s - loss: 1.5957 - mean_absolute_error: 0.9385 - val_loss: 6.3534 - val_mean_absolute_error: 1.7195 - 28ms/epoch - 12us/sample\n",
      "Epoch 489/500\n",
      "2338/2338 - 0s - loss: 1.5815 - mean_absolute_error: 0.9295 - val_loss: 6.0316 - val_mean_absolute_error: 1.6918 - 27ms/epoch - 12us/sample\n",
      "Epoch 490/500\n",
      "2338/2338 - 0s - loss: 1.5787 - mean_absolute_error: 0.9432 - val_loss: 7.6088 - val_mean_absolute_error: 1.9565 - 27ms/epoch - 12us/sample\n",
      "Epoch 491/500\n",
      "2338/2338 - 0s - loss: 1.6111 - mean_absolute_error: 0.9549 - val_loss: 5.8252 - val_mean_absolute_error: 1.6658 - 27ms/epoch - 12us/sample\n",
      "Epoch 492/500\n",
      "2338/2338 - 0s - loss: 1.5565 - mean_absolute_error: 0.9336 - val_loss: 5.6785 - val_mean_absolute_error: 1.6708 - 27ms/epoch - 12us/sample\n",
      "Epoch 493/500\n",
      "2338/2338 - 0s - loss: 1.6025 - mean_absolute_error: 0.9421 - val_loss: 5.5848 - val_mean_absolute_error: 1.6674 - 27ms/epoch - 12us/sample\n"
     ]
    },
    {
     "name": "stdout",
     "output_type": "stream",
     "text": [
      "Epoch 494/500\n",
      "2338/2338 - 0s - loss: 1.5518 - mean_absolute_error: 0.9308 - val_loss: 5.6105 - val_mean_absolute_error: 1.6587 - 28ms/epoch - 12us/sample\n",
      "Epoch 495/500\n",
      "2338/2338 - 0s - loss: 1.5739 - mean_absolute_error: 0.9353 - val_loss: 5.6715 - val_mean_absolute_error: 1.6857 - 28ms/epoch - 12us/sample\n",
      "Epoch 496/500\n",
      "2338/2338 - 0s - loss: 1.5841 - mean_absolute_error: 0.9472 - val_loss: 6.0257 - val_mean_absolute_error: 1.7159 - 27ms/epoch - 12us/sample\n",
      "Epoch 497/500\n",
      "2338/2338 - 0s - loss: 1.6028 - mean_absolute_error: 0.9397 - val_loss: 6.0979 - val_mean_absolute_error: 1.7519 - 26ms/epoch - 11us/sample\n",
      "Epoch 498/500\n",
      "2338/2338 - 0s - loss: 1.5633 - mean_absolute_error: 0.9406 - val_loss: 7.0023 - val_mean_absolute_error: 1.7757 - 26ms/epoch - 11us/sample\n",
      "Epoch 499/500\n",
      "2338/2338 - 0s - loss: 1.5797 - mean_absolute_error: 0.9364 - val_loss: 5.5128 - val_mean_absolute_error: 1.6522 - 27ms/epoch - 11us/sample\n",
      "Epoch 500/500\n",
      "2338/2338 - 0s - loss: 1.5742 - mean_absolute_error: 0.9407 - val_loss: 6.0872 - val_mean_absolute_error: 1.7224 - 27ms/epoch - 12us/sample\n"
     ]
    }
   ],
   "source": [
    "history = model.fit(X_train, y_train, epochs=500,\n",
    "                    validation_split=0.2, verbose=2)"
   ]
  },
  {
   "cell_type": "code",
   "execution_count": 16,
   "metadata": {
    "ExecuteTime": {
     "end_time": "2020-08-12T12:55:36.067274Z",
     "start_time": "2020-08-12T12:55:35.706348Z"
    }
   },
   "outputs": [
    {
     "data": {
      "image/png": "[encoded data removed]",
      "text/plain": [
       "<Figure size 432x288 with 1 Axes>"
      ]
     },
     "metadata": {
      "needs_background": "light"
     },
     "output_type": "display_data"
    }
   ],
   "source": [
    "import matplotlib.pyplot as plt\n",
    "%matplotlib inline\n",
    "\n",
    "def plot_history(history):\n",
    "  plt.figure()\n",
    "  plt.xlabel('Epoch')\n",
    "  plt.ylabel('Mean Abs Error [Rings]')\n",
    "  plt.plot(history.epoch, np.array(history.history['mean_absolute_error']), \n",
    "           label='Train Loss')\n",
    "  plt.plot(history.epoch, np.array(history.history['val_mean_absolute_error']),\n",
    "           label = 'Val loss')\n",
    "  plt.legend()\n",
    "  plt.ylim([0,5])\n",
    "\n",
    "plot_history(history)"
   ]
  },
  {
   "cell_type": "code",
   "execution_count": 13,
   "metadata": {
    "ExecuteTime": {
     "end_time": "2020-08-12T12:56:12.162940Z",
     "start_time": "2020-08-12T12:56:12.135327Z"
    }
   },
   "outputs": [
    {
     "name": "stdout",
     "output_type": "stream",
     "text": [
      "Testing set Mean Abs Error:    1.79\n"
     ]
    }
   ],
   "source": [
    "[loss, mae] = model.evaluate(X_test, y_test, verbose=0)\n",
    "\n",
    "print(\"Testing set Mean Abs Error: {:7.2f}\".format(mae))"
   ]
  },
  {
   "cell_type": "code",
   "execution_count": 14,
   "metadata": {
    "ExecuteTime": {
     "end_time": "2020-08-12T12:56:47.445865Z",
     "start_time": "2020-08-12T12:56:47.385757Z"
    }
   },
   "outputs": [
    {
     "name": "stdout",
     "output_type": "stream",
     "text": [
      "[13.027346   8.841921  15.542049  ...  8.9689045 10.383675   7.72008  ]\n"
     ]
    },
    {
     "name": "stderr",
     "output_type": "stream",
     "text": [
      "/Users/liukaiping/miniforge3/envs/py39/lib/python3.9/site-packages/keras/engine/training_v1.py:2079: UserWarning: `Model.state_updates` will be removed in a future version. This property should not be used in TensorFlow 2.0, as `updates` are applied automatically.\n",
      "  updates=self.state_updates,\n"
     ]
    }
   ],
   "source": [
    "test_predictions = model.predict(X_test).flatten()\n",
    "\n",
    "print(test_predictions)"
   ]
  },
  {
   "cell_type": "code",
   "execution_count": 15,
   "metadata": {
    "ExecuteTime": {
     "end_time": "2020-08-12T12:56:48.678648Z",
     "start_time": "2020-08-12T12:56:48.672825Z"
    }
   },
   "outputs": [
    {
     "data": {
      "text/plain": [
       "866      9\n",
       "1483     8\n",
       "599     16\n",
       "1702     9\n",
       "670     14\n",
       "        ..\n",
       "162     12\n",
       "2206     5\n",
       "3980     7\n",
       "3075    11\n",
       "2148     8\n",
       "Name: Rings, Length: 1254, dtype: int64"
      ]
     },
     "execution_count": 15,
     "metadata": {},
     "output_type": "execute_result"
    }
   ],
   "source": [
    "y_test"
   ]
  },
  {
   "cell_type": "code",
   "execution_count": null,
   "metadata": {},
   "outputs": [],
   "source": []
  }
 ],
 "metadata": {
  "kernelspec": {
   "display_name": "Python 3.9.9 64-bit",
   "language": "python",
   "name": "python399jvsc74a57bd0b0fa6594d8f4cbf19f97940f81e996739fb7646882a419484c72d19e05852a7e"
  },
  "language_info": {
   "codemirror_mode": {
    "name": "ipython",
    "version": 3
   },
   "file_extension": ".py",
   "mimetype": "text/x-python",
   "name": "python",
   "nbconvert_exporter": "python",
   "pygments_lexer": "ipython3",
   "version": "3.9.10"
  },
  "toc": {
   "base_numbering": 1,
   "nav_menu": {},
   "number_sections": true,
   "sideBar": true,
   "skip_h1_title": false,
   "title_cell": "Table of Contents",
   "title_sidebar": "Contents",
   "toc_cell": false,
   "toc_position": {},
   "toc_section_display": true,
   "toc_window_display": true
  }
 },
 "nbformat": 4,
 "nbformat_minor": 2
}
