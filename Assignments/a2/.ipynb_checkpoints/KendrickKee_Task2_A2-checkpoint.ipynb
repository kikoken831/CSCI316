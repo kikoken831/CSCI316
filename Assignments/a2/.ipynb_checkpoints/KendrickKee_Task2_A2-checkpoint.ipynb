{
 "cells": [
  {
   "cell_type": "markdown",
   "id": "8fc6b9dd",
   "metadata": {},
   "source": [
    "## - Name: Kendrick Kee\n",
    "## - UOW ID: 7366814"
   ]
  },
  {
   "cell_type": "code",
   "execution_count": 15,
   "id": "7b0b6865",
   "metadata": {
    "id": "7b0b6865"
   },
   "outputs": [],
   "source": [
    "#import tensorflow.compat.v1 as tf\n",
    "import tensorflow.compat.v2 as tf\n",
    "#tf.disable_v2_behavior()"
   ]
  },
  {
   "cell_type": "code",
   "execution_count": 16,
   "id": "fa8d39a9",
   "metadata": {
    "id": "fa8d39a9"
   },
   "outputs": [],
   "source": [
    "# Importing the libraries\n",
    "import pandas as pd\n",
    "import numpy as np\n",
    "from tensorflow import keras\n",
    "from tensorflow.keras import layers\n",
    "from sklearn.model_selection import train_test_split\n",
    "import seaborn as sns\n",
    "import matplotlib.pyplot as plt\n",
    "from tensorflow import keras\n",
    "from tensorflow.keras import layers"
   ]
  },
  {
   "cell_type": "code",
   "execution_count": 17,
   "id": "275eba51",
   "metadata": {
    "id": "275eba51"
   },
   "outputs": [],
   "source": [
    "# Importing the data\n",
    "df = pd.read_csv('magic04.data', header = None)"
   ]
  },
  {
   "cell_type": "code",
   "execution_count": 18,
   "id": "b258bb9e",
   "metadata": {
    "id": "b258bb9e"
   },
   "outputs": [],
   "source": [
    "#Assign column names\n",
    "df.columns = ['fLength','fWidth','fSize','fConc','fConc1',\n",
    "               'fAsym', 'fM3Long', 'fM3Trans', 'fAlpha', 'fDsit', 'target']"
   ]
  },
  {
   "cell_type": "code",
   "execution_count": 19,
   "id": "52e4725a",
   "metadata": {
    "colab": {
     "base_uri": "https://localhost:8080/",
     "height": 419
    },
    "id": "52e4725a",
    "outputId": "ca9658b1-4dc0-46a8-ea9a-dc4cbe4900fc"
   },
   "outputs": [
    {
     "data": {
      "text/html": [
       "\n",
       "  <div id=\"df-80acd3c3-7140-4241-a224-2e5603d00891\">\n",
       "    <div class=\"colab-df-container\">\n",
       "      <div>\n",
       "<style scoped>\n",
       "    .dataframe tbody tr th:only-of-type {\n",
       "        vertical-align: middle;\n",
       "    }\n",
       "\n",
       "    .dataframe tbody tr th {\n",
       "        vertical-align: top;\n",
       "    }\n",
       "\n",
       "    .dataframe thead th {\n",
       "        text-align: right;\n",
       "    }\n",
       "</style>\n",
       "<table border=\"1\" class=\"dataframe\">\n",
       "  <thead>\n",
       "    <tr style=\"text-align: right;\">\n",
       "      <th></th>\n",
       "      <th>fLength</th>\n",
       "      <th>fWidth</th>\n",
       "      <th>fSize</th>\n",
       "      <th>fConc</th>\n",
       "      <th>fConc1</th>\n",
       "      <th>fAsym</th>\n",
       "      <th>fM3Long</th>\n",
       "      <th>fM3Trans</th>\n",
       "      <th>fAlpha</th>\n",
       "      <th>fDsit</th>\n",
       "      <th>target</th>\n",
       "    </tr>\n",
       "  </thead>\n",
       "  <tbody>\n",
       "    <tr>\n",
       "      <th>0</th>\n",
       "      <td>28.7967</td>\n",
       "      <td>16.0021</td>\n",
       "      <td>2.6449</td>\n",
       "      <td>0.3918</td>\n",
       "      <td>0.1982</td>\n",
       "      <td>27.7004</td>\n",
       "      <td>22.0110</td>\n",
       "      <td>-8.2027</td>\n",
       "      <td>40.0920</td>\n",
       "      <td>81.8828</td>\n",
       "      <td>g</td>\n",
       "    </tr>\n",
       "    <tr>\n",
       "      <th>1</th>\n",
       "      <td>31.6036</td>\n",
       "      <td>11.7235</td>\n",
       "      <td>2.5185</td>\n",
       "      <td>0.5303</td>\n",
       "      <td>0.3773</td>\n",
       "      <td>26.2722</td>\n",
       "      <td>23.8238</td>\n",
       "      <td>-9.9574</td>\n",
       "      <td>6.3609</td>\n",
       "      <td>205.2610</td>\n",
       "      <td>g</td>\n",
       "    </tr>\n",
       "    <tr>\n",
       "      <th>2</th>\n",
       "      <td>162.0520</td>\n",
       "      <td>136.0310</td>\n",
       "      <td>4.0612</td>\n",
       "      <td>0.0374</td>\n",
       "      <td>0.0187</td>\n",
       "      <td>116.7410</td>\n",
       "      <td>-64.8580</td>\n",
       "      <td>-45.2160</td>\n",
       "      <td>76.9600</td>\n",
       "      <td>256.7880</td>\n",
       "      <td>g</td>\n",
       "    </tr>\n",
       "    <tr>\n",
       "      <th>3</th>\n",
       "      <td>23.8172</td>\n",
       "      <td>9.5728</td>\n",
       "      <td>2.3385</td>\n",
       "      <td>0.6147</td>\n",
       "      <td>0.3922</td>\n",
       "      <td>27.2107</td>\n",
       "      <td>-6.4633</td>\n",
       "      <td>-7.1513</td>\n",
       "      <td>10.4490</td>\n",
       "      <td>116.7370</td>\n",
       "      <td>g</td>\n",
       "    </tr>\n",
       "    <tr>\n",
       "      <th>4</th>\n",
       "      <td>75.1362</td>\n",
       "      <td>30.9205</td>\n",
       "      <td>3.1611</td>\n",
       "      <td>0.3168</td>\n",
       "      <td>0.1832</td>\n",
       "      <td>-5.5277</td>\n",
       "      <td>28.5525</td>\n",
       "      <td>21.8393</td>\n",
       "      <td>4.6480</td>\n",
       "      <td>356.4620</td>\n",
       "      <td>g</td>\n",
       "    </tr>\n",
       "    <tr>\n",
       "      <th>...</th>\n",
       "      <td>...</td>\n",
       "      <td>...</td>\n",
       "      <td>...</td>\n",
       "      <td>...</td>\n",
       "      <td>...</td>\n",
       "      <td>...</td>\n",
       "      <td>...</td>\n",
       "      <td>...</td>\n",
       "      <td>...</td>\n",
       "      <td>...</td>\n",
       "      <td>...</td>\n",
       "    </tr>\n",
       "    <tr>\n",
       "      <th>19015</th>\n",
       "      <td>21.3846</td>\n",
       "      <td>10.9170</td>\n",
       "      <td>2.6161</td>\n",
       "      <td>0.5857</td>\n",
       "      <td>0.3934</td>\n",
       "      <td>15.2618</td>\n",
       "      <td>11.5245</td>\n",
       "      <td>2.8766</td>\n",
       "      <td>2.4229</td>\n",
       "      <td>106.8258</td>\n",
       "      <td>h</td>\n",
       "    </tr>\n",
       "    <tr>\n",
       "      <th>19016</th>\n",
       "      <td>28.9452</td>\n",
       "      <td>6.7020</td>\n",
       "      <td>2.2672</td>\n",
       "      <td>0.5351</td>\n",
       "      <td>0.2784</td>\n",
       "      <td>37.0816</td>\n",
       "      <td>13.1853</td>\n",
       "      <td>-2.9632</td>\n",
       "      <td>86.7975</td>\n",
       "      <td>247.4560</td>\n",
       "      <td>h</td>\n",
       "    </tr>\n",
       "    <tr>\n",
       "      <th>19017</th>\n",
       "      <td>75.4455</td>\n",
       "      <td>47.5305</td>\n",
       "      <td>3.4483</td>\n",
       "      <td>0.1417</td>\n",
       "      <td>0.0549</td>\n",
       "      <td>-9.3561</td>\n",
       "      <td>41.0562</td>\n",
       "      <td>-9.4662</td>\n",
       "      <td>30.2987</td>\n",
       "      <td>256.5166</td>\n",
       "      <td>h</td>\n",
       "    </tr>\n",
       "    <tr>\n",
       "      <th>19018</th>\n",
       "      <td>120.5135</td>\n",
       "      <td>76.9018</td>\n",
       "      <td>3.9939</td>\n",
       "      <td>0.0944</td>\n",
       "      <td>0.0683</td>\n",
       "      <td>5.8043</td>\n",
       "      <td>-93.5224</td>\n",
       "      <td>-63.8389</td>\n",
       "      <td>84.6874</td>\n",
       "      <td>408.3166</td>\n",
       "      <td>h</td>\n",
       "    </tr>\n",
       "    <tr>\n",
       "      <th>19019</th>\n",
       "      <td>187.1814</td>\n",
       "      <td>53.0014</td>\n",
       "      <td>3.2093</td>\n",
       "      <td>0.2876</td>\n",
       "      <td>0.1539</td>\n",
       "      <td>-167.3125</td>\n",
       "      <td>-168.4558</td>\n",
       "      <td>31.4755</td>\n",
       "      <td>52.7310</td>\n",
       "      <td>272.3174</td>\n",
       "      <td>h</td>\n",
       "    </tr>\n",
       "  </tbody>\n",
       "</table>\n",
       "<p>19020 rows × 11 columns</p>\n",
       "</div>\n",
       "      <button class=\"colab-df-convert\" onclick=\"convertToInteractive('df-80acd3c3-7140-4241-a224-2e5603d00891')\"\n",
       "              title=\"Convert this dataframe to an interactive table.\"\n",
       "              style=\"display:none;\">\n",
       "        \n",
       "  <svg xmlns=\"http://www.w3.org/2000/svg\" height=\"24px\"viewBox=\"0 0 24 24\"\n",
       "       width=\"24px\">\n",
       "    <path d=\"M0 0h24v24H0V0z\" fill=\"none\"/>\n",
       "    <path d=\"M18.56 5.44l.94 2.06.94-2.06 2.06-.94-2.06-.94-.94-2.06-.94 2.06-2.06.94zm-11 1L8.5 8.5l.94-2.06 2.06-.94-2.06-.94L8.5 2.5l-.94 2.06-2.06.94zm10 10l.94 2.06.94-2.06 2.06-.94-2.06-.94-.94-2.06-.94 2.06-2.06.94z\"/><path d=\"M17.41 7.96l-1.37-1.37c-.4-.4-.92-.59-1.43-.59-.52 0-1.04.2-1.43.59L10.3 9.45l-7.72 7.72c-.78.78-.78 2.05 0 2.83L4 21.41c.39.39.9.59 1.41.59.51 0 1.02-.2 1.41-.59l7.78-7.78 2.81-2.81c.8-.78.8-2.07 0-2.86zM5.41 20L4 18.59l7.72-7.72 1.47 1.35L5.41 20z\"/>\n",
       "  </svg>\n",
       "      </button>\n",
       "      \n",
       "  <style>\n",
       "    .colab-df-container {\n",
       "      display:flex;\n",
       "      flex-wrap:wrap;\n",
       "      gap: 12px;\n",
       "    }\n",
       "\n",
       "    .colab-df-convert {\n",
       "      background-color: #E8F0FE;\n",
       "      border: none;\n",
       "      border-radius: 50%;\n",
       "      cursor: pointer;\n",
       "      display: none;\n",
       "      fill: #1967D2;\n",
       "      height: 32px;\n",
       "      padding: 0 0 0 0;\n",
       "      width: 32px;\n",
       "    }\n",
       "\n",
       "    .colab-df-convert:hover {\n",
       "      background-color: #E2EBFA;\n",
       "      box-shadow: 0px 1px 2px rgba(60, 64, 67, 0.3), 0px 1px 3px 1px rgba(60, 64, 67, 0.15);\n",
       "      fill: #174EA6;\n",
       "    }\n",
       "\n",
       "    [theme=dark] .colab-df-convert {\n",
       "      background-color: #3B4455;\n",
       "      fill: #D2E3FC;\n",
       "    }\n",
       "\n",
       "    [theme=dark] .colab-df-convert:hover {\n",
       "      background-color: #434B5C;\n",
       "      box-shadow: 0px 1px 3px 1px rgba(0, 0, 0, 0.15);\n",
       "      filter: drop-shadow(0px 1px 2px rgba(0, 0, 0, 0.3));\n",
       "      fill: #FFFFFF;\n",
       "    }\n",
       "  </style>\n",
       "\n",
       "      <script>\n",
       "        const buttonEl =\n",
       "          document.querySelector('#df-80acd3c3-7140-4241-a224-2e5603d00891 button.colab-df-convert');\n",
       "        buttonEl.style.display =\n",
       "          google.colab.kernel.accessAllowed ? 'block' : 'none';\n",
       "\n",
       "        async function convertToInteractive(key) {\n",
       "          const element = document.querySelector('#df-80acd3c3-7140-4241-a224-2e5603d00891');\n",
       "          const dataTable =\n",
       "            await google.colab.kernel.invokeFunction('convertToInteractive',\n",
       "                                                     [key], {});\n",
       "          if (!dataTable) return;\n",
       "\n",
       "          const docLinkHtml = 'Like what you see? Visit the ' +\n",
       "            '<a target=\"_blank\" href=https://colab.research.google.com/notebooks/data_table.ipynb>data table notebook</a>'\n",
       "            + ' to learn more about interactive tables.';\n",
       "          element.innerHTML = '';\n",
       "          dataTable['output_type'] = 'display_data';\n",
       "          await google.colab.output.renderOutput(dataTable, element);\n",
       "          const docLink = document.createElement('div');\n",
       "          docLink.innerHTML = docLinkHtml;\n",
       "          element.appendChild(docLink);\n",
       "        }\n",
       "      </script>\n",
       "    </div>\n",
       "  </div>\n",
       "  "
      ],
      "text/plain": [
       "        fLength    fWidth   fSize   fConc  ...  fM3Trans   fAlpha     fDsit  target\n",
       "0       28.7967   16.0021  2.6449  0.3918  ...   -8.2027  40.0920   81.8828       g\n",
       "1       31.6036   11.7235  2.5185  0.5303  ...   -9.9574   6.3609  205.2610       g\n",
       "2      162.0520  136.0310  4.0612  0.0374  ...  -45.2160  76.9600  256.7880       g\n",
       "3       23.8172    9.5728  2.3385  0.6147  ...   -7.1513  10.4490  116.7370       g\n",
       "4       75.1362   30.9205  3.1611  0.3168  ...   21.8393   4.6480  356.4620       g\n",
       "...         ...       ...     ...     ...  ...       ...      ...       ...     ...\n",
       "19015   21.3846   10.9170  2.6161  0.5857  ...    2.8766   2.4229  106.8258       h\n",
       "19016   28.9452    6.7020  2.2672  0.5351  ...   -2.9632  86.7975  247.4560       h\n",
       "19017   75.4455   47.5305  3.4483  0.1417  ...   -9.4662  30.2987  256.5166       h\n",
       "19018  120.5135   76.9018  3.9939  0.0944  ...  -63.8389  84.6874  408.3166       h\n",
       "19019  187.1814   53.0014  3.2093  0.2876  ...   31.4755  52.7310  272.3174       h\n",
       "\n",
       "[19020 rows x 11 columns]"
      ]
     },
     "execution_count": 19,
     "metadata": {},
     "output_type": "execute_result"
    }
   ],
   "source": [
    "#printing to check if column names have been assigned \n",
    "df"
   ]
  },
  {
   "cell_type": "markdown",
   "id": "d07cb8fc",
   "metadata": {
    "id": "d07cb8fc"
   },
   "source": [
    "As observed, there are 11 columns that we will be working with, and 19020 rows of data. "
   ]
  },
  {
   "cell_type": "code",
   "execution_count": 20,
   "id": "7f04d999",
   "metadata": {
    "colab": {
     "base_uri": "https://localhost:8080/",
     "height": 0
    },
    "id": "7f04d999",
    "outputId": "a7f2072e-5330-45f2-fb91-760447214981"
   },
   "outputs": [
    {
     "name": "stdout",
     "output_type": "stream",
     "text": [
      "<class 'pandas.core.frame.DataFrame'>\n",
      "RangeIndex: 5 entries, 0 to 4\n",
      "Data columns (total 11 columns):\n",
      " #   Column    Non-Null Count  Dtype  \n",
      "---  ------    --------------  -----  \n",
      " 0   fLength   5 non-null      float64\n",
      " 1   fWidth    5 non-null      float64\n",
      " 2   fSize     5 non-null      float64\n",
      " 3   fConc     5 non-null      float64\n",
      " 4   fConc1    5 non-null      float64\n",
      " 5   fAsym     5 non-null      float64\n",
      " 6   fM3Long   5 non-null      float64\n",
      " 7   fM3Trans  5 non-null      float64\n",
      " 8   fAlpha    5 non-null      float64\n",
      " 9   fDsit     5 non-null      float64\n",
      " 10  target    5 non-null      object \n",
      "dtypes: float64(10), object(1)\n",
      "memory usage: 568.0+ bytes\n"
     ]
    }
   ],
   "source": [
    "# Check if any missing data and data types\n",
    "df.head().info()"
   ]
  },
  {
   "cell_type": "code",
   "execution_count": 21,
   "id": "ec0218f7",
   "metadata": {
    "id": "ec0218f7"
   },
   "outputs": [],
   "source": [
    "##Encode the class \n",
    "newdf = pd.Series(df['target'], dtype = \"category\")\n",
    "df['target'] = newdf.cat.codes"
   ]
  },
  {
   "cell_type": "markdown",
   "id": "CZWMQkdNeT9V",
   "metadata": {
    "id": "CZWMQkdNeT9V"
   },
   "source": [
    "##### Encoding gamma and hadron to 0,1 instead of g and h"
   ]
  },
  {
   "cell_type": "code",
   "execution_count": 22,
   "id": "b9abe031",
   "metadata": {
    "colab": {
     "base_uri": "https://localhost:8080/",
     "height": 0
    },
    "id": "b9abe031",
    "outputId": "f8648375-ac06-4c63-f79c-4fe02e4288b6"
   },
   "outputs": [
    {
     "name": "stdout",
     "output_type": "stream",
     "text": [
      "<class 'pandas.core.frame.DataFrame'>\n",
      "RangeIndex: 5 entries, 0 to 4\n",
      "Data columns (total 11 columns):\n",
      " #   Column    Non-Null Count  Dtype  \n",
      "---  ------    --------------  -----  \n",
      " 0   fLength   5 non-null      float64\n",
      " 1   fWidth    5 non-null      float64\n",
      " 2   fSize     5 non-null      float64\n",
      " 3   fConc     5 non-null      float64\n",
      " 4   fConc1    5 non-null      float64\n",
      " 5   fAsym     5 non-null      float64\n",
      " 6   fM3Long   5 non-null      float64\n",
      " 7   fM3Trans  5 non-null      float64\n",
      " 8   fAlpha    5 non-null      float64\n",
      " 9   fDsit     5 non-null      float64\n",
      " 10  target    5 non-null      int8   \n",
      "dtypes: float64(10), int8(1)\n",
      "memory usage: 533.0 bytes\n"
     ]
    }
   ],
   "source": [
    "#making sure that all data types are numerical\n",
    "df.head().info()"
   ]
  },
  {
   "cell_type": "markdown",
   "id": "69XxcOuIqaxW",
   "metadata": {
    "id": "69XxcOuIqaxW"
   },
   "source": [
    "#### making sure all data types are numerical"
   ]
  },
  {
   "cell_type": "code",
   "execution_count": 23,
   "id": "d00bb16b",
   "metadata": {
    "colab": {
     "base_uri": "https://localhost:8080/",
     "height": 419
    },
    "id": "d00bb16b",
    "outputId": "6df1e268-ca49-4544-83f2-d7155c25cb5c"
   },
   "outputs": [
    {
     "data": {
      "text/html": [
       "\n",
       "  <div id=\"df-e6e4da7f-5682-4344-b00e-100f5dcfa7aa\">\n",
       "    <div class=\"colab-df-container\">\n",
       "      <div>\n",
       "<style scoped>\n",
       "    .dataframe tbody tr th:only-of-type {\n",
       "        vertical-align: middle;\n",
       "    }\n",
       "\n",
       "    .dataframe tbody tr th {\n",
       "        vertical-align: top;\n",
       "    }\n",
       "\n",
       "    .dataframe thead th {\n",
       "        text-align: right;\n",
       "    }\n",
       "</style>\n",
       "<table border=\"1\" class=\"dataframe\">\n",
       "  <thead>\n",
       "    <tr style=\"text-align: right;\">\n",
       "      <th></th>\n",
       "      <th>fLength</th>\n",
       "      <th>fWidth</th>\n",
       "      <th>fSize</th>\n",
       "      <th>fConc</th>\n",
       "      <th>fConc1</th>\n",
       "      <th>fAsym</th>\n",
       "      <th>fM3Long</th>\n",
       "      <th>fM3Trans</th>\n",
       "      <th>fAlpha</th>\n",
       "      <th>fDsit</th>\n",
       "      <th>target</th>\n",
       "    </tr>\n",
       "  </thead>\n",
       "  <tbody>\n",
       "    <tr>\n",
       "      <th>0</th>\n",
       "      <td>28.7967</td>\n",
       "      <td>16.0021</td>\n",
       "      <td>2.6449</td>\n",
       "      <td>0.3918</td>\n",
       "      <td>0.1982</td>\n",
       "      <td>27.7004</td>\n",
       "      <td>22.0110</td>\n",
       "      <td>-8.2027</td>\n",
       "      <td>40.0920</td>\n",
       "      <td>81.8828</td>\n",
       "      <td>0</td>\n",
       "    </tr>\n",
       "    <tr>\n",
       "      <th>1</th>\n",
       "      <td>31.6036</td>\n",
       "      <td>11.7235</td>\n",
       "      <td>2.5185</td>\n",
       "      <td>0.5303</td>\n",
       "      <td>0.3773</td>\n",
       "      <td>26.2722</td>\n",
       "      <td>23.8238</td>\n",
       "      <td>-9.9574</td>\n",
       "      <td>6.3609</td>\n",
       "      <td>205.2610</td>\n",
       "      <td>0</td>\n",
       "    </tr>\n",
       "    <tr>\n",
       "      <th>2</th>\n",
       "      <td>162.0520</td>\n",
       "      <td>136.0310</td>\n",
       "      <td>4.0612</td>\n",
       "      <td>0.0374</td>\n",
       "      <td>0.0187</td>\n",
       "      <td>116.7410</td>\n",
       "      <td>-64.8580</td>\n",
       "      <td>-45.2160</td>\n",
       "      <td>76.9600</td>\n",
       "      <td>256.7880</td>\n",
       "      <td>0</td>\n",
       "    </tr>\n",
       "    <tr>\n",
       "      <th>3</th>\n",
       "      <td>23.8172</td>\n",
       "      <td>9.5728</td>\n",
       "      <td>2.3385</td>\n",
       "      <td>0.6147</td>\n",
       "      <td>0.3922</td>\n",
       "      <td>27.2107</td>\n",
       "      <td>-6.4633</td>\n",
       "      <td>-7.1513</td>\n",
       "      <td>10.4490</td>\n",
       "      <td>116.7370</td>\n",
       "      <td>0</td>\n",
       "    </tr>\n",
       "    <tr>\n",
       "      <th>4</th>\n",
       "      <td>75.1362</td>\n",
       "      <td>30.9205</td>\n",
       "      <td>3.1611</td>\n",
       "      <td>0.3168</td>\n",
       "      <td>0.1832</td>\n",
       "      <td>-5.5277</td>\n",
       "      <td>28.5525</td>\n",
       "      <td>21.8393</td>\n",
       "      <td>4.6480</td>\n",
       "      <td>356.4620</td>\n",
       "      <td>0</td>\n",
       "    </tr>\n",
       "    <tr>\n",
       "      <th>...</th>\n",
       "      <td>...</td>\n",
       "      <td>...</td>\n",
       "      <td>...</td>\n",
       "      <td>...</td>\n",
       "      <td>...</td>\n",
       "      <td>...</td>\n",
       "      <td>...</td>\n",
       "      <td>...</td>\n",
       "      <td>...</td>\n",
       "      <td>...</td>\n",
       "      <td>...</td>\n",
       "    </tr>\n",
       "    <tr>\n",
       "      <th>19015</th>\n",
       "      <td>21.3846</td>\n",
       "      <td>10.9170</td>\n",
       "      <td>2.6161</td>\n",
       "      <td>0.5857</td>\n",
       "      <td>0.3934</td>\n",
       "      <td>15.2618</td>\n",
       "      <td>11.5245</td>\n",
       "      <td>2.8766</td>\n",
       "      <td>2.4229</td>\n",
       "      <td>106.8258</td>\n",
       "      <td>1</td>\n",
       "    </tr>\n",
       "    <tr>\n",
       "      <th>19016</th>\n",
       "      <td>28.9452</td>\n",
       "      <td>6.7020</td>\n",
       "      <td>2.2672</td>\n",
       "      <td>0.5351</td>\n",
       "      <td>0.2784</td>\n",
       "      <td>37.0816</td>\n",
       "      <td>13.1853</td>\n",
       "      <td>-2.9632</td>\n",
       "      <td>86.7975</td>\n",
       "      <td>247.4560</td>\n",
       "      <td>1</td>\n",
       "    </tr>\n",
       "    <tr>\n",
       "      <th>19017</th>\n",
       "      <td>75.4455</td>\n",
       "      <td>47.5305</td>\n",
       "      <td>3.4483</td>\n",
       "      <td>0.1417</td>\n",
       "      <td>0.0549</td>\n",
       "      <td>-9.3561</td>\n",
       "      <td>41.0562</td>\n",
       "      <td>-9.4662</td>\n",
       "      <td>30.2987</td>\n",
       "      <td>256.5166</td>\n",
       "      <td>1</td>\n",
       "    </tr>\n",
       "    <tr>\n",
       "      <th>19018</th>\n",
       "      <td>120.5135</td>\n",
       "      <td>76.9018</td>\n",
       "      <td>3.9939</td>\n",
       "      <td>0.0944</td>\n",
       "      <td>0.0683</td>\n",
       "      <td>5.8043</td>\n",
       "      <td>-93.5224</td>\n",
       "      <td>-63.8389</td>\n",
       "      <td>84.6874</td>\n",
       "      <td>408.3166</td>\n",
       "      <td>1</td>\n",
       "    </tr>\n",
       "    <tr>\n",
       "      <th>19019</th>\n",
       "      <td>187.1814</td>\n",
       "      <td>53.0014</td>\n",
       "      <td>3.2093</td>\n",
       "      <td>0.2876</td>\n",
       "      <td>0.1539</td>\n",
       "      <td>-167.3125</td>\n",
       "      <td>-168.4558</td>\n",
       "      <td>31.4755</td>\n",
       "      <td>52.7310</td>\n",
       "      <td>272.3174</td>\n",
       "      <td>1</td>\n",
       "    </tr>\n",
       "  </tbody>\n",
       "</table>\n",
       "<p>19020 rows × 11 columns</p>\n",
       "</div>\n",
       "      <button class=\"colab-df-convert\" onclick=\"convertToInteractive('df-e6e4da7f-5682-4344-b00e-100f5dcfa7aa')\"\n",
       "              title=\"Convert this dataframe to an interactive table.\"\n",
       "              style=\"display:none;\">\n",
       "        \n",
       "  <svg xmlns=\"http://www.w3.org/2000/svg\" height=\"24px\"viewBox=\"0 0 24 24\"\n",
       "       width=\"24px\">\n",
       "    <path d=\"M0 0h24v24H0V0z\" fill=\"none\"/>\n",
       "    <path d=\"M18.56 5.44l.94 2.06.94-2.06 2.06-.94-2.06-.94-.94-2.06-.94 2.06-2.06.94zm-11 1L8.5 8.5l.94-2.06 2.06-.94-2.06-.94L8.5 2.5l-.94 2.06-2.06.94zm10 10l.94 2.06.94-2.06 2.06-.94-2.06-.94-.94-2.06-.94 2.06-2.06.94z\"/><path d=\"M17.41 7.96l-1.37-1.37c-.4-.4-.92-.59-1.43-.59-.52 0-1.04.2-1.43.59L10.3 9.45l-7.72 7.72c-.78.78-.78 2.05 0 2.83L4 21.41c.39.39.9.59 1.41.59.51 0 1.02-.2 1.41-.59l7.78-7.78 2.81-2.81c.8-.78.8-2.07 0-2.86zM5.41 20L4 18.59l7.72-7.72 1.47 1.35L5.41 20z\"/>\n",
       "  </svg>\n",
       "      </button>\n",
       "      \n",
       "  <style>\n",
       "    .colab-df-container {\n",
       "      display:flex;\n",
       "      flex-wrap:wrap;\n",
       "      gap: 12px;\n",
       "    }\n",
       "\n",
       "    .colab-df-convert {\n",
       "      background-color: #E8F0FE;\n",
       "      border: none;\n",
       "      border-radius: 50%;\n",
       "      cursor: pointer;\n",
       "      display: none;\n",
       "      fill: #1967D2;\n",
       "      height: 32px;\n",
       "      padding: 0 0 0 0;\n",
       "      width: 32px;\n",
       "    }\n",
       "\n",
       "    .colab-df-convert:hover {\n",
       "      background-color: #E2EBFA;\n",
       "      box-shadow: 0px 1px 2px rgba(60, 64, 67, 0.3), 0px 1px 3px 1px rgba(60, 64, 67, 0.15);\n",
       "      fill: #174EA6;\n",
       "    }\n",
       "\n",
       "    [theme=dark] .colab-df-convert {\n",
       "      background-color: #3B4455;\n",
       "      fill: #D2E3FC;\n",
       "    }\n",
       "\n",
       "    [theme=dark] .colab-df-convert:hover {\n",
       "      background-color: #434B5C;\n",
       "      box-shadow: 0px 1px 3px 1px rgba(0, 0, 0, 0.15);\n",
       "      filter: drop-shadow(0px 1px 2px rgba(0, 0, 0, 0.3));\n",
       "      fill: #FFFFFF;\n",
       "    }\n",
       "  </style>\n",
       "\n",
       "      <script>\n",
       "        const buttonEl =\n",
       "          document.querySelector('#df-e6e4da7f-5682-4344-b00e-100f5dcfa7aa button.colab-df-convert');\n",
       "        buttonEl.style.display =\n",
       "          google.colab.kernel.accessAllowed ? 'block' : 'none';\n",
       "\n",
       "        async function convertToInteractive(key) {\n",
       "          const element = document.querySelector('#df-e6e4da7f-5682-4344-b00e-100f5dcfa7aa');\n",
       "          const dataTable =\n",
       "            await google.colab.kernel.invokeFunction('convertToInteractive',\n",
       "                                                     [key], {});\n",
       "          if (!dataTable) return;\n",
       "\n",
       "          const docLinkHtml = 'Like what you see? Visit the ' +\n",
       "            '<a target=\"_blank\" href=https://colab.research.google.com/notebooks/data_table.ipynb>data table notebook</a>'\n",
       "            + ' to learn more about interactive tables.';\n",
       "          element.innerHTML = '';\n",
       "          dataTable['output_type'] = 'display_data';\n",
       "          await google.colab.output.renderOutput(dataTable, element);\n",
       "          const docLink = document.createElement('div');\n",
       "          docLink.innerHTML = docLinkHtml;\n",
       "          element.appendChild(docLink);\n",
       "        }\n",
       "      </script>\n",
       "    </div>\n",
       "  </div>\n",
       "  "
      ],
      "text/plain": [
       "        fLength    fWidth   fSize   fConc  ...  fM3Trans   fAlpha     fDsit  target\n",
       "0       28.7967   16.0021  2.6449  0.3918  ...   -8.2027  40.0920   81.8828       0\n",
       "1       31.6036   11.7235  2.5185  0.5303  ...   -9.9574   6.3609  205.2610       0\n",
       "2      162.0520  136.0310  4.0612  0.0374  ...  -45.2160  76.9600  256.7880       0\n",
       "3       23.8172    9.5728  2.3385  0.6147  ...   -7.1513  10.4490  116.7370       0\n",
       "4       75.1362   30.9205  3.1611  0.3168  ...   21.8393   4.6480  356.4620       0\n",
       "...         ...       ...     ...     ...  ...       ...      ...       ...     ...\n",
       "19015   21.3846   10.9170  2.6161  0.5857  ...    2.8766   2.4229  106.8258       1\n",
       "19016   28.9452    6.7020  2.2672  0.5351  ...   -2.9632  86.7975  247.4560       1\n",
       "19017   75.4455   47.5305  3.4483  0.1417  ...   -9.4662  30.2987  256.5166       1\n",
       "19018  120.5135   76.9018  3.9939  0.0944  ...  -63.8389  84.6874  408.3166       1\n",
       "19019  187.1814   53.0014  3.2093  0.2876  ...   31.4755  52.7310  272.3174       1\n",
       "\n",
       "[19020 rows x 11 columns]"
      ]
     },
     "execution_count": 23,
     "metadata": {},
     "output_type": "execute_result"
    }
   ],
   "source": [
    "#view the datafram\n",
    "df"
   ]
  },
  {
   "cell_type": "code",
   "execution_count": 24,
   "id": "8fc98703",
   "metadata": {
    "id": "8fc98703"
   },
   "outputs": [],
   "source": [
    "X = df.drop(['target'],axis=1)\n",
    "y = df.target"
   ]
  },
  {
   "cell_type": "code",
   "execution_count": 25,
   "id": "7fa62374",
   "metadata": {
    "id": "7fa62374"
   },
   "outputs": [],
   "source": [
    "# Splitting the dataset into the Training set and Test set\n",
    "X_train, X_test, y_train, y_test = train_test_split(X, y, test_size = 0.3, random_state = 42069)"
   ]
  },
  {
   "cell_type": "markdown",
   "id": "NwfvFC7WqhMw",
   "metadata": {
    "id": "NwfvFC7WqhMw"
   },
   "source": [
    "#### splitting dataset 70% for training and 30% for testing."
   ]
  },
  {
   "cell_type": "code",
   "execution_count": 26,
   "id": "1d1e30dc",
   "metadata": {
    "id": "1d1e30dc"
   },
   "outputs": [],
   "source": [
    "# Feature Scaling because yes we don't want one independent variable dominating the other and it makes computations easy\n",
    "from sklearn.preprocessing import StandardScaler\n",
    "sc = StandardScaler()\n",
    "X_train = sc.fit_transform(X_train)\n",
    "X_test = sc.transform(X_test)"
   ]
  },
  {
   "cell_type": "code",
   "execution_count": 27,
   "id": "e10b45a0",
   "metadata": {
    "id": "e10b45a0"
   },
   "outputs": [],
   "source": [
    "from keras.models import Sequential\n",
    "from keras.layers import Dense"
   ]
  },
  {
   "cell_type": "markdown",
   "id": "sXtaR-NNqtRm",
   "metadata": {
    "id": "sXtaR-NNqtRm"
   },
   "source": [
    "#### importing keras for ANN implementation"
   ]
  },
  {
   "cell_type": "code",
   "execution_count": 28,
   "id": "3c3acc93",
   "metadata": {
    "colab": {
     "base_uri": "https://localhost:8080/",
     "height": 0
    },
    "id": "3c3acc93",
    "outputId": "0e149cb3-76b6-4b38-d8d6-1ffee8bc183f"
   },
   "outputs": [
    {
     "name": "stdout",
     "output_type": "stream",
     "text": [
      "1332/1332 [==============================] - 2s 1ms/step - loss: 0.2975 - accuracy: 0.8752\n",
      "Train score: 0.2975310981273651\n",
      "Train accuracy: 0.8751689791679382\n"
     ]
    }
   ],
   "source": [
    "classifier = Sequential()\n",
    "# Adding the input layer\n",
    "classifier.add(Dense(units = 10, kernel_initializer = 'uniform', activation = 'relu', input_dim = 10))\n",
    "\n",
    "# Adding the first hidden layer\n",
    "classifier.add(Dense(units = 10, kernel_initializer = 'uniform', activation = 'softmax'))\n",
    "\n",
    "# Adding the second hidden layer\n",
    "classifier.add(Dense(units = 10, kernel_initializer = 'uniform', activation = 'softmax'))\n",
    "\n",
    "# Adding the output layer\n",
    "classifier.add(Dense(units = 1, kernel_initializer = 'uniform', activation = 'sigmoid'))\n",
    "\n",
    "# Compiling the ANN | means applying SGD on the whole ANN\n",
    "classifier.compile(optimizer = 'adam', loss = 'binary_crossentropy', metrics = ['accuracy'])\n",
    "\n",
    "# Fitting the ANN to the Training set\n",
    "history = classifier.fit(X_train, y_train, batch_size = 10, epochs = 100,verbose = 0)\n",
    "\n",
    "score, acc = classifier.evaluate(X_train, y_train,\n",
    "                            batch_size=10)\n",
    "print('Train score:', score)\n",
    "print('Train accuracy:', acc)"
   ]
  },
  {
   "cell_type": "markdown",
   "id": "0r4k73OOqzpw",
   "metadata": {
    "id": "0r4k73OOqzpw"
   },
   "source": [
    "#### Created an ANN with 1 input layer and 2 hidden layers and 1 output layer. Each layer is initiated with 10 neurons with the input layer having 'relu' activation function, hidden layers having 'softmax' activation function an the output layer having the 'sigmoid' activation function.\n",
    "\n",
    "#### In addition, using 'adam' instead of the default sigmoid gradiant decent as an optimization function. \n",
    "\n",
    "#### Using these settings, the accuracy of the model is 87% on the training set with the training score of 0.29\n",
    "\n"
   ]
  },
  {
   "cell_type": "code",
   "execution_count": 29,
   "id": "21a9d5ee",
   "metadata": {
    "colab": {
     "base_uri": "https://localhost:8080/",
     "height": 0
    },
    "id": "21a9d5ee",
    "outputId": "da528801-5ad1-4318-ce9a-4e20ac80b48e"
   },
   "outputs": [
    {
     "name": "stdout",
     "output_type": "stream",
     "text": [
      "Model: \"sequential_1\"\n",
      "_________________________________________________________________\n",
      " Layer (type)                Output Shape              Param #   \n",
      "=================================================================\n",
      " dense_4 (Dense)             (None, 10)                110       \n",
      "                                                                 \n",
      " dense_5 (Dense)             (None, 10)                110       \n",
      "                                                                 \n",
      " dense_6 (Dense)             (None, 10)                110       \n",
      "                                                                 \n",
      " dense_7 (Dense)             (None, 1)                 11        \n",
      "                                                                 \n",
      "=================================================================\n",
      "Total params: 341\n",
      "Trainable params: 341\n",
      "Non-trainable params: 0\n",
      "_________________________________________________________________\n"
     ]
    }
   ],
   "source": [
    "classifier.summary()"
   ]
  },
  {
   "cell_type": "code",
   "execution_count": 30,
   "id": "840346b3",
   "metadata": {
    "colab": {
     "base_uri": "https://localhost:8080/",
     "height": 0
    },
    "id": "840346b3",
    "outputId": "1a7b7eab-6c42-4b0e-e5e0-41bcbca833a6"
   },
   "outputs": [
    {
     "name": "stdout",
     "output_type": "stream",
     "text": [
      "571/571 [==============================] - 1s 1ms/step - loss: 0.3113 - accuracy: 0.8680\n",
      "Test score: 0.3113068640232086\n",
      "Test accuracy: 0.8680336475372314\n"
     ]
    }
   ],
   "source": [
    "# Predicting the Test set results\n",
    "y_pred = classifier.predict(X_test)\n",
    "y_pred = (y_pred > 0.5)\n",
    "\n",
    "score, acc = classifier.evaluate(X_test, y_test,\n",
    "                            batch_size=10)\n",
    "print('Test score:', score)\n",
    "print('Test accuracy:', acc)"
   ]
  },
  {
   "cell_type": "markdown",
   "id": "tNOgEC8ivUTX",
   "metadata": {
    "id": "tNOgEC8ivUTX"
   },
   "source": [
    "#### Using the model to predict unseen data, the testing accuracy is 87% which is equal to the accuracy of the training dataset, therefore we can conclude that no overfitting has ocurred and the model has achieved a level of generalization."
   ]
  },
  {
   "cell_type": "code",
   "execution_count": 31,
   "id": "22c899fa",
   "metadata": {
    "id": "22c899fa"
   },
   "outputs": [],
   "source": [
    "# Making the Confusion Matrix\n",
    "from sklearn.metrics import confusion_matrix\n",
    "cm = confusion_matrix(y_test, y_pred)"
   ]
  },
  {
   "cell_type": "code",
   "execution_count": 32,
   "id": "cc379914",
   "metadata": {
    "colab": {
     "base_uri": "https://localhost:8080/",
     "height": 312
    },
    "id": "cc379914",
    "outputId": "0fe72b3f-c4a2-4e7e-d78b-a5a7d82b6313"
   },
   "outputs": [
    {
     "data": {
      "text/plain": [
       "Text(0.5, 15.0, 'Predicted label')"
      ]
     },
     "execution_count": 32,
     "metadata": {},
     "output_type": "execute_result"
    },
    {
     "data": {
      "image/png": "[encoded data removed]",
      "text/plain": [
       "<Figure size 432x288 with 2 Axes>"
      ]
     },
     "metadata": {
      "needs_background": "light"
     },
     "output_type": "display_data"
    }
   ],
   "source": [
    "p = sns.heatmap(pd.DataFrame(cm), annot=True, cmap=\"YlGnBu\" ,fmt='g')\n",
    "plt.title('Confusion matrix', y=1.1)\n",
    "plt.ylabel('Actual label')\n",
    "plt.xlabel('Predicted label')"
   ]
  },
  {
   "cell_type": "markdown",
   "id": "yEh-UKSEv1bN",
   "metadata": {
    "id": "yEh-UKSEv1bN"
   },
   "source": [
    "#### here we can observe that majority of the labels are classified correctly, with 478 labels mis-classified as 0 (gamma) and 275 mis-classified as 1 (hardon)"
   ]
  },
  {
   "cell_type": "code",
   "execution_count": 33,
   "id": "85771e16",
   "metadata": {
    "colab": {
     "base_uri": "https://localhost:8080/",
     "height": 0
    },
    "id": "85771e16",
    "outputId": "bf2fc7b4-5ade-4f3d-8816-23af957318c2"
   },
   "outputs": [
    {
     "name": "stdout",
     "output_type": "stream",
     "text": [
      "              precision    recall  f1-score   support\n",
      "\n",
      "           0       0.88      0.93      0.90      3683\n",
      "           1       0.85      0.76      0.80      2023\n",
      "\n",
      "    accuracy                           0.87      5706\n",
      "   macro avg       0.86      0.84      0.85      5706\n",
      "weighted avg       0.87      0.87      0.87      5706\n",
      "\n"
     ]
    }
   ],
   "source": [
    "#import classification_report\n",
    "from sklearn.metrics import classification_report\n",
    "print(classification_report(y_test,y_pred))"
   ]
  },
  {
   "cell_type": "code",
   "execution_count": 34,
   "id": "9e388923",
   "metadata": {
    "id": "9e388923"
   },
   "outputs": [],
   "source": [
    "from sklearn.metrics import roc_curve"
   ]
  },
  {
   "cell_type": "code",
   "execution_count": 35,
   "id": "287b1940",
   "metadata": {
    "id": "287b1940"
   },
   "outputs": [],
   "source": [
    "y_prob = classifier.predict(X_test)"
   ]
  },
  {
   "cell_type": "code",
   "execution_count": 36,
   "id": "2a97916d",
   "metadata": {
    "colab": {
     "base_uri": "https://localhost:8080/",
     "height": 295
    },
    "id": "2a97916d",
    "outputId": "e1cc6cbb-fc6a-4122-caf2-34d319b0a67f"
   },
   "outputs": [
    {
     "data": {
      "image/png": "[encoded data removed]",
      "text/plain": [
       "<Figure size 432x288 with 1 Axes>"
      ]
     },
     "metadata": {
      "needs_background": "light"
     },
     "output_type": "display_data"
    }
   ],
   "source": [
    "fpr, tpr, thresholds = roc_curve(y_test, y_prob)\n",
    "\n",
    "plt.plot([0,1],[0,1],'k--')\n",
    "plt.plot(fpr,tpr, label='ANN')\n",
    "plt.xlabel('fpr')\n",
    "plt.ylabel('tpr')\n",
    "plt.title('ROC curve')\n",
    "plt.show()"
   ]
  },
  {
   "cell_type": "code",
   "execution_count": 37,
   "id": "b33b3bde",
   "metadata": {
    "colab": {
     "base_uri": "https://localhost:8080/",
     "height": 0
    },
    "id": "b33b3bde",
    "outputId": "da96a857-d915-4945-868e-a8d9f42bb6f3"
   },
   "outputs": [
    {
     "data": {
      "text/plain": [
       "0.9308662437359989"
      ]
     },
     "execution_count": 37,
     "metadata": {},
     "output_type": "execute_result"
    }
   ],
   "source": [
    "#Area under ROC curve\n",
    "from sklearn.metrics import roc_auc_score\n",
    "roc_auc_score(y_test,y_prob)"
   ]
  },
  {
   "cell_type": "markdown",
   "id": "jdyHV3QLws47",
   "metadata": {
    "id": "jdyHV3QLws47"
   },
   "source": [
    "#### Plotting the ROC curve, we can see that to model is not underfitted as it is well above the \"random classification\" line and its area under the curve is 0.93 which is extremely good."
   ]
  },
  {
   "cell_type": "markdown",
   "id": "4df907cd",
   "metadata": {
    "id": "4df907cd"
   },
   "source": [
    "# Hyper Parameter Tuning"
   ]
  },
  {
   "cell_type": "code",
   "execution_count": 38,
   "id": "7cf104b9",
   "metadata": {
    "colab": {
     "base_uri": "https://localhost:8080/",
     "height": 0
    },
    "id": "7cf104b9",
    "outputId": "49ee8818-913e-446b-d147-46ae535b72ce"
   },
   "outputs": [
    {
     "name": "stdout",
     "output_type": "stream",
     "text": [
      "1332/1332 [==============================] - 2s 2ms/step - loss: 0.2541 - accuracy: 0.8943\n",
      "Train score: 0.2540719509124756\n",
      "Train accuracy: 0.8943217396736145\n"
     ]
    }
   ],
   "source": [
    "classifier_tuned = Sequential()\n",
    "# Adding the input layer\n",
    "classifier_tuned.add(Dense(units = 100, kernel_initializer = 'uniform', activation = 'relu', input_dim = 10))\n",
    "\n",
    "# Adding the first hidden layer\n",
    "classifier_tuned.add(Dense(units = 100, kernel_initializer = 'uniform', activation = 'relu'))\n",
    "\n",
    "# Adding the second hidden layer\n",
    "classifier_tuned.add(Dense(units = 100, kernel_initializer = 'uniform', activation = 'relu'))\n",
    "\n",
    "# Adding the third hidden layer\n",
    "classifier_tuned.add(Dense(units = 100, kernel_initializer = 'uniform', activation = 'relu'))\n",
    "\n",
    "# Adding the fourth hidden layer\n",
    "classifier_tuned.add(Dense(units = 100, kernel_initializer = 'uniform', activation = 'relu'))\n",
    "\n",
    "# Adding the output layer\n",
    "classifier_tuned.add(Dense(units = 1, kernel_initializer = 'uniform', activation = 'sigmoid'))\n",
    "\n",
    "# Compiling the ANN | \n",
    "classifier_tuned.compile(optimizer = 'sgd', loss = 'binary_crossentropy', metrics = ['accuracy'])\n",
    "\n",
    "# Fitting the ANN to the Training set\n",
    "history1 = classifier_tuned.fit(X_train, y_train, batch_size = 10, epochs = 100,verbose = 0)\n",
    "\n",
    "score, acc = classifier_tuned.evaluate(X_train, y_train,\n",
    "                            batch_size=10)\n",
    "print('Train score:', score)\n",
    "print('Train accuracy:', acc)"
   ]
  },
  {
   "cell_type": "markdown",
   "id": "kWiYU2KhxY5v",
   "metadata": {
    "id": "kWiYU2KhxY5v"
   },
   "source": [
    "#### For tuning, I added 2 more hidden layers only with \"relu\" activation function. I also changed number of neurons to 100 for all layers except the output layer. Finally, i used Sigmoid gradient decent optimization instead of the prior \"adam\" optimization method. \n",
    "\n",
    "#### With the new parameters, we get an accuracy of 89% on the training dataset with higher than the prior of 87% which shows an improvement in performance due to the increase in number of neurons. It also achieved a train score of 0.25"
   ]
  },
  {
   "cell_type": "code",
   "execution_count": 39,
   "id": "13e690fa",
   "metadata": {
    "colab": {
     "base_uri": "https://localhost:8080/",
     "height": 0
    },
    "id": "13e690fa",
    "outputId": "ac046bc6-f946-400a-98ac-b2a332fe51c8"
   },
   "outputs": [
    {
     "name": "stdout",
     "output_type": "stream",
     "text": [
      "Model: \"sequential_2\"\n",
      "_________________________________________________________________\n",
      " Layer (type)                Output Shape              Param #   \n",
      "=================================================================\n",
      " dense_8 (Dense)             (None, 100)               1100      \n",
      "                                                                 \n",
      " dense_9 (Dense)             (None, 100)               10100     \n",
      "                                                                 \n",
      " dense_10 (Dense)            (None, 100)               10100     \n",
      "                                                                 \n",
      " dense_11 (Dense)            (None, 100)               10100     \n",
      "                                                                 \n",
      " dense_12 (Dense)            (None, 100)               10100     \n",
      "                                                                 \n",
      " dense_13 (Dense)            (None, 1)                 101       \n",
      "                                                                 \n",
      "=================================================================\n",
      "Total params: 41,601\n",
      "Trainable params: 41,601\n",
      "Non-trainable params: 0\n",
      "_________________________________________________________________\n"
     ]
    }
   ],
   "source": [
    "classifier_tuned.summary()"
   ]
  },
  {
   "cell_type": "code",
   "execution_count": 40,
   "id": "3cb63998",
   "metadata": {
    "colab": {
     "base_uri": "https://localhost:8080/",
     "height": 0
    },
    "id": "3cb63998",
    "outputId": "a6f46820-194a-4a3d-cefa-7a6d925edf77"
   },
   "outputs": [
    {
     "name": "stdout",
     "output_type": "stream",
     "text": [
      "571/571 [==============================] - 1s 2ms/step - loss: 0.3070 - accuracy: 0.8796\n",
      "Test score: 0.3070230185985565\n",
      "Test accuracy: 0.8796004056930542\n"
     ]
    }
   ],
   "source": [
    "# Predicting the Test set results\n",
    "y1_pred1 = classifier_tuned.predict(X_test)\n",
    "y1_pred1 = (y_pred > 0.5)\n",
    "\n",
    "score, acc = classifier_tuned.evaluate(X_test, y_test,\n",
    "                            batch_size=10)\n",
    "print('Test score:', score)\n",
    "print('Test accuracy:', acc)"
   ]
  },
  {
   "cell_type": "markdown",
   "id": "_aMvv1rG5S9R",
   "metadata": {
    "id": "_aMvv1rG5S9R"
   },
   "source": [
    "#### The accuracy of the tuned model on the testing dataset is 88% which is higher than the prior accuracy of 87%. The test score is 0.307."
   ]
  },
  {
   "cell_type": "code",
   "execution_count": 42,
   "id": "a67b2eb7",
   "metadata": {
    "id": "a67b2eb7"
   },
   "outputs": [],
   "source": [
    "# Making the Confusion Matrix\n",
    "from sklearn.metrics import confusion_matrix\n",
    "cm = confusion_matrix(y_test, y1_pred1)"
   ]
  },
  {
   "cell_type": "code",
   "execution_count": 43,
   "id": "2c14584a",
   "metadata": {
    "colab": {
     "base_uri": "https://localhost:8080/",
     "height": 312
    },
    "id": "2c14584a",
    "outputId": "71d258be-4ea7-41fc-aa8f-d5fcf650375a"
   },
   "outputs": [
    {
     "data": {
      "text/plain": [
       "Text(0.5, 15.0, 'Predicted label')"
      ]
     },
     "execution_count": 43,
     "metadata": {},
     "output_type": "execute_result"
    },
    {
     "data": {
      "image/png": "[encoded data removed]",
      "text/plain": [
       "<Figure size 432x288 with 2 Axes>"
      ]
     },
     "metadata": {
      "needs_background": "light"
     },
     "output_type": "display_data"
    }
   ],
   "source": [
    "p = sns.heatmap(pd.DataFrame(cm), annot=True, cmap=\"YlGnBu\" ,fmt='g')\n",
    "plt.title('Confusion matrix', y=1.1)\n",
    "plt.ylabel('Actual label')\n",
    "plt.xlabel('Predicted label')"
   ]
  },
  {
   "cell_type": "markdown",
   "id": "ZGxjfnl-6NFs",
   "metadata": {
    "id": "ZGxjfnl-6NFs"
   },
   "source": [
    "#### here we can observe that majority of the labels are classified correctly, with 478 labels mis-classified as 0 (gamma) and 275 mis-classified as 1 (hardon)"
   ]
  },
  {
   "cell_type": "code",
   "execution_count": 44,
   "id": "37c0def4",
   "metadata": {
    "colab": {
     "base_uri": "https://localhost:8080/",
     "height": 0
    },
    "id": "37c0def4",
    "outputId": "b3ca14c5-a69e-4c0b-9499-614f4008e263"
   },
   "outputs": [
    {
     "name": "stdout",
     "output_type": "stream",
     "text": [
      "              precision    recall  f1-score   support\n",
      "\n",
      "           0       0.88      0.93      0.90      3683\n",
      "           1       0.85      0.76      0.80      2023\n",
      "\n",
      "    accuracy                           0.87      5706\n",
      "   macro avg       0.86      0.84      0.85      5706\n",
      "weighted avg       0.87      0.87      0.87      5706\n",
      "\n"
     ]
    }
   ],
   "source": [
    "print(classification_report(y_test,y1_pred1))"
   ]
  },
  {
   "cell_type": "code",
   "execution_count": 49,
   "id": "16d32f34",
   "metadata": {
    "colab": {
     "base_uri": "https://localhost:8080/",
     "height": 295
    },
    "id": "16d32f34",
    "outputId": "72134276-c460-4b00-8498-bd1ab2a22f5a"
   },
   "outputs": [
    {
     "data": {
      "image/png": "[encoded data removed]",
      "text/plain": [
       "<Figure size 432x288 with 1 Axes>"
      ]
     },
     "metadata": {
      "needs_background": "light"
     },
     "output_type": "display_data"
    }
   ],
   "source": [
    "y_pred_proba1 = classifier_tuned.predict(X_test)\n",
    "\n",
    "fpr1, tpr1, thresholds1 = roc_curve(y_test, y_pred_proba1)\n",
    "\n",
    "plt.plot([0,1],[0,1],'k--')\n",
    "plt.plot(fpr1,tpr1, label='ANN1')\n",
    "plt.plot(fpr,tpr, label='ANN')\n",
    "plt.xlabel('fpr')\n",
    "plt.ylabel('tpr')\n",
    "plt.title('ROC curve')\n",
    "plt.show()"
   ]
  },
  {
   "cell_type": "markdown",
   "id": "OtuGdzAk6R8x",
   "metadata": {
    "id": "OtuGdzAk6R8x"
   },
   "source": [
    "#### Here we see the ROC curve for both the tuned and pre-tuned models, both curves are incredible close together which is expected as the difference in accuracy of both models are withing a few % in range."
   ]
  },
  {
   "cell_type": "code",
   "execution_count": 47,
   "id": "751ce9df",
   "metadata": {
    "colab": {
     "base_uri": "https://localhost:8080/",
     "height": 0
    },
    "id": "751ce9df",
    "outputId": "ae2cc3e5-bb83-43d3-adb4-d2fe4628c587"
   },
   "outputs": [
    {
     "data": {
      "text/plain": [
       "0.9360425967515307"
      ]
     },
     "execution_count": 47,
     "metadata": {},
     "output_type": "execute_result"
    }
   ],
   "source": [
    "#Area under ROC curve\n",
    "from sklearn.metrics import roc_auc_score\n",
    "roc_auc_score(y_test,y_pred_proba1)"
   ]
  },
  {
   "cell_type": "markdown",
   "id": "FEK40LcZ7WCi",
   "metadata": {
    "id": "FEK40LcZ7WCi"
   },
   "source": [
    "#### The AUC for the tuned model is 0.93 which is similar to the pre-tuned version."
   ]
  },
  {
   "cell_type": "code",
   "execution_count": 50,
   "id": "d216abae",
   "metadata": {
    "colab": {
     "base_uri": "https://localhost:8080/",
     "height": 479
    },
    "id": "d216abae",
    "outputId": "3ec7d91b-8b12-4ef6-8baa-33f5a909185d"
   },
   "outputs": [
    {
     "data": {
      "text/plain": [
       "Text(0.5, 1.0, 'Learning rate vs. loss')"
      ]
     },
     "execution_count": 50,
     "metadata": {},
     "output_type": "execute_result"
    },
    {
     "data": {
      "image/png": "[encoded data removed]",
      "text/plain": [
       "<Figure size 720x504 with 1 Axes>"
      ]
     },
     "metadata": {
      "needs_background": "light"
     },
     "output_type": "display_data"
    }
   ],
   "source": [
    "# Plot the learning rate versus the loss\n",
    "lrs = 1e-4 * (10 ** (np.arange(100)/20))\n",
    "plt.figure(figsize=(10, 7))\n",
    "plt.semilogx(lrs, history.history[\"loss\"])\n",
    "plt.semilogx(lrs, history1.history[\"loss\"]) # we want the x-axis (learning rate) to be log scale\n",
    "plt.xlabel(\"Learning Rate\")\n",
    "plt.ylabel(\"Loss\")\n",
    "plt.title(\"Learning rate vs. loss\")"
   ]
  },
  {
   "cell_type": "markdown",
   "id": "b790e46c",
   "metadata": {
    "id": "b790e46c"
   },
   "source": [
    "## Observations"
   ]
  },
  {
   "cell_type": "markdown",
   "id": "80e39688",
   "metadata": {
    "id": "80e39688"
   },
   "source": [
    "Here we can observe that greater the learning rate, the smaller the loss of the model. We can see that it breaks the plateu for the pre-tuned model at around 10^-4 and loss stabalises. As for the tuned-model, the optimal learning rate appeares to be at around 10^-2 as the loss significantly drops once the learning rate increases."
   ]
  }
 ],
 "metadata": {
  "colab": {
   "collapsed_sections": [],
   "name": "KendrickKee_Task2-A2.ipynb",
   "provenance": []
  },
  "kernelspec": {
   "display_name": "Python 3 (ipykernel)",
   "language": "python",
   "name": "python3"
  },
  "language_info": {
   "codemirror_mode": {
    "name": "ipython",
    "version": 3
   },
   "file_extension": ".py",
   "mimetype": "text/x-python",
   "name": "python",
   "nbconvert_exporter": "python",
   "pygments_lexer": "ipython3",
   "version": "3.9.5"
  }
 },
 "nbformat": 4,
 "nbformat_minor": 5
}
