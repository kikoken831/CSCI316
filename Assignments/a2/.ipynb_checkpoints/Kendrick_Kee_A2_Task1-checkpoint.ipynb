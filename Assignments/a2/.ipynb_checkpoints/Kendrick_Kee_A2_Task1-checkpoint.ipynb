{
 "cells": [
  {
   "cell_type": "markdown",
   "metadata": {
    "id": "0OltQ_3IPANE"
   },
   "source": [
    "## - Name: Kendrick Kee\n",
    "## - UOW ID: 7366814"
   ]
  },
  {
   "cell_type": "code",
   "execution_count": 12,
   "metadata": {
    "executionInfo": {
     "elapsed": 314,
     "status": "ok",
     "timestamp": 1646137036398,
     "user": {
      "displayName": "Kendrick Kee",
      "photoUrl": "https://lh3.googleusercontent.com/a-/AOh14Gj9bSIZR8EBOOghpLNFrX7sWkcYlfkSGWABPrPN=s64",
      "userId": "11635954710328237025"
     },
     "user_tz": -480
    },
    "id": "JQ9f6mc0PANG"
   },
   "outputs": [],
   "source": [
    "#To import relevant libraries\n",
    "import pandas as pd\n",
    "import numpy as np\n",
    "import random\n",
    "import sys\n",
    "from math import *"
   ]
  },
  {
   "cell_type": "markdown",
   "metadata": {
    "id": "H-gOfsazPANH"
   },
   "source": [
    "### Define a function to split dataset"
   ]
  },
  {
   "cell_type": "code",
   "execution_count": 13,
   "metadata": {
    "executionInfo": {
     "elapsed": 480,
     "status": "ok",
     "timestamp": 1646137037194,
     "user": {
      "displayName": "Kendrick Kee",
      "photoUrl": "https://lh3.googleusercontent.com/a-/AOh14Gj9bSIZR8EBOOghpLNFrX7sWkcYlfkSGWABPrPN=s64",
      "userId": "11635954710328237025"
     },
     "user_tz": -480
    },
    "id": "RgmJbhrOPANH"
   },
   "outputs": [],
   "source": [
    "# Split the data into training set and testing set\n",
    "def train_test_split(data, test_size):\n",
    "    \n",
    "    if isinstance(test_size, float):\n",
    "        test_size = round(test_size * len(data))\n",
    "    \n",
    "    data_index = data.index.tolist()\n",
    "    test_index = random.sample(population=data_index, k=test_size)\n",
    "    \n",
    "    test_set = data.loc[test_index]\n",
    "    train_set = data.drop(test_index)\n",
    "    \n",
    "    return train_set, test_set"
   ]
  },
  {
   "cell_type": "markdown",
   "metadata": {
    "id": "MeI2SE6iPANI"
   },
   "source": [
    "### Define a function to get a summary \"dictionary\" of dataset as parameter"
   ]
  },
  {
   "cell_type": "code",
   "execution_count": 14,
   "metadata": {
    "executionInfo": {
     "elapsed": 10,
     "status": "ok",
     "timestamp": 1646137037195,
     "user": {
      "displayName": "Kendrick Kee",
      "photoUrl": "https://lh3.googleusercontent.com/a-/AOh14Gj9bSIZR8EBOOghpLNFrX7sWkcYlfkSGWABPrPN=s64",
      "userId": "11635954710328237025"
     },
     "user_tz": -480
    },
    "id": "qakd0aPCPANI"
   },
   "outputs": [],
   "source": [
    "# Get relevant details about the feature of the dataset for each class label\n",
    "# If a continuous feature\n",
    "        ### a tuple of mean, standard deviation and length of dataset is returned\n",
    "# If data is categorical and is one hot encoded\n",
    "        ### a tuple of value(1 or 0) and its count with respect to the class (0,1,2)\n",
    "        ### along with a count of the class is returned\n",
    "def get_summary(dataset):\n",
    "    \n",
    "    #dictionary to stores details\n",
    "    #of each label class\n",
    "    summary = {}\n",
    "    \n",
    "    #loop over unique target values\n",
    "    for i in dataset.iloc[:,-1].unique():\n",
    "        \n",
    "        #list of details of features for each class (i)\n",
    "        a = []\n",
    "        \n",
    "        #loop for all the features except label column\n",
    "        for j in range(len(dataset.columns)-1):\n",
    "            \n",
    "            #store the size of unique values in current feature\n",
    "            size = len(dataset.iloc[:,j].unique())\n",
    "            #if size is less than 5, then categorical feature\n",
    "            if(size < 5):\n",
    "                lst = list()\n",
    "                #subset dataset for each class(i)\n",
    "                #store as df\n",
    "                df = dataset[dataset.iloc[:,-1]==i]\n",
    "                \n",
    "                #loop for unique values in categorical features\n",
    "                for k in dataset.iloc[:,j].unique():\n",
    "                    \n",
    "                    #for each unique values, store the\n",
    "                    #value and count of the value in feature\n",
    "                    lst.append(k)\n",
    "                    lst.append(len(df[df.iloc[:,j] == k]))\n",
    "                \n",
    "                #make a tuple out of the list\n",
    "                a.append(tuple([lst[0], lst[1], lst[2], lst[3], len(df)]))\n",
    "                \n",
    "            #else continuous feature\n",
    "            else:\n",
    "                a.append((dataset[dataset.iloc[:,-1]==i].mean(axis=0)[j],dataset[dataset.iloc[:,-1]==i].std(axis=0)[j], len(dataset[dataset.iloc[:,-1]==i])))\n",
    "                \n",
    "        summary[i] = a\n",
    "    return summary"
   ]
  },
  {
   "cell_type": "markdown",
   "metadata": {
    "id": "3iP6IzFlPANJ"
   },
   "source": [
    "### Define Gaussian Naive Bayes function"
   ]
  },
  {
   "cell_type": "code",
   "execution_count": 15,
   "metadata": {
    "executionInfo": {
     "elapsed": 10,
     "status": "ok",
     "timestamp": 1646137037195,
     "user": {
      "displayName": "Kendrick Kee",
      "photoUrl": "https://lh3.googleusercontent.com/a-/AOh14Gj9bSIZR8EBOOghpLNFrX7sWkcYlfkSGWABPrPN=s64",
      "userId": "11635954710328237025"
     },
     "user_tz": -480
    },
    "id": "0jR4kCbFPANJ"
   },
   "outputs": [],
   "source": [
    "# Calculate probability for continuous fetaures\n",
    "# Calculate the Gaussian probability distribution function for x\n",
    "def calculate_probability_Gaussian(x, mean, stdev,total_rows):\n",
    "    if stdev == 0 or isnan(stdev):\n",
    "        return 1/total_rows#if stdev is 0, return the probability of \"Add one count\"\n",
    "        \n",
    "    exponent = exp(-((x-mean)**2 / (2 * stdev**2 )))\n",
    "    if exponent == 0:\n",
    "        #number overflow occurs exponent == smallest possibe float by system\n",
    "        exponent = sys.float_info.min\n",
    "    return 1 / (sqrt(2 * pi) * stdev) * exponent"
   ]
  },
  {
   "cell_type": "markdown",
   "metadata": {
    "id": "RWJhuEILPANJ"
   },
   "source": [
    "#### To prevent numerical underflow, when exponent underflows out of pythons float precision, exponent will become small possible float by system\n",
    "\n",
    "#### To prevent the zero frequency/count problem, this function catches occurences of 0/null standard deviation and returns the probablity of 1/number of observations"
   ]
  },
  {
   "cell_type": "markdown",
   "metadata": {
    "id": "fc57NnFcPANK"
   },
   "source": [
    "### Define Navie Bayes function"
   ]
  },
  {
   "cell_type": "code",
   "execution_count": 16,
   "metadata": {
    "executionInfo": {
     "elapsed": 10,
     "status": "ok",
     "timestamp": 1646137037195,
     "user": {
      "displayName": "Kendrick Kee",
      "photoUrl": "https://lh3.googleusercontent.com/a-/AOh14Gj9bSIZR8EBOOghpLNFrX7sWkcYlfkSGWABPrPN=s64",
      "userId": "11635954710328237025"
     },
     "user_tz": -480
    },
    "id": "R3SptMMlPANK"
   },
   "outputs": [],
   "source": [
    "# Calculate probability for categorical features\n",
    "def calculate_probability(x, X1, count_1, X2, count_2, class_count,total_rows):\n",
    "    if x == X1:\n",
    "        #if zero frequency occurs, add 1 to count and return the probability\n",
    "        if count_1/class_count == 0:\n",
    "            return 1/total_rows\n",
    "        \n",
    "        return count_1/class_count\n",
    "    else:\n",
    "        #if zero frequency occurs, add 1 to count and return the probability\n",
    "        if count_2/class_count == 0:\n",
    "            return 1/total_rows\n",
    "        \n",
    "        return count_2/class_count\n",
    "    "
   ]
  },
  {
   "cell_type": "markdown",
   "metadata": {
    "id": "G4wD5UggPANK"
   },
   "source": [
    "#### Similarly, to prevent 0 frequency error, returning \"add one count\" probabilty instead of 0"
   ]
  },
  {
   "cell_type": "markdown",
   "metadata": {
    "id": "4PI_L1VzPANK"
   },
   "source": [
    "### Define functions for probability computation"
   ]
  },
  {
   "cell_type": "code",
   "execution_count": 17,
   "metadata": {
    "executionInfo": {
     "elapsed": 9,
     "status": "ok",
     "timestamp": 1646137037195,
     "user": {
      "displayName": "Kendrick Kee",
      "photoUrl": "https://lh3.googleusercontent.com/a-/AOh14Gj9bSIZR8EBOOghpLNFrX7sWkcYlfkSGWABPrPN=s64",
      "userId": "11635954710328237025"
     },
     "user_tz": -480
    },
    "id": "pyWOzd7ZPANK"
   },
   "outputs": [],
   "source": [
    "# Calculate the probabilities of predicting each class for a given row\n",
    "# for continuous features use Gaussian probability function\n",
    "# for categorical feature calculate_probability function\n",
    "def calculate_class_probabilities(summaries, row):\n",
    "    \n",
    "    #get the length of the dataset\n",
    "    #sum up all the counts of each label class\n",
    "    total_rows = sum([summaries[label][0][2] for label in summaries])\n",
    "    \n",
    "    #instantiate a dictionary to store probability \n",
    "    #of each label class for a given row\n",
    "    probabilities = dict()\n",
    "    \n",
    "    #get the class value: class_value\n",
    "    #get the summaries for each class: class_summaries\n",
    "    for class_value, class_summaries in summaries.items():\n",
    "        \n",
    "        #get the probability of each label class e.g.\n",
    "        #if class label 1 has a length of 12345\n",
    "        #and length of dataset is 234567\n",
    "        #then this probability is 12345/234567\n",
    "        probabilities[class_value] = summaries[class_value][0][2]/float(total_rows)\n",
    "        \n",
    "        #loop over all the class_summaries\n",
    "        #i.e. summaries of each feature\n",
    "        for i in range(len(class_summaries)):\n",
    "            \n",
    "            #since the summaries for categorical variable contains 5 values, \n",
    "            #while the ones for continuous variable contains 3 values\n",
    "            #categorical fetaure\n",
    "            if len(class_summaries[i]) > 3:\n",
    "                X1, count_1, X2, count_2, class_count = class_summaries[i]\n",
    "                probabilities[class_value] = \\\n",
    "                probabilities[class_value] * calculate_probability(row[i],X1, count_1, X2, count_2, class_count,total_rows)\n",
    "            #continuous feature\n",
    "            else:\n",
    "                mean, stdev, _ = class_summaries[i]\n",
    "                probabilities[class_value] = \\\n",
    "                probabilities[class_value] * calculate_probability_Gaussian(row[i], mean, stdev,total_rows)\n",
    "                \n",
    "    return probabilities"
   ]
  },
  {
   "cell_type": "code",
   "execution_count": 18,
   "metadata": {
    "executionInfo": {
     "elapsed": 10,
     "status": "ok",
     "timestamp": 1646137037196,
     "user": {
      "displayName": "Kendrick Kee",
      "photoUrl": "https://lh3.googleusercontent.com/a-/AOh14Gj9bSIZR8EBOOghpLNFrX7sWkcYlfkSGWABPrPN=s64",
      "userId": "11635954710328237025"
     },
     "user_tz": -480
    },
    "id": "F4u7IQYRPANK"
   },
   "outputs": [],
   "source": [
    "# Predict the class for a given row\n",
    "def predict(summaries, row):\n",
    "    probabilities = calculate_class_probabilities(summaries, row)\n",
    "    \n",
    "    #instantiate variable to store \n",
    "    #best label: best_label\n",
    "    #best probability: best_prob\n",
    "    best_label, best_prob = None, -1\n",
    "    \n",
    "    #get the best probability\n",
    "    for class_value, probability in probabilities.items():\n",
    "        if best_label is None or probability > best_prob:\n",
    "            best_prob = probability\n",
    "            best_label = class_value\n",
    "    return best_label"
   ]
  },
  {
   "cell_type": "markdown",
   "metadata": {
    "id": "KAMJjjf1PANL"
   },
   "source": [
    "# Driver function for Naive Bayes"
   ]
  },
  {
   "cell_type": "code",
   "execution_count": 19,
   "metadata": {
    "executionInfo": {
     "elapsed": 10,
     "status": "ok",
     "timestamp": 1646137037196,
     "user": {
      "displayName": "Kendrick Kee",
      "photoUrl": "https://lh3.googleusercontent.com/a-/AOh14Gj9bSIZR8EBOOghpLNFrX7sWkcYlfkSGWABPrPN=s64",
      "userId": "11635954710328237025"
     },
     "user_tz": -480
    },
    "id": "4_Kf77PdPANL"
   },
   "outputs": [],
   "source": [
    "# Naive Bayes Algorithm\n",
    "# predict values for the test set\n",
    "def naive_bayes(train, test):\n",
    "    summary = get_summary(train)\n",
    "    predictions = list()\n",
    "    for row in test.values:\n",
    "        output = predict(summary, row)\n",
    "        predictions.append(output)\n",
    "    return(predictions)"
   ]
  },
  {
   "cell_type": "markdown",
   "metadata": {
    "id": "A_QmNe3wPANL"
   },
   "source": [
    "## Accuracy function to determine regression metrics"
   ]
  },
  {
   "cell_type": "code",
   "execution_count": 20,
   "metadata": {
    "executionInfo": {
     "elapsed": 10,
     "status": "ok",
     "timestamp": 1646137037196,
     "user": {
      "displayName": "Kendrick Kee",
      "photoUrl": "https://lh3.googleusercontent.com/a-/AOh14Gj9bSIZR8EBOOghpLNFrX7sWkcYlfkSGWABPrPN=s64",
      "userId": "11635954710328237025"
     },
     "user_tz": -480
    },
    "id": "wuTHY97FPANL"
   },
   "outputs": [],
   "source": [
    "# Calculated as:\n",
    "# check for equality of predicted value and labels in test_set\n",
    "# calculates the sum of correct prediction\n",
    "# divides the sum by length of test_set\n",
    "\n",
    "    \n",
    "def accuracy(predictions, data_set):\n",
    "    y_test = list(data_set.iloc[:,-1])\n",
    "    correct_count = 0\n",
    "    sum_error = 0.0\n",
    "    rsme_error = 0.0\n",
    "    for i in range(len(y_test)):\n",
    "        if predictions[i] == y_test[i]:\n",
    "            correct_count += 1\n",
    "        sum_error += abs(predictions[i] - y_test[i])\n",
    "        prediction_error = abs(predictions[i] - y_test[i])\n",
    "        rsme_error = (prediction_error**2)\n",
    "    print(f'Number of exact matches in predictions: {correct_count}/{len(y_test)}')        \n",
    "    print(f'MEAN SQUARED ERROR: {np.square(np.subtract(y_test,predictions)).mean()}')\n",
    "    print(f'ROOT MEAN SQUARED ERROR: {sqrt(rsme_error/float(len(y_test)))}')\n",
    "    print(f'MEAN ABSOLUTE ERROR: {sum_error/float(len(y_test))}')\n",
    "    return (round(correct_count/len(data_set)*100,3))"
   ]
  },
  {
   "cell_type": "markdown",
   "metadata": {
    "id": "xNPb1i5VPANL"
   },
   "source": [
    "#### This function computes common regression metrics such as MSE, MAE and RSME to allow for easy evaluation of the model."
   ]
  },
  {
   "cell_type": "markdown",
   "metadata": {
    "id": "dscs-WtMPANL"
   },
   "source": [
    "## Loading the Dataset"
   ]
  },
  {
   "cell_type": "code",
   "execution_count": 21,
   "metadata": {
    "colab": {
     "base_uri": "https://localhost:8080/",
     "height": 206
    },
    "executionInfo": {
     "elapsed": 9,
     "status": "ok",
     "timestamp": 1646137037196,
     "user": {
      "displayName": "Kendrick Kee",
      "photoUrl": "https://lh3.googleusercontent.com/a-/AOh14Gj9bSIZR8EBOOghpLNFrX7sWkcYlfkSGWABPrPN=s64",
      "userId": "11635954710328237025"
     },
     "user_tz": -480
    },
    "id": "DuDRQjzDPANL",
    "outputId": "79591e50-6fb7-4629-b4e1-c02f81172e43",
    "scrolled": true
   },
   "outputs": [
    {
     "data": {
      "text/html": [
       "<div>\n",
       "<style scoped>\n",
       "    .dataframe tbody tr th:only-of-type {\n",
       "        vertical-align: middle;\n",
       "    }\n",
       "\n",
       "    .dataframe tbody tr th {\n",
       "        vertical-align: top;\n",
       "    }\n",
       "\n",
       "    .dataframe thead th {\n",
       "        text-align: right;\n",
       "    }\n",
       "</style>\n",
       "<table border=\"1\" class=\"dataframe\">\n",
       "  <thead>\n",
       "    <tr style=\"text-align: right;\">\n",
       "      <th></th>\n",
       "      <th>Sex</th>\n",
       "      <th>Length</th>\n",
       "      <th>Diameter</th>\n",
       "      <th>Height</th>\n",
       "      <th>Whole weight</th>\n",
       "      <th>Shucked weight</th>\n",
       "      <th>Viscera weight</th>\n",
       "      <th>Shell weight</th>\n",
       "      <th>Rings</th>\n",
       "    </tr>\n",
       "  </thead>\n",
       "  <tbody>\n",
       "    <tr>\n",
       "      <th>0</th>\n",
       "      <td>M</td>\n",
       "      <td>0.455</td>\n",
       "      <td>0.365</td>\n",
       "      <td>0.095</td>\n",
       "      <td>0.5140</td>\n",
       "      <td>0.2245</td>\n",
       "      <td>0.1010</td>\n",
       "      <td>0.150</td>\n",
       "      <td>15</td>\n",
       "    </tr>\n",
       "    <tr>\n",
       "      <th>1</th>\n",
       "      <td>M</td>\n",
       "      <td>0.350</td>\n",
       "      <td>0.265</td>\n",
       "      <td>0.090</td>\n",
       "      <td>0.2255</td>\n",
       "      <td>0.0995</td>\n",
       "      <td>0.0485</td>\n",
       "      <td>0.070</td>\n",
       "      <td>7</td>\n",
       "    </tr>\n",
       "    <tr>\n",
       "      <th>2</th>\n",
       "      <td>F</td>\n",
       "      <td>0.530</td>\n",
       "      <td>0.420</td>\n",
       "      <td>0.135</td>\n",
       "      <td>0.6770</td>\n",
       "      <td>0.2565</td>\n",
       "      <td>0.1415</td>\n",
       "      <td>0.210</td>\n",
       "      <td>9</td>\n",
       "    </tr>\n",
       "    <tr>\n",
       "      <th>3</th>\n",
       "      <td>M</td>\n",
       "      <td>0.440</td>\n",
       "      <td>0.365</td>\n",
       "      <td>0.125</td>\n",
       "      <td>0.5160</td>\n",
       "      <td>0.2155</td>\n",
       "      <td>0.1140</td>\n",
       "      <td>0.155</td>\n",
       "      <td>10</td>\n",
       "    </tr>\n",
       "    <tr>\n",
       "      <th>4</th>\n",
       "      <td>I</td>\n",
       "      <td>0.330</td>\n",
       "      <td>0.255</td>\n",
       "      <td>0.080</td>\n",
       "      <td>0.2050</td>\n",
       "      <td>0.0895</td>\n",
       "      <td>0.0395</td>\n",
       "      <td>0.055</td>\n",
       "      <td>7</td>\n",
       "    </tr>\n",
       "  </tbody>\n",
       "</table>\n",
       "</div>"
      ],
      "text/plain": [
       "  Sex  Length  Diameter  Height  Whole weight  Shucked weight  Viscera weight  \\\n",
       "0   M   0.455     0.365   0.095        0.5140          0.2245          0.1010   \n",
       "1   M   0.350     0.265   0.090        0.2255          0.0995          0.0485   \n",
       "2   F   0.530     0.420   0.135        0.6770          0.2565          0.1415   \n",
       "3   M   0.440     0.365   0.125        0.5160          0.2155          0.1140   \n",
       "4   I   0.330     0.255   0.080        0.2050          0.0895          0.0395   \n",
       "\n",
       "   Shell weight  Rings  \n",
       "0         0.150     15  \n",
       "1         0.070      7  \n",
       "2         0.210      9  \n",
       "3         0.155     10  \n",
       "4         0.055      7  "
      ]
     },
     "execution_count": 21,
     "metadata": {},
     "output_type": "execute_result"
    }
   ],
   "source": [
    "names =  [\"Sex\", \"Length\", \"Diameter\", \"Height\", \"Whole weight\", \n",
    "           \"Shucked weight\", \"Viscera weight\",\"Shell weight\", \"Rings\"]\n",
    "df = pd.read_csv('abalone.data', header=None, names=names)\n",
    "df.head()"
   ]
  },
  {
   "cell_type": "markdown",
   "metadata": {
    "id": "Ogu6T4akPANM"
   },
   "source": [
    "Data Preprocessing"
   ]
  },
  {
   "cell_type": "code",
   "execution_count": 22,
   "metadata": {
    "colab": {
     "base_uri": "https://localhost:8080/"
    },
    "executionInfo": {
     "elapsed": 9,
     "status": "ok",
     "timestamp": 1646137037197,
     "user": {
      "displayName": "Kendrick Kee",
      "photoUrl": "https://lh3.googleusercontent.com/a-/AOh14Gj9bSIZR8EBOOghpLNFrX7sWkcYlfkSGWABPrPN=s64",
      "userId": "11635954710328237025"
     },
     "user_tz": -480
    },
    "id": "ZxRa6cIPPANM",
    "outputId": "97214022-3b3d-4893-8a2d-aafed2df716b",
    "scrolled": false
   },
   "outputs": [
    {
     "name": "stdout",
     "output_type": "stream",
     "text": [
      "<class 'pandas.core.frame.DataFrame'>\n",
      "RangeIndex: 5 entries, 0 to 4\n",
      "Data columns (total 9 columns):\n",
      " #   Column          Non-Null Count  Dtype  \n",
      "---  ------          --------------  -----  \n",
      " 0   Sex             5 non-null      object \n",
      " 1   Length          5 non-null      float64\n",
      " 2   Diameter        5 non-null      float64\n",
      " 3   Height          5 non-null      float64\n",
      " 4   Whole weight    5 non-null      float64\n",
      " 5   Shucked weight  5 non-null      float64\n",
      " 6   Viscera weight  5 non-null      float64\n",
      " 7   Shell weight    5 non-null      float64\n",
      " 8   Rings           5 non-null      int64  \n",
      "dtypes: float64(7), int64(1), object(1)\n",
      "memory usage: 488.0+ bytes\n"
     ]
    }
   ],
   "source": [
    "# Check for missing data and type of data\n",
    "df.head().info()"
   ]
  },
  {
   "cell_type": "code",
   "execution_count": 23,
   "metadata": {
    "colab": {
     "base_uri": "https://localhost:8080/",
     "height": 206
    },
    "executionInfo": {
     "elapsed": 686,
     "status": "ok",
     "timestamp": 1646137037877,
     "user": {
      "displayName": "Kendrick Kee",
      "photoUrl": "https://lh3.googleusercontent.com/a-/AOh14Gj9bSIZR8EBOOghpLNFrX7sWkcYlfkSGWABPrPN=s64",
      "userId": "11635954710328237025"
     },
     "user_tz": -480
    },
    "id": "C271tYSUPANM",
    "outputId": "6ccc5769-96d4-4f06-ef3a-13953da489bb",
    "scrolled": true
   },
   "outputs": [
    {
     "data": {
      "text/html": [
       "<div>\n",
       "<style scoped>\n",
       "    .dataframe tbody tr th:only-of-type {\n",
       "        vertical-align: middle;\n",
       "    }\n",
       "\n",
       "    .dataframe tbody tr th {\n",
       "        vertical-align: top;\n",
       "    }\n",
       "\n",
       "    .dataframe thead th {\n",
       "        text-align: right;\n",
       "    }\n",
       "</style>\n",
       "<table border=\"1\" class=\"dataframe\">\n",
       "  <thead>\n",
       "    <tr style=\"text-align: right;\">\n",
       "      <th></th>\n",
       "      <th>Sex</th>\n",
       "      <th>Length</th>\n",
       "      <th>Diameter</th>\n",
       "      <th>Height</th>\n",
       "      <th>Whole weight</th>\n",
       "      <th>Shucked weight</th>\n",
       "      <th>Viscera weight</th>\n",
       "      <th>Shell weight</th>\n",
       "      <th>Rings</th>\n",
       "    </tr>\n",
       "  </thead>\n",
       "  <tbody>\n",
       "    <tr>\n",
       "      <th>0</th>\n",
       "      <td>1</td>\n",
       "      <td>0.455</td>\n",
       "      <td>0.365</td>\n",
       "      <td>0.095</td>\n",
       "      <td>0.5140</td>\n",
       "      <td>0.2245</td>\n",
       "      <td>0.1010</td>\n",
       "      <td>0.150</td>\n",
       "      <td>15</td>\n",
       "    </tr>\n",
       "    <tr>\n",
       "      <th>1</th>\n",
       "      <td>1</td>\n",
       "      <td>0.350</td>\n",
       "      <td>0.265</td>\n",
       "      <td>0.090</td>\n",
       "      <td>0.2255</td>\n",
       "      <td>0.0995</td>\n",
       "      <td>0.0485</td>\n",
       "      <td>0.070</td>\n",
       "      <td>7</td>\n",
       "    </tr>\n",
       "    <tr>\n",
       "      <th>2</th>\n",
       "      <td>2</td>\n",
       "      <td>0.530</td>\n",
       "      <td>0.420</td>\n",
       "      <td>0.135</td>\n",
       "      <td>0.6770</td>\n",
       "      <td>0.2565</td>\n",
       "      <td>0.1415</td>\n",
       "      <td>0.210</td>\n",
       "      <td>9</td>\n",
       "    </tr>\n",
       "    <tr>\n",
       "      <th>3</th>\n",
       "      <td>1</td>\n",
       "      <td>0.440</td>\n",
       "      <td>0.365</td>\n",
       "      <td>0.125</td>\n",
       "      <td>0.5160</td>\n",
       "      <td>0.2155</td>\n",
       "      <td>0.1140</td>\n",
       "      <td>0.155</td>\n",
       "      <td>10</td>\n",
       "    </tr>\n",
       "    <tr>\n",
       "      <th>4</th>\n",
       "      <td>3</td>\n",
       "      <td>0.330</td>\n",
       "      <td>0.255</td>\n",
       "      <td>0.080</td>\n",
       "      <td>0.2050</td>\n",
       "      <td>0.0895</td>\n",
       "      <td>0.0395</td>\n",
       "      <td>0.055</td>\n",
       "      <td>7</td>\n",
       "    </tr>\n",
       "  </tbody>\n",
       "</table>\n",
       "</div>"
      ],
      "text/plain": [
       "   Sex  Length  Diameter  Height  Whole weight  Shucked weight  \\\n",
       "0    1   0.455     0.365   0.095        0.5140          0.2245   \n",
       "1    1   0.350     0.265   0.090        0.2255          0.0995   \n",
       "2    2   0.530     0.420   0.135        0.6770          0.2565   \n",
       "3    1   0.440     0.365   0.125        0.5160          0.2155   \n",
       "4    3   0.330     0.255   0.080        0.2050          0.0895   \n",
       "\n",
       "   Viscera weight  Shell weight  Rings  \n",
       "0          0.1010         0.150     15  \n",
       "1          0.0485         0.070      7  \n",
       "2          0.1415         0.210      9  \n",
       "3          0.1140         0.155     10  \n",
       "4          0.0395         0.055      7  "
      ]
     },
     "execution_count": 23,
     "metadata": {},
     "output_type": "execute_result"
    }
   ],
   "source": [
    "encode = {\"Sex\": {\"M\":1,\"F\":2,\"I\":3}}\n",
    "df = df.replace(encode)\n",
    "df.head()"
   ]
  },
  {
   "cell_type": "code",
   "execution_count": 24,
   "metadata": {
    "colab": {
     "base_uri": "https://localhost:8080/",
     "height": 300
    },
    "executionInfo": {
     "elapsed": 8,
     "status": "ok",
     "timestamp": 1646137037877,
     "user": {
      "displayName": "Kendrick Kee",
      "photoUrl": "https://lh3.googleusercontent.com/a-/AOh14Gj9bSIZR8EBOOghpLNFrX7sWkcYlfkSGWABPrPN=s64",
      "userId": "11635954710328237025"
     },
     "user_tz": -480
    },
    "id": "WwiPO5FAPANM",
    "outputId": "cbebae11-5d73-46ee-b9b8-d01bca5c071f",
    "scrolled": true
   },
   "outputs": [
    {
     "data": {
      "text/html": [
       "<div>\n",
       "<style scoped>\n",
       "    .dataframe tbody tr th:only-of-type {\n",
       "        vertical-align: middle;\n",
       "    }\n",
       "\n",
       "    .dataframe tbody tr th {\n",
       "        vertical-align: top;\n",
       "    }\n",
       "\n",
       "    .dataframe thead th {\n",
       "        text-align: right;\n",
       "    }\n",
       "</style>\n",
       "<table border=\"1\" class=\"dataframe\">\n",
       "  <thead>\n",
       "    <tr style=\"text-align: right;\">\n",
       "      <th></th>\n",
       "      <th>Sex</th>\n",
       "      <th>Length</th>\n",
       "      <th>Diameter</th>\n",
       "      <th>Height</th>\n",
       "      <th>Whole weight</th>\n",
       "      <th>Shucked weight</th>\n",
       "      <th>Viscera weight</th>\n",
       "      <th>Shell weight</th>\n",
       "      <th>Rings</th>\n",
       "    </tr>\n",
       "  </thead>\n",
       "  <tbody>\n",
       "    <tr>\n",
       "      <th>count</th>\n",
       "      <td>4177.000000</td>\n",
       "      <td>4177.000000</td>\n",
       "      <td>4177.000000</td>\n",
       "      <td>4177.000000</td>\n",
       "      <td>4177.000000</td>\n",
       "      <td>4177.000000</td>\n",
       "      <td>4177.000000</td>\n",
       "      <td>4177.000000</td>\n",
       "      <td>4177.000000</td>\n",
       "    </tr>\n",
       "    <tr>\n",
       "      <th>mean</th>\n",
       "      <td>1.955470</td>\n",
       "      <td>0.523992</td>\n",
       "      <td>0.407881</td>\n",
       "      <td>0.139516</td>\n",
       "      <td>0.828742</td>\n",
       "      <td>0.359367</td>\n",
       "      <td>0.180594</td>\n",
       "      <td>0.238831</td>\n",
       "      <td>9.933684</td>\n",
       "    </tr>\n",
       "    <tr>\n",
       "      <th>std</th>\n",
       "      <td>0.827815</td>\n",
       "      <td>0.120093</td>\n",
       "      <td>0.099240</td>\n",
       "      <td>0.041827</td>\n",
       "      <td>0.490389</td>\n",
       "      <td>0.221963</td>\n",
       "      <td>0.109614</td>\n",
       "      <td>0.139203</td>\n",
       "      <td>3.224169</td>\n",
       "    </tr>\n",
       "    <tr>\n",
       "      <th>min</th>\n",
       "      <td>1.000000</td>\n",
       "      <td>0.075000</td>\n",
       "      <td>0.055000</td>\n",
       "      <td>0.000000</td>\n",
       "      <td>0.002000</td>\n",
       "      <td>0.001000</td>\n",
       "      <td>0.000500</td>\n",
       "      <td>0.001500</td>\n",
       "      <td>1.000000</td>\n",
       "    </tr>\n",
       "    <tr>\n",
       "      <th>25%</th>\n",
       "      <td>1.000000</td>\n",
       "      <td>0.450000</td>\n",
       "      <td>0.350000</td>\n",
       "      <td>0.115000</td>\n",
       "      <td>0.441500</td>\n",
       "      <td>0.186000</td>\n",
       "      <td>0.093500</td>\n",
       "      <td>0.130000</td>\n",
       "      <td>8.000000</td>\n",
       "    </tr>\n",
       "    <tr>\n",
       "      <th>50%</th>\n",
       "      <td>2.000000</td>\n",
       "      <td>0.545000</td>\n",
       "      <td>0.425000</td>\n",
       "      <td>0.140000</td>\n",
       "      <td>0.799500</td>\n",
       "      <td>0.336000</td>\n",
       "      <td>0.171000</td>\n",
       "      <td>0.234000</td>\n",
       "      <td>9.000000</td>\n",
       "    </tr>\n",
       "    <tr>\n",
       "      <th>75%</th>\n",
       "      <td>3.000000</td>\n",
       "      <td>0.615000</td>\n",
       "      <td>0.480000</td>\n",
       "      <td>0.165000</td>\n",
       "      <td>1.153000</td>\n",
       "      <td>0.502000</td>\n",
       "      <td>0.253000</td>\n",
       "      <td>0.329000</td>\n",
       "      <td>11.000000</td>\n",
       "    </tr>\n",
       "    <tr>\n",
       "      <th>max</th>\n",
       "      <td>3.000000</td>\n",
       "      <td>0.815000</td>\n",
       "      <td>0.650000</td>\n",
       "      <td>1.130000</td>\n",
       "      <td>2.825500</td>\n",
       "      <td>1.488000</td>\n",
       "      <td>0.760000</td>\n",
       "      <td>1.005000</td>\n",
       "      <td>29.000000</td>\n",
       "    </tr>\n",
       "  </tbody>\n",
       "</table>\n",
       "</div>"
      ],
      "text/plain": [
       "               Sex       Length     Diameter       Height  Whole weight  \\\n",
       "count  4177.000000  4177.000000  4177.000000  4177.000000   4177.000000   \n",
       "mean      1.955470     0.523992     0.407881     0.139516      0.828742   \n",
       "std       0.827815     0.120093     0.099240     0.041827      0.490389   \n",
       "min       1.000000     0.075000     0.055000     0.000000      0.002000   \n",
       "25%       1.000000     0.450000     0.350000     0.115000      0.441500   \n",
       "50%       2.000000     0.545000     0.425000     0.140000      0.799500   \n",
       "75%       3.000000     0.615000     0.480000     0.165000      1.153000   \n",
       "max       3.000000     0.815000     0.650000     1.130000      2.825500   \n",
       "\n",
       "       Shucked weight  Viscera weight  Shell weight        Rings  \n",
       "count     4177.000000     4177.000000   4177.000000  4177.000000  \n",
       "mean         0.359367        0.180594      0.238831     9.933684  \n",
       "std          0.221963        0.109614      0.139203     3.224169  \n",
       "min          0.001000        0.000500      0.001500     1.000000  \n",
       "25%          0.186000        0.093500      0.130000     8.000000  \n",
       "50%          0.336000        0.171000      0.234000     9.000000  \n",
       "75%          0.502000        0.253000      0.329000    11.000000  \n",
       "max          1.488000        0.760000      1.005000    29.000000  "
      ]
     },
     "execution_count": 24,
     "metadata": {},
     "output_type": "execute_result"
    }
   ],
   "source": [
    "# Get the statistical info of the numeric features\n",
    "df.describe()"
   ]
  },
  {
   "cell_type": "code",
   "execution_count": 25,
   "metadata": {
    "colab": {
     "base_uri": "https://localhost:8080/",
     "height": 206
    },
    "executionInfo": {
     "elapsed": 7,
     "status": "ok",
     "timestamp": 1646137037877,
     "user": {
      "displayName": "Kendrick Kee",
      "photoUrl": "https://lh3.googleusercontent.com/a-/AOh14Gj9bSIZR8EBOOghpLNFrX7sWkcYlfkSGWABPrPN=s64",
      "userId": "11635954710328237025"
     },
     "user_tz": -480
    },
    "id": "XKAnNVFKPANM",
    "outputId": "7046f6b3-9af5-46c6-df99-b6316b18d252",
    "scrolled": false
   },
   "outputs": [
    {
     "data": {
      "text/html": [
       "<div>\n",
       "<style scoped>\n",
       "    .dataframe tbody tr th:only-of-type {\n",
       "        vertical-align: middle;\n",
       "    }\n",
       "\n",
       "    .dataframe tbody tr th {\n",
       "        vertical-align: top;\n",
       "    }\n",
       "\n",
       "    .dataframe thead th {\n",
       "        text-align: right;\n",
       "    }\n",
       "</style>\n",
       "<table border=\"1\" class=\"dataframe\">\n",
       "  <thead>\n",
       "    <tr style=\"text-align: right;\">\n",
       "      <th></th>\n",
       "      <th>Sex</th>\n",
       "      <th>Length</th>\n",
       "      <th>Diameter</th>\n",
       "      <th>Height</th>\n",
       "      <th>Whole weight</th>\n",
       "      <th>Shucked weight</th>\n",
       "      <th>Viscera weight</th>\n",
       "      <th>Shell weight</th>\n",
       "      <th>Rings</th>\n",
       "    </tr>\n",
       "  </thead>\n",
       "  <tbody>\n",
       "    <tr>\n",
       "      <th>0</th>\n",
       "      <td>1</td>\n",
       "      <td>0.455</td>\n",
       "      <td>0.365</td>\n",
       "      <td>0.095</td>\n",
       "      <td>0.5140</td>\n",
       "      <td>0.2245</td>\n",
       "      <td>0.1010</td>\n",
       "      <td>0.150</td>\n",
       "      <td>15</td>\n",
       "    </tr>\n",
       "    <tr>\n",
       "      <th>1</th>\n",
       "      <td>1</td>\n",
       "      <td>0.350</td>\n",
       "      <td>0.265</td>\n",
       "      <td>0.090</td>\n",
       "      <td>0.2255</td>\n",
       "      <td>0.0995</td>\n",
       "      <td>0.0485</td>\n",
       "      <td>0.070</td>\n",
       "      <td>7</td>\n",
       "    </tr>\n",
       "    <tr>\n",
       "      <th>2</th>\n",
       "      <td>2</td>\n",
       "      <td>0.530</td>\n",
       "      <td>0.420</td>\n",
       "      <td>0.135</td>\n",
       "      <td>0.6770</td>\n",
       "      <td>0.2565</td>\n",
       "      <td>0.1415</td>\n",
       "      <td>0.210</td>\n",
       "      <td>9</td>\n",
       "    </tr>\n",
       "    <tr>\n",
       "      <th>3</th>\n",
       "      <td>1</td>\n",
       "      <td>0.440</td>\n",
       "      <td>0.365</td>\n",
       "      <td>0.125</td>\n",
       "      <td>0.5160</td>\n",
       "      <td>0.2155</td>\n",
       "      <td>0.1140</td>\n",
       "      <td>0.155</td>\n",
       "      <td>10</td>\n",
       "    </tr>\n",
       "    <tr>\n",
       "      <th>4</th>\n",
       "      <td>3</td>\n",
       "      <td>0.330</td>\n",
       "      <td>0.255</td>\n",
       "      <td>0.080</td>\n",
       "      <td>0.2050</td>\n",
       "      <td>0.0895</td>\n",
       "      <td>0.0395</td>\n",
       "      <td>0.055</td>\n",
       "      <td>7</td>\n",
       "    </tr>\n",
       "  </tbody>\n",
       "</table>\n",
       "</div>"
      ],
      "text/plain": [
       "   Sex  Length  Diameter  Height  Whole weight  Shucked weight  \\\n",
       "0    1   0.455     0.365   0.095        0.5140          0.2245   \n",
       "1    1   0.350     0.265   0.090        0.2255          0.0995   \n",
       "2    2   0.530     0.420   0.135        0.6770          0.2565   \n",
       "3    1   0.440     0.365   0.125        0.5160          0.2155   \n",
       "4    3   0.330     0.255   0.080        0.2050          0.0895   \n",
       "\n",
       "   Viscera weight  Shell weight  Rings  \n",
       "0          0.1010         0.150     15  \n",
       "1          0.0485         0.070      7  \n",
       "2          0.1415         0.210      9  \n",
       "3          0.1140         0.155     10  \n",
       "4          0.0395         0.055      7  "
      ]
     },
     "execution_count": 25,
     "metadata": {},
     "output_type": "execute_result"
    }
   ],
   "source": [
    "df.head()"
   ]
  },
  {
   "cell_type": "code",
   "execution_count": 26,
   "metadata": {
    "colab": {
     "base_uri": "https://localhost:8080/"
    },
    "executionInfo": {
     "elapsed": 8,
     "status": "ok",
     "timestamp": 1646137037878,
     "user": {
      "displayName": "Kendrick Kee",
      "photoUrl": "https://lh3.googleusercontent.com/a-/AOh14Gj9bSIZR8EBOOghpLNFrX7sWkcYlfkSGWABPrPN=s64",
      "userId": "11635954710328237025"
     },
     "user_tz": -480
    },
    "id": "TVMHF-I9PANM",
    "outputId": "165817dc-be6d-449a-fc7b-5be6aa5400f3",
    "scrolled": false
   },
   "outputs": [
    {
     "name": "stdout",
     "output_type": "stream",
     "text": [
      "<class 'pandas.core.frame.DataFrame'>\n",
      "RangeIndex: 4177 entries, 0 to 4176\n",
      "Data columns (total 9 columns):\n",
      " #   Column          Non-Null Count  Dtype  \n",
      "---  ------          --------------  -----  \n",
      " 0   Sex             4177 non-null   int64  \n",
      " 1   Length          4177 non-null   float64\n",
      " 2   Diameter        4177 non-null   float64\n",
      " 3   Height          4177 non-null   float64\n",
      " 4   Whole weight    4177 non-null   float64\n",
      " 5   Shucked weight  4177 non-null   float64\n",
      " 6   Viscera weight  4177 non-null   float64\n",
      " 7   Shell weight    4177 non-null   float64\n",
      " 8   Rings           4177 non-null   int64  \n",
      "dtypes: float64(7), int64(2)\n",
      "memory usage: 293.8 KB\n"
     ]
    }
   ],
   "source": [
    "df.info()"
   ]
  },
  {
   "cell_type": "code",
   "execution_count": 27,
   "metadata": {
    "colab": {
     "base_uri": "https://localhost:8080/",
     "height": 300
    },
    "executionInfo": {
     "elapsed": 6,
     "status": "ok",
     "timestamp": 1646137037878,
     "user": {
      "displayName": "Kendrick Kee",
      "photoUrl": "https://lh3.googleusercontent.com/a-/AOh14Gj9bSIZR8EBOOghpLNFrX7sWkcYlfkSGWABPrPN=s64",
      "userId": "11635954710328237025"
     },
     "user_tz": -480
    },
    "id": "L7U1d8UZPANM",
    "outputId": "770ae767-122a-4d91-e3d8-bdfcda6467bc",
    "scrolled": true
   },
   "outputs": [
    {
     "data": {
      "text/html": [
       "<div>\n",
       "<style scoped>\n",
       "    .dataframe tbody tr th:only-of-type {\n",
       "        vertical-align: middle;\n",
       "    }\n",
       "\n",
       "    .dataframe tbody tr th {\n",
       "        vertical-align: top;\n",
       "    }\n",
       "\n",
       "    .dataframe thead th {\n",
       "        text-align: right;\n",
       "    }\n",
       "</style>\n",
       "<table border=\"1\" class=\"dataframe\">\n",
       "  <thead>\n",
       "    <tr style=\"text-align: right;\">\n",
       "      <th></th>\n",
       "      <th>Sex</th>\n",
       "      <th>Length</th>\n",
       "      <th>Diameter</th>\n",
       "      <th>Height</th>\n",
       "      <th>Whole weight</th>\n",
       "      <th>Shucked weight</th>\n",
       "      <th>Viscera weight</th>\n",
       "      <th>Shell weight</th>\n",
       "      <th>Rings</th>\n",
       "    </tr>\n",
       "  </thead>\n",
       "  <tbody>\n",
       "    <tr>\n",
       "      <th>count</th>\n",
       "      <td>2924.000000</td>\n",
       "      <td>2924.000000</td>\n",
       "      <td>2924.000000</td>\n",
       "      <td>2924.000000</td>\n",
       "      <td>2924.000000</td>\n",
       "      <td>2924.000000</td>\n",
       "      <td>2924.000000</td>\n",
       "      <td>2924.000000</td>\n",
       "      <td>2924.000000</td>\n",
       "    </tr>\n",
       "    <tr>\n",
       "      <th>mean</th>\n",
       "      <td>1.966826</td>\n",
       "      <td>0.524104</td>\n",
       "      <td>0.408057</td>\n",
       "      <td>0.139714</td>\n",
       "      <td>0.829171</td>\n",
       "      <td>0.359761</td>\n",
       "      <td>0.180738</td>\n",
       "      <td>0.238587</td>\n",
       "      <td>9.919289</td>\n",
       "    </tr>\n",
       "    <tr>\n",
       "      <th>std</th>\n",
       "      <td>0.823405</td>\n",
       "      <td>0.120497</td>\n",
       "      <td>0.099754</td>\n",
       "      <td>0.043084</td>\n",
       "      <td>0.490619</td>\n",
       "      <td>0.222053</td>\n",
       "      <td>0.109843</td>\n",
       "      <td>0.138107</td>\n",
       "      <td>3.200183</td>\n",
       "    </tr>\n",
       "    <tr>\n",
       "      <th>min</th>\n",
       "      <td>1.000000</td>\n",
       "      <td>0.075000</td>\n",
       "      <td>0.055000</td>\n",
       "      <td>0.000000</td>\n",
       "      <td>0.002000</td>\n",
       "      <td>0.001000</td>\n",
       "      <td>0.000500</td>\n",
       "      <td>0.001500</td>\n",
       "      <td>1.000000</td>\n",
       "    </tr>\n",
       "    <tr>\n",
       "      <th>25%</th>\n",
       "      <td>1.000000</td>\n",
       "      <td>0.450000</td>\n",
       "      <td>0.350000</td>\n",
       "      <td>0.115000</td>\n",
       "      <td>0.440000</td>\n",
       "      <td>0.186000</td>\n",
       "      <td>0.093500</td>\n",
       "      <td>0.130000</td>\n",
       "      <td>8.000000</td>\n",
       "    </tr>\n",
       "    <tr>\n",
       "      <th>50%</th>\n",
       "      <td>2.000000</td>\n",
       "      <td>0.545000</td>\n",
       "      <td>0.425000</td>\n",
       "      <td>0.145000</td>\n",
       "      <td>0.802750</td>\n",
       "      <td>0.339000</td>\n",
       "      <td>0.171000</td>\n",
       "      <td>0.235000</td>\n",
       "      <td>9.000000</td>\n",
       "    </tr>\n",
       "    <tr>\n",
       "      <th>75%</th>\n",
       "      <td>3.000000</td>\n",
       "      <td>0.615000</td>\n",
       "      <td>0.480000</td>\n",
       "      <td>0.165000</td>\n",
       "      <td>1.151500</td>\n",
       "      <td>0.500500</td>\n",
       "      <td>0.252000</td>\n",
       "      <td>0.330000</td>\n",
       "      <td>11.000000</td>\n",
       "    </tr>\n",
       "    <tr>\n",
       "      <th>max</th>\n",
       "      <td>3.000000</td>\n",
       "      <td>0.815000</td>\n",
       "      <td>0.650000</td>\n",
       "      <td>1.130000</td>\n",
       "      <td>2.825500</td>\n",
       "      <td>1.488000</td>\n",
       "      <td>0.641500</td>\n",
       "      <td>0.897000</td>\n",
       "      <td>29.000000</td>\n",
       "    </tr>\n",
       "  </tbody>\n",
       "</table>\n",
       "</div>"
      ],
      "text/plain": [
       "               Sex       Length     Diameter       Height  Whole weight  \\\n",
       "count  2924.000000  2924.000000  2924.000000  2924.000000   2924.000000   \n",
       "mean      1.966826     0.524104     0.408057     0.139714      0.829171   \n",
       "std       0.823405     0.120497     0.099754     0.043084      0.490619   \n",
       "min       1.000000     0.075000     0.055000     0.000000      0.002000   \n",
       "25%       1.000000     0.450000     0.350000     0.115000      0.440000   \n",
       "50%       2.000000     0.545000     0.425000     0.145000      0.802750   \n",
       "75%       3.000000     0.615000     0.480000     0.165000      1.151500   \n",
       "max       3.000000     0.815000     0.650000     1.130000      2.825500   \n",
       "\n",
       "       Shucked weight  Viscera weight  Shell weight        Rings  \n",
       "count     2924.000000     2924.000000   2924.000000  2924.000000  \n",
       "mean         0.359761        0.180738      0.238587     9.919289  \n",
       "std          0.222053        0.109843      0.138107     3.200183  \n",
       "min          0.001000        0.000500      0.001500     1.000000  \n",
       "25%          0.186000        0.093500      0.130000     8.000000  \n",
       "50%          0.339000        0.171000      0.235000     9.000000  \n",
       "75%          0.500500        0.252000      0.330000    11.000000  \n",
       "max          1.488000        0.641500      0.897000    29.000000  "
      ]
     },
     "execution_count": 27,
     "metadata": {},
     "output_type": "execute_result"
    }
   ],
   "source": [
    "# Split the dataset into training and testing\n",
    "train_set, test_set = train_test_split(df, 0.3)\n",
    "train_set.describe()"
   ]
  },
  {
   "cell_type": "code",
   "execution_count": 28,
   "metadata": {
    "colab": {
     "base_uri": "https://localhost:8080/",
     "height": 300
    },
    "executionInfo": {
     "elapsed": 507,
     "status": "ok",
     "timestamp": 1646137038379,
     "user": {
      "displayName": "Kendrick Kee",
      "photoUrl": "https://lh3.googleusercontent.com/a-/AOh14Gj9bSIZR8EBOOghpLNFrX7sWkcYlfkSGWABPrPN=s64",
      "userId": "11635954710328237025"
     },
     "user_tz": -480
    },
    "id": "E3-HvCItPANM",
    "outputId": "6c2a3699-1f0c-4a14-9893-3e84ae91bb4f"
   },
   "outputs": [
    {
     "data": {
      "text/html": [
       "<div>\n",
       "<style scoped>\n",
       "    .dataframe tbody tr th:only-of-type {\n",
       "        vertical-align: middle;\n",
       "    }\n",
       "\n",
       "    .dataframe tbody tr th {\n",
       "        vertical-align: top;\n",
       "    }\n",
       "\n",
       "    .dataframe thead th {\n",
       "        text-align: right;\n",
       "    }\n",
       "</style>\n",
       "<table border=\"1\" class=\"dataframe\">\n",
       "  <thead>\n",
       "    <tr style=\"text-align: right;\">\n",
       "      <th></th>\n",
       "      <th>Sex</th>\n",
       "      <th>Length</th>\n",
       "      <th>Diameter</th>\n",
       "      <th>Height</th>\n",
       "      <th>Whole weight</th>\n",
       "      <th>Shucked weight</th>\n",
       "      <th>Viscera weight</th>\n",
       "      <th>Shell weight</th>\n",
       "      <th>Rings</th>\n",
       "    </tr>\n",
       "  </thead>\n",
       "  <tbody>\n",
       "    <tr>\n",
       "      <th>count</th>\n",
       "      <td>1253.000000</td>\n",
       "      <td>1253.000000</td>\n",
       "      <td>1253.000000</td>\n",
       "      <td>1253.000000</td>\n",
       "      <td>1253.000000</td>\n",
       "      <td>1253.00000</td>\n",
       "      <td>1253.000000</td>\n",
       "      <td>1253.00000</td>\n",
       "      <td>1253.000000</td>\n",
       "    </tr>\n",
       "    <tr>\n",
       "      <th>mean</th>\n",
       "      <td>1.928970</td>\n",
       "      <td>0.523731</td>\n",
       "      <td>0.407470</td>\n",
       "      <td>0.139054</td>\n",
       "      <td>0.827741</td>\n",
       "      <td>0.35845</td>\n",
       "      <td>0.180258</td>\n",
       "      <td>0.23940</td>\n",
       "      <td>9.967279</td>\n",
       "    </tr>\n",
       "    <tr>\n",
       "      <th>std</th>\n",
       "      <td>0.837747</td>\n",
       "      <td>0.119193</td>\n",
       "      <td>0.098068</td>\n",
       "      <td>0.038747</td>\n",
       "      <td>0.490046</td>\n",
       "      <td>0.22184</td>\n",
       "      <td>0.109121</td>\n",
       "      <td>0.14178</td>\n",
       "      <td>3.280504</td>\n",
       "    </tr>\n",
       "    <tr>\n",
       "      <th>min</th>\n",
       "      <td>1.000000</td>\n",
       "      <td>0.135000</td>\n",
       "      <td>0.105000</td>\n",
       "      <td>0.020000</td>\n",
       "      <td>0.014000</td>\n",
       "      <td>0.00550</td>\n",
       "      <td>0.002500</td>\n",
       "      <td>0.00400</td>\n",
       "      <td>3.000000</td>\n",
       "    </tr>\n",
       "    <tr>\n",
       "      <th>25%</th>\n",
       "      <td>1.000000</td>\n",
       "      <td>0.450000</td>\n",
       "      <td>0.345000</td>\n",
       "      <td>0.110000</td>\n",
       "      <td>0.444500</td>\n",
       "      <td>0.18650</td>\n",
       "      <td>0.092000</td>\n",
       "      <td>0.13200</td>\n",
       "      <td>8.000000</td>\n",
       "    </tr>\n",
       "    <tr>\n",
       "      <th>50%</th>\n",
       "      <td>2.000000</td>\n",
       "      <td>0.540000</td>\n",
       "      <td>0.420000</td>\n",
       "      <td>0.140000</td>\n",
       "      <td>0.785000</td>\n",
       "      <td>0.32950</td>\n",
       "      <td>0.170000</td>\n",
       "      <td>0.22800</td>\n",
       "      <td>9.000000</td>\n",
       "    </tr>\n",
       "    <tr>\n",
       "      <th>75%</th>\n",
       "      <td>3.000000</td>\n",
       "      <td>0.615000</td>\n",
       "      <td>0.480000</td>\n",
       "      <td>0.165000</td>\n",
       "      <td>1.159500</td>\n",
       "      <td>0.50650</td>\n",
       "      <td>0.256500</td>\n",
       "      <td>0.32500</td>\n",
       "      <td>11.000000</td>\n",
       "    </tr>\n",
       "    <tr>\n",
       "      <th>max</th>\n",
       "      <td>3.000000</td>\n",
       "      <td>0.780000</td>\n",
       "      <td>0.630000</td>\n",
       "      <td>0.250000</td>\n",
       "      <td>2.779500</td>\n",
       "      <td>1.35100</td>\n",
       "      <td>0.760000</td>\n",
       "      <td>1.00500</td>\n",
       "      <td>27.000000</td>\n",
       "    </tr>\n",
       "  </tbody>\n",
       "</table>\n",
       "</div>"
      ],
      "text/plain": [
       "               Sex       Length     Diameter       Height  Whole weight  \\\n",
       "count  1253.000000  1253.000000  1253.000000  1253.000000   1253.000000   \n",
       "mean      1.928970     0.523731     0.407470     0.139054      0.827741   \n",
       "std       0.837747     0.119193     0.098068     0.038747      0.490046   \n",
       "min       1.000000     0.135000     0.105000     0.020000      0.014000   \n",
       "25%       1.000000     0.450000     0.345000     0.110000      0.444500   \n",
       "50%       2.000000     0.540000     0.420000     0.140000      0.785000   \n",
       "75%       3.000000     0.615000     0.480000     0.165000      1.159500   \n",
       "max       3.000000     0.780000     0.630000     0.250000      2.779500   \n",
       "\n",
       "       Shucked weight  Viscera weight  Shell weight        Rings  \n",
       "count      1253.00000     1253.000000    1253.00000  1253.000000  \n",
       "mean          0.35845        0.180258       0.23940     9.967279  \n",
       "std           0.22184        0.109121       0.14178     3.280504  \n",
       "min           0.00550        0.002500       0.00400     3.000000  \n",
       "25%           0.18650        0.092000       0.13200     8.000000  \n",
       "50%           0.32950        0.170000       0.22800     9.000000  \n",
       "75%           0.50650        0.256500       0.32500    11.000000  \n",
       "max           1.35100        0.760000       1.00500    27.000000  "
      ]
     },
     "execution_count": 28,
     "metadata": {},
     "output_type": "execute_result"
    }
   ],
   "source": [
    "test_set.describe()"
   ]
  },
  {
   "cell_type": "code",
   "execution_count": 29,
   "metadata": {
    "colab": {
     "base_uri": "https://localhost:8080/"
    },
    "executionInfo": {
     "elapsed": 3420,
     "status": "ok",
     "timestamp": 1646137041797,
     "user": {
      "displayName": "Kendrick Kee",
      "photoUrl": "https://lh3.googleusercontent.com/a-/AOh14Gj9bSIZR8EBOOghpLNFrX7sWkcYlfkSGWABPrPN=s64",
      "userId": "11635954710328237025"
     },
     "user_tz": -480
    },
    "id": "UQ7TNIazPANM",
    "outputId": "cc577126-decf-497b-e8e7-1d1958c69596",
    "scrolled": true
   },
   "outputs": [
    {
     "name": "stdout",
     "output_type": "stream",
     "text": [
      "Number of exact matches in predictions: 473/2924\n",
      "MEAN SQUARED ERROR: 30.225376196990425\n",
      "ROOT MEAN SQUARED ERROR: 0.1849316803638273\n",
      "MEAN ABSOLUTE ERROR: 3.963406292749658\n",
      "Accuracy of prediction for training set: 16.176\n"
     ]
    }
   ],
   "source": [
    "# Test the model on training set\n",
    "train_pred = naive_bayes(train_set, train_set)\n",
    "print('Accuracy of prediction for training set:', accuracy(train_pred, train_set))"
   ]
  },
  {
   "cell_type": "code",
   "execution_count": 30,
   "metadata": {
    "colab": {
     "base_uri": "https://localhost:8080/"
    },
    "executionInfo": {
     "elapsed": 1265,
     "status": "ok",
     "timestamp": 1646137043060,
     "user": {
      "displayName": "Kendrick Kee",
      "photoUrl": "https://lh3.googleusercontent.com/a-/AOh14Gj9bSIZR8EBOOghpLNFrX7sWkcYlfkSGWABPrPN=s64",
      "userId": "11635954710328237025"
     },
     "user_tz": -480
    },
    "id": "kwlFH0N7PANN",
    "outputId": "04204924-e4e4-4337-fcfc-5118dc858b1c",
    "scrolled": false
   },
   "outputs": [
    {
     "name": "stdout",
     "output_type": "stream",
     "text": [
      "Number of exact matches in predictions: 195/1253\n",
      "MEAN SQUARED ERROR: 30.708699122106943\n",
      "ROOT MEAN SQUARED ERROR: 0.14125195547029415\n",
      "MEAN ABSOLUTE ERROR: 3.9936153232242617\n",
      "Accuracy of prediction for testing set: 15.563\n"
     ]
    }
   ],
   "source": [
    "# Test the model on testing set\n",
    "test_pred = naive_bayes(train_set, test_set)\n",
    "print('Accuracy of prediction for testing set:', accuracy(test_pred, test_set))"
   ]
  },
  {
   "cell_type": "markdown",
   "metadata": {
    "id": "9UHTCjDDPANN"
   },
   "source": [
    "## Observations\n",
    "The accuracy of the model is extremely poor at 17% as it is unable to predict the exact number of rings. This is expected as predicting the number of rings poses as more of a regression problem than a classification one due to the continous nature of \"Rings\" in this context\n",
    "\n",
    "Therefore, we will observe its other metrics commonly used in regression to evaluate the model.\n",
    "\n",
    "The MSE of both models are very close for both the training and testing dataset, this suggests that no overfitting occured. However, the MAE for both models is 3.6, this means that the model on average predicts the number of rings to be +- 3.6 which depending on the context and importance of accuracy of getting the exact ring count may deem this model to be good or bad.\n",
    "\n",
    "The RMSE for the testing dataset appears to be 0 whist its training counterpart has a 0.2 RMSE. This could mean that the model used for the testing dataset is alot more accurate than its training counterpart based on that metric."
   ]
  }
 ],
 "metadata": {
  "colab": {
   "collapsed_sections": [],
   "name": "Kendrick_Kee_A2_Task1.ipynb",
   "provenance": []
  },
  "kernelspec": {
   "display_name": "Python 3 (ipykernel)",
   "language": "python",
   "name": "python3"
  },
  "language_info": {
   "codemirror_mode": {
    "name": "ipython",
    "version": 3
   },
   "file_extension": ".py",
   "mimetype": "text/x-python",
   "name": "python",
   "nbconvert_exporter": "python",
   "pygments_lexer": "ipython3",
   "version": "3.9.5"
  }
 },
 "nbformat": 4,
 "nbformat_minor": 1
}
