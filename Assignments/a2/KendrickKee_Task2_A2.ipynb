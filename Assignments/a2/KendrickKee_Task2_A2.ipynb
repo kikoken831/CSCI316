{
 "cells": [
  {
   "cell_type": "markdown",
   "id": "VXV0wLpSpzFG",
   "metadata": {
    "id": "VXV0wLpSpzFG"
   },
   "source": [
    "## Kendrick Kee\n",
    "\n",
    "## 7366814\n",
    "\n",
    "## Assignment 2 Task 2"
   ]
  },
  {
   "cell_type": "code",
   "execution_count": null,
   "id": "7b0b6865",
   "metadata": {
    "id": "7b0b6865"
   },
   "outputs": [],
   "source": [
    "#import tensorflow.compat.v1 as tf\n",
    "import tensorflow.compat.v2 as tf\n",
    "#tf.disable_v2_behavior()"
   ]
  },
  {
   "cell_type": "code",
   "execution_count": null,
   "id": "fa8d39a9",
   "metadata": {
    "id": "fa8d39a9"
   },
   "outputs": [],
   "source": [
    "# Importing the libraries\n",
    "import pandas as pd\n",
    "import numpy as np\n",
    "from tensorflow import keras\n",
    "from tensorflow.keras import layers\n",
    "from sklearn.model_selection import train_test_split\n",
    "import seaborn as sns\n",
    "import matplotlib.pyplot as plt\n",
    "from tensorflow import keras\n",
    "from tensorflow.keras import layers"
   ]
  },
  {
   "cell_type": "code",
   "execution_count": null,
   "id": "275eba51",
   "metadata": {
    "id": "275eba51"
   },
   "outputs": [],
   "source": [
    "# Importing the data\n",
    "df = pd.read_csv('magic04.data', header = None)"
   ]
  },
  {
   "cell_type": "code",
   "execution_count": null,
   "id": "b258bb9e",
   "metadata": {
    "id": "b258bb9e"
   },
   "outputs": [],
   "source": [
    "#Assign column names\n",
    "df.columns = ['fLength','fWidth','fSize','fConc','fConc1',\n",
    "               'fAsym', 'fM3Long', 'fM3Trans', 'fAlpha', 'fDsit', 'target']"
   ]
  },
  {
   "cell_type": "code",
   "execution_count": null,
   "id": "52e4725a",
   "metadata": {
    "colab": {
     "base_uri": "https://localhost:8080/",
     "height": 424
    },
    "id": "52e4725a",
    "outputId": "e374efd7-3b0b-499e-bf35-a2acb5e0be5e"
   },
   "outputs": [
    {
     "data": {
      "text/html": [
       "\n",
       "  <div id=\"df-fd265a79-fa6b-4350-acc1-b3f487d48253\">\n",
       "    <div class=\"colab-df-container\">\n",
       "      <div>\n",
       "<style scoped>\n",
       "    .dataframe tbody tr th:only-of-type {\n",
       "        vertical-align: middle;\n",
       "    }\n",
       "\n",
       "    .dataframe tbody tr th {\n",
       "        vertical-align: top;\n",
       "    }\n",
       "\n",
       "    .dataframe thead th {\n",
       "        text-align: right;\n",
       "    }\n",
       "</style>\n",
       "<table border=\"1\" class=\"dataframe\">\n",
       "  <thead>\n",
       "    <tr style=\"text-align: right;\">\n",
       "      <th></th>\n",
       "      <th>fLength</th>\n",
       "      <th>fWidth</th>\n",
       "      <th>fSize</th>\n",
       "      <th>fConc</th>\n",
       "      <th>fConc1</th>\n",
       "      <th>fAsym</th>\n",
       "      <th>fM3Long</th>\n",
       "      <th>fM3Trans</th>\n",
       "      <th>fAlpha</th>\n",
       "      <th>fDsit</th>\n",
       "      <th>target</th>\n",
       "    </tr>\n",
       "  </thead>\n",
       "  <tbody>\n",
       "    <tr>\n",
       "      <th>0</th>\n",
       "      <td>28.7967</td>\n",
       "      <td>16.0021</td>\n",
       "      <td>2.6449</td>\n",
       "      <td>0.3918</td>\n",
       "      <td>0.1982</td>\n",
       "      <td>27.7004</td>\n",
       "      <td>22.0110</td>\n",
       "      <td>-8.2027</td>\n",
       "      <td>40.0920</td>\n",
       "      <td>81.8828</td>\n",
       "      <td>g</td>\n",
       "    </tr>\n",
       "    <tr>\n",
       "      <th>1</th>\n",
       "      <td>31.6036</td>\n",
       "      <td>11.7235</td>\n",
       "      <td>2.5185</td>\n",
       "      <td>0.5303</td>\n",
       "      <td>0.3773</td>\n",
       "      <td>26.2722</td>\n",
       "      <td>23.8238</td>\n",
       "      <td>-9.9574</td>\n",
       "      <td>6.3609</td>\n",
       "      <td>205.2610</td>\n",
       "      <td>g</td>\n",
       "    </tr>\n",
       "    <tr>\n",
       "      <th>2</th>\n",
       "      <td>162.0520</td>\n",
       "      <td>136.0310</td>\n",
       "      <td>4.0612</td>\n",
       "      <td>0.0374</td>\n",
       "      <td>0.0187</td>\n",
       "      <td>116.7410</td>\n",
       "      <td>-64.8580</td>\n",
       "      <td>-45.2160</td>\n",
       "      <td>76.9600</td>\n",
       "      <td>256.7880</td>\n",
       "      <td>g</td>\n",
       "    </tr>\n",
       "    <tr>\n",
       "      <th>3</th>\n",
       "      <td>23.8172</td>\n",
       "      <td>9.5728</td>\n",
       "      <td>2.3385</td>\n",
       "      <td>0.6147</td>\n",
       "      <td>0.3922</td>\n",
       "      <td>27.2107</td>\n",
       "      <td>-6.4633</td>\n",
       "      <td>-7.1513</td>\n",
       "      <td>10.4490</td>\n",
       "      <td>116.7370</td>\n",
       "      <td>g</td>\n",
       "    </tr>\n",
       "    <tr>\n",
       "      <th>4</th>\n",
       "      <td>75.1362</td>\n",
       "      <td>30.9205</td>\n",
       "      <td>3.1611</td>\n",
       "      <td>0.3168</td>\n",
       "      <td>0.1832</td>\n",
       "      <td>-5.5277</td>\n",
       "      <td>28.5525</td>\n",
       "      <td>21.8393</td>\n",
       "      <td>4.6480</td>\n",
       "      <td>356.4620</td>\n",
       "      <td>g</td>\n",
       "    </tr>\n",
       "    <tr>\n",
       "      <th>...</th>\n",
       "      <td>...</td>\n",
       "      <td>...</td>\n",
       "      <td>...</td>\n",
       "      <td>...</td>\n",
       "      <td>...</td>\n",
       "      <td>...</td>\n",
       "      <td>...</td>\n",
       "      <td>...</td>\n",
       "      <td>...</td>\n",
       "      <td>...</td>\n",
       "      <td>...</td>\n",
       "    </tr>\n",
       "    <tr>\n",
       "      <th>19015</th>\n",
       "      <td>21.3846</td>\n",
       "      <td>10.9170</td>\n",
       "      <td>2.6161</td>\n",
       "      <td>0.5857</td>\n",
       "      <td>0.3934</td>\n",
       "      <td>15.2618</td>\n",
       "      <td>11.5245</td>\n",
       "      <td>2.8766</td>\n",
       "      <td>2.4229</td>\n",
       "      <td>106.8258</td>\n",
       "      <td>h</td>\n",
       "    </tr>\n",
       "    <tr>\n",
       "      <th>19016</th>\n",
       "      <td>28.9452</td>\n",
       "      <td>6.7020</td>\n",
       "      <td>2.2672</td>\n",
       "      <td>0.5351</td>\n",
       "      <td>0.2784</td>\n",
       "      <td>37.0816</td>\n",
       "      <td>13.1853</td>\n",
       "      <td>-2.9632</td>\n",
       "      <td>86.7975</td>\n",
       "      <td>247.4560</td>\n",
       "      <td>h</td>\n",
       "    </tr>\n",
       "    <tr>\n",
       "      <th>19017</th>\n",
       "      <td>75.4455</td>\n",
       "      <td>47.5305</td>\n",
       "      <td>3.4483</td>\n",
       "      <td>0.1417</td>\n",
       "      <td>0.0549</td>\n",
       "      <td>-9.3561</td>\n",
       "      <td>41.0562</td>\n",
       "      <td>-9.4662</td>\n",
       "      <td>30.2987</td>\n",
       "      <td>256.5166</td>\n",
       "      <td>h</td>\n",
       "    </tr>\n",
       "    <tr>\n",
       "      <th>19018</th>\n",
       "      <td>120.5135</td>\n",
       "      <td>76.9018</td>\n",
       "      <td>3.9939</td>\n",
       "      <td>0.0944</td>\n",
       "      <td>0.0683</td>\n",
       "      <td>5.8043</td>\n",
       "      <td>-93.5224</td>\n",
       "      <td>-63.8389</td>\n",
       "      <td>84.6874</td>\n",
       "      <td>408.3166</td>\n",
       "      <td>h</td>\n",
       "    </tr>\n",
       "    <tr>\n",
       "      <th>19019</th>\n",
       "      <td>187.1814</td>\n",
       "      <td>53.0014</td>\n",
       "      <td>3.2093</td>\n",
       "      <td>0.2876</td>\n",
       "      <td>0.1539</td>\n",
       "      <td>-167.3125</td>\n",
       "      <td>-168.4558</td>\n",
       "      <td>31.4755</td>\n",
       "      <td>52.7310</td>\n",
       "      <td>272.3174</td>\n",
       "      <td>h</td>\n",
       "    </tr>\n",
       "  </tbody>\n",
       "</table>\n",
       "<p>19020 rows × 11 columns</p>\n",
       "</div>\n",
       "      <button class=\"colab-df-convert\" onclick=\"convertToInteractive('df-fd265a79-fa6b-4350-acc1-b3f487d48253')\"\n",
       "              title=\"Convert this dataframe to an interactive table.\"\n",
       "              style=\"display:none;\">\n",
       "        \n",
       "  <svg xmlns=\"http://www.w3.org/2000/svg\" height=\"24px\"viewBox=\"0 0 24 24\"\n",
       "       width=\"24px\">\n",
       "    <path d=\"M0 0h24v24H0V0z\" fill=\"none\"/>\n",
       "    <path d=\"M18.56 5.44l.94 2.06.94-2.06 2.06-.94-2.06-.94-.94-2.06-.94 2.06-2.06.94zm-11 1L8.5 8.5l.94-2.06 2.06-.94-2.06-.94L8.5 2.5l-.94 2.06-2.06.94zm10 10l.94 2.06.94-2.06 2.06-.94-2.06-.94-.94-2.06-.94 2.06-2.06.94z\"/><path d=\"M17.41 7.96l-1.37-1.37c-.4-.4-.92-.59-1.43-.59-.52 0-1.04.2-1.43.59L10.3 9.45l-7.72 7.72c-.78.78-.78 2.05 0 2.83L4 21.41c.39.39.9.59 1.41.59.51 0 1.02-.2 1.41-.59l7.78-7.78 2.81-2.81c.8-.78.8-2.07 0-2.86zM5.41 20L4 18.59l7.72-7.72 1.47 1.35L5.41 20z\"/>\n",
       "  </svg>\n",
       "      </button>\n",
       "      \n",
       "  <style>\n",
       "    .colab-df-container {\n",
       "      display:flex;\n",
       "      flex-wrap:wrap;\n",
       "      gap: 12px;\n",
       "    }\n",
       "\n",
       "    .colab-df-convert {\n",
       "      background-color: #E8F0FE;\n",
       "      border: none;\n",
       "      border-radius: 50%;\n",
       "      cursor: pointer;\n",
       "      display: none;\n",
       "      fill: #1967D2;\n",
       "      height: 32px;\n",
       "      padding: 0 0 0 0;\n",
       "      width: 32px;\n",
       "    }\n",
       "\n",
       "    .colab-df-convert:hover {\n",
       "      background-color: #E2EBFA;\n",
       "      box-shadow: 0px 1px 2px rgba(60, 64, 67, 0.3), 0px 1px 3px 1px rgba(60, 64, 67, 0.15);\n",
       "      fill: #174EA6;\n",
       "    }\n",
       "\n",
       "    [theme=dark] .colab-df-convert {\n",
       "      background-color: #3B4455;\n",
       "      fill: #D2E3FC;\n",
       "    }\n",
       "\n",
       "    [theme=dark] .colab-df-convert:hover {\n",
       "      background-color: #434B5C;\n",
       "      box-shadow: 0px 1px 3px 1px rgba(0, 0, 0, 0.15);\n",
       "      filter: drop-shadow(0px 1px 2px rgba(0, 0, 0, 0.3));\n",
       "      fill: #FFFFFF;\n",
       "    }\n",
       "  </style>\n",
       "\n",
       "      <script>\n",
       "        const buttonEl =\n",
       "          document.querySelector('#df-fd265a79-fa6b-4350-acc1-b3f487d48253 button.colab-df-convert');\n",
       "        buttonEl.style.display =\n",
       "          google.colab.kernel.accessAllowed ? 'block' : 'none';\n",
       "\n",
       "        async function convertToInteractive(key) {\n",
       "          const element = document.querySelector('#df-fd265a79-fa6b-4350-acc1-b3f487d48253');\n",
       "          const dataTable =\n",
       "            await google.colab.kernel.invokeFunction('convertToInteractive',\n",
       "                                                     [key], {});\n",
       "          if (!dataTable) return;\n",
       "\n",
       "          const docLinkHtml = 'Like what you see? Visit the ' +\n",
       "            '<a target=\"_blank\" href=https://colab.research.google.com/notebooks/data_table.ipynb>data table notebook</a>'\n",
       "            + ' to learn more about interactive tables.';\n",
       "          element.innerHTML = '';\n",
       "          dataTable['output_type'] = 'display_data';\n",
       "          await google.colab.output.renderOutput(dataTable, element);\n",
       "          const docLink = document.createElement('div');\n",
       "          docLink.innerHTML = docLinkHtml;\n",
       "          element.appendChild(docLink);\n",
       "        }\n",
       "      </script>\n",
       "    </div>\n",
       "  </div>\n",
       "  "
      ],
      "text/plain": [
       "        fLength    fWidth   fSize   fConc  ...  fM3Trans   fAlpha     fDsit  target\n",
       "0       28.7967   16.0021  2.6449  0.3918  ...   -8.2027  40.0920   81.8828       g\n",
       "1       31.6036   11.7235  2.5185  0.5303  ...   -9.9574   6.3609  205.2610       g\n",
       "2      162.0520  136.0310  4.0612  0.0374  ...  -45.2160  76.9600  256.7880       g\n",
       "3       23.8172    9.5728  2.3385  0.6147  ...   -7.1513  10.4490  116.7370       g\n",
       "4       75.1362   30.9205  3.1611  0.3168  ...   21.8393   4.6480  356.4620       g\n",
       "...         ...       ...     ...     ...  ...       ...      ...       ...     ...\n",
       "19015   21.3846   10.9170  2.6161  0.5857  ...    2.8766   2.4229  106.8258       h\n",
       "19016   28.9452    6.7020  2.2672  0.5351  ...   -2.9632  86.7975  247.4560       h\n",
       "19017   75.4455   47.5305  3.4483  0.1417  ...   -9.4662  30.2987  256.5166       h\n",
       "19018  120.5135   76.9018  3.9939  0.0944  ...  -63.8389  84.6874  408.3166       h\n",
       "19019  187.1814   53.0014  3.2093  0.2876  ...   31.4755  52.7310  272.3174       h\n",
       "\n",
       "[19020 rows x 11 columns]"
      ]
     },
     "execution_count": 5,
     "metadata": {},
     "output_type": "execute_result"
    }
   ],
   "source": [
    "#printing to check if column names have been assigned \n",
    "df"
   ]
  },
  {
   "cell_type": "markdown",
   "id": "d07cb8fc",
   "metadata": {
    "id": "d07cb8fc"
   },
   "source": [
    "As observed, there are 11 columns that we will be working with, and 19020 rows of data. "
   ]
  },
  {
   "cell_type": "code",
   "execution_count": null,
   "id": "7f04d999",
   "metadata": {
    "colab": {
     "base_uri": "https://localhost:8080/"
    },
    "id": "7f04d999",
    "outputId": "759a75e4-60ff-4400-ae47-09fc1f8fe167"
   },
   "outputs": [
    {
     "name": "stdout",
     "output_type": "stream",
     "text": [
      "<class 'pandas.core.frame.DataFrame'>\n",
      "RangeIndex: 5 entries, 0 to 4\n",
      "Data columns (total 11 columns):\n",
      " #   Column    Non-Null Count  Dtype  \n",
      "---  ------    --------------  -----  \n",
      " 0   fLength   5 non-null      float64\n",
      " 1   fWidth    5 non-null      float64\n",
      " 2   fSize     5 non-null      float64\n",
      " 3   fConc     5 non-null      float64\n",
      " 4   fConc1    5 non-null      float64\n",
      " 5   fAsym     5 non-null      float64\n",
      " 6   fM3Long   5 non-null      float64\n",
      " 7   fM3Trans  5 non-null      float64\n",
      " 8   fAlpha    5 non-null      float64\n",
      " 9   fDsit     5 non-null      float64\n",
      " 10  target    5 non-null      object \n",
      "dtypes: float64(10), object(1)\n",
      "memory usage: 568.0+ bytes\n"
     ]
    }
   ],
   "source": [
    "# Check if any missing data and data types\n",
    "df.head().info()"
   ]
  },
  {
   "cell_type": "code",
   "execution_count": null,
   "id": "ec0218f7",
   "metadata": {
    "id": "ec0218f7"
   },
   "outputs": [],
   "source": [
    "##Encode the class \n",
    "newdf = pd.Series(df['target'], dtype = \"category\")\n",
    "df['target'] = newdf.cat.codes"
   ]
  },
  {
   "cell_type": "markdown",
   "id": "CZWMQkdNeT9V",
   "metadata": {
    "id": "CZWMQkdNeT9V"
   },
   "source": [
    "##### Encoding gamma and hadron to 0,1 instead of g and h"
   ]
  },
  {
   "cell_type": "code",
   "execution_count": null,
   "id": "b9abe031",
   "metadata": {
    "colab": {
     "base_uri": "https://localhost:8080/"
    },
    "id": "b9abe031",
    "outputId": "48ffa0f0-d9fc-430a-947b-ab8bde6b2a79"
   },
   "outputs": [
    {
     "name": "stdout",
     "output_type": "stream",
     "text": [
      "<class 'pandas.core.frame.DataFrame'>\n",
      "RangeIndex: 5 entries, 0 to 4\n",
      "Data columns (total 11 columns):\n",
      " #   Column    Non-Null Count  Dtype  \n",
      "---  ------    --------------  -----  \n",
      " 0   fLength   5 non-null      float64\n",
      " 1   fWidth    5 non-null      float64\n",
      " 2   fSize     5 non-null      float64\n",
      " 3   fConc     5 non-null      float64\n",
      " 4   fConc1    5 non-null      float64\n",
      " 5   fAsym     5 non-null      float64\n",
      " 6   fM3Long   5 non-null      float64\n",
      " 7   fM3Trans  5 non-null      float64\n",
      " 8   fAlpha    5 non-null      float64\n",
      " 9   fDsit     5 non-null      float64\n",
      " 10  target    5 non-null      int8   \n",
      "dtypes: float64(10), int8(1)\n",
      "memory usage: 533.0 bytes\n"
     ]
    }
   ],
   "source": [
    "#making sure that all data types are numerical\n",
    "df.head().info()"
   ]
  },
  {
   "cell_type": "markdown",
   "id": "69XxcOuIqaxW",
   "metadata": {
    "id": "69XxcOuIqaxW"
   },
   "source": [
    "#### making sure all data types are numerical"
   ]
  },
  {
   "cell_type": "code",
   "execution_count": null,
   "id": "d00bb16b",
   "metadata": {
    "colab": {
     "base_uri": "https://localhost:8080/",
     "height": 424
    },
    "id": "d00bb16b",
    "outputId": "c370f183-a021-4325-8da9-707f8a39c6db"
   },
   "outputs": [
    {
     "data": {
      "text/html": [
       "\n",
       "  <div id=\"df-5284aa87-891f-4a26-8ccf-dae16f58d2ba\">\n",
       "    <div class=\"colab-df-container\">\n",
       "      <div>\n",
       "<style scoped>\n",
       "    .dataframe tbody tr th:only-of-type {\n",
       "        vertical-align: middle;\n",
       "    }\n",
       "\n",
       "    .dataframe tbody tr th {\n",
       "        vertical-align: top;\n",
       "    }\n",
       "\n",
       "    .dataframe thead th {\n",
       "        text-align: right;\n",
       "    }\n",
       "</style>\n",
       "<table border=\"1\" class=\"dataframe\">\n",
       "  <thead>\n",
       "    <tr style=\"text-align: right;\">\n",
       "      <th></th>\n",
       "      <th>fLength</th>\n",
       "      <th>fWidth</th>\n",
       "      <th>fSize</th>\n",
       "      <th>fConc</th>\n",
       "      <th>fConc1</th>\n",
       "      <th>fAsym</th>\n",
       "      <th>fM3Long</th>\n",
       "      <th>fM3Trans</th>\n",
       "      <th>fAlpha</th>\n",
       "      <th>fDsit</th>\n",
       "      <th>target</th>\n",
       "    </tr>\n",
       "  </thead>\n",
       "  <tbody>\n",
       "    <tr>\n",
       "      <th>0</th>\n",
       "      <td>28.7967</td>\n",
       "      <td>16.0021</td>\n",
       "      <td>2.6449</td>\n",
       "      <td>0.3918</td>\n",
       "      <td>0.1982</td>\n",
       "      <td>27.7004</td>\n",
       "      <td>22.0110</td>\n",
       "      <td>-8.2027</td>\n",
       "      <td>40.0920</td>\n",
       "      <td>81.8828</td>\n",
       "      <td>0</td>\n",
       "    </tr>\n",
       "    <tr>\n",
       "      <th>1</th>\n",
       "      <td>31.6036</td>\n",
       "      <td>11.7235</td>\n",
       "      <td>2.5185</td>\n",
       "      <td>0.5303</td>\n",
       "      <td>0.3773</td>\n",
       "      <td>26.2722</td>\n",
       "      <td>23.8238</td>\n",
       "      <td>-9.9574</td>\n",
       "      <td>6.3609</td>\n",
       "      <td>205.2610</td>\n",
       "      <td>0</td>\n",
       "    </tr>\n",
       "    <tr>\n",
       "      <th>2</th>\n",
       "      <td>162.0520</td>\n",
       "      <td>136.0310</td>\n",
       "      <td>4.0612</td>\n",
       "      <td>0.0374</td>\n",
       "      <td>0.0187</td>\n",
       "      <td>116.7410</td>\n",
       "      <td>-64.8580</td>\n",
       "      <td>-45.2160</td>\n",
       "      <td>76.9600</td>\n",
       "      <td>256.7880</td>\n",
       "      <td>0</td>\n",
       "    </tr>\n",
       "    <tr>\n",
       "      <th>3</th>\n",
       "      <td>23.8172</td>\n",
       "      <td>9.5728</td>\n",
       "      <td>2.3385</td>\n",
       "      <td>0.6147</td>\n",
       "      <td>0.3922</td>\n",
       "      <td>27.2107</td>\n",
       "      <td>-6.4633</td>\n",
       "      <td>-7.1513</td>\n",
       "      <td>10.4490</td>\n",
       "      <td>116.7370</td>\n",
       "      <td>0</td>\n",
       "    </tr>\n",
       "    <tr>\n",
       "      <th>4</th>\n",
       "      <td>75.1362</td>\n",
       "      <td>30.9205</td>\n",
       "      <td>3.1611</td>\n",
       "      <td>0.3168</td>\n",
       "      <td>0.1832</td>\n",
       "      <td>-5.5277</td>\n",
       "      <td>28.5525</td>\n",
       "      <td>21.8393</td>\n",
       "      <td>4.6480</td>\n",
       "      <td>356.4620</td>\n",
       "      <td>0</td>\n",
       "    </tr>\n",
       "    <tr>\n",
       "      <th>...</th>\n",
       "      <td>...</td>\n",
       "      <td>...</td>\n",
       "      <td>...</td>\n",
       "      <td>...</td>\n",
       "      <td>...</td>\n",
       "      <td>...</td>\n",
       "      <td>...</td>\n",
       "      <td>...</td>\n",
       "      <td>...</td>\n",
       "      <td>...</td>\n",
       "      <td>...</td>\n",
       "    </tr>\n",
       "    <tr>\n",
       "      <th>19015</th>\n",
       "      <td>21.3846</td>\n",
       "      <td>10.9170</td>\n",
       "      <td>2.6161</td>\n",
       "      <td>0.5857</td>\n",
       "      <td>0.3934</td>\n",
       "      <td>15.2618</td>\n",
       "      <td>11.5245</td>\n",
       "      <td>2.8766</td>\n",
       "      <td>2.4229</td>\n",
       "      <td>106.8258</td>\n",
       "      <td>1</td>\n",
       "    </tr>\n",
       "    <tr>\n",
       "      <th>19016</th>\n",
       "      <td>28.9452</td>\n",
       "      <td>6.7020</td>\n",
       "      <td>2.2672</td>\n",
       "      <td>0.5351</td>\n",
       "      <td>0.2784</td>\n",
       "      <td>37.0816</td>\n",
       "      <td>13.1853</td>\n",
       "      <td>-2.9632</td>\n",
       "      <td>86.7975</td>\n",
       "      <td>247.4560</td>\n",
       "      <td>1</td>\n",
       "    </tr>\n",
       "    <tr>\n",
       "      <th>19017</th>\n",
       "      <td>75.4455</td>\n",
       "      <td>47.5305</td>\n",
       "      <td>3.4483</td>\n",
       "      <td>0.1417</td>\n",
       "      <td>0.0549</td>\n",
       "      <td>-9.3561</td>\n",
       "      <td>41.0562</td>\n",
       "      <td>-9.4662</td>\n",
       "      <td>30.2987</td>\n",
       "      <td>256.5166</td>\n",
       "      <td>1</td>\n",
       "    </tr>\n",
       "    <tr>\n",
       "      <th>19018</th>\n",
       "      <td>120.5135</td>\n",
       "      <td>76.9018</td>\n",
       "      <td>3.9939</td>\n",
       "      <td>0.0944</td>\n",
       "      <td>0.0683</td>\n",
       "      <td>5.8043</td>\n",
       "      <td>-93.5224</td>\n",
       "      <td>-63.8389</td>\n",
       "      <td>84.6874</td>\n",
       "      <td>408.3166</td>\n",
       "      <td>1</td>\n",
       "    </tr>\n",
       "    <tr>\n",
       "      <th>19019</th>\n",
       "      <td>187.1814</td>\n",
       "      <td>53.0014</td>\n",
       "      <td>3.2093</td>\n",
       "      <td>0.2876</td>\n",
       "      <td>0.1539</td>\n",
       "      <td>-167.3125</td>\n",
       "      <td>-168.4558</td>\n",
       "      <td>31.4755</td>\n",
       "      <td>52.7310</td>\n",
       "      <td>272.3174</td>\n",
       "      <td>1</td>\n",
       "    </tr>\n",
       "  </tbody>\n",
       "</table>\n",
       "<p>19020 rows × 11 columns</p>\n",
       "</div>\n",
       "      <button class=\"colab-df-convert\" onclick=\"convertToInteractive('df-5284aa87-891f-4a26-8ccf-dae16f58d2ba')\"\n",
       "              title=\"Convert this dataframe to an interactive table.\"\n",
       "              style=\"display:none;\">\n",
       "        \n",
       "  <svg xmlns=\"http://www.w3.org/2000/svg\" height=\"24px\"viewBox=\"0 0 24 24\"\n",
       "       width=\"24px\">\n",
       "    <path d=\"M0 0h24v24H0V0z\" fill=\"none\"/>\n",
       "    <path d=\"M18.56 5.44l.94 2.06.94-2.06 2.06-.94-2.06-.94-.94-2.06-.94 2.06-2.06.94zm-11 1L8.5 8.5l.94-2.06 2.06-.94-2.06-.94L8.5 2.5l-.94 2.06-2.06.94zm10 10l.94 2.06.94-2.06 2.06-.94-2.06-.94-.94-2.06-.94 2.06-2.06.94z\"/><path d=\"M17.41 7.96l-1.37-1.37c-.4-.4-.92-.59-1.43-.59-.52 0-1.04.2-1.43.59L10.3 9.45l-7.72 7.72c-.78.78-.78 2.05 0 2.83L4 21.41c.39.39.9.59 1.41.59.51 0 1.02-.2 1.41-.59l7.78-7.78 2.81-2.81c.8-.78.8-2.07 0-2.86zM5.41 20L4 18.59l7.72-7.72 1.47 1.35L5.41 20z\"/>\n",
       "  </svg>\n",
       "      </button>\n",
       "      \n",
       "  <style>\n",
       "    .colab-df-container {\n",
       "      display:flex;\n",
       "      flex-wrap:wrap;\n",
       "      gap: 12px;\n",
       "    }\n",
       "\n",
       "    .colab-df-convert {\n",
       "      background-color: #E8F0FE;\n",
       "      border: none;\n",
       "      border-radius: 50%;\n",
       "      cursor: pointer;\n",
       "      display: none;\n",
       "      fill: #1967D2;\n",
       "      height: 32px;\n",
       "      padding: 0 0 0 0;\n",
       "      width: 32px;\n",
       "    }\n",
       "\n",
       "    .colab-df-convert:hover {\n",
       "      background-color: #E2EBFA;\n",
       "      box-shadow: 0px 1px 2px rgba(60, 64, 67, 0.3), 0px 1px 3px 1px rgba(60, 64, 67, 0.15);\n",
       "      fill: #174EA6;\n",
       "    }\n",
       "\n",
       "    [theme=dark] .colab-df-convert {\n",
       "      background-color: #3B4455;\n",
       "      fill: #D2E3FC;\n",
       "    }\n",
       "\n",
       "    [theme=dark] .colab-df-convert:hover {\n",
       "      background-color: #434B5C;\n",
       "      box-shadow: 0px 1px 3px 1px rgba(0, 0, 0, 0.15);\n",
       "      filter: drop-shadow(0px 1px 2px rgba(0, 0, 0, 0.3));\n",
       "      fill: #FFFFFF;\n",
       "    }\n",
       "  </style>\n",
       "\n",
       "      <script>\n",
       "        const buttonEl =\n",
       "          document.querySelector('#df-5284aa87-891f-4a26-8ccf-dae16f58d2ba button.colab-df-convert');\n",
       "        buttonEl.style.display =\n",
       "          google.colab.kernel.accessAllowed ? 'block' : 'none';\n",
       "\n",
       "        async function convertToInteractive(key) {\n",
       "          const element = document.querySelector('#df-5284aa87-891f-4a26-8ccf-dae16f58d2ba');\n",
       "          const dataTable =\n",
       "            await google.colab.kernel.invokeFunction('convertToInteractive',\n",
       "                                                     [key], {});\n",
       "          if (!dataTable) return;\n",
       "\n",
       "          const docLinkHtml = 'Like what you see? Visit the ' +\n",
       "            '<a target=\"_blank\" href=https://colab.research.google.com/notebooks/data_table.ipynb>data table notebook</a>'\n",
       "            + ' to learn more about interactive tables.';\n",
       "          element.innerHTML = '';\n",
       "          dataTable['output_type'] = 'display_data';\n",
       "          await google.colab.output.renderOutput(dataTable, element);\n",
       "          const docLink = document.createElement('div');\n",
       "          docLink.innerHTML = docLinkHtml;\n",
       "          element.appendChild(docLink);\n",
       "        }\n",
       "      </script>\n",
       "    </div>\n",
       "  </div>\n",
       "  "
      ],
      "text/plain": [
       "        fLength    fWidth   fSize   fConc  ...  fM3Trans   fAlpha     fDsit  target\n",
       "0       28.7967   16.0021  2.6449  0.3918  ...   -8.2027  40.0920   81.8828       0\n",
       "1       31.6036   11.7235  2.5185  0.5303  ...   -9.9574   6.3609  205.2610       0\n",
       "2      162.0520  136.0310  4.0612  0.0374  ...  -45.2160  76.9600  256.7880       0\n",
       "3       23.8172    9.5728  2.3385  0.6147  ...   -7.1513  10.4490  116.7370       0\n",
       "4       75.1362   30.9205  3.1611  0.3168  ...   21.8393   4.6480  356.4620       0\n",
       "...         ...       ...     ...     ...  ...       ...      ...       ...     ...\n",
       "19015   21.3846   10.9170  2.6161  0.5857  ...    2.8766   2.4229  106.8258       1\n",
       "19016   28.9452    6.7020  2.2672  0.5351  ...   -2.9632  86.7975  247.4560       1\n",
       "19017   75.4455   47.5305  3.4483  0.1417  ...   -9.4662  30.2987  256.5166       1\n",
       "19018  120.5135   76.9018  3.9939  0.0944  ...  -63.8389  84.6874  408.3166       1\n",
       "19019  187.1814   53.0014  3.2093  0.2876  ...   31.4755  52.7310  272.3174       1\n",
       "\n",
       "[19020 rows x 11 columns]"
      ]
     },
     "execution_count": 8,
     "metadata": {},
     "output_type": "execute_result"
    }
   ],
   "source": [
    "#view the datafram\n",
    "df"
   ]
  },
  {
   "cell_type": "code",
   "execution_count": null,
   "id": "8fc98703",
   "metadata": {
    "id": "8fc98703"
   },
   "outputs": [],
   "source": [
    "X = df.drop(['target'],axis=1)\n",
    "y = df.target"
   ]
  },
  {
   "cell_type": "code",
   "execution_count": null,
   "id": "7fa62374",
   "metadata": {
    "id": "7fa62374"
   },
   "outputs": [],
   "source": [
    "# Splitting the dataset into the Training set and Test set\n",
    "X_train, X_test, y_train, y_test = train_test_split(X, y, test_size = 0.3, random_state = 42069)"
   ]
  },
  {
   "cell_type": "markdown",
   "id": "NwfvFC7WqhMw",
   "metadata": {
    "id": "NwfvFC7WqhMw"
   },
   "source": [
    "#### splitting dataset 70% for training and 30% for testing."
   ]
  },
  {
   "cell_type": "code",
   "execution_count": null,
   "id": "1d1e30dc",
   "metadata": {
    "id": "1d1e30dc"
   },
   "outputs": [],
   "source": [
    "# Feature Scaling because yes we don't want one independent variable dominating the other and it makes computations easy\n",
    "from sklearn.preprocessing import StandardScaler\n",
    "sc = StandardScaler()\n",
    "X_train = sc.fit_transform(X_train)\n",
    "X_test = sc.transform(X_test)"
   ]
  },
  {
   "cell_type": "code",
   "execution_count": null,
   "id": "e10b45a0",
   "metadata": {
    "id": "e10b45a0"
   },
   "outputs": [],
   "source": [
    "from keras.models import Sequential\n",
    "from keras.layers import Dense"
   ]
  },
  {
   "cell_type": "markdown",
   "id": "sXtaR-NNqtRm",
   "metadata": {
    "id": "sXtaR-NNqtRm"
   },
   "source": [
    "#### importing keras for ANN implementation"
   ]
  },
  {
   "cell_type": "code",
   "execution_count": null,
   "id": "3c3acc93",
   "metadata": {
    "colab": {
     "base_uri": "https://localhost:8080/"
    },
    "id": "3c3acc93",
    "outputId": "373552f4-3e24-4c2b-9bd3-8818a602838c"
   },
   "outputs": [
    {
     "name": "stdout",
     "output_type": "stream",
     "text": [
      "1332/1332 [==============================] - 2s 1ms/step - loss: 0.3440 - accuracy: 0.8540\n",
      "Train score: 0.3439751863479614\n",
      "Train accuracy: 0.8539882898330688\n"
     ]
    }
   ],
   "source": [
    "classifier = Sequential()\n",
    "# Adding the input layer\n",
    "classifier.add(Dense(units = 5, kernel_initializer = 'uniform', activation = 'relu', input_dim = 10))\n",
    "\n",
    "# Adding the first hidden layer\n",
    "classifier.add(Dense(units = 5, kernel_initializer = 'uniform', activation = 'softmax'))\n",
    "# Adding the output layer\n",
    "classifier.add(Dense(units = 1, kernel_initializer = 'uniform', activation = 'sigmoid'))\n",
    "\n",
    "# Compiling the ANN | means applying ADAM optimizer on the whole ANN\n",
    "classifier.compile(optimizer = 'sgd', loss = 'binary_crossentropy', metrics = ['accuracy'])\n",
    "\n",
    "# Fitting the ANN to the Training set\n",
    "history = classifier.fit(X_train, y_train, batch_size = 10, epochs = 100,verbose = 0)\n",
    "\n",
    "score, acc = classifier.evaluate(X_train, y_train,\n",
    "                            batch_size=10)\n",
    "print('Train score:', score)\n",
    "print('Train accuracy:', acc)"
   ]
  },
  {
   "cell_type": "markdown",
   "id": "0r4k73OOqzpw",
   "metadata": {
    "id": "0r4k73OOqzpw"
   },
   "source": [
    "#### Created an ANN with 1 input layer and 1 hidden layer and 1 output layer. Each layer is initiated with 5 neurons with the input layer having 'relu' activation function, hidden layers having 'softmax' activation function an the output layer having the 'sigmoid' activation function.\n",
    "\n",
    "#### In addition, using 'adam' instead of the default sigmoid gradiant decent as an optimization function. \n",
    "\n",
    "#### Using these settings, the accuracy of the model is 85% on the training set with the training score of 0.34\n",
    "\n"
   ]
  },
  {
   "cell_type": "code",
   "execution_count": null,
   "id": "21a9d5ee",
   "metadata": {
    "colab": {
     "base_uri": "https://localhost:8080/"
    },
    "id": "21a9d5ee",
    "outputId": "d3a47813-990c-457d-954c-8024a37fb62a"
   },
   "outputs": [
    {
     "name": "stdout",
     "output_type": "stream",
     "text": [
      "Model: \"sequential_1\"\n",
      "_________________________________________________________________\n",
      " Layer (type)                Output Shape              Param #   \n",
      "=================================================================\n",
      " dense_3 (Dense)             (None, 5)                 55        \n",
      "                                                                 \n",
      " dense_4 (Dense)             (None, 5)                 30        \n",
      "                                                                 \n",
      " dense_5 (Dense)             (None, 1)                 6         \n",
      "                                                                 \n",
      "=================================================================\n",
      "Total params: 91\n",
      "Trainable params: 91\n",
      "Non-trainable params: 0\n",
      "_________________________________________________________________\n"
     ]
    }
   ],
   "source": [
    "classifier.summary()"
   ]
  },
  {
   "cell_type": "code",
   "execution_count": null,
   "id": "840346b3",
   "metadata": {
    "colab": {
     "base_uri": "https://localhost:8080/"
    },
    "id": "840346b3",
    "outputId": "d3bc6a53-68a3-4a1f-f775-e778b891046d"
   },
   "outputs": [
    {
     "name": "stdout",
     "output_type": "stream",
     "text": [
      "571/571 [==============================] - 1s 914us/step - loss: 0.3400 - accuracy: 0.8549\n",
      "Test score: 0.33995169401168823\n",
      "Test accuracy: 0.8548895716667175\n"
     ]
    }
   ],
   "source": [
    "# Predicting the Test set results\n",
    "y_pred = classifier.predict(X_test)\n",
    "y_pred = (y_pred > 0.5)\n",
    "\n",
    "score, acc = classifier.evaluate(X_test, y_test,\n",
    "                            batch_size=10)\n",
    "print('Test score:', score)\n",
    "print('Test accuracy:', acc)"
   ]
  },
  {
   "cell_type": "markdown",
   "id": "tNOgEC8ivUTX",
   "metadata": {
    "id": "tNOgEC8ivUTX"
   },
   "source": [
    "#### Using the model to predict unseen data, the testing accuracy is 85% which is equal to the accuracy of the training dataset, therefore we can conclude that no overfitting has ocurred and the model has achieved a level of generalization."
   ]
  },
  {
   "cell_type": "code",
   "execution_count": null,
   "id": "22c899fa",
   "metadata": {
    "id": "22c899fa"
   },
   "outputs": [],
   "source": [
    "# Making the Confusion Matrix\n",
    "from sklearn.metrics import confusion_matrix\n",
    "cm = confusion_matrix(y_test, y_pred)"
   ]
  },
  {
   "cell_type": "code",
   "execution_count": null,
   "id": "cc379914",
   "metadata": {
    "colab": {
     "base_uri": "https://localhost:8080/",
     "height": 312
    },
    "id": "cc379914",
    "outputId": "8c343286-30ae-4f14-8a3f-bd49ec0abf02"
   },
   "outputs": [
    {
     "data": {
      "text/plain": [
       "Text(0.5, 15.0, 'Predicted label')"
      ]
     },
     "execution_count": 28,
     "metadata": {},
     "output_type": "execute_result"
    },
    {
     "data": {
      "image/png": "[encoded data removed]",
      "text/plain": [
       "<Figure size 432x288 with 2 Axes>"
      ]
     },
     "metadata": {
      "needs_background": "light"
     },
     "output_type": "display_data"
    }
   ],
   "source": [
    "p = sns.heatmap(pd.DataFrame(cm), annot=True, cmap=\"YlGnBu\" ,fmt='g')\n",
    "plt.title('Confusion matrix', y=1.1)\n",
    "plt.ylabel('Actual label')\n",
    "plt.xlabel('Predicted label')"
   ]
  },
  {
   "cell_type": "markdown",
   "id": "yEh-UKSEv1bN",
   "metadata": {
    "id": "yEh-UKSEv1bN"
   },
   "source": [
    "#### here we can observe that majority of the labels are classified in-correctly, with 557 labels mis-classified as 0 (gamma) and 271 mis-classified as 1 (hadron)"
   ]
  },
  {
   "cell_type": "code",
   "execution_count": null,
   "id": "85771e16",
   "metadata": {
    "colab": {
     "base_uri": "https://localhost:8080/"
    },
    "id": "85771e16",
    "outputId": "030b3517-6376-422a-d081-4d07d204a72f"
   },
   "outputs": [
    {
     "name": "stdout",
     "output_type": "stream",
     "text": [
      "              precision    recall  f1-score   support\n",
      "\n",
      "           0       0.86      0.93      0.89      3683\n",
      "           1       0.84      0.72      0.78      2023\n",
      "\n",
      "    accuracy                           0.85      5706\n",
      "   macro avg       0.85      0.83      0.84      5706\n",
      "weighted avg       0.85      0.85      0.85      5706\n",
      "\n"
     ]
    }
   ],
   "source": [
    "#import classification_report\n",
    "from sklearn.metrics import classification_report\n",
    "print(classification_report(y_test,y_pred))"
   ]
  },
  {
   "cell_type": "code",
   "execution_count": null,
   "id": "9e388923",
   "metadata": {
    "id": "9e388923"
   },
   "outputs": [],
   "source": [
    "from sklearn.metrics import roc_curve"
   ]
  },
  {
   "cell_type": "code",
   "execution_count": null,
   "id": "287b1940",
   "metadata": {
    "id": "287b1940"
   },
   "outputs": [],
   "source": [
    "y_prob = classifier.predict(X_test)"
   ]
  },
  {
   "cell_type": "code",
   "execution_count": null,
   "id": "2a97916d",
   "metadata": {
    "colab": {
     "base_uri": "https://localhost:8080/",
     "height": 295
    },
    "id": "2a97916d",
    "outputId": "2ffa1d80-a0b3-4b7d-eb45-7682ee1420cf"
   },
   "outputs": [
    {
     "data": {
      "image/png": "[encoded data removed]",
      "text/plain": [
       "<Figure size 432x288 with 1 Axes>"
      ]
     },
     "metadata": {
      "needs_background": "light"
     },
     "output_type": "display_data"
    }
   ],
   "source": [
    "fpr, tpr, thresholds = roc_curve(y_test, y_prob)\n",
    "\n",
    "plt.plot([0,1],[0,1],'k--')\n",
    "plt.plot(fpr,tpr, label='ANN')\n",
    "plt.xlabel('fpr')\n",
    "plt.ylabel('tpr')\n",
    "plt.title('ROC curve')\n",
    "plt.show()"
   ]
  },
  {
   "cell_type": "code",
   "execution_count": null,
   "id": "b33b3bde",
   "metadata": {
    "colab": {
     "base_uri": "https://localhost:8080/"
    },
    "id": "b33b3bde",
    "outputId": "a582b299-ab8e-4d9f-9e50-25a1b7e65438"
   },
   "outputs": [
    {
     "data": {
      "text/plain": [
       "0.9178085602323216"
      ]
     },
     "execution_count": 33,
     "metadata": {},
     "output_type": "execute_result"
    }
   ],
   "source": [
    "#Area under ROC curve\n",
    "from sklearn.metrics import roc_auc_score\n",
    "roc_auc_score(y_test,y_prob)"
   ]
  },
  {
   "cell_type": "markdown",
   "id": "jdyHV3QLws47",
   "metadata": {
    "id": "jdyHV3QLws47"
   },
   "source": [
    "#### Plotting the ROC curve, we can see that to model is not underfitted as it is well above the \"random classification\" line and its area under the curve is 0.917 which is very good."
   ]
  },
  {
   "cell_type": "markdown",
   "id": "4df907cd",
   "metadata": {
    "id": "4df907cd"
   },
   "source": [
    "# Hyper Parameter Tuning"
   ]
  },
  {
   "cell_type": "code",
   "execution_count": null,
   "id": "vJpDKZw1HQ3Y",
   "metadata": {
    "id": "vJpDKZw1HQ3Y"
   },
   "outputs": [],
   "source": [
    "from tensorflow.keras.layers import Flatten\n",
    "from tensorflow.keras.layers import Dropout\n",
    "from tensorflow.keras.optimizers import Adam\n",
    "from tensorflow.keras.regularizers import *"
   ]
  },
  {
   "cell_type": "code",
   "execution_count": null,
   "id": "udrRRuArHvgS",
   "metadata": {
    "id": "udrRRuArHvgS"
   },
   "outputs": [],
   "source": [
    "# Define a grid for hyper parameter tuning\n",
    "# define a grid of the hyperparameter search space\n",
    "no_of_neurons = [6,7,8]\n",
    "no_of_layers = [2,3,4]\n",
    "l1 = [0.01,0.1]\n",
    "l2 = [0.01,0.1]\n",
    "# create a dictionary from the hyperparameter grid\n",
    "grid = dict(\n",
    "  no_of_neurons = no_of_neurons,\n",
    "  no_of_layers = no_of_layers,\n",
    "  l1 = l1,\n",
    "  l2 = l2\n",
    ")"
   ]
  },
  {
   "cell_type": "markdown",
   "id": "7UOkOE0fLBMh",
   "metadata": {
    "id": "7UOkOE0fLBMh"
   },
   "source": [
    "#### Defining a grid of a list of neuron counts, list of possible layers and 2 values for l1 and l2 regularizer"
   ]
  },
  {
   "cell_type": "markdown",
   "id": "P1euxJxsep1j",
   "metadata": {
    "id": "P1euxJxsep1j"
   },
   "source": [
    "## WARNING, CELL BELOW TAKES 3 HOURS TO COMPLETE"
   ]
  },
  {
   "cell_type": "code",
   "execution_count": null,
   "id": "7KdXpSrELB_t",
   "metadata": {
    "colab": {
     "base_uri": "https://localhost:8080/"
    },
    "id": "7KdXpSrELB_t",
    "outputId": "7d38326f-ca37-440b-f036-a39131620433"
   },
   "outputs": [
    {
     "name": "stdout",
     "output_type": "stream",
     "text": [
      "1332/1332 [==============================] - 2s 2ms/step - loss: 0.3644 - accuracy: 0.8665\n",
      "1332/1332 [==============================] - 2s 2ms/step - loss: 0.3779 - accuracy: 0.8665\n",
      "1332/1332 [==============================] - 2s 2ms/step - loss: 5.4048 - accuracy: 0.6496\n",
      "1332/1332 [==============================] - 2s 2ms/step - loss: 0.3604 - accuracy: 0.8665\n",
      "1332/1332 [==============================] - 2s 2ms/step - loss: 0.3740 - accuracy: 0.8649\n",
      "1332/1332 [==============================] - 2s 2ms/step - loss: 5.4049 - accuracy: 0.6496\n",
      "1332/1332 [==============================] - 2s 2ms/step - loss: 0.3646 - accuracy: 0.8619\n",
      "1332/1332 [==============================] - 2s 2ms/step - loss: 5.4049 - accuracy: 0.6496\n",
      "1332/1332 [==============================] - 2s 2ms/step - loss: 5.4050 - accuracy: 0.6496\n",
      "1332/1332 [==============================] - 2s 2ms/step - loss: 0.3677 - accuracy: 0.8692\n",
      "1332/1332 [==============================] - 2s 2ms/step - loss: 0.6479 - accuracy: 0.6496\n",
      "1332/1332 [==============================] - 2s 2ms/step - loss: 5.4049 - accuracy: 0.6496\n",
      "1332/1332 [==============================] - 2s 1ms/step - loss: 0.3668 - accuracy: 0.8681\n",
      "1332/1332 [==============================] - 2s 2ms/step - loss: 0.6479 - accuracy: 0.6496\n",
      "1332/1332 [==============================] - 2s 2ms/step - loss: 0.6483 - accuracy: 0.6496\n",
      "1332/1332 [==============================] - 2s 2ms/step - loss: 0.3938 - accuracy: 0.8423\n",
      "1332/1332 [==============================] - 2s 2ms/step - loss: 5.4049 - accuracy: 0.6496\n",
      "1332/1332 [==============================] - 2s 2ms/step - loss: 0.6481 - accuracy: 0.6496\n",
      "1332/1332 [==============================] - 2s 2ms/step - loss: 0.6490 - accuracy: 0.6496\n",
      "1332/1332 [==============================] - 2s 2ms/step - loss: 5.4062 - accuracy: 0.6496\n",
      "1332/1332 [==============================] - 3s 2ms/step - loss: 5.4068 - accuracy: 0.6496\n",
      "1332/1332 [==============================] - 2s 2ms/step - loss: 0.6491 - accuracy: 0.6496\n",
      "1332/1332 [==============================] - 3s 2ms/step - loss: 5.4066 - accuracy: 0.6496\n",
      "1332/1332 [==============================] - 3s 2ms/step - loss: 5.4074 - accuracy: 0.6496\n",
      "1332/1332 [==============================] - 2s 2ms/step - loss: 0.6494 - accuracy: 0.6496\n",
      "1332/1332 [==============================] - 2s 2ms/step - loss: 0.6506 - accuracy: 0.6496\n",
      "1332/1332 [==============================] - 2s 2ms/step - loss: 5.4078 - accuracy: 0.6496\n",
      "1332/1332 [==============================] - 2s 2ms/step - loss: 5.4060 - accuracy: 0.6496\n",
      "1332/1332 [==============================] - 3s 2ms/step - loss: 0.6493 - accuracy: 0.6496\n",
      "1332/1332 [==============================] - 2s 2ms/step - loss: 5.4068 - accuracy: 0.6496\n",
      "1332/1332 [==============================] - 2s 2ms/step - loss: 0.6504 - accuracy: 0.6496\n",
      "1332/1332 [==============================] - 2s 2ms/step - loss: 5.4068 - accuracy: 0.6496\n",
      "1332/1332 [==============================] - 2s 2ms/step - loss: 5.4073 - accuracy: 0.6496\n",
      "1332/1332 [==============================] - 2s 2ms/step - loss: 0.6493 - accuracy: 0.6496\n",
      "1332/1332 [==============================] - 2s 2ms/step - loss: 0.6509 - accuracy: 0.6496\n",
      "1332/1332 [==============================] - 2s 2ms/step - loss: 5.4081 - accuracy: 0.6496\n",
      "The best parameters from grid search was layers: 2, neuron count of: 6, with a l1 value of: 0.01 and a l2 value of: 0.1\n",
      "====================\n",
      "The given parameters had a accuracy of: 0.8691602945327759 and score of: 0.3677224814891815\n"
     ]
    }
   ],
   "source": [
    "#WARNING THIS CELL WILL TAKE 3 HOURS TO COMPLETE THE GRID ABOVE\n",
    "best_accuracy,best_score,best_layers,best_neuron,best_l1,best_l2 = 0,0,0,0,0,0\n",
    "\n",
    "for l1_val in grid['l1']:\n",
    "\n",
    "  for l2_val in grid['l2']:\n",
    "\n",
    "    for neuron_count in grid['no_of_neurons']:\n",
    "\n",
    "      for layer_count in grid['no_of_layers']:\n",
    "\n",
    "        grid_model = Sequential()\n",
    "        #initializing the input layer\n",
    "        grid_model.add(Dense(units = 10, kernel_initializer = 'uniform', activation = 'relu', input_dim = 10))\n",
    "\n",
    "        for x in range(layer_count):\n",
    "\n",
    "          #Creating x hidden layer\n",
    "          grid_model.add(Dense(units = neuron_count, kernel_initializer = 'uniform', activation = 'relu', kernel_regularizer = l1_l2(l1=l1_val,l2=l2_val)))\n",
    "\n",
    "\n",
    "        #initializing the output layer\n",
    "        # Adding the output layer\n",
    "        grid_model.add(Dense(units = 1, kernel_initializer = 'uniform', activation = 'relu'))\n",
    "        #compiling ANN\n",
    "        grid_model.compile(optimizer = 'adam',loss = 'binary_crossentropy',metrics = ['accuracy'])\n",
    "        # Fitting the ANN to the Training set\n",
    "        history1 = grid_model.fit(X_train, y_train, batch_size = 10, epochs = 100,verbose = 0)\n",
    "\n",
    "        score, acc = grid_model.evaluate(X_train, y_train,\n",
    "                                  batch_size=10)\n",
    "        if best_accuracy < acc:\n",
    "          best_accuracy = acc\n",
    "          best_score = score\n",
    "          best_layers = layer_count\n",
    "          best_neuron = neuron_count\n",
    "          best_l1 = l1_val\n",
    "          best_l2 = l2_val\n",
    "print(f'The best parameters from grid search was layers: {best_layers}, neuron count of: {best_neuron}, with a l1 value of: {best_l1} and a l2 value of: {best_l2}')\n",
    "print(\"=\"*20)\n",
    "print(f'The given parameters had a accuracy of: {best_accuracy} and score of: {best_score}')"
   ]
  },
  {
   "cell_type": "markdown",
   "id": "CMn9aqOuoBZP",
   "metadata": {
    "id": "CMn9aqOuoBZP"
   },
   "source": [
    "### Using Keras, I performed a grid search to determine the best hyperparameter values, the maximum accuracy achieved from the grid was 86.9% which is a 2% improvement"
   ]
  },
  {
   "cell_type": "markdown",
   "id": "IxACqlu8l_0a",
   "metadata": {
    "id": "IxACqlu8l_0a"
   },
   "source": [
    "### The best parameters from our grid is 2 layers, 36 neurons and an l1 value and l2 value of 0.01"
   ]
  },
  {
   "cell_type": "markdown",
   "id": "i1ApEVKLjDTc",
   "metadata": {
    "id": "i1ApEVKLjDTc"
   },
   "source": [
    "## Creating Model based on best parameters for reporting"
   ]
  },
  {
   "cell_type": "code",
   "execution_count": null,
   "id": "7cf104b9",
   "metadata": {
    "colab": {
     "base_uri": "https://localhost:8080/"
    },
    "id": "7cf104b9",
    "outputId": "43e81853-e33a-4a7b-bf23-bb885966d585"
   },
   "outputs": [
    {
     "name": "stdout",
     "output_type": "stream",
     "text": [
      "1332/1332 [==============================] - 1s 1ms/step - loss: 0.3620 - accuracy: 0.8725\n",
      "Train score: 0.36201488971710205\n",
      "Train accuracy: 0.8725401759147644\n"
     ]
    }
   ],
   "source": [
    "classifier_tuned = Sequential()\n",
    "# Adding the input layer\n",
    "classifier_tuned.add(Dense(units = 10, kernel_initializer = 'uniform', activation = 'relu', input_dim = 10))\n",
    "for layer_x in range(2):\n",
    "  #Adding x layers with neuron count and L1, L2\n",
    "  classifier_tuned.add(Dense(units = 36, kernel_initializer = 'uniform', activation = 'relu', kernel_regularizer = l1_l2(l1=0.01,l2=0.01)))\n",
    "\n",
    "# Adding the output layer\n",
    "classifier_tuned.add(Dense(units = 1, kernel_initializer = 'uniform', activation = 'relu'))\n",
    "# Compiling the ANN | \n",
    "classifier_tuned.compile(optimizer = 'adam', loss = 'binary_crossentropy', metrics = ['accuracy'])\n",
    "\n",
    "# Fitting the ANN to the Training set\n",
    "history1 = classifier_tuned.fit(X_train, y_train, batch_size = 10, epochs = 100,verbose = 0)\n",
    "\n",
    "score, acc = classifier_tuned.evaluate(X_train, y_train,\n",
    "                            batch_size=10)\n",
    "print('Train score:', score)\n",
    "print('Train accuracy:', acc)"
   ]
  },
  {
   "cell_type": "markdown",
   "id": "0ZdhkB7BbZTo",
   "metadata": {
    "id": "0ZdhkB7BbZTo"
   },
   "source": [
    "#### As we can see the model now performs better than the baseline with a 2% increase with an accuracy of 87%"
   ]
  },
  {
   "cell_type": "markdown",
   "id": "kWiYU2KhxY5v",
   "metadata": {
    "id": "kWiYU2KhxY5v"
   },
   "source": [
    "#### Using the tuned paramters to generate values for reporting"
   ]
  },
  {
   "cell_type": "code",
   "execution_count": null,
   "id": "13e690fa",
   "metadata": {
    "colab": {
     "base_uri": "https://localhost:8080/"
    },
    "id": "13e690fa",
    "outputId": "22c4c399-9dcf-4439-b66b-ba9edea5705b"
   },
   "outputs": [
    {
     "name": "stdout",
     "output_type": "stream",
     "text": [
      "Model: \"sequential_2\"\n",
      "_________________________________________________________________\n",
      " Layer (type)                Output Shape              Param #   \n",
      "=================================================================\n",
      " dense_6 (Dense)             (None, 10)                110       \n",
      "                                                                 \n",
      " dense_7 (Dense)             (None, 36)                396       \n",
      "                                                                 \n",
      " dense_8 (Dense)             (None, 36)                1332      \n",
      "                                                                 \n",
      " dense_9 (Dense)             (None, 1)                 37        \n",
      "                                                                 \n",
      "=================================================================\n",
      "Total params: 1,875\n",
      "Trainable params: 1,875\n",
      "Non-trainable params: 0\n",
      "_________________________________________________________________\n"
     ]
    }
   ],
   "source": [
    "classifier_tuned.summary()"
   ]
  },
  {
   "cell_type": "code",
   "execution_count": null,
   "id": "3cb63998",
   "metadata": {
    "colab": {
     "base_uri": "https://localhost:8080/"
    },
    "id": "3cb63998",
    "outputId": "ea5ff6ee-6a8e-4ff8-c0e2-70ed1f5e4ca0"
   },
   "outputs": [
    {
     "name": "stdout",
     "output_type": "stream",
     "text": [
      "571/571 [==============================] - 1s 1ms/step - loss: 0.3808 - accuracy: 0.8663\n",
      "Test score: 0.3808225393295288\n",
      "Test accuracy: 0.8662810921669006\n"
     ]
    }
   ],
   "source": [
    "# Predicting the Test set results\n",
    "y1_pred1 = classifier_tuned.predict(X_test)\n",
    "y1_pred1 = (y_pred > 0.5)\n",
    "\n",
    "score, acc = classifier_tuned.evaluate(X_test, y_test,\n",
    "                            batch_size=10)\n",
    "print('Test score:', score)\n",
    "print('Test accuracy:', acc)"
   ]
  },
  {
   "cell_type": "markdown",
   "id": "_aMvv1rG5S9R",
   "metadata": {
    "id": "_aMvv1rG5S9R"
   },
   "source": [
    "#### The accuracy of the tuned model on the testing dataset is 86.6% which is higher than the prior accuracy of 85.4%. The test score is 0.307. Accuracy is also similar to training set accuracy which shows that model has no sign of overfitting."
   ]
  },
  {
   "cell_type": "code",
   "execution_count": null,
   "id": "a67b2eb7",
   "metadata": {
    "id": "a67b2eb7"
   },
   "outputs": [],
   "source": [
    "# Making the Confusion Matrix\n",
    "from sklearn.metrics import confusion_matrix\n",
    "cm = confusion_matrix(y_test, y1_pred1)"
   ]
  },
  {
   "cell_type": "code",
   "execution_count": null,
   "id": "2c14584a",
   "metadata": {
    "colab": {
     "base_uri": "https://localhost:8080/",
     "height": 312
    },
    "id": "2c14584a",
    "outputId": "a2996b01-61b2-465d-de25-6fb0d70920c8"
   },
   "outputs": [
    {
     "data": {
      "text/plain": [
       "Text(0.5, 15.0, 'Predicted label')"
      ]
     },
     "execution_count": 40,
     "metadata": {},
     "output_type": "execute_result"
    },
    {
     "data": {
      "image/png": "[encoded data removed]",
      "text/plain": [
       "<Figure size 432x288 with 2 Axes>"
      ]
     },
     "metadata": {
      "needs_background": "light"
     },
     "output_type": "display_data"
    }
   ],
   "source": [
    "p = sns.heatmap(pd.DataFrame(cm), annot=True, cmap=\"YlGnBu\" ,fmt='g')\n",
    "plt.title('Confusion matrix', y=1.1)\n",
    "plt.ylabel('Actual label')\n",
    "plt.xlabel('Predicted label')"
   ]
  },
  {
   "cell_type": "markdown",
   "id": "ZGxjfnl-6NFs",
   "metadata": {
    "id": "ZGxjfnl-6NFs"
   },
   "source": [
    "#### here we can observe that majority of the labels are classified correctly, with 557 labels mis-classified as 0 (gamma) and 271 mis-classified as 1 (hardon)"
   ]
  },
  {
   "cell_type": "code",
   "execution_count": null,
   "id": "37c0def4",
   "metadata": {
    "colab": {
     "base_uri": "https://localhost:8080/"
    },
    "id": "37c0def4",
    "outputId": "972149f2-b18f-4329-97e2-1ed79bb1aa81"
   },
   "outputs": [
    {
     "name": "stdout",
     "output_type": "stream",
     "text": [
      "              precision    recall  f1-score   support\n",
      "\n",
      "           0       0.86      0.93      0.89      3683\n",
      "           1       0.84      0.72      0.78      2023\n",
      "\n",
      "    accuracy                           0.85      5706\n",
      "   macro avg       0.85      0.83      0.84      5706\n",
      "weighted avg       0.85      0.85      0.85      5706\n",
      "\n"
     ]
    }
   ],
   "source": [
    "print(classification_report(y_test,y1_pred1))"
   ]
  },
  {
   "cell_type": "code",
   "execution_count": null,
   "id": "16d32f34",
   "metadata": {
    "colab": {
     "base_uri": "https://localhost:8080/",
     "height": 295
    },
    "id": "16d32f34",
    "outputId": "a1860dea-06eb-40b0-bb09-aefd065f78e1"
   },
   "outputs": [
    {
     "data": {
      "image/png": "[encoded data removed]",
      "text/plain": [
       "<Figure size 432x288 with 1 Axes>"
      ]
     },
     "metadata": {
      "needs_background": "light"
     },
     "output_type": "display_data"
    }
   ],
   "source": [
    "y_pred_proba1 = classifier_tuned.predict(X_test)\n",
    "\n",
    "fpr1, tpr1, thresholds1 = roc_curve(y_test, y_pred_proba1)\n",
    "plt.plot([0,1],[0,1],'k--')\n",
    "plt.plot(fpr1,tpr1, label='ANN1')\n",
    "plt.plot(fpr,tpr, label='ANN')\n",
    "plt.xlabel('fpr')\n",
    "plt.ylabel('tpr')\n",
    "plt.title('ROC curve')\n",
    "plt.show()"
   ]
  },
  {
   "cell_type": "markdown",
   "id": "OtuGdzAk6R8x",
   "metadata": {
    "id": "OtuGdzAk6R8x"
   },
   "source": [
    "#### Here we see the ROC curve for both the tuned and pre-tuned models, both curves are incredible close together which is expected as the difference in accuracy of both models are withing a few % in range. But we can observe that the ROC curve for the tuned model has a larger AUC."
   ]
  },
  {
   "cell_type": "code",
   "execution_count": null,
   "id": "751ce9df",
   "metadata": {
    "colab": {
     "base_uri": "https://localhost:8080/"
    },
    "id": "751ce9df",
    "outputId": "5d223a90-4329-4423-b72a-5b67284dbc01"
   },
   "outputs": [
    {
     "data": {
      "text/plain": [
       "0.9242785485247107"
      ]
     },
     "execution_count": 43,
     "metadata": {},
     "output_type": "execute_result"
    }
   ],
   "source": [
    "#Area under ROC curve\n",
    "from sklearn.metrics import roc_auc_score\n",
    "roc_auc_score(y_test,y_pred_proba1)"
   ]
  },
  {
   "cell_type": "markdown",
   "id": "FEK40LcZ7WCi",
   "metadata": {
    "id": "FEK40LcZ7WCi"
   },
   "source": [
    "#### The AUC for the tuned model is 0.924 which is higher than the pre-tuned version as expected from the plot"
   ]
  },
  {
   "cell_type": "code",
   "execution_count": null,
   "id": "d216abae",
   "metadata": {
    "colab": {
     "base_uri": "https://localhost:8080/",
     "height": 479
    },
    "id": "d216abae",
    "outputId": "8f8a3ad0-d23c-4391-a98c-3b6076ceaf95"
   },
   "outputs": [
    {
     "data": {
      "text/plain": [
       "Text(0.5, 1.0, 'Learning rate vs. loss')"
      ]
     },
     "execution_count": 44,
     "metadata": {},
     "output_type": "execute_result"
    },
    {
     "data": {
      "image/png": "[encoded data removed]",
      "text/plain": [
       "<Figure size 720x504 with 1 Axes>"
      ]
     },
     "metadata": {
      "needs_background": "light"
     },
     "output_type": "display_data"
    }
   ],
   "source": [
    "# Plot the learning rate versus the loss\n",
    "lrs = 1e-4 * (10 ** (np.arange(100)/20))\n",
    "plt.figure(figsize=(10, 7))\n",
    "plt.semilogx(lrs, history.history[\"loss\"])\n",
    "plt.semilogx(lrs, history1.history[\"loss\"]) # we want the x-axis (learning rate) to be log scale\n",
    "plt.xlabel(\"Learning Rate\")\n",
    "plt.ylabel(\"Loss\")\n",
    "plt.title(\"Learning rate vs. loss\")"
   ]
  },
  {
   "cell_type": "markdown",
   "id": "b790e46c",
   "metadata": {
    "id": "b790e46c"
   },
   "source": [
    "## Observations"
   ]
  },
  {
   "cell_type": "markdown",
   "id": "80e39688",
   "metadata": {
    "id": "80e39688"
   },
   "source": [
    "Here we can observe that greater the learning rate, the smaller the loss of the model. We can see that the pre-tuned model, the loss is under going an exponential decay and stablises at around the 0.38 mark. While for the learning rate for the tuned model, we can observe a break in plateu at 10^-2 learning rate mark for loss and a massive drop in Loss occurs and stablises at around 0.34 mark."
   ]
  }
 ],
 "metadata": {
  "colab": {
   "collapsed_sections": [],
   "name": "KendrickKee_Task2_A2.ipynb",
   "provenance": []
  },
  "kernelspec": {
   "display_name": "Python 3 (ipykernel)",
   "language": "python",
   "name": "python3"
  },
  "language_info": {
   "codemirror_mode": {
    "name": "ipython",
    "version": 3
   },
   "file_extension": ".py",
   "mimetype": "text/x-python",
   "name": "python",
   "nbconvert_exporter": "python",
   "pygments_lexer": "ipython3",
   "version": "3.9.5"
  }
 },
 "nbformat": 4,
 "nbformat_minor": 5
}
