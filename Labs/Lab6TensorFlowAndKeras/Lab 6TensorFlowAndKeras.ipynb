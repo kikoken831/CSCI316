{
 "cells": [
  {
   "cell_type": "markdown",
   "metadata": {},
   "source": [
    "## Code Run Through in Lecture Notes 7"
   ]
  },
  {
   "cell_type": "markdown",
   "metadata": {},
   "source": [
    "### Example\n",
    "\n",
    "• TensorFlow is a Python-friendly open source library for numerical computation well-suited for large-scale ML and deep learning. <br>\n",
    "• Some key features: <br>\n",
    "– In TensorFlow, you first define in Python a graph of computations to perform.\n",
    "– TensorFlow breaks the graph into chunks and run them in parallel across multiple CPU or GPU.\n",
    "\n",
    "Working with TensorFlow involves two main phases:\n",
    "1. Build a graph\n",
    "2. Execute it\n",
    "\n",
    "<img src='Graph.png' width=500>"
   ]
  },
  {
   "cell_type": "code",
   "execution_count": null,
   "metadata": {},
   "outputs": [],
   "source": [
    "!pip install tensorflow\n",
    "!pip install keras"
   ]
  },
  {
   "cell_type": "code",
   "execution_count": 1,
   "metadata": {
    "ExecuteTime": {
     "end_time": "2020-08-12T11:14:44.511772Z",
     "start_time": "2020-08-12T11:14:40.900189Z"
    }
   },
   "outputs": [
    {
     "name": "stdout",
     "output_type": "stream",
     "text": [
      "WARNING:tensorflow:From /Users/liushuang/opt/anaconda3/lib/python3.7/site-packages/tensorflow/python/compat/v2_compat.py:96: disable_resource_variables (from tensorflow.python.ops.variable_scope) is deprecated and will be removed in a future version.\n",
      "Instructions for updating:\n",
      "non-resource variables are not supported in the long term\n"
     ]
    }
   ],
   "source": [
    "# Tf v1\n",
    "# import tensorflow as tf\n",
    "\n",
    "import tensorflow.compat.v1 as tf\n",
    "tf.disable_v2_behavior()"
   ]
  },
  {
   "cell_type": "code",
   "execution_count": 2,
   "metadata": {
    "ExecuteTime": {
     "end_time": "2020-08-12T11:14:45.188017Z",
     "start_time": "2020-08-12T11:14:45.181605Z"
    }
   },
   "outputs": [],
   "source": [
    "a = tf.constant(5)\n",
    "b = tf.constant(3)\n",
    "c = tf.multiply(a, b)\n",
    "d = tf.add(a, b)\n",
    "e = tf.add(c, d)"
   ]
  },
  {
   "cell_type": "markdown",
   "metadata": {},
   "source": [
    "The tensorflow core r2.0 have enabled eager execution by default so doesn't need to write tf.compat.v1.Session() and use .run() function <br>\n",
    "If we want to use tf.compat.v1.Session() then we need to do this <br>\n",
    "tf.compat.v1.disable_eager_execution() in the starting of algorithm. Now we can use tf.compat.v1.Session() and .run() function."
   ]
  },
  {
   "cell_type": "code",
   "execution_count": 3,
   "metadata": {
    "ExecuteTime": {
     "end_time": "2020-08-12T11:14:46.738389Z",
     "start_time": "2020-08-12T11:14:46.709995Z"
    }
   },
   "outputs": [
    {
     "name": "stdout",
     "output_type": "stream",
     "text": [
      "23\n"
     ]
    }
   ],
   "source": [
    "# tf.disable_eager_execution()\n",
    "with tf.Session() as sess:\n",
    "    print(sess.run(e))"
   ]
  },
  {
   "cell_type": "markdown",
   "metadata": {},
   "source": [
    "### Tensor Objects\n",
    "\n",
    "• Tensor Objects<br>\n",
    "<ol>\n",
    "    <li>The central unit of data in TensorFlow is the tensor.</li>\n",
    "    <li>An n-dimensional array of primitive values.</li>\n",
    "</ol>\n",
    "• The main object to manipulate and pass around is the tf.Tensor<br>\n",
    "• TensorFlow programs work by building a graph of tf.Tensor objects, and running parts of this graph.<br>\n",
    "• Each Tensor object is specified by:<br>\n",
    "<ol>\n",
    "    <li>Rank</li>\n",
    "    <li>Shape</li>\n",
    "    <li>Datatype</li>\n",
    "</ol>\n",
    "\n",
    "• Rank: the number of dimensions.<br>\n",
    "– Rank 0: scalar (number), e.g., 19<br>\n",
    "– Rank 1: vector, e.g., [0, 1]<br>\n",
    "– Rank 2: matrix, e.g., [[1, 2], [3, 2], [1, 4]]<br>\n",
    "– Rank n: n-dimensional Tensor (array)<br>\n",
    "• The tf.rank method determines the rank of a tf.Tensor object."
   ]
  },
  {
   "cell_type": "code",
   "execution_count": 19,
   "metadata": {
    "ExecuteTime": {
     "end_time": "2020-08-11T15:20:02.455420Z",
     "start_time": "2020-08-11T15:20:02.451377Z"
    }
   },
   "outputs": [],
   "source": [
    "c = tf.constant([[4], [9], [16], [25]])\n",
    "r = tf.rank(c) # rank 2\n"
   ]
  },
  {
   "cell_type": "code",
   "execution_count": 20,
   "metadata": {
    "ExecuteTime": {
     "end_time": "2020-08-11T15:20:08.909098Z",
     "start_time": "2020-08-11T15:20:08.906088Z"
    }
   },
   "outputs": [
    {
     "data": {
      "text/plain": [
       "<tf.Tensor 'Rank_5:0' shape=() dtype=int32>"
      ]
     },
     "execution_count": 20,
     "metadata": {},
     "output_type": "execute_result"
    }
   ],
   "source": [
    "r"
   ]
  },
  {
   "cell_type": "code",
   "execution_count": 15,
   "metadata": {
    "ExecuteTime": {
     "end_time": "2020-08-11T15:19:39.525595Z",
     "start_time": "2020-08-11T15:19:39.521745Z"
    }
   },
   "outputs": [],
   "source": [
    "c = tf.constant([[[1, 2, 3], [4, 5, 6]],\n",
    "[[1, 1, 1], [2, 2, 2]]])\n",
    "s = c.get_shape() # (2, 2, 3)"
   ]
  },
  {
   "cell_type": "code",
   "execution_count": 16,
   "metadata": {
    "ExecuteTime": {
     "end_time": "2020-08-11T15:19:43.798079Z",
     "start_time": "2020-08-11T15:19:43.794810Z"
    }
   },
   "outputs": [
    {
     "data": {
      "text/plain": [
       "TensorShape([Dimension(2), Dimension(2), Dimension(3)])"
      ]
     },
     "execution_count": 16,
     "metadata": {},
     "output_type": "execute_result"
    }
   ],
   "source": [
    "s"
   ]
  },
  {
   "cell_type": "code",
   "execution_count": 21,
   "metadata": {
    "ExecuteTime": {
     "end_time": "2020-08-12T05:14:20.333840Z",
     "start_time": "2020-08-12T05:14:20.267149Z"
    }
   },
   "outputs": [],
   "source": [
    "c = tf.constant(4.0, dtype=tf.float64)\n",
    "x = tf.constant([1, 2, 3], dtype=tf.float32)\n",
    "y = tf.cast(x, tf.int64)"
   ]
  },
  {
   "cell_type": "code",
   "execution_count": 4,
   "metadata": {
    "ExecuteTime": {
     "end_time": "2020-08-12T11:18:06.372976Z",
     "start_time": "2020-08-12T11:18:06.369722Z"
    }
   },
   "outputs": [],
   "source": [
    "# This name is an intrinsic string name, not to be confused with the name of the variable\n",
    "c = tf.constant(4.0, dtype=tf.float64, name=\"input\")"
   ]
  },
  {
   "cell_type": "markdown",
   "metadata": {},
   "source": [
    "### Main Types of Tensor Objects\n",
    "- Constant\n",
    "- Variables\n",
    "- Placeholder (tf.placeholder is deprecated in TensorFlow 2)\n",
    "    "
   ]
  },
  {
   "cell_type": "markdown",
   "metadata": {},
   "source": [
    "#### Constant"
   ]
  },
  {
   "cell_type": "code",
   "execution_count": null,
   "metadata": {},
   "outputs": [],
   "source": [
    "# Constants\n",
    "# Syntax:  tf.constant(<value>, dtype=None, shape=None, name=\"Const\", verify_shape=False)\n",
    "# <value> can be given as a Python list or a NumPy array\n",
    "\n",
    "a = tf.constant([[0, 1], [2, 3]], name=\"b\")\n",
    "b = tf.constant([[4], [9], [16], [25]], name=\"c\")"
   ]
  },
  {
   "cell_type": "markdown",
   "metadata": {},
   "source": [
    "#### Variables"
   ]
  },
  {
   "cell_type": "code",
   "execution_count": null,
   "metadata": {
    "ExecuteTime": {
     "end_time": "2020-08-12T05:18:27.540241Z",
     "start_time": "2020-08-12T05:18:27.424382Z"
    }
   },
   "outputs": [],
   "source": [
    "# Variables\n",
    "# A variable represents a Tensor whose value can be changed by running operations on it\n",
    "# tf.Variable is a class with several operations\n",
    "# Create variables with tf.get_variable\n",
    "# tf.get_variable returns an existing variable with the given parameters if it is available\n",
    "\n",
    "\n",
    "# tf.Variable(<initial-value>, name=<optional-name>)\n",
    "# w = tf.Variable([[0, 1], [2, 3]], name=\"matrix\")\n",
    "\n",
    "# tf.get_variable(name, shape=None, dtype=tf.float32,\n",
    "#                 initializer=None, regularizer=None,\n",
    "#                 trainable=True, collections=None)\n",
    "# w = tf.get_variable(\"matrix\",initializer=tf.constant([[0, 1], [2, 3]]))"
   ]
  },
  {
   "cell_type": "code",
   "execution_count": null,
   "metadata": {},
   "outputs": [],
   "source": [
    "# Variables should be initialized before being used\n",
    "\n",
    "# 1) Initialize all variables at once\n",
    "# with tf.Session() as sess:\n",
    "# sess.run(tf.global_variables_initializer())\n",
    "# 2) Initialize only a subset of variables\n",
    "# with tf.Session() as sess:\n",
    "# sess.run(tf.variables_initializer([a, b]))\n",
    "# 3) Initialize a single variable\n",
    "# w = tf.Variable(tf.zeros([784,10]))\n",
    "# with tf.Session() as sess:\n",
    "# sess.run(w.initializer)"
   ]
  },
  {
   "cell_type": "code",
   "execution_count": 24,
   "metadata": {
    "ExecuteTime": {
     "end_time": "2020-08-12T05:30:50.591895Z",
     "start_time": "2020-08-12T05:30:50.508386Z"
    }
   },
   "outputs": [
    {
     "name": "stdout",
     "output_type": "stream",
     "text": [
      "2\n"
     ]
    }
   ],
   "source": [
    "w = tf.get_variable(\"scalar\", initializer=tf.constant(2))\n",
    "w.assign(100)\n",
    "with tf.Session() as sess:\n",
    "    sess.run(w.initializer)\n",
    "    print(sess.run(w)) # 2"
   ]
  },
  {
   "cell_type": "code",
   "execution_count": 26,
   "metadata": {
    "ExecuteTime": {
     "end_time": "2020-08-12T05:31:34.388680Z",
     "start_time": "2020-08-12T05:31:34.365214Z"
    }
   },
   "outputs": [
    {
     "name": "stdout",
     "output_type": "stream",
     "text": [
      "100\n"
     ]
    }
   ],
   "source": [
    "w = tf.get_variable(\"scalar2\", initializer=tf.constant(2))\n",
    "assign_op = w.assign(100)\n",
    "with tf.Session() as sess:\n",
    "    sess.run(w.initializer)\n",
    "    sess.run(assign_op)\n",
    "    print(sess.run(w)) # 100"
   ]
  },
  {
   "cell_type": "code",
   "execution_count": 27,
   "metadata": {
    "ExecuteTime": {
     "end_time": "2020-08-12T05:31:55.174892Z",
     "start_time": "2020-08-12T05:31:55.155813Z"
    }
   },
   "outputs": [
    {
     "name": "stdout",
     "output_type": "stream",
     "text": [
      "4\n",
      "8\n",
      "16\n"
     ]
    }
   ],
   "source": [
    "w = tf.get_variable(\"scalar3\", initializer=tf.constant(2))\n",
    "w_times_two = w.assign(2 * w)\n",
    "with tf.Session() as sess:\n",
    "    sess.run(w.initializer)\n",
    "    print(sess.run(w_times_two))\n",
    "    print(sess.run(w_times_two))\n",
    "    print(sess.run(w_times_two))"
   ]
  },
  {
   "cell_type": "code",
   "execution_count": 29,
   "metadata": {
    "ExecuteTime": {
     "end_time": "2020-08-12T05:32:21.500655Z",
     "start_time": "2020-08-12T05:32:21.479446Z"
    }
   },
   "outputs": [
    {
     "name": "stdout",
     "output_type": "stream",
     "text": [
      "12\n",
      "7\n"
     ]
    }
   ],
   "source": [
    "w = tf.get_variable(\"scalar4\", initializer=tf.constant(2))\n",
    "with tf.Session() as sess:\n",
    "    sess.run(w.initializer) \n",
    "    print(sess.run(w.assign_add(10)))    # increment by 10\n",
    "    print(sess.run(w.assign_sub(5)))     # decrement by 5"
   ]
  },
  {
   "cell_type": "markdown",
   "metadata": {},
   "source": [
    "#### Placeholder\n",
    "\n",
    "Placeholders are built-in structures for feeding input values<br>\n",
    "Empty variables that will be filled with data later on"
   ]
  },
  {
   "cell_type": "code",
   "execution_count": null,
   "metadata": {
    "ExecuteTime": {
     "end_time": "2020-08-12T05:35:13.543663Z",
     "start_time": "2020-08-12T05:35:13.480621Z"
    }
   },
   "outputs": [],
   "source": [
    "# shape=None means that a tensor of any shape will be accepted\n",
    "# – E.g., shape=[None, 10]: a matrix with 10 columns and any number of rows\n",
    "tf.placeholder(dtype, shape=None, name=None)\n",
    "x = tf.placeholder(tf.float32, shape=[None, 10])"
   ]
  },
  {
   "cell_type": "code",
   "execution_count": 31,
   "metadata": {
    "ExecuteTime": {
     "end_time": "2020-08-12T05:35:49.422019Z",
     "start_time": "2020-08-12T05:35:49.357839Z"
    }
   },
   "outputs": [
    {
     "ename": "InvalidArgumentError",
     "evalue": "You must feed a value for placeholder tensor 'Placeholder' with dtype float and shape [3]\n\t [[node Placeholder (defined at <ipython-input-31-ee80964ed5a4>:1) ]]\n\nOriginal stack trace for 'Placeholder':\n  File \"/Users/liushuang/opt/anaconda3/lib/python3.7/runpy.py\", line 193, in _run_module_as_main\n    \"__main__\", mod_spec)\n  File \"/Users/liushuang/opt/anaconda3/lib/python3.7/runpy.py\", line 85, in _run_code\n    exec(code, run_globals)\n  File \"/Users/liushuang/opt/anaconda3/lib/python3.7/site-packages/ipykernel_launcher.py\", line 16, in <module>\n    app.launch_new_instance()\n  File \"/Users/liushuang/opt/anaconda3/lib/python3.7/site-packages/traitlets/config/application.py\", line 664, in launch_instance\n    app.start()\n  File \"/Users/liushuang/opt/anaconda3/lib/python3.7/site-packages/ipykernel/kernelapp.py\", line 563, in start\n    self.io_loop.start()\n  File \"/Users/liushuang/opt/anaconda3/lib/python3.7/site-packages/tornado/platform/asyncio.py\", line 148, in start\n    self.asyncio_loop.run_forever()\n  File \"/Users/liushuang/opt/anaconda3/lib/python3.7/asyncio/base_events.py\", line 534, in run_forever\n    self._run_once()\n  File \"/Users/liushuang/opt/anaconda3/lib/python3.7/asyncio/base_events.py\", line 1771, in _run_once\n    handle._run()\n  File \"/Users/liushuang/opt/anaconda3/lib/python3.7/asyncio/events.py\", line 88, in _run\n    self._context.run(self._callback, *self._args)\n  File \"/Users/liushuang/opt/anaconda3/lib/python3.7/site-packages/tornado/ioloop.py\", line 690, in <lambda>\n    lambda f: self._run_callback(functools.partial(callback, future))\n  File \"/Users/liushuang/opt/anaconda3/lib/python3.7/site-packages/tornado/ioloop.py\", line 743, in _run_callback\n    ret = callback()\n  File \"/Users/liushuang/opt/anaconda3/lib/python3.7/site-packages/tornado/gen.py\", line 787, in inner\n    self.run()\n  File \"/Users/liushuang/opt/anaconda3/lib/python3.7/site-packages/tornado/gen.py\", line 748, in run\n    yielded = self.gen.send(value)\n  File \"/Users/liushuang/opt/anaconda3/lib/python3.7/site-packages/ipykernel/kernelbase.py\", line 365, in process_one\n    yield gen.maybe_future(dispatch(*args))\n  File \"/Users/liushuang/opt/anaconda3/lib/python3.7/site-packages/tornado/gen.py\", line 209, in wrapper\n    yielded = next(result)\n  File \"/Users/liushuang/opt/anaconda3/lib/python3.7/site-packages/ipykernel/kernelbase.py\", line 272, in dispatch_shell\n    yield gen.maybe_future(handler(stream, idents, msg))\n  File \"/Users/liushuang/opt/anaconda3/lib/python3.7/site-packages/tornado/gen.py\", line 209, in wrapper\n    yielded = next(result)\n  File \"/Users/liushuang/opt/anaconda3/lib/python3.7/site-packages/ipykernel/kernelbase.py\", line 542, in execute_request\n    user_expressions, allow_stdin,\n  File \"/Users/liushuang/opt/anaconda3/lib/python3.7/site-packages/tornado/gen.py\", line 209, in wrapper\n    yielded = next(result)\n  File \"/Users/liushuang/opt/anaconda3/lib/python3.7/site-packages/ipykernel/ipkernel.py\", line 294, in do_execute\n    res = shell.run_cell(code, store_history=store_history, silent=silent)\n  File \"/Users/liushuang/opt/anaconda3/lib/python3.7/site-packages/ipykernel/zmqshell.py\", line 536, in run_cell\n    return super(ZMQInteractiveShell, self).run_cell(*args, **kwargs)\n  File \"/Users/liushuang/opt/anaconda3/lib/python3.7/site-packages/IPython/core/interactiveshell.py\", line 2855, in run_cell\n    raw_cell, store_history, silent, shell_futures)\n  File \"/Users/liushuang/opt/anaconda3/lib/python3.7/site-packages/IPython/core/interactiveshell.py\", line 2881, in _run_cell\n    return runner(coro)\n  File \"/Users/liushuang/opt/anaconda3/lib/python3.7/site-packages/IPython/core/async_helpers.py\", line 68, in _pseudo_sync_runner\n    coro.send(None)\n  File \"/Users/liushuang/opt/anaconda3/lib/python3.7/site-packages/IPython/core/interactiveshell.py\", line 3058, in run_cell_async\n    interactivity=interactivity, compiler=compiler, result=result)\n  File \"/Users/liushuang/opt/anaconda3/lib/python3.7/site-packages/IPython/core/interactiveshell.py\", line 3249, in run_ast_nodes\n    if (await self.run_code(code, result,  async_=asy)):\n  File \"/Users/liushuang/opt/anaconda3/lib/python3.7/site-packages/IPython/core/interactiveshell.py\", line 3326, in run_code\n    exec(code_obj, self.user_global_ns, self.user_ns)\n  File \"<ipython-input-31-ee80964ed5a4>\", line 1, in <module>\n    a = tf.placeholder(tf.float32, shape=[3])\n  File \"/Users/liushuang/opt/anaconda3/lib/python3.7/site-packages/tensorflow/python/ops/array_ops.py\", line 3100, in placeholder\n    return gen_array_ops.placeholder(dtype=dtype, shape=shape, name=name)\n  File \"/Users/liushuang/opt/anaconda3/lib/python3.7/site-packages/tensorflow/python/ops/gen_array_ops.py\", line 6809, in placeholder\n    \"Placeholder\", dtype=dtype, shape=shape, name=name)\n  File \"/Users/liushuang/opt/anaconda3/lib/python3.7/site-packages/tensorflow/python/framework/op_def_library.py\", line 744, in _apply_op_helper\n    attrs=attr_protos, op_def=op_def)\n  File \"/Users/liushuang/opt/anaconda3/lib/python3.7/site-packages/tensorflow/python/framework/ops.py\", line 3485, in _create_op_internal\n    op_def=op_def)\n  File \"/Users/liushuang/opt/anaconda3/lib/python3.7/site-packages/tensorflow/python/framework/ops.py\", line 1949, in __init__\n    self._traceback = tf_stack.extract_stack()\n",
     "output_type": "error",
     "traceback": [
      "\u001b[0;31m---------------------------------------------------------------------------\u001b[0m",
      "\u001b[0;31mInvalidArgumentError\u001b[0m                      Traceback (most recent call last)",
      "\u001b[0;32m~/opt/anaconda3/lib/python3.7/site-packages/tensorflow/python/client/session.py\u001b[0m in \u001b[0;36m_do_call\u001b[0;34m(self, fn, *args)\u001b[0m\n\u001b[1;32m   1364\u001b[0m     \u001b[0;32mtry\u001b[0m\u001b[0;34m:\u001b[0m\u001b[0;34m\u001b[0m\u001b[0;34m\u001b[0m\u001b[0m\n\u001b[0;32m-> 1365\u001b[0;31m       \u001b[0;32mreturn\u001b[0m \u001b[0mfn\u001b[0m\u001b[0;34m(\u001b[0m\u001b[0;34m*\u001b[0m\u001b[0margs\u001b[0m\u001b[0;34m)\u001b[0m\u001b[0;34m\u001b[0m\u001b[0;34m\u001b[0m\u001b[0m\n\u001b[0m\u001b[1;32m   1366\u001b[0m     \u001b[0;32mexcept\u001b[0m \u001b[0merrors\u001b[0m\u001b[0;34m.\u001b[0m\u001b[0mOpError\u001b[0m \u001b[0;32mas\u001b[0m \u001b[0me\u001b[0m\u001b[0;34m:\u001b[0m\u001b[0;34m\u001b[0m\u001b[0;34m\u001b[0m\u001b[0m\n",
      "\u001b[0;32m~/opt/anaconda3/lib/python3.7/site-packages/tensorflow/python/client/session.py\u001b[0m in \u001b[0;36m_run_fn\u001b[0;34m(feed_dict, fetch_list, target_list, options, run_metadata)\u001b[0m\n\u001b[1;32m   1349\u001b[0m       return self._call_tf_sessionrun(options, feed_dict, fetch_list,\n\u001b[0;32m-> 1350\u001b[0;31m                                       target_list, run_metadata)\n\u001b[0m\u001b[1;32m   1351\u001b[0m \u001b[0;34m\u001b[0m\u001b[0m\n",
      "\u001b[0;32m~/opt/anaconda3/lib/python3.7/site-packages/tensorflow/python/client/session.py\u001b[0m in \u001b[0;36m_call_tf_sessionrun\u001b[0;34m(self, options, feed_dict, fetch_list, target_list, run_metadata)\u001b[0m\n\u001b[1;32m   1442\u001b[0m                                             \u001b[0mfetch_list\u001b[0m\u001b[0;34m,\u001b[0m \u001b[0mtarget_list\u001b[0m\u001b[0;34m,\u001b[0m\u001b[0;34m\u001b[0m\u001b[0;34m\u001b[0m\u001b[0m\n\u001b[0;32m-> 1443\u001b[0;31m                                             run_metadata)\n\u001b[0m\u001b[1;32m   1444\u001b[0m \u001b[0;34m\u001b[0m\u001b[0m\n",
      "\u001b[0;31mInvalidArgumentError\u001b[0m: You must feed a value for placeholder tensor 'Placeholder' with dtype float and shape [3]\n\t [[{{node Placeholder}}]]",
      "\nDuring handling of the above exception, another exception occurred:\n",
      "\u001b[0;31mInvalidArgumentError\u001b[0m                      Traceback (most recent call last)",
      "\u001b[0;32m<ipython-input-31-ee80964ed5a4>\u001b[0m in \u001b[0;36m<module>\u001b[0;34m\u001b[0m\n\u001b[1;32m      3\u001b[0m \u001b[0mc\u001b[0m \u001b[0;34m=\u001b[0m \u001b[0ma\u001b[0m \u001b[0;34m+\u001b[0m \u001b[0mb\u001b[0m\u001b[0;34m\u001b[0m\u001b[0;34m\u001b[0m\u001b[0m\n\u001b[1;32m      4\u001b[0m \u001b[0;32mwith\u001b[0m \u001b[0mtf\u001b[0m\u001b[0;34m.\u001b[0m\u001b[0mSession\u001b[0m\u001b[0;34m(\u001b[0m\u001b[0;34m)\u001b[0m \u001b[0;32mas\u001b[0m \u001b[0msess\u001b[0m\u001b[0;34m:\u001b[0m\u001b[0;34m\u001b[0m\u001b[0;34m\u001b[0m\u001b[0m\n\u001b[0;32m----> 5\u001b[0;31m     \u001b[0mprint\u001b[0m\u001b[0;34m(\u001b[0m\u001b[0msess\u001b[0m\u001b[0;34m.\u001b[0m\u001b[0mrun\u001b[0m\u001b[0;34m(\u001b[0m\u001b[0mc\u001b[0m\u001b[0;34m)\u001b[0m\u001b[0;34m)\u001b[0m\u001b[0;34m\u001b[0m\u001b[0;34m\u001b[0m\u001b[0m\n\u001b[0m",
      "\u001b[0;32m~/opt/anaconda3/lib/python3.7/site-packages/tensorflow/python/client/session.py\u001b[0m in \u001b[0;36mrun\u001b[0;34m(self, fetches, feed_dict, options, run_metadata)\u001b[0m\n\u001b[1;32m    956\u001b[0m     \u001b[0;32mtry\u001b[0m\u001b[0;34m:\u001b[0m\u001b[0;34m\u001b[0m\u001b[0;34m\u001b[0m\u001b[0m\n\u001b[1;32m    957\u001b[0m       result = self._run(None, fetches, feed_dict, options_ptr,\n\u001b[0;32m--> 958\u001b[0;31m                          run_metadata_ptr)\n\u001b[0m\u001b[1;32m    959\u001b[0m       \u001b[0;32mif\u001b[0m \u001b[0mrun_metadata\u001b[0m\u001b[0;34m:\u001b[0m\u001b[0;34m\u001b[0m\u001b[0;34m\u001b[0m\u001b[0m\n\u001b[1;32m    960\u001b[0m         \u001b[0mproto_data\u001b[0m \u001b[0;34m=\u001b[0m \u001b[0mtf_session\u001b[0m\u001b[0;34m.\u001b[0m\u001b[0mTF_GetBuffer\u001b[0m\u001b[0;34m(\u001b[0m\u001b[0mrun_metadata_ptr\u001b[0m\u001b[0;34m)\u001b[0m\u001b[0;34m\u001b[0m\u001b[0;34m\u001b[0m\u001b[0m\n",
      "\u001b[0;32m~/opt/anaconda3/lib/python3.7/site-packages/tensorflow/python/client/session.py\u001b[0m in \u001b[0;36m_run\u001b[0;34m(self, handle, fetches, feed_dict, options, run_metadata)\u001b[0m\n\u001b[1;32m   1179\u001b[0m     \u001b[0;32mif\u001b[0m \u001b[0mfinal_fetches\u001b[0m \u001b[0;32mor\u001b[0m \u001b[0mfinal_targets\u001b[0m \u001b[0;32mor\u001b[0m \u001b[0;34m(\u001b[0m\u001b[0mhandle\u001b[0m \u001b[0;32mand\u001b[0m \u001b[0mfeed_dict_tensor\u001b[0m\u001b[0;34m)\u001b[0m\u001b[0;34m:\u001b[0m\u001b[0;34m\u001b[0m\u001b[0;34m\u001b[0m\u001b[0m\n\u001b[1;32m   1180\u001b[0m       results = self._do_run(handle, final_targets, final_fetches,\n\u001b[0;32m-> 1181\u001b[0;31m                              feed_dict_tensor, options, run_metadata)\n\u001b[0m\u001b[1;32m   1182\u001b[0m     \u001b[0;32melse\u001b[0m\u001b[0;34m:\u001b[0m\u001b[0;34m\u001b[0m\u001b[0;34m\u001b[0m\u001b[0m\n\u001b[1;32m   1183\u001b[0m       \u001b[0mresults\u001b[0m \u001b[0;34m=\u001b[0m \u001b[0;34m[\u001b[0m\u001b[0;34m]\u001b[0m\u001b[0;34m\u001b[0m\u001b[0;34m\u001b[0m\u001b[0m\n",
      "\u001b[0;32m~/opt/anaconda3/lib/python3.7/site-packages/tensorflow/python/client/session.py\u001b[0m in \u001b[0;36m_do_run\u001b[0;34m(self, handle, target_list, fetch_list, feed_dict, options, run_metadata)\u001b[0m\n\u001b[1;32m   1357\u001b[0m     \u001b[0;32mif\u001b[0m \u001b[0mhandle\u001b[0m \u001b[0;32mis\u001b[0m \u001b[0;32mNone\u001b[0m\u001b[0;34m:\u001b[0m\u001b[0;34m\u001b[0m\u001b[0;34m\u001b[0m\u001b[0m\n\u001b[1;32m   1358\u001b[0m       return self._do_call(_run_fn, feeds, fetches, targets, options,\n\u001b[0;32m-> 1359\u001b[0;31m                            run_metadata)\n\u001b[0m\u001b[1;32m   1360\u001b[0m     \u001b[0;32melse\u001b[0m\u001b[0;34m:\u001b[0m\u001b[0;34m\u001b[0m\u001b[0;34m\u001b[0m\u001b[0m\n\u001b[1;32m   1361\u001b[0m       \u001b[0;32mreturn\u001b[0m \u001b[0mself\u001b[0m\u001b[0;34m.\u001b[0m\u001b[0m_do_call\u001b[0m\u001b[0;34m(\u001b[0m\u001b[0m_prun_fn\u001b[0m\u001b[0;34m,\u001b[0m \u001b[0mhandle\u001b[0m\u001b[0;34m,\u001b[0m \u001b[0mfeeds\u001b[0m\u001b[0;34m,\u001b[0m \u001b[0mfetches\u001b[0m\u001b[0;34m)\u001b[0m\u001b[0;34m\u001b[0m\u001b[0;34m\u001b[0m\u001b[0m\n",
      "\u001b[0;32m~/opt/anaconda3/lib/python3.7/site-packages/tensorflow/python/client/session.py\u001b[0m in \u001b[0;36m_do_call\u001b[0;34m(self, fn, *args)\u001b[0m\n\u001b[1;32m   1382\u001b[0m                     \u001b[0;34m'\\nsession_config.graph_options.rewrite_options.'\u001b[0m\u001b[0;34m\u001b[0m\u001b[0;34m\u001b[0m\u001b[0m\n\u001b[1;32m   1383\u001b[0m                     'disable_meta_optimizer = True')\n\u001b[0;32m-> 1384\u001b[0;31m       \u001b[0;32mraise\u001b[0m \u001b[0mtype\u001b[0m\u001b[0;34m(\u001b[0m\u001b[0me\u001b[0m\u001b[0;34m)\u001b[0m\u001b[0;34m(\u001b[0m\u001b[0mnode_def\u001b[0m\u001b[0;34m,\u001b[0m \u001b[0mop\u001b[0m\u001b[0;34m,\u001b[0m \u001b[0mmessage\u001b[0m\u001b[0;34m)\u001b[0m\u001b[0;34m\u001b[0m\u001b[0;34m\u001b[0m\u001b[0m\n\u001b[0m\u001b[1;32m   1385\u001b[0m \u001b[0;34m\u001b[0m\u001b[0m\n\u001b[1;32m   1386\u001b[0m   \u001b[0;32mdef\u001b[0m \u001b[0m_extend_graph\u001b[0m\u001b[0;34m(\u001b[0m\u001b[0mself\u001b[0m\u001b[0;34m)\u001b[0m\u001b[0;34m:\u001b[0m\u001b[0;34m\u001b[0m\u001b[0;34m\u001b[0m\u001b[0m\n",
      "\u001b[0;31mInvalidArgumentError\u001b[0m: You must feed a value for placeholder tensor 'Placeholder' with dtype float and shape [3]\n\t [[node Placeholder (defined at <ipython-input-31-ee80964ed5a4>:1) ]]\n\nOriginal stack trace for 'Placeholder':\n  File \"/Users/liushuang/opt/anaconda3/lib/python3.7/runpy.py\", line 193, in _run_module_as_main\n    \"__main__\", mod_spec)\n  File \"/Users/liushuang/opt/anaconda3/lib/python3.7/runpy.py\", line 85, in _run_code\n    exec(code, run_globals)\n  File \"/Users/liushuang/opt/anaconda3/lib/python3.7/site-packages/ipykernel_launcher.py\", line 16, in <module>\n    app.launch_new_instance()\n  File \"/Users/liushuang/opt/anaconda3/lib/python3.7/site-packages/traitlets/config/application.py\", line 664, in launch_instance\n    app.start()\n  File \"/Users/liushuang/opt/anaconda3/lib/python3.7/site-packages/ipykernel/kernelapp.py\", line 563, in start\n    self.io_loop.start()\n  File \"/Users/liushuang/opt/anaconda3/lib/python3.7/site-packages/tornado/platform/asyncio.py\", line 148, in start\n    self.asyncio_loop.run_forever()\n  File \"/Users/liushuang/opt/anaconda3/lib/python3.7/asyncio/base_events.py\", line 534, in run_forever\n    self._run_once()\n  File \"/Users/liushuang/opt/anaconda3/lib/python3.7/asyncio/base_events.py\", line 1771, in _run_once\n    handle._run()\n  File \"/Users/liushuang/opt/anaconda3/lib/python3.7/asyncio/events.py\", line 88, in _run\n    self._context.run(self._callback, *self._args)\n  File \"/Users/liushuang/opt/anaconda3/lib/python3.7/site-packages/tornado/ioloop.py\", line 690, in <lambda>\n    lambda f: self._run_callback(functools.partial(callback, future))\n  File \"/Users/liushuang/opt/anaconda3/lib/python3.7/site-packages/tornado/ioloop.py\", line 743, in _run_callback\n    ret = callback()\n  File \"/Users/liushuang/opt/anaconda3/lib/python3.7/site-packages/tornado/gen.py\", line 787, in inner\n    self.run()\n  File \"/Users/liushuang/opt/anaconda3/lib/python3.7/site-packages/tornado/gen.py\", line 748, in run\n    yielded = self.gen.send(value)\n  File \"/Users/liushuang/opt/anaconda3/lib/python3.7/site-packages/ipykernel/kernelbase.py\", line 365, in process_one\n    yield gen.maybe_future(dispatch(*args))\n  File \"/Users/liushuang/opt/anaconda3/lib/python3.7/site-packages/tornado/gen.py\", line 209, in wrapper\n    yielded = next(result)\n  File \"/Users/liushuang/opt/anaconda3/lib/python3.7/site-packages/ipykernel/kernelbase.py\", line 272, in dispatch_shell\n    yield gen.maybe_future(handler(stream, idents, msg))\n  File \"/Users/liushuang/opt/anaconda3/lib/python3.7/site-packages/tornado/gen.py\", line 209, in wrapper\n    yielded = next(result)\n  File \"/Users/liushuang/opt/anaconda3/lib/python3.7/site-packages/ipykernel/kernelbase.py\", line 542, in execute_request\n    user_expressions, allow_stdin,\n  File \"/Users/liushuang/opt/anaconda3/lib/python3.7/site-packages/tornado/gen.py\", line 209, in wrapper\n    yielded = next(result)\n  File \"/Users/liushuang/opt/anaconda3/lib/python3.7/site-packages/ipykernel/ipkernel.py\", line 294, in do_execute\n    res = shell.run_cell(code, store_history=store_history, silent=silent)\n  File \"/Users/liushuang/opt/anaconda3/lib/python3.7/site-packages/ipykernel/zmqshell.py\", line 536, in run_cell\n    return super(ZMQInteractiveShell, self).run_cell(*args, **kwargs)\n  File \"/Users/liushuang/opt/anaconda3/lib/python3.7/site-packages/IPython/core/interactiveshell.py\", line 2855, in run_cell\n    raw_cell, store_history, silent, shell_futures)\n  File \"/Users/liushuang/opt/anaconda3/lib/python3.7/site-packages/IPython/core/interactiveshell.py\", line 2881, in _run_cell\n    return runner(coro)\n  File \"/Users/liushuang/opt/anaconda3/lib/python3.7/site-packages/IPython/core/async_helpers.py\", line 68, in _pseudo_sync_runner\n    coro.send(None)\n  File \"/Users/liushuang/opt/anaconda3/lib/python3.7/site-packages/IPython/core/interactiveshell.py\", line 3058, in run_cell_async\n    interactivity=interactivity, compiler=compiler, result=result)\n  File \"/Users/liushuang/opt/anaconda3/lib/python3.7/site-packages/IPython/core/interactiveshell.py\", line 3249, in run_ast_nodes\n    if (await self.run_code(code, result,  async_=asy)):\n  File \"/Users/liushuang/opt/anaconda3/lib/python3.7/site-packages/IPython/core/interactiveshell.py\", line 3326, in run_code\n    exec(code_obj, self.user_global_ns, self.user_ns)\n  File \"<ipython-input-31-ee80964ed5a4>\", line 1, in <module>\n    a = tf.placeholder(tf.float32, shape=[3])\n  File \"/Users/liushuang/opt/anaconda3/lib/python3.7/site-packages/tensorflow/python/ops/array_ops.py\", line 3100, in placeholder\n    return gen_array_ops.placeholder(dtype=dtype, shape=shape, name=name)\n  File \"/Users/liushuang/opt/anaconda3/lib/python3.7/site-packages/tensorflow/python/ops/gen_array_ops.py\", line 6809, in placeholder\n    \"Placeholder\", dtype=dtype, shape=shape, name=name)\n  File \"/Users/liushuang/opt/anaconda3/lib/python3.7/site-packages/tensorflow/python/framework/op_def_library.py\", line 744, in _apply_op_helper\n    attrs=attr_protos, op_def=op_def)\n  File \"/Users/liushuang/opt/anaconda3/lib/python3.7/site-packages/tensorflow/python/framework/ops.py\", line 3485, in _create_op_internal\n    op_def=op_def)\n  File \"/Users/liushuang/opt/anaconda3/lib/python3.7/site-packages/tensorflow/python/framework/ops.py\", line 1949, in __init__\n    self._traceback = tf_stack.extract_stack()\n"
     ]
    }
   ],
   "source": [
    "a = tf.placeholder(tf.float32, shape=[3])\n",
    "b = tf.constant([5, 5, 5], tf.float32)\n",
    "c = a + b\n",
    "with tf.Session() as sess:\n",
    "    print(sess.run(c))"
   ]
  },
  {
   "cell_type": "code",
   "execution_count": 32,
   "metadata": {
    "ExecuteTime": {
     "end_time": "2020-08-12T05:36:16.424108Z",
     "start_time": "2020-08-12T05:36:16.411934Z"
    }
   },
   "outputs": [
    {
     "name": "stdout",
     "output_type": "stream",
     "text": [
      "[6. 7. 8.]\n"
     ]
    }
   ],
   "source": [
    "# Before running the computation, supplement the values to placeholders using a dictionary\n",
    "\n",
    "a = tf.placeholder(tf.float32, shape=[3])\n",
    "b = tf.constant([5, 5, 5], tf.float32)\n",
    "c = a + b\n",
    "with tf.Session() as sess:\n",
    "    print(sess.run(c, feed_dict={a: [1, 2, 3]}))\n"
   ]
  },
  {
   "cell_type": "markdown",
   "metadata": {},
   "source": [
    "### Computation Graph\n",
    "\n",
    "- A computation graph is a series of TensorFlow operations arranged into a graph\n",
    "- tf refers to a graph object (the command “import tensorflow as tf” creates a default empty graph)\n",
    "- The graph is composed of two types of objects:\n",
    "- Operations: the nodes of the graph that that consume and produce tensors.\n",
    "- Tensors: the edges in the graph that represent the flowing values throughthe graph (hence the name “TensorFlow”)"
   ]
  },
  {
   "cell_type": "code",
   "execution_count": null,
   "metadata": {},
   "outputs": [],
   "source": [
    "# To get a new empty default graph\n",
    "\n",
    "tf.reset_default_graph()"
   ]
  },
  {
   "cell_type": "markdown",
   "metadata": {},
   "source": [
    "### Tensorflow Operations"
   ]
  },
  {
   "cell_type": "code",
   "execution_count": 33,
   "metadata": {
    "ExecuteTime": {
     "end_time": "2020-08-12T05:39:30.036592Z",
     "start_time": "2020-08-12T05:39:30.026771Z"
    }
   },
   "outputs": [
    {
     "name": "stdout",
     "output_type": "stream",
     "text": [
      "(2, 3)\n",
      "(3,)\n"
     ]
    }
   ],
   "source": [
    "a = tf.constant([[1, 2, 3], [4, 5, 6]])\n",
    "print(a.get_shape())\n",
    "# Out: (2, 3)\n",
    "b = tf.constant([1, 0, 1])\n",
    "print(b.get_shape())\n",
    "b = tf.expand_dims(b, 1)\n",
    "c = tf.matmul(a, b)"
   ]
  },
  {
   "cell_type": "code",
   "execution_count": 34,
   "metadata": {
    "ExecuteTime": {
     "end_time": "2020-08-12T05:39:32.994636Z",
     "start_time": "2020-08-12T05:39:32.989734Z"
    }
   },
   "outputs": [
    {
     "data": {
      "text/plain": [
       "<tf.Tensor 'ExpandDims:0' shape=(3, 1) dtype=int32>"
      ]
     },
     "execution_count": 34,
     "metadata": {},
     "output_type": "execute_result"
    }
   ],
   "source": [
    "b"
   ]
  },
  {
   "cell_type": "code",
   "execution_count": 41,
   "metadata": {
    "ExecuteTime": {
     "end_time": "2020-08-12T05:40:18.034877Z",
     "start_time": "2020-08-12T05:40:18.031733Z"
    }
   },
   "outputs": [
    {
     "data": {
      "text/plain": [
       "<tf.Tensor 'MatMul:0' shape=(2, 1) dtype=int32>"
      ]
     },
     "execution_count": 41,
     "metadata": {},
     "output_type": "execute_result"
    }
   ],
   "source": [
    "c"
   ]
  },
  {
   "cell_type": "markdown",
   "metadata": {},
   "source": [
    "### Manage Multiple Graphs\n",
    "- Besides the default graph, can also create additional graphs, by calling tf.Graph()\n",
    "- tf.get_default_graph() tells which graph is currently set as the default graph"
   ]
  },
  {
   "cell_type": "code",
   "execution_count": 43,
   "metadata": {
    "ExecuteTime": {
     "end_time": "2020-08-12T05:42:03.120419Z",
     "start_time": "2020-08-12T05:42:03.115270Z"
    }
   },
   "outputs": [
    {
     "name": "stdout",
     "output_type": "stream",
     "text": [
      "False\n",
      "True\n"
     ]
    }
   ],
   "source": [
    "import tensorflow.compat.v1 as tf\n",
    "g = tf.Graph()\n",
    "a = tf.constant(5)\n",
    "print(a.graph is g) # Out: False\n",
    "print(a.graph is tf.get_default_graph()) # Out: True"
   ]
  },
  {
   "cell_type": "code",
   "execution_count": null,
   "metadata": {
    "ExecuteTime": {
     "end_time": "2020-08-12T05:42:57.361273Z",
     "start_time": "2020-08-12T05:42:57.344340Z"
    }
   },
   "outputs": [],
   "source": [
    "# Use as_default() to associate your constructed nodes the a right graph\n",
    "\n",
    "g_1 = tf.Graph()\n",
    "with g_1.as_default():\n",
    "    # Operations created in this scope will be added to `g_1`.\n",
    "    c = tf.constant([0, 1], \"Node in g_1\")"
   ]
  },
  {
   "cell_type": "markdown",
   "metadata": {},
   "source": [
    "### Fetches"
   ]
  },
  {
   "cell_type": "code",
   "execution_count": 48,
   "metadata": {
    "ExecuteTime": {
     "end_time": "2020-08-12T05:44:36.220287Z",
     "start_time": "2020-08-12T05:44:36.207013Z"
    }
   },
   "outputs": [
    {
     "name": "stdout",
     "output_type": "stream",
     "text": [
      "[5, 3, 15, 8, 23]\n"
     ]
    }
   ],
   "source": [
    "# Building the Graph\n",
    "a = tf.constant(5); \n",
    "b = tf.constant(3)\n",
    "c = tf.multiply(a, b); \n",
    "d = tf.add(a, b)\n",
    "e = tf.add(c, d)\n",
    "# Executing the Graph\n",
    "with tf.Session() as sess:\n",
    "    fetchs = [a,b,c,d,e]\n",
    "    print(sess.run(fetchs))\n",
    "    # Output: [5, 3, 15, 8, 23]"
   ]
  },
  {
   "cell_type": "markdown",
   "metadata": {},
   "source": [
    "### Run a Graph vs. Evaluate Tensors\n"
   ]
  },
  {
   "cell_type": "code",
   "execution_count": 53,
   "metadata": {
    "ExecuteTime": {
     "end_time": "2020-08-12T05:48:51.999081Z",
     "start_time": "2020-08-12T05:48:51.987016Z"
    }
   },
   "outputs": [
    {
     "name": "stdout",
     "output_type": "stream",
     "text": [
      "1554.0\n",
      "1554.0\n",
      "[1554.0, 1554.0]\n"
     ]
    }
   ],
   "source": [
    "# Two ways to run/evaluate a part of graph: Session.run() and Tensor.eval()\n",
    "\n",
    "# The most important difference is that you can use Session.run() to \n",
    "# fetch the values of many tensors in the same step\n",
    "\n",
    "t = tf.constant(42.0)\n",
    "u = tf.constant(37.0)\n",
    "tu = tf.multiply(t, u)\n",
    "ut = tf.multiply(u, t)\n",
    "with tf.Session() as sess:\n",
    "    print(tu.eval()) # runs one step\n",
    "    print(ut.eval()) # runs one step\n",
    "    print(sess.run([tu, ut]))\n",
    "    # evaluates both tensors in a single step\n"
   ]
  },
  {
   "cell_type": "markdown",
   "metadata": {},
   "source": [
    "### Save Models"
   ]
  },
  {
   "cell_type": "code",
   "execution_count": 50,
   "metadata": {
    "ExecuteTime": {
     "end_time": "2020-08-12T05:47:36.828451Z",
     "start_time": "2020-08-12T05:47:36.774310Z"
    }
   },
   "outputs": [
    {
     "name": "stdout",
     "output_type": "stream",
     "text": [
      "Model saved in path: saved_models/model.ckpt\n"
     ]
    }
   ],
   "source": [
    "v1 = tf.get_variable(\"v1\", shape=[3],\n",
    "initializer = tf.zeros_initializer)\n",
    "inc_v1 = v1.assign(v1+1)\n",
    "# Add an op to initialize the variables.\n",
    "init_op = tf.global_variables_initializer()\n",
    "# Add ops to save and restore all the variables.\n",
    "saver = tf.train.Saver()\n",
    "# Later, launch the model, initialize the variables,\n",
    "# do some work, and save the variables to disk.\n",
    "with tf.Session() as sess:\n",
    "    sess.run(init_op)\n",
    "    # Do some work with the model.\n",
    "    inc_v1.op.run()\n",
    "    # Save the variables to disk.\n",
    "    save_path = saver.save(sess, \"saved_models/model.ckpt\")\n",
    "    print(\"Model saved in path: %s\" % save_path)"
   ]
  },
  {
   "cell_type": "markdown",
   "metadata": {},
   "source": [
    "### Restore Models"
   ]
  },
  {
   "cell_type": "code",
   "execution_count": 51,
   "metadata": {
    "ExecuteTime": {
     "end_time": "2020-08-12T05:48:03.650787Z",
     "start_time": "2020-08-12T05:48:03.627385Z"
    }
   },
   "outputs": [
    {
     "name": "stdout",
     "output_type": "stream",
     "text": [
      "INFO:tensorflow:Restoring parameters from saved_models/model.ckpt\n",
      "Model restored.\n",
      "v1 : [1. 1. 1.]\n"
     ]
    }
   ],
   "source": [
    "tf.reset_default_graph()\n",
    "# Create a variable.\n",
    "# The name \"v1\" must be the same in the saved model.\n",
    "new_v1 = tf.get_variable(\"v1\", shape=[3])\n",
    "# Add ops to save and restore all the variables.\n",
    "saver = tf.train.Saver()\n",
    "# Later, launch the model, use the saver to restore variables\n",
    "# from disk, and do some work with the model.\n",
    "with tf.Session() as sess:\n",
    "    # Restore variables from disk.\n",
    "    saver.restore(sess, \"saved_models/model.ckpt\")\n",
    "    print(\"Model restored.\")\n",
    "    # Check the values of the variables\n",
    "    print(\"v1 : %s\" % new_v1.eval())"
   ]
  },
  {
   "cell_type": "markdown",
   "metadata": {},
   "source": [
    "### TensorBoard"
   ]
  },
  {
   "cell_type": "code",
   "execution_count": 5,
   "metadata": {
    "ExecuteTime": {
     "end_time": "2020-08-12T11:40:46.637677Z",
     "start_time": "2020-08-12T11:40:46.625813Z"
    }
   },
   "outputs": [
    {
     "name": "stdout",
     "output_type": "stream",
     "text": [
      "23\n"
     ]
    }
   ],
   "source": [
    "# To visualize your model in TensorBoard, write the graph definition\n",
    "# and some training stats to a log directory that TensorBoard will read from\n",
    "\n",
    "tf.reset_default_graph()\n",
    "# Building the Graph\n",
    "a = tf.constant(5); \n",
    "b = tf.constant(3)\n",
    "c = tf.multiply(a, b); \n",
    "d = tf.add(a, b)\n",
    "e = tf.add(c, d)\n",
    "writer = tf.summary.FileWriter('./graphs',tf.get_default_graph())\n",
    "# Executing the Graph\n",
    "with tf.Session() as sess:\n",
    "    print(sess.run(e))"
   ]
  },
  {
   "cell_type": "code",
   "execution_count": 6,
   "metadata": {
    "ExecuteTime": {
     "end_time": "2020-08-12T11:51:26.481090Z",
     "start_time": "2020-08-12T11:41:08.364126Z"
    }
   },
   "outputs": [
    {
     "name": "stdout",
     "output_type": "stream",
     "text": [
      "W0812 19:41:12.532459 123145466224640 plugin_event_accumulator.py:323] Found more than one graph event per run, or there was a metagraph containing a graph_def, as well as one or more graph events.  Overwriting the graph with the newest event.\n",
      "W0812 19:41:12.532809 123145466224640 plugin_event_accumulator.py:335] Found more than one metagraph event per run. Overwriting the metagraph with the newest event.\n",
      "W0812 19:41:12.535205 123145466224640 plugin_event_accumulator.py:323] Found more than one graph event per run, or there was a metagraph containing a graph_def, as well as one or more graph events.  Overwriting the graph with the newest event.\n",
      "Serving TensorBoard on localhost; to expose to the network, use a proxy or pass --bind_all\n",
      "TensorBoard 2.3.0 at http://localhost:6006/ (Press CTRL+C to quit)\n",
      "^C\n"
     ]
    }
   ],
   "source": [
    "!tensorboard --logdir=\"./graphs\" --port 6006"
   ]
  },
  {
   "cell_type": "markdown",
   "metadata": {},
   "source": [
    "## Tensorflow and Keras Model for Perceptron\n",
    "\n"
   ]
  },
  {
   "cell_type": "markdown",
   "metadata": {},
   "source": [
    "### ANN Explanation\n",
    "<img src='NN2.png'>\n",
    "<img src='Neuron.png'>\n",
    "<br>\n",
    "Activation functions are one of the key elements of the neural network. Without them, our neural network would become a combination of linear functions, so it would be just a linear function itself. Our model would have limited expansiveness, no greater than logistic regression. The non-linearity element allows for greater flexibility and creation of complex functions during the learning process. The activation function also has a significant impact on the speed of learning, which is one of the main criteria for their selection. Currently, the most popular one for hidden layers is probably ReLU. \n",
    "\n",
    "<br> Gradient Vanishing (Sigmoid / Tanh)\n",
    "<img src=\"Activation.png\">\n",
    "<img src='Forward.png'>\n",
    "<img src='Backward.png'>\n",
    "<img src='Correct.png'>\n",
    "<img src='NN.gif'>\n",
    "\n",
    "https://medium.com/@purnasaigudikandula/a-beginner-intro-to-neural-networks-543267bda3c8"
   ]
  },
  {
   "cell_type": "markdown",
   "metadata": {},
   "source": [
    "### ANN Implementation from Scratch"
   ]
  },
  {
   "cell_type": "markdown",
   "metadata": {},
   "source": [
    "http://neuralnetworksanddeeplearning.com/chap1.html"
   ]
  },
  {
   "cell_type": "markdown",
   "metadata": {},
   "source": [
    "### Read the abalone dataset\n"
   ]
  },
  {
   "cell_type": "code",
   "execution_count": 22,
   "metadata": {
    "ExecuteTime": {
     "end_time": "2020-08-12T12:49:08.790212Z",
     "start_time": "2020-08-12T12:49:08.778738Z"
    }
   },
   "outputs": [],
   "source": [
    "import pandas as pd\n",
    "import numpy as np\n",
    "\n",
    "data = pd.read_csv('./Data/abalone.data',header = None)\n",
    "data.columns = ['Sex','Length','Diameter','Height','Whole_weight',\n",
    "               'Shucked_weight', 'Viscera_weight', 'Shell_weight', 'Rings']\n",
    "\n"
   ]
  },
  {
   "cell_type": "code",
   "execution_count": 8,
   "metadata": {
    "ExecuteTime": {
     "end_time": "2020-08-12T12:22:23.815824Z",
     "start_time": "2020-08-12T12:22:23.790784Z"
    }
   },
   "outputs": [
    {
     "data": {
      "text/html": [
       "<div>\n",
       "<style scoped>\n",
       "    .dataframe tbody tr th:only-of-type {\n",
       "        vertical-align: middle;\n",
       "    }\n",
       "\n",
       "    .dataframe tbody tr th {\n",
       "        vertical-align: top;\n",
       "    }\n",
       "\n",
       "    .dataframe thead th {\n",
       "        text-align: right;\n",
       "    }\n",
       "</style>\n",
       "<table border=\"1\" class=\"dataframe\">\n",
       "  <thead>\n",
       "    <tr style=\"text-align: right;\">\n",
       "      <th></th>\n",
       "      <th>Sex</th>\n",
       "      <th>Length</th>\n",
       "      <th>Diameter</th>\n",
       "      <th>Height</th>\n",
       "      <th>Whole_weight</th>\n",
       "      <th>Shucked_weight</th>\n",
       "      <th>Viscera_weight</th>\n",
       "      <th>Shell_weight</th>\n",
       "      <th>Rings</th>\n",
       "    </tr>\n",
       "  </thead>\n",
       "  <tbody>\n",
       "    <tr>\n",
       "      <td>0</td>\n",
       "      <td>M</td>\n",
       "      <td>0.455</td>\n",
       "      <td>0.365</td>\n",
       "      <td>0.095</td>\n",
       "      <td>0.5140</td>\n",
       "      <td>0.2245</td>\n",
       "      <td>0.1010</td>\n",
       "      <td>0.1500</td>\n",
       "      <td>15</td>\n",
       "    </tr>\n",
       "    <tr>\n",
       "      <td>1</td>\n",
       "      <td>M</td>\n",
       "      <td>0.350</td>\n",
       "      <td>0.265</td>\n",
       "      <td>0.090</td>\n",
       "      <td>0.2255</td>\n",
       "      <td>0.0995</td>\n",
       "      <td>0.0485</td>\n",
       "      <td>0.0700</td>\n",
       "      <td>7</td>\n",
       "    </tr>\n",
       "    <tr>\n",
       "      <td>2</td>\n",
       "      <td>F</td>\n",
       "      <td>0.530</td>\n",
       "      <td>0.420</td>\n",
       "      <td>0.135</td>\n",
       "      <td>0.6770</td>\n",
       "      <td>0.2565</td>\n",
       "      <td>0.1415</td>\n",
       "      <td>0.2100</td>\n",
       "      <td>9</td>\n",
       "    </tr>\n",
       "    <tr>\n",
       "      <td>3</td>\n",
       "      <td>M</td>\n",
       "      <td>0.440</td>\n",
       "      <td>0.365</td>\n",
       "      <td>0.125</td>\n",
       "      <td>0.5160</td>\n",
       "      <td>0.2155</td>\n",
       "      <td>0.1140</td>\n",
       "      <td>0.1550</td>\n",
       "      <td>10</td>\n",
       "    </tr>\n",
       "    <tr>\n",
       "      <td>4</td>\n",
       "      <td>I</td>\n",
       "      <td>0.330</td>\n",
       "      <td>0.255</td>\n",
       "      <td>0.080</td>\n",
       "      <td>0.2050</td>\n",
       "      <td>0.0895</td>\n",
       "      <td>0.0395</td>\n",
       "      <td>0.0550</td>\n",
       "      <td>7</td>\n",
       "    </tr>\n",
       "    <tr>\n",
       "      <td>...</td>\n",
       "      <td>...</td>\n",
       "      <td>...</td>\n",
       "      <td>...</td>\n",
       "      <td>...</td>\n",
       "      <td>...</td>\n",
       "      <td>...</td>\n",
       "      <td>...</td>\n",
       "      <td>...</td>\n",
       "      <td>...</td>\n",
       "    </tr>\n",
       "    <tr>\n",
       "      <td>4172</td>\n",
       "      <td>F</td>\n",
       "      <td>0.565</td>\n",
       "      <td>0.450</td>\n",
       "      <td>0.165</td>\n",
       "      <td>0.8870</td>\n",
       "      <td>0.3700</td>\n",
       "      <td>0.2390</td>\n",
       "      <td>0.2490</td>\n",
       "      <td>11</td>\n",
       "    </tr>\n",
       "    <tr>\n",
       "      <td>4173</td>\n",
       "      <td>M</td>\n",
       "      <td>0.590</td>\n",
       "      <td>0.440</td>\n",
       "      <td>0.135</td>\n",
       "      <td>0.9660</td>\n",
       "      <td>0.4390</td>\n",
       "      <td>0.2145</td>\n",
       "      <td>0.2605</td>\n",
       "      <td>10</td>\n",
       "    </tr>\n",
       "    <tr>\n",
       "      <td>4174</td>\n",
       "      <td>M</td>\n",
       "      <td>0.600</td>\n",
       "      <td>0.475</td>\n",
       "      <td>0.205</td>\n",
       "      <td>1.1760</td>\n",
       "      <td>0.5255</td>\n",
       "      <td>0.2875</td>\n",
       "      <td>0.3080</td>\n",
       "      <td>9</td>\n",
       "    </tr>\n",
       "    <tr>\n",
       "      <td>4175</td>\n",
       "      <td>F</td>\n",
       "      <td>0.625</td>\n",
       "      <td>0.485</td>\n",
       "      <td>0.150</td>\n",
       "      <td>1.0945</td>\n",
       "      <td>0.5310</td>\n",
       "      <td>0.2610</td>\n",
       "      <td>0.2960</td>\n",
       "      <td>10</td>\n",
       "    </tr>\n",
       "    <tr>\n",
       "      <td>4176</td>\n",
       "      <td>M</td>\n",
       "      <td>0.710</td>\n",
       "      <td>0.555</td>\n",
       "      <td>0.195</td>\n",
       "      <td>1.9485</td>\n",
       "      <td>0.9455</td>\n",
       "      <td>0.3765</td>\n",
       "      <td>0.4950</td>\n",
       "      <td>12</td>\n",
       "    </tr>\n",
       "  </tbody>\n",
       "</table>\n",
       "<p>4177 rows × 9 columns</p>\n",
       "</div>"
      ],
      "text/plain": [
       "     Sex  Length  Diameter  Height  Whole_weight  Shucked_weight  \\\n",
       "0      M   0.455     0.365   0.095        0.5140          0.2245   \n",
       "1      M   0.350     0.265   0.090        0.2255          0.0995   \n",
       "2      F   0.530     0.420   0.135        0.6770          0.2565   \n",
       "3      M   0.440     0.365   0.125        0.5160          0.2155   \n",
       "4      I   0.330     0.255   0.080        0.2050          0.0895   \n",
       "...   ..     ...       ...     ...           ...             ...   \n",
       "4172   F   0.565     0.450   0.165        0.8870          0.3700   \n",
       "4173   M   0.590     0.440   0.135        0.9660          0.4390   \n",
       "4174   M   0.600     0.475   0.205        1.1760          0.5255   \n",
       "4175   F   0.625     0.485   0.150        1.0945          0.5310   \n",
       "4176   M   0.710     0.555   0.195        1.9485          0.9455   \n",
       "\n",
       "      Viscera_weight  Shell_weight  Rings  \n",
       "0             0.1010        0.1500     15  \n",
       "1             0.0485        0.0700      7  \n",
       "2             0.1415        0.2100      9  \n",
       "3             0.1140        0.1550     10  \n",
       "4             0.0395        0.0550      7  \n",
       "...              ...           ...    ...  \n",
       "4172          0.2390        0.2490     11  \n",
       "4173          0.2145        0.2605     10  \n",
       "4174          0.2875        0.3080      9  \n",
       "4175          0.2610        0.2960     10  \n",
       "4176          0.3765        0.4950     12  \n",
       "\n",
       "[4177 rows x 9 columns]"
      ]
     },
     "execution_count": 8,
     "metadata": {},
     "output_type": "execute_result"
    }
   ],
   "source": [
    "data"
   ]
  },
  {
   "cell_type": "code",
   "execution_count": 23,
   "metadata": {
    "ExecuteTime": {
     "end_time": "2020-08-12T12:49:11.946792Z",
     "start_time": "2020-08-12T12:49:11.924812Z"
    }
   },
   "outputs": [
    {
     "data": {
      "text/html": [
       "<div>\n",
       "<style scoped>\n",
       "    .dataframe tbody tr th:only-of-type {\n",
       "        vertical-align: middle;\n",
       "    }\n",
       "\n",
       "    .dataframe tbody tr th {\n",
       "        vertical-align: top;\n",
       "    }\n",
       "\n",
       "    .dataframe thead th {\n",
       "        text-align: right;\n",
       "    }\n",
       "</style>\n",
       "<table border=\"1\" class=\"dataframe\">\n",
       "  <thead>\n",
       "    <tr style=\"text-align: right;\">\n",
       "      <th></th>\n",
       "      <th>Length</th>\n",
       "      <th>Diameter</th>\n",
       "      <th>Height</th>\n",
       "      <th>Whole_weight</th>\n",
       "      <th>Shucked_weight</th>\n",
       "      <th>Viscera_weight</th>\n",
       "      <th>Shell_weight</th>\n",
       "      <th>Rings</th>\n",
       "      <th>Sex_F</th>\n",
       "      <th>Sex_I</th>\n",
       "      <th>Sex_M</th>\n",
       "    </tr>\n",
       "  </thead>\n",
       "  <tbody>\n",
       "    <tr>\n",
       "      <td>0</td>\n",
       "      <td>0.455</td>\n",
       "      <td>0.365</td>\n",
       "      <td>0.095</td>\n",
       "      <td>0.5140</td>\n",
       "      <td>0.2245</td>\n",
       "      <td>0.1010</td>\n",
       "      <td>0.150</td>\n",
       "      <td>15</td>\n",
       "      <td>0</td>\n",
       "      <td>0</td>\n",
       "      <td>1</td>\n",
       "    </tr>\n",
       "    <tr>\n",
       "      <td>1</td>\n",
       "      <td>0.350</td>\n",
       "      <td>0.265</td>\n",
       "      <td>0.090</td>\n",
       "      <td>0.2255</td>\n",
       "      <td>0.0995</td>\n",
       "      <td>0.0485</td>\n",
       "      <td>0.070</td>\n",
       "      <td>7</td>\n",
       "      <td>0</td>\n",
       "      <td>0</td>\n",
       "      <td>1</td>\n",
       "    </tr>\n",
       "    <tr>\n",
       "      <td>2</td>\n",
       "      <td>0.530</td>\n",
       "      <td>0.420</td>\n",
       "      <td>0.135</td>\n",
       "      <td>0.6770</td>\n",
       "      <td>0.2565</td>\n",
       "      <td>0.1415</td>\n",
       "      <td>0.210</td>\n",
       "      <td>9</td>\n",
       "      <td>1</td>\n",
       "      <td>0</td>\n",
       "      <td>0</td>\n",
       "    </tr>\n",
       "    <tr>\n",
       "      <td>3</td>\n",
       "      <td>0.440</td>\n",
       "      <td>0.365</td>\n",
       "      <td>0.125</td>\n",
       "      <td>0.5160</td>\n",
       "      <td>0.2155</td>\n",
       "      <td>0.1140</td>\n",
       "      <td>0.155</td>\n",
       "      <td>10</td>\n",
       "      <td>0</td>\n",
       "      <td>0</td>\n",
       "      <td>1</td>\n",
       "    </tr>\n",
       "    <tr>\n",
       "      <td>4</td>\n",
       "      <td>0.330</td>\n",
       "      <td>0.255</td>\n",
       "      <td>0.080</td>\n",
       "      <td>0.2050</td>\n",
       "      <td>0.0895</td>\n",
       "      <td>0.0395</td>\n",
       "      <td>0.055</td>\n",
       "      <td>7</td>\n",
       "      <td>0</td>\n",
       "      <td>1</td>\n",
       "      <td>0</td>\n",
       "    </tr>\n",
       "    <tr>\n",
       "      <td>5</td>\n",
       "      <td>0.425</td>\n",
       "      <td>0.300</td>\n",
       "      <td>0.095</td>\n",
       "      <td>0.3515</td>\n",
       "      <td>0.1410</td>\n",
       "      <td>0.0775</td>\n",
       "      <td>0.120</td>\n",
       "      <td>8</td>\n",
       "      <td>0</td>\n",
       "      <td>1</td>\n",
       "      <td>0</td>\n",
       "    </tr>\n",
       "    <tr>\n",
       "      <td>6</td>\n",
       "      <td>0.530</td>\n",
       "      <td>0.415</td>\n",
       "      <td>0.150</td>\n",
       "      <td>0.7775</td>\n",
       "      <td>0.2370</td>\n",
       "      <td>0.1415</td>\n",
       "      <td>0.330</td>\n",
       "      <td>20</td>\n",
       "      <td>1</td>\n",
       "      <td>0</td>\n",
       "      <td>0</td>\n",
       "    </tr>\n",
       "    <tr>\n",
       "      <td>7</td>\n",
       "      <td>0.545</td>\n",
       "      <td>0.425</td>\n",
       "      <td>0.125</td>\n",
       "      <td>0.7680</td>\n",
       "      <td>0.2940</td>\n",
       "      <td>0.1495</td>\n",
       "      <td>0.260</td>\n",
       "      <td>16</td>\n",
       "      <td>1</td>\n",
       "      <td>0</td>\n",
       "      <td>0</td>\n",
       "    </tr>\n",
       "    <tr>\n",
       "      <td>8</td>\n",
       "      <td>0.475</td>\n",
       "      <td>0.370</td>\n",
       "      <td>0.125</td>\n",
       "      <td>0.5095</td>\n",
       "      <td>0.2165</td>\n",
       "      <td>0.1125</td>\n",
       "      <td>0.165</td>\n",
       "      <td>9</td>\n",
       "      <td>0</td>\n",
       "      <td>0</td>\n",
       "      <td>1</td>\n",
       "    </tr>\n",
       "    <tr>\n",
       "      <td>9</td>\n",
       "      <td>0.550</td>\n",
       "      <td>0.440</td>\n",
       "      <td>0.150</td>\n",
       "      <td>0.8945</td>\n",
       "      <td>0.3145</td>\n",
       "      <td>0.1510</td>\n",
       "      <td>0.320</td>\n",
       "      <td>19</td>\n",
       "      <td>1</td>\n",
       "      <td>0</td>\n",
       "      <td>0</td>\n",
       "    </tr>\n",
       "  </tbody>\n",
       "</table>\n",
       "</div>"
      ],
      "text/plain": [
       "   Length  Diameter  Height  Whole_weight  Shucked_weight  Viscera_weight  \\\n",
       "0   0.455     0.365   0.095        0.5140          0.2245          0.1010   \n",
       "1   0.350     0.265   0.090        0.2255          0.0995          0.0485   \n",
       "2   0.530     0.420   0.135        0.6770          0.2565          0.1415   \n",
       "3   0.440     0.365   0.125        0.5160          0.2155          0.1140   \n",
       "4   0.330     0.255   0.080        0.2050          0.0895          0.0395   \n",
       "5   0.425     0.300   0.095        0.3515          0.1410          0.0775   \n",
       "6   0.530     0.415   0.150        0.7775          0.2370          0.1415   \n",
       "7   0.545     0.425   0.125        0.7680          0.2940          0.1495   \n",
       "8   0.475     0.370   0.125        0.5095          0.2165          0.1125   \n",
       "9   0.550     0.440   0.150        0.8945          0.3145          0.1510   \n",
       "\n",
       "   Shell_weight  Rings  Sex_F  Sex_I  Sex_M  \n",
       "0         0.150     15      0      0      1  \n",
       "1         0.070      7      0      0      1  \n",
       "2         0.210      9      1      0      0  \n",
       "3         0.155     10      0      0      1  \n",
       "4         0.055      7      0      1      0  \n",
       "5         0.120      8      0      1      0  \n",
       "6         0.330     20      1      0      0  \n",
       "7         0.260     16      1      0      0  \n",
       "8         0.165      9      0      0      1  \n",
       "9         0.320     19      1      0      0  "
      ]
     },
     "execution_count": 23,
     "metadata": {},
     "output_type": "execute_result"
    }
   ],
   "source": [
    "data = pd.get_dummies(data)\n",
    "data.head(10)"
   ]
  },
  {
   "cell_type": "markdown",
   "metadata": {},
   "source": [
    "### Tensorflow Implementation"
   ]
  },
  {
   "cell_type": "code",
   "execution_count": 14,
   "metadata": {
    "ExecuteTime": {
     "end_time": "2020-08-12T12:46:50.154232Z",
     "start_time": "2020-08-12T12:46:50.130479Z"
    }
   },
   "outputs": [
    {
     "name": "stdout",
     "output_type": "stream",
     "text": [
      "4177 4177\n",
      "(2798, 1) (1379, 1)\n",
      "(2798, 10) (1379, 10)\n"
     ]
    }
   ],
   "source": [
    "df=pd.read_csv(\"./Data/abalone.data\", header=None)\n",
    "# df = shuffle(df)# shuffle dataset\n",
    "df.columns = ['Sex','Length','Diameter','Height','Whole_weight',\n",
    "               'Shucked_weight', 'Viscera_weight', 'Shell_weight', 'Rings']\n",
    "\n",
    "df = pd.get_dummies(df)\n",
    "y = df['Rings']\n",
    "df=df.drop('Rings',axis=1)\n",
    "df=np.array(df)\n",
    "print(len(df),len(y))\n",
    "#labels and features \n",
    "y_train,y_test=np.reshape(np.array(y[0:2798]),(2798,1)),np.reshape(np.array(y[2798:]),(4177-2798,1))#train and test label \n",
    "print(y_train.shape,y_test.shape)\n",
    "x_train,x_test=np.array(df[0:2798]),np.array(df[2798:])#train and test features\n",
    "print(x_train.shape,x_test.shape)"
   ]
  },
  {
   "cell_type": "code",
   "execution_count": 15,
   "metadata": {
    "ExecuteTime": {
     "end_time": "2020-08-12T12:46:58.904207Z",
     "start_time": "2020-08-12T12:46:55.625947Z"
    }
   },
   "outputs": [
    {
     "name": "stdout",
     "output_type": "stream",
     "text": [
      "epoch no 0 132.28801\n",
      "epoch no 100 6.9139104\n",
      "epoch no 200 6.055316\n",
      "epoch no 300 5.734658\n",
      "epoch no 400 5.46841\n",
      "epoch no 500 5.1809745\n",
      "epoch no 600 5.0101547\n",
      "epoch no 700 4.913458\n",
      "epoch no 800 4.8333993\n",
      "epoch no 900 4.7831907\n",
      "epoch no 1000 4.741015\n",
      "epoch no 1100 4.68439\n",
      "epoch no 1200 4.6595693\n",
      "epoch no 1300 4.636075\n",
      "epoch no 1400 4.6092405\n",
      "epoch no 1500 4.5837126\n",
      "epoch no 1600 4.555539\n",
      "epoch no 1700 4.540203\n",
      "epoch no 1800 4.525646\n",
      "epoch no 1900 4.508252\n"
     ]
    }
   ],
   "source": [
    "tf.reset_default_graph()\n",
    "\n",
    "\n",
    "X = tf.placeholder(\"float\", [None, 10])\n",
    "Y = tf.placeholder(\"float\", [None, 1])\n",
    "\n",
    "weights = {\n",
    "    'h1': tf.Variable(tf.random_normal([10, 10])),\n",
    "    'h2': tf.Variable(tf.random_normal([10, 10])),\n",
    "    'out': tf.Variable(tf.random_normal([10, 1]))# 1 ouput label\n",
    "}\n",
    "biases = {\n",
    "    'b1': tf.Variable(tf.random_normal([10])),\n",
    "    'b2': tf.Variable(tf.random_normal([10])),\n",
    "    'out': tf.Variable(tf.random_normal([1]))\n",
    "}\n",
    "\n",
    "\n",
    "def neural_net(x):\n",
    "    #hidden layer 1\n",
    "    layer_1 = tf.add(tf.matmul(x, weights['h1']), biases['b1'])\n",
    "    layer_1 = tf.nn.relu(layer_1)#activation\n",
    "    #hideen layer 2\n",
    "    layer_2 = tf.add(tf.matmul(layer_1, weights['h2']), biases['b2'])\n",
    "    layer_2 = tf.nn.relu(layer_2)#activation\n",
    "    # output layer\n",
    "    out_layer = tf.matmul(layer_2, weights['out']) + biases['out']\n",
    "    return (out_layer)\n",
    "\n",
    "Y_hat=neural_net(X)\n",
    "loss_op=tf.losses.mean_squared_error(Y,Y_hat)#loss function\n",
    "optimizer = tf.train.AdamOptimizer(learning_rate=0.01) #define optimizer \n",
    "                                                        # play around with learning rate\n",
    "                                                        # we can also use GD / SGD, etc.\n",
    "\n",
    "train_op = optimizer.minimize(loss_op)#minimize losss\n",
    "init = tf.global_variables_initializer()\n",
    "epoch=2000\n",
    "\n",
    "with tf.Session() as sess:\n",
    "    sess.run(init)\n",
    "    for i in range(0,epoch):\n",
    "        sess.run(train_op,feed_dict={X:x_train,Y:y_train})\n",
    "        loss=sess.run(loss_op,feed_dict={X:x_train,Y:y_train})\n",
    "        if(i%100==0):\n",
    "            print(\"epoch no \"+str(i),(loss))\n",
    "        pred = sess.run(Y_hat, feed_dict={X:x_test})\n",
    " \n",
    "\n",
    "writer_model = tf.summary.FileWriter('./nn_graphs',tf.get_default_graph())"
   ]
  },
  {
   "cell_type": "code",
   "execution_count": 113,
   "metadata": {
    "ExecuteTime": {
     "end_time": "2020-08-12T08:59:48.922954Z",
     "start_time": "2020-08-12T08:59:48.721161Z"
    }
   },
   "outputs": [
    {
     "data": {
      "image/png": "[encoded data removed]",
      "text/plain": [
       "<Figure size 432x288 with 1 Axes>"
      ]
     },
     "metadata": {
      "needs_background": "light"
     },
     "output_type": "display_data"
    }
   ],
   "source": [
    "plt.plot((pred), color='red', label='Prediction')\n",
    "plt.plot(y_test, color='blue', label='Orignal')\n",
    "plt.legend(loc='upper left')\n",
    "plt.show()"
   ]
  },
  {
   "cell_type": "code",
   "execution_count": 16,
   "metadata": {
    "ExecuteTime": {
     "end_time": "2020-08-12T12:48:44.425421Z",
     "start_time": "2020-08-12T12:47:10.934848Z"
    }
   },
   "outputs": [
    {
     "name": "stdout",
     "output_type": "stream",
     "text": [
      "W0812 20:47:14.748142 123145523171328 plugin_event_accumulator.py:323] Found more than one graph event per run, or there was a metagraph containing a graph_def, as well as one or more graph events.  Overwriting the graph with the newest event.\n",
      "Serving TensorBoard on localhost; to expose to the network, use a proxy or pass --bind_all\n",
      "TensorBoard 2.3.0 at http://localhost:6006/ (Press CTRL+C to quit)\n",
      "^C\n"
     ]
    }
   ],
   "source": [
    "!tensorboard --logdir=\"./nn_graphs\" --port 6006"
   ]
  },
  {
   "cell_type": "markdown",
   "metadata": {},
   "source": [
    "### Keras Implementation"
   ]
  },
  {
   "cell_type": "code",
   "execution_count": 24,
   "metadata": {
    "ExecuteTime": {
     "end_time": "2020-08-12T12:49:21.379317Z",
     "start_time": "2020-08-12T12:49:21.375472Z"
    }
   },
   "outputs": [],
   "source": [
    "labels = data[\"Rings\"]\n",
    "data = data.drop(['Rings'], axis=1)"
   ]
  },
  {
   "cell_type": "code",
   "execution_count": 25,
   "metadata": {
    "ExecuteTime": {
     "end_time": "2020-08-12T12:49:22.034406Z",
     "start_time": "2020-08-12T12:49:22.026808Z"
    }
   },
   "outputs": [
    {
     "name": "stdout",
     "output_type": "stream",
     "text": [
      "2830     9\n",
      "925      7\n",
      "3845    11\n",
      "547      7\n",
      "2259    13\n",
      "3588    12\n",
      "1450     7\n",
      "2827     8\n",
      "2233    17\n",
      "611      4\n",
      "Name: Rings, dtype: int64\n"
     ]
    }
   ],
   "source": [
    "from sklearn.model_selection import train_test_split\n",
    "X_train, X_test, y_train, y_test = train_test_split(data, labels, test_size=0.3, random_state=42)\n",
    "print(y_train[0:10])  # Display first 10 entries"
   ]
  },
  {
   "cell_type": "code",
   "execution_count": 26,
   "metadata": {
    "ExecuteTime": {
     "end_time": "2020-08-12T12:49:22.573476Z",
     "start_time": "2020-08-12T12:49:22.569283Z"
    }
   },
   "outputs": [
    {
     "data": {
      "text/plain": [
       "(2923, 10)"
      ]
     },
     "execution_count": 26,
     "metadata": {},
     "output_type": "execute_result"
    }
   ],
   "source": [
    "X_train.shape"
   ]
  },
  {
   "cell_type": "code",
   "execution_count": 27,
   "metadata": {
    "ExecuteTime": {
     "end_time": "2020-08-12T12:49:23.637362Z",
     "start_time": "2020-08-12T12:49:23.613476Z"
    }
   },
   "outputs": [
    {
     "name": "stdout",
     "output_type": "stream",
     "text": [
      "        Length  Diameter    Height  Whole_weight  Shucked_weight  \\\n",
      "2830 -0.009544  0.206767 -0.120703      0.014576        0.311001   \n",
      "\n",
      "      Viscera_weight  Shell_weight     Sex_F     Sex_I     Sex_M  \n",
      "2830       -0.020979     -0.425335  1.463652 -0.679222 -0.759766  \n"
     ]
    }
   ],
   "source": [
    "mean = X_train.mean(axis=0)\n",
    "std = X_train.std(axis=0)\n",
    "X_train = (X_train - mean) / std\n",
    "X_test = (X_test - mean) / std\n",
    "\n",
    "print(X_train[0:1])  # First training sample, normalized"
   ]
  },
  {
   "cell_type": "code",
   "execution_count": 29,
   "metadata": {
    "ExecuteTime": {
     "end_time": "2020-08-12T12:54:33.573751Z",
     "start_time": "2020-08-12T12:54:33.433801Z"
    }
   },
   "outputs": [
    {
     "name": "stdout",
     "output_type": "stream",
     "text": [
      "Model: \"sequential\"\n",
      "_________________________________________________________________\n",
      "Layer (type)                 Output Shape              Param #   \n",
      "=================================================================\n",
      "dense (Dense)                (None, 64)                704       \n",
      "_________________________________________________________________\n",
      "dense_1 (Dense)              (None, 32)                2080      \n",
      "_________________________________________________________________\n",
      "dense_2 (Dense)              (None, 32)                1056      \n",
      "_________________________________________________________________\n",
      "dense_3 (Dense)              (None, 32)                1056      \n",
      "_________________________________________________________________\n",
      "dense_4 (Dense)              (None, 1)                 33        \n",
      "=================================================================\n",
      "Total params: 4,929\n",
      "Trainable params: 4,929\n",
      "Non-trainable params: 0\n",
      "_________________________________________________________________\n"
     ]
    }
   ],
   "source": [
    "import keras\n",
    "\n",
    "def build_model():\n",
    "  model = keras.Sequential([\n",
    "    keras.layers.Dense(64, activation=tf.nn.relu,input_shape=(X_train.shape[1],)),\n",
    "    keras.layers.Dense(32, activation=tf.nn.relu),\n",
    "    keras.layers.Dense(32, activation=tf.nn.relu),\n",
    "    keras.layers.Dense(32, activation=tf.nn.relu),\n",
    "    keras.layers.Dense(1)\n",
    "  ])\n",
    "\n",
    "  optimizer = tf.train.RMSPropOptimizer(0.001)\n",
    "\n",
    "  model.compile(loss='mse',optimizer=optimizer,metrics=['mae'])\n",
    "  return model\n",
    "\n",
    "model = build_model()\n",
    "model.summary()"
   ]
  },
  {
   "cell_type": "code",
   "execution_count": 30,
   "metadata": {
    "ExecuteTime": {
     "end_time": "2020-08-12T12:55:23.228290Z",
     "start_time": "2020-08-12T12:54:47.807897Z"
    },
    "scrolled": true
   },
   "outputs": [
    {
     "name": "stdout",
     "output_type": "stream",
     "text": [
      "WARNING:tensorflow:From /Users/liushuang/opt/anaconda3/lib/python3.7/site-packages/tensorflow/python/training/rmsprop.py:123: calling Ones.__init__ (from tensorflow.python.ops.init_ops) with dtype is deprecated and will be removed in a future version.\n",
      "Instructions for updating:\n",
      "Call initializer instance with the dtype argument instead of passing it to the constructor\n",
      "Train on 2338 samples, validate on 585 samples\n",
      "Epoch 1/500\n",
      "WARNING:tensorflow:From /Users/liushuang/opt/anaconda3/lib/python3.7/site-packages/tensorflow/python/keras/engine/training_v1.py:2048: Model.state_updates (from tensorflow.python.keras.engine.training) is deprecated and will be removed in a future version.\n",
      "Instructions for updating:\n",
      "This property should not be used in TensorFlow 2.0, as updates are applied automatically.\n",
      "2338/2338 - 0s - loss: 40.5919 - mean_absolute_error: 4.9967 - val_loss: 8.7106 - val_mean_absolute_error: 2.1216\n",
      "Epoch 2/500\n",
      "2338/2338 - 0s - loss: 7.9305 - mean_absolute_error: 1.8721 - val_loss: 4.3301 - val_mean_absolute_error: 1.4814\n",
      "Epoch 3/500\n",
      "2338/2338 - 0s - loss: 6.3544 - mean_absolute_error: 1.6923 - val_loss: 5.2084 - val_mean_absolute_error: 1.5947\n",
      "Epoch 4/500\n",
      "2338/2338 - 0s - loss: 6.0072 - mean_absolute_error: 1.6667 - val_loss: 4.3176 - val_mean_absolute_error: 1.4572\n",
      "Epoch 5/500\n",
      "2338/2338 - 0s - loss: 5.6363 - mean_absolute_error: 1.6274 - val_loss: 5.6409 - val_mean_absolute_error: 1.7352\n",
      "Epoch 6/500\n",
      "2338/2338 - 0s - loss: 5.5007 - mean_absolute_error: 1.6240 - val_loss: 4.4045 - val_mean_absolute_error: 1.6207\n",
      "Epoch 7/500\n",
      "2338/2338 - 0s - loss: 5.2612 - mean_absolute_error: 1.6027 - val_loss: 5.0771 - val_mean_absolute_error: 1.7629\n",
      "Epoch 8/500\n",
      "2338/2338 - 0s - loss: 5.0807 - mean_absolute_error: 1.5997 - val_loss: 5.4289 - val_mean_absolute_error: 1.8028\n",
      "Epoch 9/500\n",
      "2338/2338 - 0s - loss: 5.0235 - mean_absolute_error: 1.5955 - val_loss: 5.1271 - val_mean_absolute_error: 1.7202\n",
      "Epoch 10/500\n",
      "2338/2338 - 0s - loss: 4.9889 - mean_absolute_error: 1.5989 - val_loss: 3.8467 - val_mean_absolute_error: 1.4095\n",
      "Epoch 11/500\n",
      "2338/2338 - 0s - loss: 4.8824 - mean_absolute_error: 1.5858 - val_loss: 4.5874 - val_mean_absolute_error: 1.5465\n",
      "Epoch 12/500\n",
      "2338/2338 - 0s - loss: 4.8055 - mean_absolute_error: 1.5750 - val_loss: 4.0621 - val_mean_absolute_error: 1.4810\n",
      "Epoch 13/500\n",
      "2338/2338 - 0s - loss: 4.7544 - mean_absolute_error: 1.5681 - val_loss: 4.4741 - val_mean_absolute_error: 1.5749\n",
      "Epoch 14/500\n",
      "2338/2338 - 0s - loss: 4.7315 - mean_absolute_error: 1.5566 - val_loss: 3.9735 - val_mean_absolute_error: 1.3952\n",
      "Epoch 15/500\n",
      "2338/2338 - 0s - loss: 4.6976 - mean_absolute_error: 1.5578 - val_loss: 5.4825 - val_mean_absolute_error: 1.9466\n",
      "Epoch 16/500\n",
      "2338/2338 - 0s - loss: 4.7288 - mean_absolute_error: 1.5652 - val_loss: 4.0538 - val_mean_absolute_error: 1.4560\n",
      "Epoch 17/500\n",
      "2338/2338 - 0s - loss: 4.6458 - mean_absolute_error: 1.5492 - val_loss: 5.6829 - val_mean_absolute_error: 1.8527\n",
      "Epoch 18/500\n",
      "2338/2338 - 0s - loss: 4.5679 - mean_absolute_error: 1.5442 - val_loss: 9.0892 - val_mean_absolute_error: 2.4782\n",
      "Epoch 19/500\n",
      "2338/2338 - 0s - loss: 4.6249 - mean_absolute_error: 1.5602 - val_loss: 4.0647 - val_mean_absolute_error: 1.4413\n",
      "Epoch 20/500\n",
      "2338/2338 - 0s - loss: 4.5568 - mean_absolute_error: 1.5317 - val_loss: 3.8348 - val_mean_absolute_error: 1.4123\n",
      "Epoch 21/500\n",
      "2338/2338 - 0s - loss: 4.6150 - mean_absolute_error: 1.5322 - val_loss: 5.3705 - val_mean_absolute_error: 1.8095\n",
      "Epoch 22/500\n",
      "2338/2338 - 0s - loss: 4.6074 - mean_absolute_error: 1.5363 - val_loss: 4.6502 - val_mean_absolute_error: 1.7038\n",
      "Epoch 23/500\n",
      "2338/2338 - 0s - loss: 4.4941 - mean_absolute_error: 1.5269 - val_loss: 4.1123 - val_mean_absolute_error: 1.4381\n",
      "Epoch 24/500\n",
      "2338/2338 - 0s - loss: 4.5379 - mean_absolute_error: 1.5261 - val_loss: 4.2091 - val_mean_absolute_error: 1.4525\n",
      "Epoch 25/500\n",
      "2338/2338 - 0s - loss: 4.5338 - mean_absolute_error: 1.5246 - val_loss: 4.2787 - val_mean_absolute_error: 1.5795\n",
      "Epoch 26/500\n",
      "2338/2338 - 0s - loss: 4.5339 - mean_absolute_error: 1.5232 - val_loss: 6.1152 - val_mean_absolute_error: 1.9478\n",
      "Epoch 27/500\n",
      "2338/2338 - 0s - loss: 4.5580 - mean_absolute_error: 1.5369 - val_loss: 4.4813 - val_mean_absolute_error: 1.5327\n",
      "Epoch 28/500\n",
      "2338/2338 - 0s - loss: 4.4551 - mean_absolute_error: 1.5108 - val_loss: 4.9778 - val_mean_absolute_error: 1.7548\n",
      "Epoch 29/500\n",
      "2338/2338 - 0s - loss: 4.4276 - mean_absolute_error: 1.5163 - val_loss: 3.7656 - val_mean_absolute_error: 1.3739\n",
      "Epoch 30/500\n",
      "2338/2338 - 0s - loss: 4.4778 - mean_absolute_error: 1.5169 - val_loss: 4.0014 - val_mean_absolute_error: 1.4569\n",
      "Epoch 31/500\n",
      "2338/2338 - 0s - loss: 4.3992 - mean_absolute_error: 1.5102 - val_loss: 3.9369 - val_mean_absolute_error: 1.4482\n",
      "Epoch 32/500\n",
      "2338/2338 - 0s - loss: 4.4437 - mean_absolute_error: 1.5105 - val_loss: 4.0419 - val_mean_absolute_error: 1.4793\n",
      "Epoch 33/500\n",
      "2338/2338 - 0s - loss: 4.4374 - mean_absolute_error: 1.5118 - val_loss: 3.7521 - val_mean_absolute_error: 1.3788\n",
      "Epoch 34/500\n",
      "2338/2338 - 0s - loss: 4.3890 - mean_absolute_error: 1.5034 - val_loss: 4.3277 - val_mean_absolute_error: 1.5555\n",
      "Epoch 35/500\n",
      "2338/2338 - 0s - loss: 4.4411 - mean_absolute_error: 1.5101 - val_loss: 3.8869 - val_mean_absolute_error: 1.4136\n",
      "Epoch 36/500\n",
      "2338/2338 - 0s - loss: 4.4103 - mean_absolute_error: 1.5008 - val_loss: 4.8511 - val_mean_absolute_error: 1.6948\n",
      "Epoch 37/500\n",
      "2338/2338 - 0s - loss: 4.4172 - mean_absolute_error: 1.5187 - val_loss: 4.5934 - val_mean_absolute_error: 1.6152\n",
      "Epoch 38/500\n",
      "2338/2338 - 0s - loss: 4.4016 - mean_absolute_error: 1.5033 - val_loss: 4.3363 - val_mean_absolute_error: 1.5252\n",
      "Epoch 39/500\n",
      "2338/2338 - 0s - loss: 4.4391 - mean_absolute_error: 1.5091 - val_loss: 4.1964 - val_mean_absolute_error: 1.4483\n",
      "Epoch 40/500\n",
      "2338/2338 - 0s - loss: 4.4238 - mean_absolute_error: 1.5054 - val_loss: 4.1621 - val_mean_absolute_error: 1.4725\n",
      "Epoch 41/500\n",
      "2338/2338 - 0s - loss: 4.3900 - mean_absolute_error: 1.5010 - val_loss: 6.0592 - val_mean_absolute_error: 1.9286\n",
      "Epoch 42/500\n",
      "2338/2338 - 0s - loss: 4.3394 - mean_absolute_error: 1.4944 - val_loss: 4.3974 - val_mean_absolute_error: 1.4860\n",
      "Epoch 43/500\n",
      "2338/2338 - 0s - loss: 4.3725 - mean_absolute_error: 1.4924 - val_loss: 5.2239 - val_mean_absolute_error: 1.7839\n",
      "Epoch 44/500\n",
      "2338/2338 - 0s - loss: 4.3312 - mean_absolute_error: 1.4868 - val_loss: 5.1286 - val_mean_absolute_error: 1.8137\n",
      "Epoch 45/500\n",
      "2338/2338 - 0s - loss: 4.3723 - mean_absolute_error: 1.5040 - val_loss: 4.3966 - val_mean_absolute_error: 1.4818\n",
      "Epoch 46/500\n",
      "2338/2338 - 0s - loss: 4.3371 - mean_absolute_error: 1.4890 - val_loss: 3.8195 - val_mean_absolute_error: 1.3805\n",
      "Epoch 47/500\n",
      "2338/2338 - 0s - loss: 4.3221 - mean_absolute_error: 1.4927 - val_loss: 3.7354 - val_mean_absolute_error: 1.3502\n",
      "Epoch 48/500\n",
      "2338/2338 - 0s - loss: 4.3784 - mean_absolute_error: 1.4888 - val_loss: 5.4730 - val_mean_absolute_error: 1.8852\n",
      "Epoch 49/500\n",
      "2338/2338 - 0s - loss: 4.3029 - mean_absolute_error: 1.4850 - val_loss: 4.4033 - val_mean_absolute_error: 1.4662\n",
      "Epoch 50/500\n",
      "2338/2338 - 0s - loss: 4.3275 - mean_absolute_error: 1.4903 - val_loss: 4.3074 - val_mean_absolute_error: 1.4797\n",
      "Epoch 51/500\n",
      "2338/2338 - 0s - loss: 4.2751 - mean_absolute_error: 1.4727 - val_loss: 5.0507 - val_mean_absolute_error: 1.5773\n",
      "Epoch 52/500\n",
      "2338/2338 - 0s - loss: 4.2860 - mean_absolute_error: 1.4742 - val_loss: 4.0043 - val_mean_absolute_error: 1.4840\n",
      "Epoch 53/500\n",
      "2338/2338 - 0s - loss: 4.2798 - mean_absolute_error: 1.4818 - val_loss: 3.8412 - val_mean_absolute_error: 1.4525\n",
      "Epoch 54/500\n",
      "2338/2338 - 0s - loss: 4.2359 - mean_absolute_error: 1.4733 - val_loss: 4.0731 - val_mean_absolute_error: 1.4435\n",
      "Epoch 55/500\n",
      "2338/2338 - 0s - loss: 4.3331 - mean_absolute_error: 1.4871 - val_loss: 3.9103 - val_mean_absolute_error: 1.3961\n",
      "Epoch 56/500\n",
      "2338/2338 - 0s - loss: 4.3251 - mean_absolute_error: 1.4842 - val_loss: 4.5840 - val_mean_absolute_error: 1.6842\n",
      "Epoch 57/500\n",
      "2338/2338 - 0s - loss: 4.2755 - mean_absolute_error: 1.4806 - val_loss: 4.2282 - val_mean_absolute_error: 1.5800\n",
      "Epoch 58/500\n",
      "2338/2338 - 0s - loss: 4.2105 - mean_absolute_error: 1.4718 - val_loss: 3.8722 - val_mean_absolute_error: 1.3871\n",
      "Epoch 59/500\n",
      "2338/2338 - 0s - loss: 4.2619 - mean_absolute_error: 1.4691 - val_loss: 4.6699 - val_mean_absolute_error: 1.7189\n"
     ]
    },
    {
     "name": "stdout",
     "output_type": "stream",
     "text": [
      "Epoch 60/500\n",
      "2338/2338 - 0s - loss: 4.2091 - mean_absolute_error: 1.4774 - val_loss: 4.2305 - val_mean_absolute_error: 1.5397\n",
      "Epoch 61/500\n",
      "2338/2338 - 0s - loss: 4.2818 - mean_absolute_error: 1.4835 - val_loss: 5.0954 - val_mean_absolute_error: 1.8203\n",
      "Epoch 62/500\n",
      "2338/2338 - 0s - loss: 4.2359 - mean_absolute_error: 1.4782 - val_loss: 4.0641 - val_mean_absolute_error: 1.4907\n",
      "Epoch 63/500\n",
      "2338/2338 - 0s - loss: 4.2470 - mean_absolute_error: 1.4773 - val_loss: 3.8947 - val_mean_absolute_error: 1.4643\n",
      "Epoch 64/500\n",
      "2338/2338 - 0s - loss: 4.2530 - mean_absolute_error: 1.4757 - val_loss: 3.6690 - val_mean_absolute_error: 1.3471\n",
      "Epoch 65/500\n",
      "2338/2338 - 0s - loss: 4.1768 - mean_absolute_error: 1.4696 - val_loss: 3.8073 - val_mean_absolute_error: 1.3687\n",
      "Epoch 66/500\n",
      "2338/2338 - 0s - loss: 4.1904 - mean_absolute_error: 1.4650 - val_loss: 4.5398 - val_mean_absolute_error: 1.6189\n",
      "Epoch 67/500\n",
      "2338/2338 - 0s - loss: 4.1713 - mean_absolute_error: 1.4688 - val_loss: 5.7943 - val_mean_absolute_error: 1.9076\n",
      "Epoch 68/500\n",
      "2338/2338 - 0s - loss: 4.2213 - mean_absolute_error: 1.4677 - val_loss: 3.7535 - val_mean_absolute_error: 1.4307\n",
      "Epoch 69/500\n",
      "2338/2338 - 0s - loss: 4.1791 - mean_absolute_error: 1.4695 - val_loss: 4.9758 - val_mean_absolute_error: 1.7154\n",
      "Epoch 70/500\n",
      "2338/2338 - 0s - loss: 4.1724 - mean_absolute_error: 1.4711 - val_loss: 4.0891 - val_mean_absolute_error: 1.4924\n",
      "Epoch 71/500\n",
      "2338/2338 - 0s - loss: 4.1602 - mean_absolute_error: 1.4581 - val_loss: 6.0065 - val_mean_absolute_error: 1.8816\n",
      "Epoch 72/500\n",
      "2338/2338 - 0s - loss: 4.1932 - mean_absolute_error: 1.4686 - val_loss: 3.9937 - val_mean_absolute_error: 1.3911\n",
      "Epoch 73/500\n",
      "2338/2338 - 0s - loss: 4.0403 - mean_absolute_error: 1.4350 - val_loss: 3.9712 - val_mean_absolute_error: 1.4413\n",
      "Epoch 74/500\n",
      "2338/2338 - 0s - loss: 4.1872 - mean_absolute_error: 1.4569 - val_loss: 4.0407 - val_mean_absolute_error: 1.5243\n",
      "Epoch 75/500\n",
      "2338/2338 - 0s - loss: 4.1076 - mean_absolute_error: 1.4532 - val_loss: 3.9188 - val_mean_absolute_error: 1.4422\n",
      "Epoch 76/500\n",
      "2338/2338 - 0s - loss: 4.1336 - mean_absolute_error: 1.4415 - val_loss: 5.4025 - val_mean_absolute_error: 1.7019\n",
      "Epoch 77/500\n",
      "2338/2338 - 0s - loss: 4.1617 - mean_absolute_error: 1.4460 - val_loss: 4.7026 - val_mean_absolute_error: 1.6581\n",
      "Epoch 78/500\n",
      "2338/2338 - 0s - loss: 4.1091 - mean_absolute_error: 1.4508 - val_loss: 3.9727 - val_mean_absolute_error: 1.4218\n",
      "Epoch 79/500\n",
      "2338/2338 - 0s - loss: 4.1123 - mean_absolute_error: 1.4525 - val_loss: 3.8366 - val_mean_absolute_error: 1.4690\n",
      "Epoch 80/500\n",
      "2338/2338 - 0s - loss: 4.0889 - mean_absolute_error: 1.4482 - val_loss: 3.9382 - val_mean_absolute_error: 1.4570\n",
      "Epoch 81/500\n",
      "2338/2338 - 0s - loss: 4.0921 - mean_absolute_error: 1.4514 - val_loss: 3.8424 - val_mean_absolute_error: 1.4145\n",
      "Epoch 82/500\n",
      "2338/2338 - 0s - loss: 4.0577 - mean_absolute_error: 1.4340 - val_loss: 4.8453 - val_mean_absolute_error: 1.5793\n",
      "Epoch 83/500\n",
      "2338/2338 - 0s - loss: 4.0796 - mean_absolute_error: 1.4391 - val_loss: 4.0209 - val_mean_absolute_error: 1.4634\n",
      "Epoch 84/500\n",
      "2338/2338 - 0s - loss: 4.0845 - mean_absolute_error: 1.4414 - val_loss: 5.1083 - val_mean_absolute_error: 1.7068\n",
      "Epoch 85/500\n",
      "2338/2338 - 0s - loss: 4.0761 - mean_absolute_error: 1.4433 - val_loss: 3.7972 - val_mean_absolute_error: 1.3774\n",
      "Epoch 86/500\n",
      "2338/2338 - 0s - loss: 4.0282 - mean_absolute_error: 1.4412 - val_loss: 4.9846 - val_mean_absolute_error: 1.6922\n",
      "Epoch 87/500\n",
      "2338/2338 - 0s - loss: 4.1040 - mean_absolute_error: 1.4542 - val_loss: 3.9563 - val_mean_absolute_error: 1.3829\n",
      "Epoch 88/500\n",
      "2338/2338 - 0s - loss: 4.0484 - mean_absolute_error: 1.4327 - val_loss: 5.0776 - val_mean_absolute_error: 1.7286\n",
      "Epoch 89/500\n",
      "2338/2338 - 0s - loss: 4.0675 - mean_absolute_error: 1.4398 - val_loss: 3.8749 - val_mean_absolute_error: 1.4592\n",
      "Epoch 90/500\n",
      "2338/2338 - 0s - loss: 3.9432 - mean_absolute_error: 1.4244 - val_loss: 4.0366 - val_mean_absolute_error: 1.4493\n",
      "Epoch 91/500\n",
      "2338/2338 - 0s - loss: 4.0069 - mean_absolute_error: 1.4332 - val_loss: 4.5589 - val_mean_absolute_error: 1.5125\n",
      "Epoch 92/500\n",
      "2338/2338 - 0s - loss: 4.0215 - mean_absolute_error: 1.4221 - val_loss: 4.3523 - val_mean_absolute_error: 1.5806\n",
      "Epoch 93/500\n",
      "2338/2338 - 0s - loss: 4.0401 - mean_absolute_error: 1.4331 - val_loss: 4.6961 - val_mean_absolute_error: 1.6617\n",
      "Epoch 94/500\n",
      "2338/2338 - 0s - loss: 4.0310 - mean_absolute_error: 1.4388 - val_loss: 4.8991 - val_mean_absolute_error: 1.6947\n",
      "Epoch 95/500\n",
      "2338/2338 - 0s - loss: 4.0401 - mean_absolute_error: 1.4388 - val_loss: 4.0665 - val_mean_absolute_error: 1.5185\n",
      "Epoch 96/500\n",
      "2338/2338 - 0s - loss: 3.9601 - mean_absolute_error: 1.4317 - val_loss: 5.3415 - val_mean_absolute_error: 1.6642\n",
      "Epoch 97/500\n",
      "2338/2338 - 0s - loss: 3.9893 - mean_absolute_error: 1.4274 - val_loss: 7.2404 - val_mean_absolute_error: 2.2213\n",
      "Epoch 98/500\n",
      "2338/2338 - 0s - loss: 4.0040 - mean_absolute_error: 1.4352 - val_loss: 4.6447 - val_mean_absolute_error: 1.6561\n",
      "Epoch 99/500\n",
      "2338/2338 - 0s - loss: 3.9581 - mean_absolute_error: 1.4199 - val_loss: 3.9152 - val_mean_absolute_error: 1.4113\n",
      "Epoch 100/500\n",
      "2338/2338 - 0s - loss: 4.0125 - mean_absolute_error: 1.4265 - val_loss: 4.3101 - val_mean_absolute_error: 1.4411\n",
      "Epoch 101/500\n",
      "2338/2338 - 0s - loss: 3.9337 - mean_absolute_error: 1.4158 - val_loss: 4.3791 - val_mean_absolute_error: 1.4576\n",
      "Epoch 102/500\n",
      "2338/2338 - 0s - loss: 3.8766 - mean_absolute_error: 1.4115 - val_loss: 5.3208 - val_mean_absolute_error: 1.6476\n",
      "Epoch 103/500\n",
      "2338/2338 - 0s - loss: 3.9177 - mean_absolute_error: 1.4145 - val_loss: 4.3440 - val_mean_absolute_error: 1.4683\n",
      "Epoch 104/500\n",
      "2338/2338 - 0s - loss: 3.9083 - mean_absolute_error: 1.4131 - val_loss: 4.0760 - val_mean_absolute_error: 1.4104\n",
      "Epoch 105/500\n",
      "2338/2338 - 0s - loss: 3.9108 - mean_absolute_error: 1.4123 - val_loss: 4.0574 - val_mean_absolute_error: 1.4120\n",
      "Epoch 106/500\n",
      "2338/2338 - 0s - loss: 3.9273 - mean_absolute_error: 1.4226 - val_loss: 3.9601 - val_mean_absolute_error: 1.3912\n",
      "Epoch 107/500\n",
      "2338/2338 - 0s - loss: 3.9167 - mean_absolute_error: 1.4158 - val_loss: 4.8492 - val_mean_absolute_error: 1.6383\n",
      "Epoch 108/500\n",
      "2338/2338 - 0s - loss: 3.8570 - mean_absolute_error: 1.3995 - val_loss: 3.9343 - val_mean_absolute_error: 1.4342\n",
      "Epoch 109/500\n",
      "2338/2338 - 0s - loss: 3.8628 - mean_absolute_error: 1.4148 - val_loss: 4.2240 - val_mean_absolute_error: 1.4507\n",
      "Epoch 110/500\n",
      "2338/2338 - 0s - loss: 3.8512 - mean_absolute_error: 1.4126 - val_loss: 4.3671 - val_mean_absolute_error: 1.4817\n",
      "Epoch 111/500\n",
      "2338/2338 - 0s - loss: 3.7908 - mean_absolute_error: 1.3916 - val_loss: 4.0069 - val_mean_absolute_error: 1.4827\n",
      "Epoch 112/500\n",
      "2338/2338 - 0s - loss: 3.8165 - mean_absolute_error: 1.3960 - val_loss: 4.2823 - val_mean_absolute_error: 1.4933\n",
      "Epoch 113/500\n",
      "2338/2338 - 0s - loss: 3.8969 - mean_absolute_error: 1.4065 - val_loss: 4.9698 - val_mean_absolute_error: 1.7107\n",
      "Epoch 114/500\n",
      "2338/2338 - 0s - loss: 3.8270 - mean_absolute_error: 1.3954 - val_loss: 3.8431 - val_mean_absolute_error: 1.4231\n",
      "Epoch 115/500\n",
      "2338/2338 - 0s - loss: 3.8703 - mean_absolute_error: 1.3930 - val_loss: 4.1004 - val_mean_absolute_error: 1.4384\n",
      "Epoch 116/500\n",
      "2338/2338 - 0s - loss: 3.7660 - mean_absolute_error: 1.3870 - val_loss: 3.9114 - val_mean_absolute_error: 1.4762\n",
      "Epoch 117/500\n",
      "2338/2338 - 0s - loss: 3.8130 - mean_absolute_error: 1.3988 - val_loss: 3.8867 - val_mean_absolute_error: 1.4149\n",
      "Epoch 118/500\n",
      "2338/2338 - 0s - loss: 3.7673 - mean_absolute_error: 1.4051 - val_loss: 4.1588 - val_mean_absolute_error: 1.4893\n",
      "Epoch 119/500\n",
      "2338/2338 - 0s - loss: 3.7984 - mean_absolute_error: 1.3968 - val_loss: 3.9145 - val_mean_absolute_error: 1.4150\n",
      "Epoch 120/500\n",
      "2338/2338 - 0s - loss: 3.8034 - mean_absolute_error: 1.3902 - val_loss: 4.1160 - val_mean_absolute_error: 1.5421\n",
      "Epoch 121/500\n",
      "2338/2338 - 0s - loss: 3.7606 - mean_absolute_error: 1.3808 - val_loss: 5.1179 - val_mean_absolute_error: 1.7323\n",
      "Epoch 122/500\n",
      "2338/2338 - 0s - loss: 3.7801 - mean_absolute_error: 1.3934 - val_loss: 4.5942 - val_mean_absolute_error: 1.5290\n",
      "Epoch 123/500\n",
      "2338/2338 - 0s - loss: 3.8077 - mean_absolute_error: 1.3934 - val_loss: 4.4229 - val_mean_absolute_error: 1.6014\n",
      "Epoch 124/500\n",
      "2338/2338 - 0s - loss: 3.7859 - mean_absolute_error: 1.3846 - val_loss: 4.0239 - val_mean_absolute_error: 1.4866\n"
     ]
    },
    {
     "name": "stdout",
     "output_type": "stream",
     "text": [
      "Epoch 125/500\n",
      "2338/2338 - 0s - loss: 3.7576 - mean_absolute_error: 1.3870 - val_loss: 4.2456 - val_mean_absolute_error: 1.5046\n",
      "Epoch 126/500\n",
      "2338/2338 - 0s - loss: 3.7259 - mean_absolute_error: 1.3823 - val_loss: 4.1364 - val_mean_absolute_error: 1.5212\n",
      "Epoch 127/500\n",
      "2338/2338 - 0s - loss: 3.6628 - mean_absolute_error: 1.3733 - val_loss: 4.2402 - val_mean_absolute_error: 1.5972\n",
      "Epoch 128/500\n",
      "2338/2338 - 0s - loss: 3.7183 - mean_absolute_error: 1.3949 - val_loss: 3.8625 - val_mean_absolute_error: 1.4058\n",
      "Epoch 129/500\n",
      "2338/2338 - 0s - loss: 3.7240 - mean_absolute_error: 1.3731 - val_loss: 4.0257 - val_mean_absolute_error: 1.4005\n",
      "Epoch 130/500\n",
      "2338/2338 - 0s - loss: 3.6438 - mean_absolute_error: 1.3728 - val_loss: 4.2708 - val_mean_absolute_error: 1.5374\n",
      "Epoch 131/500\n",
      "2338/2338 - 0s - loss: 3.6910 - mean_absolute_error: 1.3735 - val_loss: 3.9064 - val_mean_absolute_error: 1.4265\n",
      "Epoch 132/500\n",
      "2338/2338 - 0s - loss: 3.6907 - mean_absolute_error: 1.3676 - val_loss: 4.0136 - val_mean_absolute_error: 1.4957\n",
      "Epoch 133/500\n",
      "2338/2338 - 0s - loss: 3.6411 - mean_absolute_error: 1.3624 - val_loss: 4.1127 - val_mean_absolute_error: 1.4603\n",
      "Epoch 134/500\n",
      "2338/2338 - 0s - loss: 3.6984 - mean_absolute_error: 1.3680 - val_loss: 4.1837 - val_mean_absolute_error: 1.4637\n",
      "Epoch 135/500\n",
      "2338/2338 - 0s - loss: 3.6157 - mean_absolute_error: 1.3548 - val_loss: 4.5615 - val_mean_absolute_error: 1.6269\n",
      "Epoch 136/500\n",
      "2338/2338 - 0s - loss: 3.6541 - mean_absolute_error: 1.3647 - val_loss: 3.9553 - val_mean_absolute_error: 1.4439\n",
      "Epoch 137/500\n",
      "2338/2338 - 0s - loss: 3.6258 - mean_absolute_error: 1.3612 - val_loss: 4.1160 - val_mean_absolute_error: 1.4190\n",
      "Epoch 138/500\n",
      "2338/2338 - 0s - loss: 3.6411 - mean_absolute_error: 1.3688 - val_loss: 4.6432 - val_mean_absolute_error: 1.5171\n",
      "Epoch 139/500\n",
      "2338/2338 - 0s - loss: 3.6579 - mean_absolute_error: 1.3724 - val_loss: 6.7010 - val_mean_absolute_error: 1.9703\n",
      "Epoch 140/500\n",
      "2338/2338 - 0s - loss: 3.6314 - mean_absolute_error: 1.3775 - val_loss: 4.5571 - val_mean_absolute_error: 1.5053\n",
      "Epoch 141/500\n",
      "2338/2338 - 0s - loss: 3.5732 - mean_absolute_error: 1.3524 - val_loss: 4.2551 - val_mean_absolute_error: 1.4952\n",
      "Epoch 142/500\n",
      "2338/2338 - 0s - loss: 3.6152 - mean_absolute_error: 1.3650 - val_loss: 4.1284 - val_mean_absolute_error: 1.5166\n",
      "Epoch 143/500\n",
      "2338/2338 - 0s - loss: 3.5542 - mean_absolute_error: 1.3516 - val_loss: 4.2526 - val_mean_absolute_error: 1.5180\n",
      "Epoch 144/500\n",
      "2338/2338 - 0s - loss: 3.5599 - mean_absolute_error: 1.3524 - val_loss: 4.5030 - val_mean_absolute_error: 1.4737\n",
      "Epoch 145/500\n",
      "2338/2338 - 0s - loss: 3.5206 - mean_absolute_error: 1.3349 - val_loss: 4.0228 - val_mean_absolute_error: 1.4189\n",
      "Epoch 146/500\n",
      "2338/2338 - 0s - loss: 3.6041 - mean_absolute_error: 1.3586 - val_loss: 4.0958 - val_mean_absolute_error: 1.4484\n",
      "Epoch 147/500\n",
      "2338/2338 - 0s - loss: 3.6424 - mean_absolute_error: 1.3589 - val_loss: 3.7516 - val_mean_absolute_error: 1.3969\n",
      "Epoch 148/500\n",
      "2338/2338 - 0s - loss: 3.5140 - mean_absolute_error: 1.3504 - val_loss: 4.2096 - val_mean_absolute_error: 1.5358\n",
      "Epoch 149/500\n",
      "2338/2338 - 0s - loss: 3.5719 - mean_absolute_error: 1.3534 - val_loss: 4.5952 - val_mean_absolute_error: 1.6232\n",
      "Epoch 150/500\n",
      "2338/2338 - 0s - loss: 3.5785 - mean_absolute_error: 1.3529 - val_loss: 4.2512 - val_mean_absolute_error: 1.4696\n",
      "Epoch 151/500\n",
      "2338/2338 - 0s - loss: 3.4968 - mean_absolute_error: 1.3463 - val_loss: 3.9191 - val_mean_absolute_error: 1.3992\n",
      "Epoch 152/500\n",
      "2338/2338 - 0s - loss: 3.4836 - mean_absolute_error: 1.3396 - val_loss: 4.2033 - val_mean_absolute_error: 1.4547\n",
      "Epoch 153/500\n",
      "2338/2338 - 0s - loss: 3.5290 - mean_absolute_error: 1.3575 - val_loss: 5.5571 - val_mean_absolute_error: 1.7685\n",
      "Epoch 154/500\n",
      "2338/2338 - 0s - loss: 3.5305 - mean_absolute_error: 1.3481 - val_loss: 4.7104 - val_mean_absolute_error: 1.5246\n",
      "Epoch 155/500\n",
      "2338/2338 - 0s - loss: 3.5033 - mean_absolute_error: 1.3337 - val_loss: 4.3252 - val_mean_absolute_error: 1.4481\n",
      "Epoch 156/500\n",
      "2338/2338 - 0s - loss: 3.4705 - mean_absolute_error: 1.3394 - val_loss: 4.1650 - val_mean_absolute_error: 1.4495\n",
      "Epoch 157/500\n",
      "2338/2338 - 0s - loss: 3.4440 - mean_absolute_error: 1.3341 - val_loss: 4.1725 - val_mean_absolute_error: 1.4563\n",
      "Epoch 158/500\n",
      "2338/2338 - 0s - loss: 3.4566 - mean_absolute_error: 1.3321 - val_loss: 4.0238 - val_mean_absolute_error: 1.4344\n",
      "Epoch 159/500\n",
      "2338/2338 - 0s - loss: 3.4575 - mean_absolute_error: 1.3214 - val_loss: 4.5282 - val_mean_absolute_error: 1.5301\n",
      "Epoch 160/500\n",
      "2338/2338 - 0s - loss: 3.4336 - mean_absolute_error: 1.3158 - val_loss: 4.6918 - val_mean_absolute_error: 1.6130\n",
      "Epoch 161/500\n",
      "2338/2338 - 0s - loss: 3.4555 - mean_absolute_error: 1.3402 - val_loss: 5.1953 - val_mean_absolute_error: 1.6344\n",
      "Epoch 162/500\n",
      "2338/2338 - 0s - loss: 3.4691 - mean_absolute_error: 1.3352 - val_loss: 4.9858 - val_mean_absolute_error: 1.6748\n",
      "Epoch 163/500\n",
      "2338/2338 - 0s - loss: 3.4599 - mean_absolute_error: 1.3371 - val_loss: 3.7357 - val_mean_absolute_error: 1.3949\n",
      "Epoch 164/500\n",
      "2338/2338 - 0s - loss: 3.3763 - mean_absolute_error: 1.3179 - val_loss: 5.6339 - val_mean_absolute_error: 1.7595\n",
      "Epoch 165/500\n",
      "2338/2338 - 0s - loss: 3.4313 - mean_absolute_error: 1.3346 - val_loss: 4.3400 - val_mean_absolute_error: 1.5288\n",
      "Epoch 166/500\n",
      "2338/2338 - 0s - loss: 3.3477 - mean_absolute_error: 1.3141 - val_loss: 3.8747 - val_mean_absolute_error: 1.4424\n",
      "Epoch 167/500\n",
      "2338/2338 - 0s - loss: 3.3861 - mean_absolute_error: 1.3224 - val_loss: 4.5726 - val_mean_absolute_error: 1.5027\n",
      "Epoch 168/500\n",
      "2338/2338 - 0s - loss: 3.3902 - mean_absolute_error: 1.3194 - val_loss: 4.7945 - val_mean_absolute_error: 1.6535\n",
      "Epoch 169/500\n",
      "2338/2338 - 0s - loss: 3.4231 - mean_absolute_error: 1.3286 - val_loss: 6.8588 - val_mean_absolute_error: 1.9781\n",
      "Epoch 170/500\n",
      "2338/2338 - 0s - loss: 3.3479 - mean_absolute_error: 1.3172 - val_loss: 4.7834 - val_mean_absolute_error: 1.5600\n",
      "Epoch 171/500\n",
      "2338/2338 - 0s - loss: 3.3773 - mean_absolute_error: 1.3143 - val_loss: 4.0492 - val_mean_absolute_error: 1.4406\n",
      "Epoch 172/500\n",
      "2338/2338 - 0s - loss: 3.3155 - mean_absolute_error: 1.3049 - val_loss: 4.1637 - val_mean_absolute_error: 1.5116\n",
      "Epoch 173/500\n",
      "2338/2338 - 0s - loss: 3.3169 - mean_absolute_error: 1.3121 - val_loss: 4.6757 - val_mean_absolute_error: 1.6236\n",
      "Epoch 174/500\n",
      "2338/2338 - 0s - loss: 3.2895 - mean_absolute_error: 1.3022 - val_loss: 4.5460 - val_mean_absolute_error: 1.4925\n",
      "Epoch 175/500\n",
      "2338/2338 - 0s - loss: 3.3018 - mean_absolute_error: 1.3076 - val_loss: 4.0594 - val_mean_absolute_error: 1.4394\n",
      "Epoch 176/500\n",
      "2338/2338 - 0s - loss: 3.3154 - mean_absolute_error: 1.3079 - val_loss: 4.4359 - val_mean_absolute_error: 1.5459\n",
      "Epoch 177/500\n",
      "2338/2338 - 0s - loss: 3.3166 - mean_absolute_error: 1.3060 - val_loss: 5.4467 - val_mean_absolute_error: 1.7627\n",
      "Epoch 178/500\n",
      "2338/2338 - 0s - loss: 3.3392 - mean_absolute_error: 1.3118 - val_loss: 4.8168 - val_mean_absolute_error: 1.6115\n",
      "Epoch 179/500\n",
      "2338/2338 - 0s - loss: 3.2736 - mean_absolute_error: 1.2996 - val_loss: 4.1163 - val_mean_absolute_error: 1.4556\n",
      "Epoch 180/500\n",
      "2338/2338 - 0s - loss: 3.2158 - mean_absolute_error: 1.3010 - val_loss: 5.2926 - val_mean_absolute_error: 1.6719\n",
      "Epoch 181/500\n",
      "2338/2338 - 0s - loss: 3.3700 - mean_absolute_error: 1.3124 - val_loss: 4.1655 - val_mean_absolute_error: 1.4898\n",
      "Epoch 182/500\n",
      "2338/2338 - 0s - loss: 3.2560 - mean_absolute_error: 1.3004 - val_loss: 5.0262 - val_mean_absolute_error: 1.6992\n",
      "Epoch 183/500\n",
      "2338/2338 - 0s - loss: 3.2551 - mean_absolute_error: 1.3008 - val_loss: 5.8285 - val_mean_absolute_error: 1.8215\n",
      "Epoch 184/500\n",
      "2338/2338 - 0s - loss: 3.2334 - mean_absolute_error: 1.2995 - val_loss: 4.4626 - val_mean_absolute_error: 1.5459\n",
      "Epoch 185/500\n",
      "2338/2338 - 0s - loss: 3.2888 - mean_absolute_error: 1.3081 - val_loss: 4.3426 - val_mean_absolute_error: 1.4788\n",
      "Epoch 186/500\n",
      "2338/2338 - 0s - loss: 3.2514 - mean_absolute_error: 1.2963 - val_loss: 4.2801 - val_mean_absolute_error: 1.5293\n",
      "Epoch 187/500\n",
      "2338/2338 - 0s - loss: 3.2021 - mean_absolute_error: 1.2872 - val_loss: 4.8790 - val_mean_absolute_error: 1.6052\n",
      "Epoch 188/500\n",
      "2338/2338 - 0s - loss: 3.1501 - mean_absolute_error: 1.2805 - val_loss: 4.1361 - val_mean_absolute_error: 1.4677\n",
      "Epoch 189/500\n",
      "2338/2338 - 0s - loss: 3.2421 - mean_absolute_error: 1.2893 - val_loss: 4.9345 - val_mean_absolute_error: 1.6626\n"
     ]
    },
    {
     "name": "stdout",
     "output_type": "stream",
     "text": [
      "Epoch 190/500\n",
      "2338/2338 - 0s - loss: 3.2117 - mean_absolute_error: 1.2914 - val_loss: 4.0248 - val_mean_absolute_error: 1.4406\n",
      "Epoch 191/500\n",
      "2338/2338 - 0s - loss: 3.1672 - mean_absolute_error: 1.2761 - val_loss: 4.6818 - val_mean_absolute_error: 1.5689\n",
      "Epoch 192/500\n",
      "2338/2338 - 0s - loss: 3.2385 - mean_absolute_error: 1.2882 - val_loss: 4.6362 - val_mean_absolute_error: 1.5859\n",
      "Epoch 193/500\n",
      "2338/2338 - 0s - loss: 3.1438 - mean_absolute_error: 1.2716 - val_loss: 6.6220 - val_mean_absolute_error: 1.8985\n",
      "Epoch 194/500\n",
      "2338/2338 - 0s - loss: 3.1459 - mean_absolute_error: 1.2871 - val_loss: 6.2111 - val_mean_absolute_error: 1.8361\n",
      "Epoch 195/500\n",
      "2338/2338 - 0s - loss: 3.1311 - mean_absolute_error: 1.2864 - val_loss: 4.3548 - val_mean_absolute_error: 1.5320\n",
      "Epoch 196/500\n",
      "2338/2338 - 0s - loss: 3.1321 - mean_absolute_error: 1.2733 - val_loss: 4.9454 - val_mean_absolute_error: 1.5660\n",
      "Epoch 197/500\n",
      "2338/2338 - 0s - loss: 3.1524 - mean_absolute_error: 1.2877 - val_loss: 3.8863 - val_mean_absolute_error: 1.4262\n",
      "Epoch 198/500\n",
      "2338/2338 - 0s - loss: 3.1563 - mean_absolute_error: 1.2744 - val_loss: 3.9653 - val_mean_absolute_error: 1.4365\n",
      "Epoch 199/500\n",
      "2338/2338 - 0s - loss: 3.0163 - mean_absolute_error: 1.2550 - val_loss: 4.7603 - val_mean_absolute_error: 1.5312\n",
      "Epoch 200/500\n",
      "2338/2338 - 0s - loss: 3.1219 - mean_absolute_error: 1.2788 - val_loss: 4.2117 - val_mean_absolute_error: 1.4733\n",
      "Epoch 201/500\n",
      "2338/2338 - 0s - loss: 3.0857 - mean_absolute_error: 1.2621 - val_loss: 5.2375 - val_mean_absolute_error: 1.7113\n",
      "Epoch 202/500\n",
      "2338/2338 - 0s - loss: 3.0541 - mean_absolute_error: 1.2623 - val_loss: 4.3321 - val_mean_absolute_error: 1.5142\n",
      "Epoch 203/500\n",
      "2338/2338 - 0s - loss: 3.0815 - mean_absolute_error: 1.2710 - val_loss: 8.5414 - val_mean_absolute_error: 2.2266\n",
      "Epoch 204/500\n",
      "2338/2338 - 0s - loss: 3.0901 - mean_absolute_error: 1.2694 - val_loss: 4.0465 - val_mean_absolute_error: 1.4648\n",
      "Epoch 205/500\n",
      "2338/2338 - 0s - loss: 3.1197 - mean_absolute_error: 1.2719 - val_loss: 4.2713 - val_mean_absolute_error: 1.4999\n",
      "Epoch 206/500\n",
      "2338/2338 - 0s - loss: 2.9906 - mean_absolute_error: 1.2483 - val_loss: 3.9074 - val_mean_absolute_error: 1.4259\n",
      "Epoch 207/500\n",
      "2338/2338 - 0s - loss: 3.0919 - mean_absolute_error: 1.2645 - val_loss: 4.5440 - val_mean_absolute_error: 1.5307\n",
      "Epoch 208/500\n",
      "2338/2338 - 0s - loss: 3.0905 - mean_absolute_error: 1.2615 - val_loss: 4.1327 - val_mean_absolute_error: 1.4441\n",
      "Epoch 209/500\n",
      "2338/2338 - 0s - loss: 3.0019 - mean_absolute_error: 1.2481 - val_loss: 4.8410 - val_mean_absolute_error: 1.5600\n",
      "Epoch 210/500\n",
      "2338/2338 - 0s - loss: 3.1026 - mean_absolute_error: 1.2633 - val_loss: 4.1477 - val_mean_absolute_error: 1.4447\n",
      "Epoch 211/500\n",
      "2338/2338 - 0s - loss: 2.9863 - mean_absolute_error: 1.2479 - val_loss: 5.6699 - val_mean_absolute_error: 1.7701\n",
      "Epoch 212/500\n",
      "2338/2338 - 0s - loss: 3.0388 - mean_absolute_error: 1.2553 - val_loss: 4.8164 - val_mean_absolute_error: 1.5490\n",
      "Epoch 213/500\n",
      "2338/2338 - 0s - loss: 3.0162 - mean_absolute_error: 1.2516 - val_loss: 5.1496 - val_mean_absolute_error: 1.6949\n",
      "Epoch 214/500\n",
      "2338/2338 - 0s - loss: 2.9745 - mean_absolute_error: 1.2523 - val_loss: 4.2671 - val_mean_absolute_error: 1.4617\n",
      "Epoch 215/500\n",
      "2338/2338 - 0s - loss: 2.9698 - mean_absolute_error: 1.2439 - val_loss: 5.2249 - val_mean_absolute_error: 1.6791\n",
      "Epoch 216/500\n",
      "2338/2338 - 0s - loss: 2.9282 - mean_absolute_error: 1.2414 - val_loss: 4.3925 - val_mean_absolute_error: 1.4964\n",
      "Epoch 217/500\n",
      "2338/2338 - 0s - loss: 2.9668 - mean_absolute_error: 1.2437 - val_loss: 5.0850 - val_mean_absolute_error: 1.5852\n",
      "Epoch 218/500\n",
      "2338/2338 - 0s - loss: 2.9377 - mean_absolute_error: 1.2467 - val_loss: 4.0924 - val_mean_absolute_error: 1.4628\n",
      "Epoch 219/500\n",
      "2338/2338 - 0s - loss: 2.9401 - mean_absolute_error: 1.2387 - val_loss: 4.6697 - val_mean_absolute_error: 1.5971\n",
      "Epoch 220/500\n",
      "2338/2338 - 0s - loss: 2.9680 - mean_absolute_error: 1.2442 - val_loss: 4.3623 - val_mean_absolute_error: 1.4927\n",
      "Epoch 221/500\n",
      "2338/2338 - 0s - loss: 2.9246 - mean_absolute_error: 1.2343 - val_loss: 4.8331 - val_mean_absolute_error: 1.5569\n",
      "Epoch 222/500\n",
      "2338/2338 - 0s - loss: 2.9040 - mean_absolute_error: 1.2335 - val_loss: 4.4263 - val_mean_absolute_error: 1.5187\n",
      "Epoch 223/500\n",
      "2338/2338 - 0s - loss: 2.8867 - mean_absolute_error: 1.2395 - val_loss: 4.3484 - val_mean_absolute_error: 1.4637\n",
      "Epoch 224/500\n",
      "2338/2338 - 0s - loss: 2.8939 - mean_absolute_error: 1.2224 - val_loss: 4.5067 - val_mean_absolute_error: 1.5270\n",
      "Epoch 225/500\n",
      "2338/2338 - 0s - loss: 2.9043 - mean_absolute_error: 1.2386 - val_loss: 4.5246 - val_mean_absolute_error: 1.5996\n",
      "Epoch 226/500\n",
      "2338/2338 - 0s - loss: 2.8531 - mean_absolute_error: 1.2270 - val_loss: 4.6445 - val_mean_absolute_error: 1.5053\n",
      "Epoch 227/500\n",
      "2338/2338 - 0s - loss: 2.9558 - mean_absolute_error: 1.2422 - val_loss: 4.2620 - val_mean_absolute_error: 1.4632\n",
      "Epoch 228/500\n",
      "2338/2338 - 0s - loss: 2.8086 - mean_absolute_error: 1.2131 - val_loss: 4.7181 - val_mean_absolute_error: 1.5611\n",
      "Epoch 229/500\n",
      "2338/2338 - 0s - loss: 2.8400 - mean_absolute_error: 1.2215 - val_loss: 5.1425 - val_mean_absolute_error: 1.7144\n",
      "Epoch 230/500\n",
      "2338/2338 - 0s - loss: 2.9001 - mean_absolute_error: 1.2321 - val_loss: 4.2093 - val_mean_absolute_error: 1.4390\n",
      "Epoch 231/500\n",
      "2338/2338 - 0s - loss: 2.8436 - mean_absolute_error: 1.2256 - val_loss: 4.3609 - val_mean_absolute_error: 1.4682\n",
      "Epoch 232/500\n",
      "2338/2338 - 0s - loss: 2.8916 - mean_absolute_error: 1.2290 - val_loss: 7.6786 - val_mean_absolute_error: 2.0008\n",
      "Epoch 233/500\n",
      "2338/2338 - 0s - loss: 2.8616 - mean_absolute_error: 1.2219 - val_loss: 4.3596 - val_mean_absolute_error: 1.5374\n",
      "Epoch 234/500\n",
      "2338/2338 - 0s - loss: 2.8559 - mean_absolute_error: 1.2381 - val_loss: 4.5779 - val_mean_absolute_error: 1.5061\n",
      "Epoch 235/500\n",
      "2338/2338 - 0s - loss: 2.7917 - mean_absolute_error: 1.2090 - val_loss: 4.2840 - val_mean_absolute_error: 1.5191\n",
      "Epoch 236/500\n",
      "2338/2338 - 0s - loss: 2.8429 - mean_absolute_error: 1.2197 - val_loss: 4.4376 - val_mean_absolute_error: 1.5458\n",
      "Epoch 237/500\n",
      "2338/2338 - 0s - loss: 2.8609 - mean_absolute_error: 1.2167 - val_loss: 4.9238 - val_mean_absolute_error: 1.5656\n",
      "Epoch 238/500\n",
      "2338/2338 - 0s - loss: 2.8057 - mean_absolute_error: 1.2162 - val_loss: 4.1241 - val_mean_absolute_error: 1.4511\n",
      "Epoch 239/500\n",
      "2338/2338 - 0s - loss: 2.7718 - mean_absolute_error: 1.2041 - val_loss: 4.4360 - val_mean_absolute_error: 1.4897\n",
      "Epoch 240/500\n",
      "2338/2338 - 0s - loss: 2.8144 - mean_absolute_error: 1.2129 - val_loss: 4.6007 - val_mean_absolute_error: 1.5385\n",
      "Epoch 241/500\n",
      "2338/2338 - 0s - loss: 2.7674 - mean_absolute_error: 1.2045 - val_loss: 4.2467 - val_mean_absolute_error: 1.4727\n",
      "Epoch 242/500\n",
      "2338/2338 - 0s - loss: 2.7703 - mean_absolute_error: 1.2041 - val_loss: 4.7339 - val_mean_absolute_error: 1.5653\n",
      "Epoch 243/500\n",
      "2338/2338 - 0s - loss: 2.7568 - mean_absolute_error: 1.2050 - val_loss: 6.7964 - val_mean_absolute_error: 1.8209\n",
      "Epoch 244/500\n",
      "2338/2338 - 0s - loss: 2.7561 - mean_absolute_error: 1.2065 - val_loss: 4.5024 - val_mean_absolute_error: 1.5334\n",
      "Epoch 245/500\n",
      "2338/2338 - 0s - loss: 2.7809 - mean_absolute_error: 1.2079 - val_loss: 4.3258 - val_mean_absolute_error: 1.4521\n",
      "Epoch 246/500\n",
      "2338/2338 - 0s - loss: 2.7428 - mean_absolute_error: 1.2066 - val_loss: 7.3841 - val_mean_absolute_error: 1.8970\n",
      "Epoch 247/500\n",
      "2338/2338 - 0s - loss: 2.7847 - mean_absolute_error: 1.2036 - val_loss: 4.2643 - val_mean_absolute_error: 1.4680\n",
      "Epoch 248/500\n",
      "2338/2338 - 0s - loss: 2.7031 - mean_absolute_error: 1.1908 - val_loss: 4.6944 - val_mean_absolute_error: 1.6033\n",
      "Epoch 249/500\n",
      "2338/2338 - 0s - loss: 2.6661 - mean_absolute_error: 1.1872 - val_loss: 4.4754 - val_mean_absolute_error: 1.5113\n",
      "Epoch 250/500\n",
      "2338/2338 - 0s - loss: 2.6969 - mean_absolute_error: 1.2011 - val_loss: 8.4711 - val_mean_absolute_error: 2.1569\n",
      "Epoch 251/500\n",
      "2338/2338 - 0s - loss: 2.8024 - mean_absolute_error: 1.2189 - val_loss: 4.4662 - val_mean_absolute_error: 1.4852\n",
      "Epoch 252/500\n",
      "2338/2338 - 0s - loss: 2.6696 - mean_absolute_error: 1.1853 - val_loss: 4.5382 - val_mean_absolute_error: 1.4969\n",
      "Epoch 253/500\n",
      "2338/2338 - 0s - loss: 2.7044 - mean_absolute_error: 1.1851 - val_loss: 6.2050 - val_mean_absolute_error: 1.7992\n",
      "Epoch 254/500\n",
      "2338/2338 - 0s - loss: 2.6847 - mean_absolute_error: 1.1994 - val_loss: 4.4471 - val_mean_absolute_error: 1.4845\n"
     ]
    },
    {
     "name": "stdout",
     "output_type": "stream",
     "text": [
      "Epoch 255/500\n",
      "2338/2338 - 0s - loss: 2.7946 - mean_absolute_error: 1.2014 - val_loss: 6.1382 - val_mean_absolute_error: 1.7651\n",
      "Epoch 256/500\n",
      "2338/2338 - 0s - loss: 2.7079 - mean_absolute_error: 1.1939 - val_loss: 4.6429 - val_mean_absolute_error: 1.5470\n",
      "Epoch 257/500\n",
      "2338/2338 - 0s - loss: 2.6502 - mean_absolute_error: 1.1893 - val_loss: 5.0026 - val_mean_absolute_error: 1.5626\n",
      "Epoch 258/500\n",
      "2338/2338 - 0s - loss: 2.6833 - mean_absolute_error: 1.1928 - val_loss: 4.5431 - val_mean_absolute_error: 1.5233\n",
      "Epoch 259/500\n",
      "2338/2338 - 0s - loss: 2.6349 - mean_absolute_error: 1.1845 - val_loss: 4.7398 - val_mean_absolute_error: 1.5392\n",
      "Epoch 260/500\n",
      "2338/2338 - 0s - loss: 2.6591 - mean_absolute_error: 1.1838 - val_loss: 4.2787 - val_mean_absolute_error: 1.4861\n",
      "Epoch 261/500\n",
      "2338/2338 - 0s - loss: 2.6085 - mean_absolute_error: 1.1803 - val_loss: 5.0467 - val_mean_absolute_error: 1.6579\n",
      "Epoch 262/500\n",
      "2338/2338 - 0s - loss: 2.6241 - mean_absolute_error: 1.1772 - val_loss: 4.7582 - val_mean_absolute_error: 1.6145\n",
      "Epoch 263/500\n",
      "2338/2338 - 0s - loss: 2.5951 - mean_absolute_error: 1.1698 - val_loss: 4.6818 - val_mean_absolute_error: 1.5536\n",
      "Epoch 264/500\n",
      "2338/2338 - 0s - loss: 2.6502 - mean_absolute_error: 1.1821 - val_loss: 4.6372 - val_mean_absolute_error: 1.4919\n",
      "Epoch 265/500\n",
      "2338/2338 - 0s - loss: 2.6118 - mean_absolute_error: 1.1752 - val_loss: 4.2088 - val_mean_absolute_error: 1.4501\n",
      "Epoch 266/500\n",
      "2338/2338 - 0s - loss: 2.5847 - mean_absolute_error: 1.1659 - val_loss: 4.3671 - val_mean_absolute_error: 1.4864\n",
      "Epoch 267/500\n",
      "2338/2338 - 0s - loss: 2.6155 - mean_absolute_error: 1.1774 - val_loss: 5.9520 - val_mean_absolute_error: 1.7515\n",
      "Epoch 268/500\n",
      "2338/2338 - 0s - loss: 2.6075 - mean_absolute_error: 1.1857 - val_loss: 4.7905 - val_mean_absolute_error: 1.5735\n",
      "Epoch 269/500\n",
      "2338/2338 - 0s - loss: 2.5493 - mean_absolute_error: 1.1749 - val_loss: 4.3256 - val_mean_absolute_error: 1.5107\n",
      "Epoch 270/500\n",
      "2338/2338 - 0s - loss: 2.5771 - mean_absolute_error: 1.1685 - val_loss: 4.1913 - val_mean_absolute_error: 1.4517\n",
      "Epoch 271/500\n",
      "2338/2338 - 0s - loss: 2.5335 - mean_absolute_error: 1.1613 - val_loss: 4.2959 - val_mean_absolute_error: 1.4918\n",
      "Epoch 272/500\n",
      "2338/2338 - 0s - loss: 2.5361 - mean_absolute_error: 1.1641 - val_loss: 4.9297 - val_mean_absolute_error: 1.5936\n",
      "Epoch 273/500\n",
      "2338/2338 - 0s - loss: 2.4947 - mean_absolute_error: 1.1588 - val_loss: 4.3457 - val_mean_absolute_error: 1.4524\n",
      "Epoch 274/500\n",
      "2338/2338 - 0s - loss: 2.5407 - mean_absolute_error: 1.1649 - val_loss: 4.6623 - val_mean_absolute_error: 1.5281\n",
      "Epoch 275/500\n",
      "2338/2338 - 0s - loss: 2.4952 - mean_absolute_error: 1.1629 - val_loss: 4.9478 - val_mean_absolute_error: 1.6032\n",
      "Epoch 276/500\n",
      "2338/2338 - 0s - loss: 2.4675 - mean_absolute_error: 1.1528 - val_loss: 6.2975 - val_mean_absolute_error: 1.8025\n",
      "Epoch 277/500\n",
      "2338/2338 - 0s - loss: 2.5358 - mean_absolute_error: 1.1698 - val_loss: 4.4640 - val_mean_absolute_error: 1.4909\n",
      "Epoch 278/500\n",
      "2338/2338 - 0s - loss: 2.5445 - mean_absolute_error: 1.1634 - val_loss: 5.2156 - val_mean_absolute_error: 1.5871\n",
      "Epoch 279/500\n",
      "2338/2338 - 0s - loss: 2.5082 - mean_absolute_error: 1.1588 - val_loss: 8.0908 - val_mean_absolute_error: 2.0001\n",
      "Epoch 280/500\n",
      "2338/2338 - 0s - loss: 2.5350 - mean_absolute_error: 1.1538 - val_loss: 4.5005 - val_mean_absolute_error: 1.5246\n",
      "Epoch 281/500\n",
      "2338/2338 - 0s - loss: 2.4839 - mean_absolute_error: 1.1585 - val_loss: 4.4288 - val_mean_absolute_error: 1.4912\n",
      "Epoch 282/500\n",
      "2338/2338 - 0s - loss: 2.4736 - mean_absolute_error: 1.1476 - val_loss: 4.9682 - val_mean_absolute_error: 1.5590\n",
      "Epoch 283/500\n",
      "2338/2338 - 0s - loss: 2.5431 - mean_absolute_error: 1.1655 - val_loss: 6.5669 - val_mean_absolute_error: 1.8021\n",
      "Epoch 284/500\n",
      "2338/2338 - 0s - loss: 2.4492 - mean_absolute_error: 1.1424 - val_loss: 5.3829 - val_mean_absolute_error: 1.6805\n",
      "Epoch 285/500\n",
      "2338/2338 - 0s - loss: 2.5644 - mean_absolute_error: 1.1624 - val_loss: 4.6748 - val_mean_absolute_error: 1.5072\n",
      "Epoch 286/500\n",
      "2338/2338 - 0s - loss: 2.4637 - mean_absolute_error: 1.1390 - val_loss: 4.1389 - val_mean_absolute_error: 1.4608\n",
      "Epoch 287/500\n",
      "2338/2338 - 0s - loss: 2.4864 - mean_absolute_error: 1.1473 - val_loss: 5.6683 - val_mean_absolute_error: 1.7916\n",
      "Epoch 288/500\n",
      "2338/2338 - 0s - loss: 2.4667 - mean_absolute_error: 1.1551 - val_loss: 4.8888 - val_mean_absolute_error: 1.5768\n",
      "Epoch 289/500\n",
      "2338/2338 - 0s - loss: 2.4446 - mean_absolute_error: 1.1479 - val_loss: 4.7426 - val_mean_absolute_error: 1.5331\n",
      "Epoch 290/500\n",
      "2338/2338 - 0s - loss: 2.4295 - mean_absolute_error: 1.1365 - val_loss: 5.0511 - val_mean_absolute_error: 1.6144\n",
      "Epoch 291/500\n",
      "2338/2338 - 0s - loss: 2.3840 - mean_absolute_error: 1.1324 - val_loss: 4.8390 - val_mean_absolute_error: 1.5604\n",
      "Epoch 292/500\n",
      "2338/2338 - 0s - loss: 2.4242 - mean_absolute_error: 1.1410 - val_loss: 4.5372 - val_mean_absolute_error: 1.5414\n",
      "Epoch 293/500\n",
      "2338/2338 - 0s - loss: 2.4445 - mean_absolute_error: 1.1485 - val_loss: 5.1602 - val_mean_absolute_error: 1.6007\n",
      "Epoch 294/500\n",
      "2338/2338 - 0s - loss: 2.4637 - mean_absolute_error: 1.1464 - val_loss: 4.2730 - val_mean_absolute_error: 1.4766\n",
      "Epoch 295/500\n",
      "2338/2338 - 0s - loss: 2.4138 - mean_absolute_error: 1.1483 - val_loss: 4.3840 - val_mean_absolute_error: 1.5148\n",
      "Epoch 296/500\n",
      "2338/2338 - 0s - loss: 2.4644 - mean_absolute_error: 1.1426 - val_loss: 4.4385 - val_mean_absolute_error: 1.5047\n",
      "Epoch 297/500\n",
      "2338/2338 - 0s - loss: 2.4109 - mean_absolute_error: 1.1318 - val_loss: 5.1882 - val_mean_absolute_error: 1.6386\n",
      "Epoch 298/500\n",
      "2338/2338 - 0s - loss: 2.3817 - mean_absolute_error: 1.1379 - val_loss: 4.8258 - val_mean_absolute_error: 1.5873\n",
      "Epoch 299/500\n",
      "2338/2338 - 0s - loss: 2.3044 - mean_absolute_error: 1.1294 - val_loss: 4.5081 - val_mean_absolute_error: 1.4976\n",
      "Epoch 300/500\n",
      "2338/2338 - 0s - loss: 2.3821 - mean_absolute_error: 1.1397 - val_loss: 6.1589 - val_mean_absolute_error: 1.7156\n",
      "Epoch 301/500\n",
      "2338/2338 - 0s - loss: 2.3336 - mean_absolute_error: 1.1294 - val_loss: 4.7065 - val_mean_absolute_error: 1.5587\n",
      "Epoch 302/500\n",
      "2338/2338 - 0s - loss: 2.3651 - mean_absolute_error: 1.1333 - val_loss: 7.8656 - val_mean_absolute_error: 2.0290\n",
      "Epoch 303/500\n",
      "2338/2338 - 0s - loss: 2.4257 - mean_absolute_error: 1.1520 - val_loss: 4.7031 - val_mean_absolute_error: 1.5237\n",
      "Epoch 304/500\n",
      "2338/2338 - 0s - loss: 2.3081 - mean_absolute_error: 1.1245 - val_loss: 4.4920 - val_mean_absolute_error: 1.5050\n",
      "Epoch 305/500\n",
      "2338/2338 - 0s - loss: 2.3446 - mean_absolute_error: 1.1280 - val_loss: 5.1086 - val_mean_absolute_error: 1.6237\n",
      "Epoch 306/500\n",
      "2338/2338 - 0s - loss: 2.3245 - mean_absolute_error: 1.1118 - val_loss: 4.8023 - val_mean_absolute_error: 1.5817\n",
      "Epoch 307/500\n",
      "2338/2338 - 0s - loss: 2.3131 - mean_absolute_error: 1.1223 - val_loss: 8.9140 - val_mean_absolute_error: 2.1223\n",
      "Epoch 308/500\n",
      "2338/2338 - 0s - loss: 2.4002 - mean_absolute_error: 1.1398 - val_loss: 5.0948 - val_mean_absolute_error: 1.6005\n",
      "Epoch 309/500\n",
      "2338/2338 - 0s - loss: 2.3233 - mean_absolute_error: 1.1168 - val_loss: 4.5987 - val_mean_absolute_error: 1.5432\n",
      "Epoch 310/500\n",
      "2338/2338 - 0s - loss: 2.3684 - mean_absolute_error: 1.1316 - val_loss: 5.2922 - val_mean_absolute_error: 1.6603\n",
      "Epoch 311/500\n",
      "2338/2338 - 0s - loss: 2.3056 - mean_absolute_error: 1.1276 - val_loss: 4.8216 - val_mean_absolute_error: 1.5601\n",
      "Epoch 312/500\n",
      "2338/2338 - 0s - loss: 2.2715 - mean_absolute_error: 1.1046 - val_loss: 7.3677 - val_mean_absolute_error: 1.9251\n",
      "Epoch 313/500\n",
      "2338/2338 - 0s - loss: 2.3465 - mean_absolute_error: 1.1221 - val_loss: 4.6980 - val_mean_absolute_error: 1.5295\n",
      "Epoch 314/500\n",
      "2338/2338 - 0s - loss: 2.3302 - mean_absolute_error: 1.1277 - val_loss: 4.7377 - val_mean_absolute_error: 1.5223\n",
      "Epoch 315/500\n",
      "2338/2338 - 0s - loss: 2.2991 - mean_absolute_error: 1.1118 - val_loss: 4.7785 - val_mean_absolute_error: 1.5704\n",
      "Epoch 316/500\n",
      "2338/2338 - 0s - loss: 2.2983 - mean_absolute_error: 1.1108 - val_loss: 5.6760 - val_mean_absolute_error: 1.7101\n",
      "Epoch 317/500\n",
      "2338/2338 - 0s - loss: 2.2997 - mean_absolute_error: 1.1036 - val_loss: 5.5958 - val_mean_absolute_error: 1.7281\n",
      "Epoch 318/500\n",
      "2338/2338 - 0s - loss: 2.2848 - mean_absolute_error: 1.1149 - val_loss: 5.1572 - val_mean_absolute_error: 1.6045\n",
      "Epoch 319/500\n",
      "2338/2338 - 0s - loss: 2.2647 - mean_absolute_error: 1.1130 - val_loss: 4.7736 - val_mean_absolute_error: 1.5695\n"
     ]
    },
    {
     "name": "stdout",
     "output_type": "stream",
     "text": [
      "Epoch 320/500\n",
      "2338/2338 - 0s - loss: 2.2747 - mean_absolute_error: 1.1073 - val_loss: 4.4042 - val_mean_absolute_error: 1.5275\n",
      "Epoch 321/500\n",
      "2338/2338 - 0s - loss: 2.2715 - mean_absolute_error: 1.1064 - val_loss: 4.5707 - val_mean_absolute_error: 1.5416\n",
      "Epoch 322/500\n",
      "2338/2338 - 0s - loss: 2.3055 - mean_absolute_error: 1.1087 - val_loss: 4.8200 - val_mean_absolute_error: 1.5618\n",
      "Epoch 323/500\n",
      "2338/2338 - 0s - loss: 2.2683 - mean_absolute_error: 1.1054 - val_loss: 5.5817 - val_mean_absolute_error: 1.7441\n",
      "Epoch 324/500\n",
      "2338/2338 - 0s - loss: 2.1909 - mean_absolute_error: 1.0892 - val_loss: 4.6522 - val_mean_absolute_error: 1.5432\n",
      "Epoch 325/500\n",
      "2338/2338 - 0s - loss: 2.2476 - mean_absolute_error: 1.1070 - val_loss: 5.0570 - val_mean_absolute_error: 1.6092\n",
      "Epoch 326/500\n",
      "2338/2338 - 0s - loss: 2.2815 - mean_absolute_error: 1.0992 - val_loss: 5.0782 - val_mean_absolute_error: 1.5658\n",
      "Epoch 327/500\n",
      "2338/2338 - 0s - loss: 2.2389 - mean_absolute_error: 1.0969 - val_loss: 6.5877 - val_mean_absolute_error: 1.7521\n",
      "Epoch 328/500\n",
      "2338/2338 - 0s - loss: 2.2238 - mean_absolute_error: 1.1012 - val_loss: 5.2335 - val_mean_absolute_error: 1.6595\n",
      "Epoch 329/500\n",
      "2338/2338 - 0s - loss: 2.2504 - mean_absolute_error: 1.1072 - val_loss: 5.2590 - val_mean_absolute_error: 1.5910\n",
      "Epoch 330/500\n",
      "2338/2338 - 0s - loss: 2.2566 - mean_absolute_error: 1.1034 - val_loss: 5.6475 - val_mean_absolute_error: 1.6624\n",
      "Epoch 331/500\n",
      "2338/2338 - 0s - loss: 2.2432 - mean_absolute_error: 1.0899 - val_loss: 5.3115 - val_mean_absolute_error: 1.5802\n",
      "Epoch 332/500\n",
      "2338/2338 - 0s - loss: 2.2192 - mean_absolute_error: 1.0972 - val_loss: 6.6021 - val_mean_absolute_error: 1.8566\n",
      "Epoch 333/500\n",
      "2338/2338 - 0s - loss: 2.3056 - mean_absolute_error: 1.1251 - val_loss: 4.6574 - val_mean_absolute_error: 1.5406\n",
      "Epoch 334/500\n",
      "2338/2338 - 0s - loss: 2.1842 - mean_absolute_error: 1.0819 - val_loss: 5.5552 - val_mean_absolute_error: 1.6895\n",
      "Epoch 335/500\n",
      "2338/2338 - 0s - loss: 2.2244 - mean_absolute_error: 1.0837 - val_loss: 5.1119 - val_mean_absolute_error: 1.5820\n",
      "Epoch 336/500\n",
      "2338/2338 - 0s - loss: 2.2278 - mean_absolute_error: 1.1035 - val_loss: 5.6323 - val_mean_absolute_error: 1.6785\n",
      "Epoch 337/500\n",
      "2338/2338 - 0s - loss: 2.2103 - mean_absolute_error: 1.0939 - val_loss: 4.6411 - val_mean_absolute_error: 1.5244\n",
      "Epoch 338/500\n",
      "2338/2338 - 0s - loss: 2.2214 - mean_absolute_error: 1.0995 - val_loss: 5.3686 - val_mean_absolute_error: 1.6543\n",
      "Epoch 339/500\n",
      "2338/2338 - 0s - loss: 2.2395 - mean_absolute_error: 1.0978 - val_loss: 5.5206 - val_mean_absolute_error: 1.7171\n",
      "Epoch 340/500\n",
      "2338/2338 - 0s - loss: 2.1826 - mean_absolute_error: 1.0906 - val_loss: 5.1702 - val_mean_absolute_error: 1.6155\n",
      "Epoch 341/500\n",
      "2338/2338 - 0s - loss: 2.2129 - mean_absolute_error: 1.1009 - val_loss: 4.8663 - val_mean_absolute_error: 1.5695\n",
      "Epoch 342/500\n",
      "2338/2338 - 0s - loss: 2.2098 - mean_absolute_error: 1.0791 - val_loss: 4.7492 - val_mean_absolute_error: 1.5408\n",
      "Epoch 343/500\n",
      "2338/2338 - 0s - loss: 2.1634 - mean_absolute_error: 1.0886 - val_loss: 5.1209 - val_mean_absolute_error: 1.5943\n",
      "Epoch 344/500\n",
      "2338/2338 - 0s - loss: 2.1152 - mean_absolute_error: 1.0746 - val_loss: 4.9866 - val_mean_absolute_error: 1.6322\n",
      "Epoch 345/500\n",
      "2338/2338 - 0s - loss: 2.1044 - mean_absolute_error: 1.0730 - val_loss: 4.9193 - val_mean_absolute_error: 1.5795\n",
      "Epoch 346/500\n",
      "2338/2338 - 0s - loss: 2.1475 - mean_absolute_error: 1.0810 - val_loss: 4.7833 - val_mean_absolute_error: 1.5711\n",
      "Epoch 347/500\n",
      "2338/2338 - 0s - loss: 2.1278 - mean_absolute_error: 1.0874 - val_loss: 4.6822 - val_mean_absolute_error: 1.5518\n",
      "Epoch 348/500\n",
      "2338/2338 - 0s - loss: 2.1447 - mean_absolute_error: 1.0814 - val_loss: 6.9771 - val_mean_absolute_error: 1.9093\n",
      "Epoch 349/500\n",
      "2338/2338 - 0s - loss: 2.0997 - mean_absolute_error: 1.0703 - val_loss: 4.9886 - val_mean_absolute_error: 1.5794\n",
      "Epoch 350/500\n",
      "2338/2338 - 0s - loss: 2.1175 - mean_absolute_error: 1.0773 - val_loss: 4.9197 - val_mean_absolute_error: 1.5495\n",
      "Epoch 351/500\n",
      "2338/2338 - 0s - loss: 2.0613 - mean_absolute_error: 1.0651 - val_loss: 5.3310 - val_mean_absolute_error: 1.6591\n",
      "Epoch 352/500\n",
      "2338/2338 - 0s - loss: 2.1253 - mean_absolute_error: 1.0867 - val_loss: 4.6190 - val_mean_absolute_error: 1.5328\n",
      "Epoch 353/500\n",
      "2338/2338 - 0s - loss: 2.0657 - mean_absolute_error: 1.0678 - val_loss: 5.1216 - val_mean_absolute_error: 1.6008\n",
      "Epoch 354/500\n",
      "2338/2338 - 0s - loss: 2.1014 - mean_absolute_error: 1.0679 - val_loss: 4.8945 - val_mean_absolute_error: 1.5889\n",
      "Epoch 355/500\n",
      "2338/2338 - 0s - loss: 2.1406 - mean_absolute_error: 1.0774 - val_loss: 6.3370 - val_mean_absolute_error: 1.8014\n",
      "Epoch 356/500\n",
      "2338/2338 - 0s - loss: 2.1589 - mean_absolute_error: 1.0743 - val_loss: 4.9463 - val_mean_absolute_error: 1.5907\n",
      "Epoch 357/500\n",
      "2338/2338 - 0s - loss: 2.0679 - mean_absolute_error: 1.0640 - val_loss: 5.6632 - val_mean_absolute_error: 1.7002\n",
      "Epoch 358/500\n",
      "2338/2338 - 0s - loss: 2.0930 - mean_absolute_error: 1.0617 - val_loss: 4.8551 - val_mean_absolute_error: 1.5502\n",
      "Epoch 359/500\n",
      "2338/2338 - 0s - loss: 2.0394 - mean_absolute_error: 1.0641 - val_loss: 4.8040 - val_mean_absolute_error: 1.5446\n",
      "Epoch 360/500\n",
      "2338/2338 - 0s - loss: 2.0859 - mean_absolute_error: 1.0590 - val_loss: 4.9737 - val_mean_absolute_error: 1.5724\n",
      "Epoch 361/500\n",
      "2338/2338 - 0s - loss: 2.0866 - mean_absolute_error: 1.0629 - val_loss: 4.8798 - val_mean_absolute_error: 1.5579\n",
      "Epoch 362/500\n",
      "2338/2338 - 0s - loss: 2.0260 - mean_absolute_error: 1.0589 - val_loss: 4.6502 - val_mean_absolute_error: 1.5212\n",
      "Epoch 363/500\n",
      "2338/2338 - 0s - loss: 2.0651 - mean_absolute_error: 1.0625 - val_loss: 6.1228 - val_mean_absolute_error: 1.7340\n",
      "Epoch 364/500\n",
      "2338/2338 - 0s - loss: 2.1010 - mean_absolute_error: 1.0698 - val_loss: 6.4066 - val_mean_absolute_error: 1.7677\n",
      "Epoch 365/500\n",
      "2338/2338 - 0s - loss: 1.9853 - mean_absolute_error: 1.0323 - val_loss: 4.9136 - val_mean_absolute_error: 1.5598\n",
      "Epoch 366/500\n",
      "2338/2338 - 0s - loss: 2.0773 - mean_absolute_error: 1.0617 - val_loss: 6.3581 - val_mean_absolute_error: 1.7537\n",
      "Epoch 367/500\n",
      "2338/2338 - 0s - loss: 2.0291 - mean_absolute_error: 1.0495 - val_loss: 5.0514 - val_mean_absolute_error: 1.5865\n",
      "Epoch 368/500\n",
      "2338/2338 - 0s - loss: 2.0365 - mean_absolute_error: 1.0586 - val_loss: 5.8182 - val_mean_absolute_error: 1.6985\n",
      "Epoch 369/500\n",
      "2338/2338 - 0s - loss: 2.0424 - mean_absolute_error: 1.0546 - val_loss: 6.5048 - val_mean_absolute_error: 1.8264\n",
      "Epoch 370/500\n",
      "2338/2338 - 0s - loss: 2.0339 - mean_absolute_error: 1.0579 - val_loss: 6.7141 - val_mean_absolute_error: 1.8424\n",
      "Epoch 371/500\n",
      "2338/2338 - 0s - loss: 2.0119 - mean_absolute_error: 1.0506 - val_loss: 4.5028 - val_mean_absolute_error: 1.5091\n",
      "Epoch 372/500\n",
      "2338/2338 - 0s - loss: 1.9916 - mean_absolute_error: 1.0366 - val_loss: 5.3641 - val_mean_absolute_error: 1.6693\n",
      "Epoch 373/500\n",
      "2338/2338 - 0s - loss: 2.0216 - mean_absolute_error: 1.0433 - val_loss: 5.6443 - val_mean_absolute_error: 1.6418\n",
      "Epoch 374/500\n",
      "2338/2338 - 0s - loss: 2.0006 - mean_absolute_error: 1.0563 - val_loss: 6.4060 - val_mean_absolute_error: 1.8679\n",
      "Epoch 375/500\n",
      "2338/2338 - 0s - loss: 1.9583 - mean_absolute_error: 1.0407 - val_loss: 7.6519 - val_mean_absolute_error: 1.9636\n",
      "Epoch 376/500\n",
      "2338/2338 - 0s - loss: 2.0374 - mean_absolute_error: 1.0480 - val_loss: 5.6956 - val_mean_absolute_error: 1.6585\n",
      "Epoch 377/500\n",
      "2338/2338 - 0s - loss: 2.0316 - mean_absolute_error: 1.0494 - val_loss: 4.6805 - val_mean_absolute_error: 1.5194\n",
      "Epoch 378/500\n",
      "2338/2338 - 0s - loss: 1.9645 - mean_absolute_error: 1.0408 - val_loss: 5.5088 - val_mean_absolute_error: 1.6307\n",
      "Epoch 379/500\n",
      "2338/2338 - 0s - loss: 2.0003 - mean_absolute_error: 1.0413 - val_loss: 6.0265 - val_mean_absolute_error: 1.7021\n",
      "Epoch 380/500\n",
      "2338/2338 - 0s - loss: 1.9183 - mean_absolute_error: 1.0328 - val_loss: 8.5544 - val_mean_absolute_error: 2.0575\n",
      "Epoch 381/500\n",
      "2338/2338 - 0s - loss: 1.9843 - mean_absolute_error: 1.0384 - val_loss: 5.0772 - val_mean_absolute_error: 1.5934\n",
      "Epoch 382/500\n",
      "2338/2338 - 0s - loss: 1.9988 - mean_absolute_error: 1.0339 - val_loss: 4.9164 - val_mean_absolute_error: 1.5836\n",
      "Epoch 383/500\n",
      "2338/2338 - 0s - loss: 1.9747 - mean_absolute_error: 1.0492 - val_loss: 5.5437 - val_mean_absolute_error: 1.7143\n",
      "Epoch 384/500\n",
      "2338/2338 - 0s - loss: 1.9662 - mean_absolute_error: 1.0411 - val_loss: 4.9591 - val_mean_absolute_error: 1.6244\n"
     ]
    },
    {
     "name": "stdout",
     "output_type": "stream",
     "text": [
      "Epoch 385/500\n",
      "2338/2338 - 0s - loss: 1.9469 - mean_absolute_error: 1.0309 - val_loss: 5.5030 - val_mean_absolute_error: 1.6561\n",
      "Epoch 386/500\n",
      "2338/2338 - 0s - loss: 2.0008 - mean_absolute_error: 1.0541 - val_loss: 6.2981 - val_mean_absolute_error: 1.8145\n",
      "Epoch 387/500\n",
      "2338/2338 - 0s - loss: 1.9849 - mean_absolute_error: 1.0425 - val_loss: 5.4383 - val_mean_absolute_error: 1.6473\n",
      "Epoch 388/500\n",
      "2338/2338 - 0s - loss: 1.9431 - mean_absolute_error: 1.0242 - val_loss: 4.8787 - val_mean_absolute_error: 1.5519\n",
      "Epoch 389/500\n",
      "2338/2338 - 0s - loss: 1.9314 - mean_absolute_error: 1.0353 - val_loss: 5.0046 - val_mean_absolute_error: 1.5795\n",
      "Epoch 390/500\n",
      "2338/2338 - 0s - loss: 1.9728 - mean_absolute_error: 1.0374 - val_loss: 5.4879 - val_mean_absolute_error: 1.6332\n",
      "Epoch 391/500\n",
      "2338/2338 - 0s - loss: 1.8992 - mean_absolute_error: 1.0192 - val_loss: 5.0970 - val_mean_absolute_error: 1.5812\n",
      "Epoch 392/500\n",
      "2338/2338 - 0s - loss: 1.9268 - mean_absolute_error: 1.0243 - val_loss: 5.1037 - val_mean_absolute_error: 1.5658\n",
      "Epoch 393/500\n",
      "2338/2338 - 0s - loss: 1.9207 - mean_absolute_error: 1.0303 - val_loss: 5.2227 - val_mean_absolute_error: 1.5940\n",
      "Epoch 394/500\n",
      "2338/2338 - 0s - loss: 1.9009 - mean_absolute_error: 1.0024 - val_loss: 4.8702 - val_mean_absolute_error: 1.5606\n",
      "Epoch 395/500\n",
      "2338/2338 - 0s - loss: 1.9002 - mean_absolute_error: 1.0071 - val_loss: 4.8336 - val_mean_absolute_error: 1.5453\n",
      "Epoch 396/500\n",
      "2338/2338 - 0s - loss: 1.9294 - mean_absolute_error: 1.0357 - val_loss: 6.6656 - val_mean_absolute_error: 1.8266\n",
      "Epoch 397/500\n",
      "2338/2338 - 0s - loss: 1.8863 - mean_absolute_error: 1.0161 - val_loss: 5.4091 - val_mean_absolute_error: 1.6692\n",
      "Epoch 398/500\n",
      "2338/2338 - 0s - loss: 1.9233 - mean_absolute_error: 1.0237 - val_loss: 7.4918 - val_mean_absolute_error: 1.9159\n",
      "Epoch 399/500\n",
      "2338/2338 - 0s - loss: 1.9044 - mean_absolute_error: 1.0276 - val_loss: 5.5446 - val_mean_absolute_error: 1.6684\n",
      "Epoch 400/500\n",
      "2338/2338 - 0s - loss: 1.8413 - mean_absolute_error: 1.0110 - val_loss: 5.0620 - val_mean_absolute_error: 1.6387\n",
      "Epoch 401/500\n",
      "2338/2338 - 0s - loss: 1.8764 - mean_absolute_error: 1.0074 - val_loss: 4.9335 - val_mean_absolute_error: 1.5914\n",
      "Epoch 402/500\n",
      "2338/2338 - 0s - loss: 1.8988 - mean_absolute_error: 1.0185 - val_loss: 5.8692 - val_mean_absolute_error: 1.7447\n",
      "Epoch 403/500\n",
      "2338/2338 - 0s - loss: 1.8770 - mean_absolute_error: 1.0090 - val_loss: 5.7406 - val_mean_absolute_error: 1.6718\n",
      "Epoch 404/500\n",
      "2338/2338 - 0s - loss: 1.9025 - mean_absolute_error: 1.0146 - val_loss: 5.3853 - val_mean_absolute_error: 1.6572\n",
      "Epoch 405/500\n",
      "2338/2338 - 0s - loss: 1.8550 - mean_absolute_error: 1.0029 - val_loss: 4.8052 - val_mean_absolute_error: 1.5617\n",
      "Epoch 406/500\n",
      "2338/2338 - 0s - loss: 1.8943 - mean_absolute_error: 1.0158 - val_loss: 5.9131 - val_mean_absolute_error: 1.7008\n",
      "Epoch 407/500\n",
      "2338/2338 - 0s - loss: 1.8676 - mean_absolute_error: 1.0134 - val_loss: 5.5685 - val_mean_absolute_error: 1.6565\n",
      "Epoch 408/500\n",
      "2338/2338 - 0s - loss: 1.8274 - mean_absolute_error: 0.9950 - val_loss: 5.2635 - val_mean_absolute_error: 1.6324\n",
      "Epoch 409/500\n",
      "2338/2338 - 0s - loss: 1.8281 - mean_absolute_error: 1.0047 - val_loss: 5.1622 - val_mean_absolute_error: 1.6104\n",
      "Epoch 410/500\n",
      "2338/2338 - 0s - loss: 1.8142 - mean_absolute_error: 0.9939 - val_loss: 5.3160 - val_mean_absolute_error: 1.6041\n",
      "Epoch 411/500\n",
      "2338/2338 - 0s - loss: 1.8182 - mean_absolute_error: 0.9977 - val_loss: 5.4075 - val_mean_absolute_error: 1.6363\n",
      "Epoch 412/500\n",
      "2338/2338 - 0s - loss: 1.8625 - mean_absolute_error: 1.0025 - val_loss: 4.7582 - val_mean_absolute_error: 1.5222\n",
      "Epoch 413/500\n",
      "2338/2338 - 0s - loss: 1.8414 - mean_absolute_error: 1.0019 - val_loss: 5.5124 - val_mean_absolute_error: 1.6560\n",
      "Epoch 414/500\n",
      "2338/2338 - 0s - loss: 1.8430 - mean_absolute_error: 1.0103 - val_loss: 5.8670 - val_mean_absolute_error: 1.7032\n",
      "Epoch 415/500\n",
      "2338/2338 - 0s - loss: 1.8345 - mean_absolute_error: 1.0041 - val_loss: 5.0829 - val_mean_absolute_error: 1.5953\n",
      "Epoch 416/500\n",
      "2338/2338 - 0s - loss: 1.7930 - mean_absolute_error: 0.9995 - val_loss: 4.9234 - val_mean_absolute_error: 1.5872\n",
      "Epoch 417/500\n",
      "2338/2338 - 0s - loss: 1.8724 - mean_absolute_error: 1.0099 - val_loss: 10.4741 - val_mean_absolute_error: 2.3053\n",
      "Epoch 418/500\n",
      "2338/2338 - 0s - loss: 1.8953 - mean_absolute_error: 1.0171 - val_loss: 5.5485 - val_mean_absolute_error: 1.6683\n",
      "Epoch 419/500\n",
      "2338/2338 - 0s - loss: 1.8050 - mean_absolute_error: 1.0059 - val_loss: 4.9560 - val_mean_absolute_error: 1.5620\n",
      "Epoch 420/500\n",
      "2338/2338 - 0s - loss: 1.7343 - mean_absolute_error: 0.9682 - val_loss: 5.4259 - val_mean_absolute_error: 1.6308\n",
      "Epoch 421/500\n",
      "2338/2338 - 0s - loss: 1.8063 - mean_absolute_error: 0.9998 - val_loss: 4.9771 - val_mean_absolute_error: 1.6104\n",
      "Epoch 422/500\n",
      "2338/2338 - 0s - loss: 1.8334 - mean_absolute_error: 0.9991 - val_loss: 5.2881 - val_mean_absolute_error: 1.6135\n",
      "Epoch 423/500\n",
      "2338/2338 - 0s - loss: 1.8218 - mean_absolute_error: 1.0055 - val_loss: 5.7641 - val_mean_absolute_error: 1.7075\n",
      "Epoch 424/500\n",
      "2338/2338 - 0s - loss: 1.8304 - mean_absolute_error: 1.0082 - val_loss: 4.9671 - val_mean_absolute_error: 1.5585\n",
      "Epoch 425/500\n",
      "2338/2338 - 0s - loss: 1.8020 - mean_absolute_error: 0.9957 - val_loss: 6.2412 - val_mean_absolute_error: 1.7310\n",
      "Epoch 426/500\n",
      "2338/2338 - 0s - loss: 1.8658 - mean_absolute_error: 1.0090 - val_loss: 5.3757 - val_mean_absolute_error: 1.6323\n",
      "Epoch 427/500\n",
      "2338/2338 - 0s - loss: 1.8152 - mean_absolute_error: 0.9971 - val_loss: 5.6254 - val_mean_absolute_error: 1.6858\n",
      "Epoch 428/500\n",
      "2338/2338 - 0s - loss: 1.7813 - mean_absolute_error: 0.9872 - val_loss: 6.4308 - val_mean_absolute_error: 1.8064\n",
      "Epoch 429/500\n",
      "2338/2338 - 0s - loss: 1.7585 - mean_absolute_error: 0.9865 - val_loss: 5.3098 - val_mean_absolute_error: 1.6026\n",
      "Epoch 430/500\n",
      "2338/2338 - 0s - loss: 1.7725 - mean_absolute_error: 0.9903 - val_loss: 5.4739 - val_mean_absolute_error: 1.6550\n",
      "Epoch 431/500\n",
      "2338/2338 - 0s - loss: 1.7833 - mean_absolute_error: 0.9906 - val_loss: 4.9196 - val_mean_absolute_error: 1.5552\n",
      "Epoch 432/500\n",
      "2338/2338 - 0s - loss: 1.7644 - mean_absolute_error: 0.9819 - val_loss: 5.9470 - val_mean_absolute_error: 1.7107\n",
      "Epoch 433/500\n",
      "2338/2338 - 0s - loss: 1.7670 - mean_absolute_error: 0.9914 - val_loss: 5.3611 - val_mean_absolute_error: 1.6191\n",
      "Epoch 434/500\n",
      "2338/2338 - 0s - loss: 1.7536 - mean_absolute_error: 0.9953 - val_loss: 5.3674 - val_mean_absolute_error: 1.6284\n",
      "Epoch 435/500\n",
      "2338/2338 - 0s - loss: 1.8075 - mean_absolute_error: 0.9889 - val_loss: 5.1815 - val_mean_absolute_error: 1.6243\n",
      "Epoch 436/500\n",
      "2338/2338 - 0s - loss: 1.7122 - mean_absolute_error: 0.9740 - val_loss: 5.2338 - val_mean_absolute_error: 1.6128\n",
      "Epoch 437/500\n",
      "2338/2338 - 0s - loss: 1.7242 - mean_absolute_error: 0.9745 - val_loss: 5.2971 - val_mean_absolute_error: 1.6208\n",
      "Epoch 438/500\n",
      "2338/2338 - 0s - loss: 1.7540 - mean_absolute_error: 0.9899 - val_loss: 5.6414 - val_mean_absolute_error: 1.6653\n",
      "Epoch 439/500\n",
      "2338/2338 - 0s - loss: 1.7623 - mean_absolute_error: 0.9830 - val_loss: 6.3897 - val_mean_absolute_error: 1.7331\n",
      "Epoch 440/500\n",
      "2338/2338 - 0s - loss: 1.7346 - mean_absolute_error: 0.9725 - val_loss: 5.2475 - val_mean_absolute_error: 1.6268\n",
      "Epoch 441/500\n",
      "2338/2338 - 0s - loss: 1.7824 - mean_absolute_error: 0.9879 - val_loss: 5.6371 - val_mean_absolute_error: 1.6528\n",
      "Epoch 442/500\n",
      "2338/2338 - 0s - loss: 1.7100 - mean_absolute_error: 0.9710 - val_loss: 5.2278 - val_mean_absolute_error: 1.6116\n",
      "Epoch 443/500\n",
      "2338/2338 - 0s - loss: 1.7126 - mean_absolute_error: 0.9698 - val_loss: 5.5062 - val_mean_absolute_error: 1.6485\n",
      "Epoch 444/500\n",
      "2338/2338 - 0s - loss: 1.6989 - mean_absolute_error: 0.9618 - val_loss: 5.0054 - val_mean_absolute_error: 1.6119\n",
      "Epoch 445/500\n",
      "2338/2338 - 0s - loss: 1.7354 - mean_absolute_error: 0.9780 - val_loss: 5.6837 - val_mean_absolute_error: 1.6777\n",
      "Epoch 446/500\n",
      "2338/2338 - 0s - loss: 1.7789 - mean_absolute_error: 0.9848 - val_loss: 5.3880 - val_mean_absolute_error: 1.6469\n",
      "Epoch 447/500\n",
      "2338/2338 - 0s - loss: 1.6585 - mean_absolute_error: 0.9683 - val_loss: 5.3414 - val_mean_absolute_error: 1.5966\n",
      "Epoch 448/500\n",
      "2338/2338 - 0s - loss: 1.6873 - mean_absolute_error: 0.9702 - val_loss: 5.1250 - val_mean_absolute_error: 1.5938\n",
      "Epoch 449/500\n",
      "2338/2338 - 0s - loss: 1.7593 - mean_absolute_error: 0.9873 - val_loss: 5.6314 - val_mean_absolute_error: 1.6643\n"
     ]
    },
    {
     "name": "stdout",
     "output_type": "stream",
     "text": [
      "Epoch 450/500\n",
      "2338/2338 - 0s - loss: 1.6796 - mean_absolute_error: 0.9680 - val_loss: 6.2130 - val_mean_absolute_error: 1.7409\n",
      "Epoch 451/500\n",
      "2338/2338 - 0s - loss: 1.7254 - mean_absolute_error: 0.9754 - val_loss: 5.3880 - val_mean_absolute_error: 1.6181\n",
      "Epoch 452/500\n",
      "2338/2338 - 0s - loss: 1.6608 - mean_absolute_error: 0.9586 - val_loss: 5.6350 - val_mean_absolute_error: 1.6806\n",
      "Epoch 453/500\n",
      "2338/2338 - 0s - loss: 1.7027 - mean_absolute_error: 0.9691 - val_loss: 5.9245 - val_mean_absolute_error: 1.6883\n",
      "Epoch 454/500\n",
      "2338/2338 - 0s - loss: 1.6891 - mean_absolute_error: 0.9603 - val_loss: 5.3236 - val_mean_absolute_error: 1.6183\n",
      "Epoch 455/500\n",
      "2338/2338 - 0s - loss: 1.7033 - mean_absolute_error: 0.9727 - val_loss: 5.8911 - val_mean_absolute_error: 1.7071\n",
      "Epoch 456/500\n",
      "2338/2338 - 0s - loss: 1.7179 - mean_absolute_error: 0.9683 - val_loss: 5.3296 - val_mean_absolute_error: 1.6125\n",
      "Epoch 457/500\n",
      "2338/2338 - 0s - loss: 1.6872 - mean_absolute_error: 0.9596 - val_loss: 5.8839 - val_mean_absolute_error: 1.7600\n",
      "Epoch 458/500\n",
      "2338/2338 - 0s - loss: 1.7378 - mean_absolute_error: 0.9756 - val_loss: 5.5493 - val_mean_absolute_error: 1.6468\n",
      "Epoch 459/500\n",
      "2338/2338 - 0s - loss: 1.6685 - mean_absolute_error: 0.9581 - val_loss: 4.9375 - val_mean_absolute_error: 1.5753\n",
      "Epoch 460/500\n",
      "2338/2338 - 0s - loss: 1.6617 - mean_absolute_error: 0.9607 - val_loss: 5.6881 - val_mean_absolute_error: 1.6623\n",
      "Epoch 461/500\n",
      "2338/2338 - 0s - loss: 1.6510 - mean_absolute_error: 0.9555 - val_loss: 5.8894 - val_mean_absolute_error: 1.7018\n",
      "Epoch 462/500\n",
      "2338/2338 - 0s - loss: 1.7631 - mean_absolute_error: 0.9638 - val_loss: 5.3024 - val_mean_absolute_error: 1.6025\n",
      "Epoch 463/500\n",
      "2338/2338 - 0s - loss: 1.7001 - mean_absolute_error: 0.9623 - val_loss: 5.5649 - val_mean_absolute_error: 1.6638\n",
      "Epoch 464/500\n",
      "2338/2338 - 0s - loss: 1.6574 - mean_absolute_error: 0.9558 - val_loss: 6.2304 - val_mean_absolute_error: 1.7581\n",
      "Epoch 465/500\n",
      "2338/2338 - 0s - loss: 1.6898 - mean_absolute_error: 0.9589 - val_loss: 5.3634 - val_mean_absolute_error: 1.6170\n",
      "Epoch 466/500\n",
      "2338/2338 - 0s - loss: 1.6644 - mean_absolute_error: 0.9589 - val_loss: 5.3710 - val_mean_absolute_error: 1.6442\n",
      "Epoch 467/500\n",
      "2338/2338 - 0s - loss: 1.6662 - mean_absolute_error: 0.9542 - val_loss: 6.3516 - val_mean_absolute_error: 1.7389\n",
      "Epoch 468/500\n",
      "2338/2338 - 0s - loss: 1.6702 - mean_absolute_error: 0.9578 - val_loss: 5.6028 - val_mean_absolute_error: 1.6409\n",
      "Epoch 469/500\n",
      "2338/2338 - 0s - loss: 1.6204 - mean_absolute_error: 0.9434 - val_loss: 5.3615 - val_mean_absolute_error: 1.6496\n",
      "Epoch 470/500\n",
      "2338/2338 - 0s - loss: 1.6674 - mean_absolute_error: 0.9631 - val_loss: 5.3390 - val_mean_absolute_error: 1.6471\n",
      "Epoch 471/500\n",
      "2338/2338 - 0s - loss: 1.6494 - mean_absolute_error: 0.9557 - val_loss: 5.5457 - val_mean_absolute_error: 1.6702\n",
      "Epoch 472/500\n",
      "2338/2338 - 0s - loss: 1.6537 - mean_absolute_error: 0.9487 - val_loss: 6.3300 - val_mean_absolute_error: 1.7718\n",
      "Epoch 473/500\n",
      "2338/2338 - 0s - loss: 1.6292 - mean_absolute_error: 0.9498 - val_loss: 6.3561 - val_mean_absolute_error: 1.7981\n",
      "Epoch 474/500\n",
      "2338/2338 - 0s - loss: 1.6527 - mean_absolute_error: 0.9606 - val_loss: 7.6729 - val_mean_absolute_error: 1.9504\n",
      "Epoch 475/500\n",
      "2338/2338 - 0s - loss: 1.6414 - mean_absolute_error: 0.9505 - val_loss: 5.4058 - val_mean_absolute_error: 1.6374\n",
      "Epoch 476/500\n",
      "2338/2338 - 0s - loss: 1.5998 - mean_absolute_error: 0.9439 - val_loss: 4.8298 - val_mean_absolute_error: 1.5559\n",
      "Epoch 477/500\n",
      "2338/2338 - 0s - loss: 1.6113 - mean_absolute_error: 0.9434 - val_loss: 5.3589 - val_mean_absolute_error: 1.6394\n",
      "Epoch 478/500\n",
      "2338/2338 - 0s - loss: 1.5923 - mean_absolute_error: 0.9348 - val_loss: 5.2454 - val_mean_absolute_error: 1.6359\n",
      "Epoch 479/500\n",
      "2338/2338 - 0s - loss: 1.6206 - mean_absolute_error: 0.9509 - val_loss: 5.5271 - val_mean_absolute_error: 1.6780\n",
      "Epoch 480/500\n",
      "2338/2338 - 0s - loss: 1.5987 - mean_absolute_error: 0.9442 - val_loss: 5.5090 - val_mean_absolute_error: 1.6437\n",
      "Epoch 481/500\n",
      "2338/2338 - 0s - loss: 1.6172 - mean_absolute_error: 0.9437 - val_loss: 5.8570 - val_mean_absolute_error: 1.7130\n",
      "Epoch 482/500\n",
      "2338/2338 - 0s - loss: 1.6319 - mean_absolute_error: 0.9403 - val_loss: 5.6541 - val_mean_absolute_error: 1.6747\n",
      "Epoch 483/500\n",
      "2338/2338 - 0s - loss: 1.6016 - mean_absolute_error: 0.9461 - val_loss: 5.5554 - val_mean_absolute_error: 1.6706\n",
      "Epoch 484/500\n",
      "2338/2338 - 0s - loss: 1.6366 - mean_absolute_error: 0.9490 - val_loss: 6.1397 - val_mean_absolute_error: 1.7747\n",
      "Epoch 485/500\n",
      "2338/2338 - 0s - loss: 1.6184 - mean_absolute_error: 0.9422 - val_loss: 5.2352 - val_mean_absolute_error: 1.5999\n",
      "Epoch 486/500\n",
      "2338/2338 - 0s - loss: 1.5715 - mean_absolute_error: 0.9372 - val_loss: 5.3842 - val_mean_absolute_error: 1.6579\n",
      "Epoch 487/500\n",
      "2338/2338 - 0s - loss: 1.5859 - mean_absolute_error: 0.9284 - val_loss: 5.2937 - val_mean_absolute_error: 1.6342\n",
      "Epoch 488/500\n",
      "2338/2338 - 0s - loss: 1.5907 - mean_absolute_error: 0.9434 - val_loss: 6.4024 - val_mean_absolute_error: 1.7605\n",
      "Epoch 489/500\n",
      "2338/2338 - 0s - loss: 1.5706 - mean_absolute_error: 0.9315 - val_loss: 6.9941 - val_mean_absolute_error: 1.8026\n",
      "Epoch 490/500\n",
      "2338/2338 - 0s - loss: 1.5705 - mean_absolute_error: 0.9260 - val_loss: 5.8440 - val_mean_absolute_error: 1.7006\n",
      "Epoch 491/500\n",
      "2338/2338 - 0s - loss: 1.6005 - mean_absolute_error: 0.9374 - val_loss: 5.6762 - val_mean_absolute_error: 1.6899\n",
      "Epoch 492/500\n",
      "2338/2338 - 0s - loss: 1.5274 - mean_absolute_error: 0.9154 - val_loss: 5.5695 - val_mean_absolute_error: 1.6653\n",
      "Epoch 493/500\n",
      "2338/2338 - 0s - loss: 1.6214 - mean_absolute_error: 0.9447 - val_loss: 5.4527 - val_mean_absolute_error: 1.6374\n",
      "Epoch 494/500\n",
      "2338/2338 - 0s - loss: 1.5860 - mean_absolute_error: 0.9346 - val_loss: 5.5951 - val_mean_absolute_error: 1.6518\n",
      "Epoch 495/500\n",
      "2338/2338 - 0s - loss: 1.5383 - mean_absolute_error: 0.9264 - val_loss: 5.6260 - val_mean_absolute_error: 1.6879\n",
      "Epoch 496/500\n",
      "2338/2338 - 0s - loss: 1.6065 - mean_absolute_error: 0.9348 - val_loss: 5.6518 - val_mean_absolute_error: 1.6863\n",
      "Epoch 497/500\n",
      "2338/2338 - 0s - loss: 1.5576 - mean_absolute_error: 0.9308 - val_loss: 5.1406 - val_mean_absolute_error: 1.5894\n",
      "Epoch 498/500\n",
      "2338/2338 - 0s - loss: 1.5637 - mean_absolute_error: 0.9257 - val_loss: 7.4720 - val_mean_absolute_error: 1.9216\n",
      "Epoch 499/500\n",
      "2338/2338 - 0s - loss: 1.5736 - mean_absolute_error: 0.9334 - val_loss: 5.2736 - val_mean_absolute_error: 1.6217\n",
      "Epoch 500/500\n",
      "2338/2338 - 0s - loss: 1.5619 - mean_absolute_error: 0.9338 - val_loss: 5.4563 - val_mean_absolute_error: 1.6335\n"
     ]
    }
   ],
   "source": [
    "history = model.fit(X_train, y_train, epochs=500,\n",
    "                    validation_split=0.2, verbose=2)"
   ]
  },
  {
   "cell_type": "code",
   "execution_count": 31,
   "metadata": {
    "ExecuteTime": {
     "end_time": "2020-08-12T12:55:36.067274Z",
     "start_time": "2020-08-12T12:55:35.706348Z"
    }
   },
   "outputs": [
    {
     "data": {
      "image/png": "[encoded data removed]",
      "text/plain": [
       "<Figure size 432x288 with 1 Axes>"
      ]
     },
     "metadata": {
      "needs_background": "light"
     },
     "output_type": "display_data"
    }
   ],
   "source": [
    "import matplotlib.pyplot as plt\n",
    "%matplotlib inline\n",
    "\n",
    "def plot_history(history):\n",
    "  plt.figure()\n",
    "  plt.xlabel('Epoch')\n",
    "  plt.ylabel('Mean Abs Error [Rings]')\n",
    "  plt.plot(history.epoch, np.array(history.history['mean_absolute_error']), \n",
    "           label='Train Loss')\n",
    "  plt.plot(history.epoch, np.array(history.history['val_mean_absolute_error']),\n",
    "           label = 'Val loss')\n",
    "  plt.legend()\n",
    "  plt.ylim([0,5])\n",
    "\n",
    "plot_history(history)"
   ]
  },
  {
   "cell_type": "code",
   "execution_count": 32,
   "metadata": {
    "ExecuteTime": {
     "end_time": "2020-08-12T12:56:12.162940Z",
     "start_time": "2020-08-12T12:56:12.135327Z"
    }
   },
   "outputs": [
    {
     "name": "stdout",
     "output_type": "stream",
     "text": [
      "Testing set Mean Abs Error:    1.73\n"
     ]
    }
   ],
   "source": [
    "[loss, mae] = model.evaluate(X_test, y_test, verbose=0)\n",
    "\n",
    "print(\"Testing set Mean Abs Error: {:7.2f}\".format(mae))"
   ]
  },
  {
   "cell_type": "code",
   "execution_count": 33,
   "metadata": {
    "ExecuteTime": {
     "end_time": "2020-08-12T12:56:47.445865Z",
     "start_time": "2020-08-12T12:56:47.385757Z"
    }
   },
   "outputs": [
    {
     "name": "stdout",
     "output_type": "stream",
     "text": [
      "[10.663778   8.629157  14.722336  ...  7.9114356  9.80379    9.441606 ]\n"
     ]
    }
   ],
   "source": [
    "test_predictions = model.predict(X_test).flatten()\n",
    "\n",
    "print(test_predictions)"
   ]
  },
  {
   "cell_type": "code",
   "execution_count": 34,
   "metadata": {
    "ExecuteTime": {
     "end_time": "2020-08-12T12:56:48.678648Z",
     "start_time": "2020-08-12T12:56:48.672825Z"
    }
   },
   "outputs": [
    {
     "data": {
      "text/plain": [
       "866      9\n",
       "1483     8\n",
       "599     16\n",
       "1702     9\n",
       "670     14\n",
       "        ..\n",
       "162     12\n",
       "2206     5\n",
       "3980     7\n",
       "3075    11\n",
       "2148     8\n",
       "Name: Rings, Length: 1254, dtype: int64"
      ]
     },
     "execution_count": 34,
     "metadata": {},
     "output_type": "execute_result"
    }
   ],
   "source": [
    "y_test"
   ]
  }
 ],
 "metadata": {
  "kernelspec": {
   "display_name": "Python 3",
   "language": "python",
   "name": "python3"
  },
  "language_info": {
   "codemirror_mode": {
    "name": "ipython",
    "version": 3
   },
   "file_extension": ".py",
   "mimetype": "text/x-python",
   "name": "python",
   "nbconvert_exporter": "python",
   "pygments_lexer": "ipython3",
   "version": "3.7.4"
  },
  "toc": {
   "base_numbering": 1,
   "nav_menu": {},
   "number_sections": true,
   "sideBar": true,
   "skip_h1_title": false,
   "title_cell": "Table of Contents",
   "title_sidebar": "Contents",
   "toc_cell": false,
   "toc_position": {},
   "toc_section_display": true,
   "toc_window_display": true
  }
 },
 "nbformat": 4,
 "nbformat_minor": 2
}
