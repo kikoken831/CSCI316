{
 "cells": [
  {
   "cell_type": "code",
   "execution_count": 2,
   "metadata": {},
   "outputs": [
    {
     "name": "stdout",
     "output_type": "stream",
     "text": [
      "['-121.24' '39.37' '16.0' '2785.0' '616.0' '1387.0' '530.0' '2.3886'\n",
      " '89400.0']\n",
      "['ocean_proximity', 'NEAR BAY', 'NEAR BAY', 'NEAR BAY', 'NEAR BAY', 'NEAR BAY', 'NEAR BAY', 'NEAR BAY', 'NEAR BAY', 'NEAR BAY']\n",
      "Done!\n"
     ]
    }
   ],
   "source": [
    "from numpy import *\n",
    "def classify0(inX, dataSet, labels, k):\n",
    "    dataSetSize = dataSet.shape[0]\n",
    "    diffMat = tile(inX, (dataSetSize, 1)) - dataSet\n",
    "    sqDiffMat = diffMat ** 2        # square\n",
    "    sqDistances = sqDiffMat.sum(axis=1)\n",
    "    distances = sqDistances ** 0.5  #square root\n",
    "    sortedDistIndicies = distances.argsort()\n",
    "    classCount = {}\n",
    "    for i in range(k):\n",
    "        voteIlabel = labels[sortedDistIndicies[i]]\n",
    "        classCount[voteIlabel] = \\\n",
    "                               classCount.get(voteIlabel, 0) + 1\n",
    "        sortedClassCount = sorted(classCount.items(),\n",
    "                                  key=lambda x: x[1],\n",
    "                                  reverse = True)\n",
    "        return sortedClassCount[0][0]\n",
    "\n",
    "\n",
    "    \n",
    "def main():\n",
    "    import numpy as np\n",
    "    import csv\n",
    "    # data\n",
    "    # group = array([[1.0, 1.1], [1.0, 1.0], [0, 0], [0, 0.1]])\n",
    "    # labels = ['A', 'A', 'B', 'B']\n",
    "    \n",
    "    # Read the dataset from a file\n",
    "    # group = np.loadtxt(\"C:\\\\Users\\\\japit\\\\Documents\\\\CSCI316\\\\housing.txt\", delimiter = \",\", skiprows = 1)\n",
    "    #text_file = open(\"C:\\\\Users\\\\japit\\\\Documents\\\\CSCI316\\\\housing.txt\", \"r\")\n",
    "    f = open('Users\\kendrickkee\\Desktop\\csci316\\Labs\\Lab2KNN\\Dataset-20210117\\housing.csv')\n",
    "    csv_f = csv.reader(f)\n",
    "    labels = list()\n",
    "    for row in csv_f:\n",
    "        #print(row)\n",
    "        group = row[:len(row)-1]\n",
    "        labels.append(row[-1])\n",
    "    #group = array(csv_f[:len(csv_f)-1])\n",
    "    group = np.array(group)\n",
    "    #labels = row[-1]\n",
    "    print(group[:10])\n",
    "    print(labels[:10])\n",
    "    #lines = text_file.readlines()\n",
    "    #print(lines)\n",
    "    #print(len(lines))\n",
    "    #text_file.close()\n",
    "    # Preprocessing\n",
    "    # predict the class of a record [0,0] based on its 3-nearest\n",
    "    # neighbours in group (whose labels are known).\n",
    "    #result = classify0([0.1, 0], group, labels, 3)\n",
    "    #print(result)\n",
    "    # done!\n",
    "    print('Done!')\n",
    "\n",
    "    \n",
    "if __name__ == '__main__':\n",
    "    main()"
   ]
  },
  {
   "cell_type": "code",
   "execution_count": null,
   "metadata": {},
   "outputs": [],
   "source": []
  }
 ],
 "metadata": {
  "kernelspec": {
   "display_name": "Python 3 (ipykernel)",
   "language": "python",
   "name": "python3"
  },
  "language_info": {
   "codemirror_mode": {
    "name": "ipython",
    "version": 3
   },
   "file_extension": ".py",
   "mimetype": "text/x-python",
   "name": "python",
   "nbconvert_exporter": "python",
   "pygments_lexer": "ipython3",
   "version": "3.9.5"
  }
 },
 "nbformat": 4,
 "nbformat_minor": 4
}
