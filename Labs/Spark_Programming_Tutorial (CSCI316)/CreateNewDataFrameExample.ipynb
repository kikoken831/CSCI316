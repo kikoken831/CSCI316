{
 "cells": [
  {
   "cell_type": "code",
   "execution_count": 9,
   "metadata": {},
   "outputs": [
    {
     "data": {
      "text/html": [
       "\n",
       "            <div>\n",
       "                <p><b>SparkSession - in-memory</b></p>\n",
       "                \n",
       "        <div>\n",
       "            <p><b>SparkContext</b></p>\n",
       "\n",
       "            <p><a href=\"http://DESKTOP-R159M68:4040\">Spark UI</a></p>\n",
       "\n",
       "            <dl>\n",
       "              <dt>Version</dt>\n",
       "                <dd><code>v3.0.1</code></dd>\n",
       "              <dt>Master</dt>\n",
       "                <dd><code>local[*]</code></dd>\n",
       "              <dt>AppName</dt>\n",
       "                <dd><code>CSCI316-Lab6</code></dd>\n",
       "            </dl>\n",
       "        </div>\n",
       "        \n",
       "            </div>\n",
       "        "
      ],
      "text/plain": [
       "<pyspark.sql.session.SparkSession at 0x1f26fba0730>"
      ]
     },
     "execution_count": 9,
     "metadata": {},
     "output_type": "execute_result"
    }
   ],
   "source": [
    "# Create spark session\n",
    "from pyspark.sql import SparkSession\n",
    "spark = SparkSession.builder.appName('CSCI316-Lab6')\\\n",
    ".config('spark-master', 'local')\\\n",
    ".getOrCreate()\n",
    "\n",
    "# output the object (spark) information\n",
    "spark"
   ]
  },
  {
   "cell_type": "code",
   "execution_count": 10,
   "metadata": {},
   "outputs": [
    {
     "name": "stdout",
     "output_type": "stream",
     "text": [
      "root\n",
      " |-- InvoiceNo: string (nullable = true)\n",
      " |-- StockCode: string (nullable = true)\n",
      " |-- Description: string (nullable = true)\n",
      " |-- Quantity: integer (nullable = true)\n",
      " |-- InvoiceDate: string (nullable = true)\n",
      " |-- UnitPrice: double (nullable = true)\n",
      " |-- CustomerID: integer (nullable = true)\n",
      " |-- Country: string (nullable = true)\n",
      "\n"
     ]
    }
   ],
   "source": [
    "# Read a json file from local disk\n",
    "directory = 'C://Users//japit//Documents//CSCI316'\n",
    "df_RD = spark.read.format('csv')\\\n",
    ".option('header', 'true')\\\n",
    ".option('inferSchema', 'true')\\\n",
    ".load(directory+'/2010-12-01.csv')\n",
    "\n",
    "# print the schema\n",
    "df_RD.printSchema()"
   ]
  },
  {
   "cell_type": "code",
   "execution_count": 11,
   "metadata": {},
   "outputs": [
    {
     "name": "stdout",
     "output_type": "stream",
     "text": [
      "+---------+---------+--------------------+--------+--------------+---------+----------+--------------+\n",
      "|InvoiceNo|StockCode|         Description|Quantity|   InvoiceDate|UnitPrice|CustomerID|       Country|\n",
      "+---------+---------+--------------------+--------+--------------+---------+----------+--------------+\n",
      "|   536365|   85123A|WHITE HANGING HEA...|       6|1/12/2010 8:26|     2.55|     17850|United Kingdom|\n",
      "|   536365|    71053| WHITE METAL LANTERN|       6|1/12/2010 8:26|     3.39|     17850|United Kingdom|\n",
      "+---------+---------+--------------------+--------+--------------+---------+----------+--------------+\n",
      "only showing top 2 rows\n",
      "\n"
     ]
    }
   ],
   "source": [
    "df_RD.show(2)"
   ]
  },
  {
   "cell_type": "code",
   "execution_count": 12,
   "metadata": {},
   "outputs": [
    {
     "data": {
      "text/plain": [
       "143"
      ]
     },
     "execution_count": 12,
     "metadata": {},
     "output_type": "execute_result"
    }
   ],
   "source": [
    "df_RD.select('InvoiceNo').distinct().count()"
   ]
  },
  {
   "cell_type": "code",
   "execution_count": 26,
   "metadata": {},
   "outputs": [
    {
     "name": "stdout",
     "output_type": "stream",
     "text": [
      "+---------+--------+\n",
      "|StockCode|Quantity|\n",
      "+---------+--------+\n",
      "|   85123A|       6|\n",
      "|    71053|       6|\n",
      "|   84406B|       8|\n",
      "|   84029G|       6|\n",
      "|   84029E|       6|\n",
      "|    22752|       2|\n",
      "|    21730|       6|\n",
      "|    22633|       6|\n",
      "|    22632|       6|\n",
      "|    84879|      32|\n",
      "|    22745|       6|\n",
      "|    22748|       6|\n",
      "|    22749|       8|\n",
      "|    22310|       6|\n",
      "|    84969|       6|\n",
      "|    22623|       3|\n",
      "|    22622|       2|\n",
      "|    21754|       3|\n",
      "|    21755|       3|\n",
      "|    21777|       4|\n",
      "+---------+--------+\n",
      "only showing top 20 rows\n",
      "\n",
      "root\n",
      " |-- StockCode: string (nullable = true)\n",
      " |-- Quantity: integer (nullable = true)\n",
      "\n"
     ]
    }
   ],
   "source": [
    "from pyspark.sql.functions import struct, col\n",
    "from pyspark.sql.types import *\n",
    "# create new dataframe using struct and col\n",
    "myNewDf = df_RD.withColumn('newStruct', struct('StockCode','Quantity'))\n",
    "myNewDf = myNewDf.withColumn('StockCode', col('newStruct.StockCode')).\\\n",
    "withColumn('Quantity', col('newStruct.Quantity')).\\\n",
    "drop('InvoiceNo', 'Description', 'InvoiceDate', 'UnitPrice', 'CustomerID', 'Country','newStruct')\n",
    "myNewDf.show()\n",
    "myNewDf.printSchema()"
   ]
  },
  {
   "cell_type": "code",
   "execution_count": 27,
   "metadata": {},
   "outputs": [
    {
     "name": "stdout",
     "output_type": "stream",
     "text": [
      "+---------+--------+\n",
      "|StockCode|Quantity|\n",
      "+---------+--------+\n",
      "|   85123A|       6|\n",
      "|    71053|       6|\n",
      "|   84406B|       8|\n",
      "|   84029G|       6|\n",
      "|   84029E|       6|\n",
      "|    22752|       2|\n",
      "|    21730|       6|\n",
      "|    22633|       6|\n",
      "|    22632|       6|\n",
      "|    84879|      32|\n",
      "|    22745|       6|\n",
      "|    22748|       6|\n",
      "|    22749|       8|\n",
      "|    22310|       6|\n",
      "|    84969|       6|\n",
      "|    22623|       3|\n",
      "|    22622|       2|\n",
      "|    21754|       3|\n",
      "|    21755|       3|\n",
      "|    21777|       4|\n",
      "+---------+--------+\n",
      "only showing top 20 rows\n",
      "\n",
      "root\n",
      " |-- StockCode: string (nullable = true)\n",
      " |-- Quantity: integer (nullable = true)\n",
      "\n"
     ]
    }
   ],
   "source": [
    "# create new dataframe using selectExpr\n",
    "myNewDf2 = df_RD.selectExpr('StockCode as StockCode', 'Quantity as Quantity')\n",
    "myNewDf2.show()\n",
    "myNewDf2.printSchema()"
   ]
  },
  {
   "cell_type": "code",
   "execution_count": null,
   "metadata": {},
   "outputs": [],
   "source": []
  }
 ],
 "metadata": {
  "kernelspec": {
   "display_name": "Python 3",
   "language": "python",
   "name": "python3"
  },
  "language_info": {
   "codemirror_mode": {
    "name": "ipython",
    "version": 3
   },
   "file_extension": ".py",
   "mimetype": "text/x-python",
   "name": "python",
   "nbconvert_exporter": "python",
   "pygments_lexer": "ipython3",
   "version": "3.8.5"
  }
 },
 "nbformat": 4,
 "nbformat_minor": 4
}
